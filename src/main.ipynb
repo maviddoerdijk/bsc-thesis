{
  "cells": [
    {
      "cell_type": "markdown",
      "source": [
        "Execute this cell below only when hosting code remotely.\n",
        "This cell lets you import all code from https://github.com/maviddoerdijk/bsc-thesis/blob/main/src/.\n",
        "\n",
        "Warning: when hosting remotely, none of the helper function code can be changed. Unless when you use specific branches.\n"
      ],
      "metadata": {
        "id": "QsyxTDQDmkPQ"
      }
    },
    {
      "cell_type": "code",
      "source": [
        "branch = \"helper-function-additions\"\n",
        "!git clone --branch $branch https://github.com/maviddoerdijk/bsc-thesis.git\n",
        "%cd bsc-thesis/src"
      ],
      "metadata": {
        "id": "K704l-Numxip",
        "outputId": "78d8b07b-d050-462b-853f-4ae0fed34369",
        "colab": {
          "base_uri": "https://localhost:8080/"
        }
      },
      "execution_count": 41,
      "outputs": [
        {
          "output_type": "stream",
          "name": "stdout",
          "text": [
            "Cloning into 'bsc-thesis'...\n",
            "remote: Enumerating objects: 125, done.\u001b[K\n",
            "remote: Counting objects: 100% (125/125), done.\u001b[K\n",
            "remote: Compressing objects: 100% (105/105), done.\u001b[K\n",
            "remote: Total 125 (delta 61), reused 58 (delta 15), pack-reused 0 (from 0)\u001b[K\n",
            "Receiving objects: 100% (125/125), 4.09 MiB | 9.03 MiB/s, done.\n",
            "Resolving deltas: 100% (61/61), done.\n",
            "/content/bsc-thesis/src/bsc-thesis/src/bsc-thesis/src/bsc-thesis/src\n"
          ]
        }
      ]
    },
    {
      "cell_type": "code",
      "source": [
        "from preprocessing.data_preprocessing import filter_pairs_data\n"
      ],
      "metadata": {
        "id": "z7k3zJRTxSUK",
        "outputId": "74fea1f2-57bb-4faf-afa8-b8007e773222",
        "colab": {
          "base_uri": "https://localhost:8080/",
          "height": 315
        }
      },
      "execution_count": 43,
      "outputs": [
        {
          "output_type": "error",
          "ename": "ImportError",
          "evalue": "cannot import name 'filter_pairs_data' from 'preprocessing.data_preprocessing' (/content/bsc-thesis/src/preprocessing/data_preprocessing.py)",
          "traceback": [
            "\u001b[0;31m---------------------------------------------------------------------------\u001b[0m",
            "\u001b[0;31mImportError\u001b[0m                               Traceback (most recent call last)",
            "\u001b[0;32m<ipython-input-43-b27a7194c4d9>\u001b[0m in \u001b[0;36m<cell line: 0>\u001b[0;34m()\u001b[0m\n\u001b[0;32m----> 1\u001b[0;31m \u001b[0;32mfrom\u001b[0m \u001b[0mpreprocessing\u001b[0m\u001b[0;34m.\u001b[0m\u001b[0mdata_preprocessing\u001b[0m \u001b[0;32mimport\u001b[0m \u001b[0mfilter_pairs_data\u001b[0m\u001b[0;34m\u001b[0m\u001b[0;34m\u001b[0m\u001b[0m\n\u001b[0m",
            "\u001b[0;31mImportError\u001b[0m: cannot import name 'filter_pairs_data' from 'preprocessing.data_preprocessing' (/content/bsc-thesis/src/preprocessing/data_preprocessing.py)",
            "",
            "\u001b[0;31m---------------------------------------------------------------------------\u001b[0;32m\nNOTE: If your import is failing due to a missing package, you can\nmanually install dependencies using either !pip or !apt.\n\nTo view examples of installing some common dependencies, click the\n\"Open Examples\" button below.\n\u001b[0;31m---------------------------------------------------------------------------\u001b[0m\n"
          ],
          "errorDetails": {
            "actions": [
              {
                "action": "open_url",
                "actionText": "Open Examples",
                "url": "/notebooks/snippets/importing_libraries.ipynb"
              }
            ]
          }
        }
      ]
    },
    {
      "cell_type": "markdown",
      "source": [
        "Now, let's start the notebook."
      ],
      "metadata": {
        "id": "7XQjbcs3m1DT"
      }
    },
    {
      "cell_type": "code",
      "execution_count": null,
      "metadata": {
        "id": "4MmX4IXtk8CP"
      },
      "outputs": [],
      "source": [
        "# Install missing Python packages in Google Colab\n",
        "!pip install ta\n",
        "!pip install prophet\n",
        "!pip install pykalman\n",
        "!pip install PyWavelets"
      ]
    },
    {
      "cell_type": "markdown",
      "metadata": {
        "id": "7w0XMCNMk8CY"
      },
      "source": [
        "# Gather data"
      ]
    },
    {
      "cell_type": "code",
      "execution_count": 8,
      "metadata": {
        "id": "jMmddAo-k8Cb",
        "outputId": "1e8a8e4e-1158-461f-b88f-79163652917a",
        "colab": {
          "base_uri": "https://localhost:8080/"
        }
      },
      "outputs": [
        {
          "output_type": "stream",
          "name": "stderr",
          "text": [
            "[*********************100%***********************]  111 of 111 completed\n"
          ]
        }
      ],
      "source": [
        "from data.data_collection import gather_data\n",
        "\n",
        "startDateStr = '2008-10-01'\n",
        "endDateStr = '2018-10-02' # documentation said that endDateStr is exclusive for both yahoofinance and the original code, but actually printing the shapes showed otherwise..\n",
        "instrumentIds = list(set(['ITOT', 'ACWI', 'IWV', 'VT', 'VTI',\n",
        "                'DIA', 'RSP', 'IOO', 'IVV', 'SPY',\n",
        "                'SHE', 'IWM', 'OEF', 'QQQ',\n",
        "                'CVY', 'RPG', 'RPV', 'IWB', 'IWF',\n",
        "                'IWD', 'IVW', 'IVE', 'PKW',\n",
        "                'PRF', 'SDY', 'VV', 'VUG',\n",
        "                'VTV', 'MGC', 'MGK', 'MGV', 'VIG',\n",
        "                'VYM', 'DTN', 'DLN', 'MDY', 'DVY',\n",
        "                'IWR', 'IWP', 'IWS', 'IJH', 'IJK',\n",
        "                'IJJ', 'PDP', 'DON', 'IWC', 'IWM',\n",
        "                'IWO', 'IWN', 'IJR', 'IJT', 'IJS',\n",
        "                'EEB', 'IDV', 'ACWX', 'BKF', 'EFA',\n",
        "                'EFG', 'EFV', 'SCZ', 'EEM', 'PID',\n",
        "                'DWX', 'DEM', 'DGS', 'AAXJ', 'EZU',\n",
        "                'EPP', 'IEV', 'ILF', 'FEZ', 'VGK',\n",
        "                'VPL', 'DFE', 'EWA', 'EWC', 'EWG',\n",
        "                'EWI', 'EWJ', 'EWD', 'EWL', 'EWP',\n",
        "                'EWU', 'DXJ', 'EWZ', 'FXI', 'EWH',\n",
        "                'EWW', 'RSX', 'EWS', 'EWM','EWY',\n",
        "                'EWT', 'EPI', 'XLY', 'IYC', 'ITB',\n",
        "                'XHB', 'VCR','XLP', 'IYK', 'VDC',\n",
        "                'XLE', 'IYE', 'IGE',\n",
        "                'VDE', 'QCLN', 'XLF','IYF', 'KBE',\n",
        "                'KRE', 'VFH']))\n",
        "\n",
        "\n",
        "data = gather_data(startDateStr, endDateStr, instrumentIds)\n",
        "data_close = data['close']\n",
        "data_open = data['open']\n",
        "data_high = data['high']\n",
        "data_low = data['low']\n",
        "data_vol = data['vol']"
      ]
    },
    {
      "cell_type": "markdown",
      "metadata": {
        "id": "AVP-KKH2k8Cg"
      },
      "source": [
        "# Prepocessing\n",
        "### Filtering ETFs for liquidity"
      ]
    },
    {
      "cell_type": "code",
      "execution_count": 9,
      "metadata": {
        "id": "jbdcUFahk8Ch",
        "outputId": "d020dbb8-0f9c-4384-f509-70e2d4a67683",
        "colab": {
          "base_uri": "https://localhost:8080/",
          "height": 455
        }
      },
      "outputs": [
        {
          "output_type": "execute_result",
          "data": {
            "text/plain": [
              "Ticker            QQQ      IJJ\n",
              "Date                          \n",
              "2008-10-01  174033300  8870600\n",
              "2008-10-02  192124000   283800\n",
              "2008-10-03  272116100   939000\n",
              "2008-10-06  394046600   897000\n",
              "2008-10-07  329365700   414000\n",
              "...               ...      ...\n",
              "2018-09-25   25277500   202000\n",
              "2018-09-26   36210600   119400\n",
              "2018-09-27   33113300   153600\n",
              "2018-09-28   28076800   107800\n",
              "2018-10-01   27371300   137800\n",
              "\n",
              "[2518 rows x 2 columns]"
            ],
            "text/html": [
              "\n",
              "  <div id=\"df-1963a4f9-9e2b-4de6-8b28-342b75c18b20\" class=\"colab-df-container\">\n",
              "    <div>\n",
              "<style scoped>\n",
              "    .dataframe tbody tr th:only-of-type {\n",
              "        vertical-align: middle;\n",
              "    }\n",
              "\n",
              "    .dataframe tbody tr th {\n",
              "        vertical-align: top;\n",
              "    }\n",
              "\n",
              "    .dataframe thead th {\n",
              "        text-align: right;\n",
              "    }\n",
              "</style>\n",
              "<table border=\"1\" class=\"dataframe\">\n",
              "  <thead>\n",
              "    <tr style=\"text-align: right;\">\n",
              "      <th>Ticker</th>\n",
              "      <th>QQQ</th>\n",
              "      <th>IJJ</th>\n",
              "    </tr>\n",
              "    <tr>\n",
              "      <th>Date</th>\n",
              "      <th></th>\n",
              "      <th></th>\n",
              "    </tr>\n",
              "  </thead>\n",
              "  <tbody>\n",
              "    <tr>\n",
              "      <th>2008-10-01</th>\n",
              "      <td>174033300</td>\n",
              "      <td>8870600</td>\n",
              "    </tr>\n",
              "    <tr>\n",
              "      <th>2008-10-02</th>\n",
              "      <td>192124000</td>\n",
              "      <td>283800</td>\n",
              "    </tr>\n",
              "    <tr>\n",
              "      <th>2008-10-03</th>\n",
              "      <td>272116100</td>\n",
              "      <td>939000</td>\n",
              "    </tr>\n",
              "    <tr>\n",
              "      <th>2008-10-06</th>\n",
              "      <td>394046600</td>\n",
              "      <td>897000</td>\n",
              "    </tr>\n",
              "    <tr>\n",
              "      <th>2008-10-07</th>\n",
              "      <td>329365700</td>\n",
              "      <td>414000</td>\n",
              "    </tr>\n",
              "    <tr>\n",
              "      <th>...</th>\n",
              "      <td>...</td>\n",
              "      <td>...</td>\n",
              "    </tr>\n",
              "    <tr>\n",
              "      <th>2018-09-25</th>\n",
              "      <td>25277500</td>\n",
              "      <td>202000</td>\n",
              "    </tr>\n",
              "    <tr>\n",
              "      <th>2018-09-26</th>\n",
              "      <td>36210600</td>\n",
              "      <td>119400</td>\n",
              "    </tr>\n",
              "    <tr>\n",
              "      <th>2018-09-27</th>\n",
              "      <td>33113300</td>\n",
              "      <td>153600</td>\n",
              "    </tr>\n",
              "    <tr>\n",
              "      <th>2018-09-28</th>\n",
              "      <td>28076800</td>\n",
              "      <td>107800</td>\n",
              "    </tr>\n",
              "    <tr>\n",
              "      <th>2018-10-01</th>\n",
              "      <td>27371300</td>\n",
              "      <td>137800</td>\n",
              "    </tr>\n",
              "  </tbody>\n",
              "</table>\n",
              "<p>2518 rows × 2 columns</p>\n",
              "</div>\n",
              "    <div class=\"colab-df-buttons\">\n",
              "\n",
              "  <div class=\"colab-df-container\">\n",
              "    <button class=\"colab-df-convert\" onclick=\"convertToInteractive('df-1963a4f9-9e2b-4de6-8b28-342b75c18b20')\"\n",
              "            title=\"Convert this dataframe to an interactive table.\"\n",
              "            style=\"display:none;\">\n",
              "\n",
              "  <svg xmlns=\"http://www.w3.org/2000/svg\" height=\"24px\" viewBox=\"0 -960 960 960\">\n",
              "    <path d=\"M120-120v-720h720v720H120Zm60-500h600v-160H180v160Zm220 220h160v-160H400v160Zm0 220h160v-160H400v160ZM180-400h160v-160H180v160Zm440 0h160v-160H620v160ZM180-180h160v-160H180v160Zm440 0h160v-160H620v160Z\"/>\n",
              "  </svg>\n",
              "    </button>\n",
              "\n",
              "  <style>\n",
              "    .colab-df-container {\n",
              "      display:flex;\n",
              "      gap: 12px;\n",
              "    }\n",
              "\n",
              "    .colab-df-convert {\n",
              "      background-color: #E8F0FE;\n",
              "      border: none;\n",
              "      border-radius: 50%;\n",
              "      cursor: pointer;\n",
              "      display: none;\n",
              "      fill: #1967D2;\n",
              "      height: 32px;\n",
              "      padding: 0 0 0 0;\n",
              "      width: 32px;\n",
              "    }\n",
              "\n",
              "    .colab-df-convert:hover {\n",
              "      background-color: #E2EBFA;\n",
              "      box-shadow: 0px 1px 2px rgba(60, 64, 67, 0.3), 0px 1px 3px 1px rgba(60, 64, 67, 0.15);\n",
              "      fill: #174EA6;\n",
              "    }\n",
              "\n",
              "    .colab-df-buttons div {\n",
              "      margin-bottom: 4px;\n",
              "    }\n",
              "\n",
              "    [theme=dark] .colab-df-convert {\n",
              "      background-color: #3B4455;\n",
              "      fill: #D2E3FC;\n",
              "    }\n",
              "\n",
              "    [theme=dark] .colab-df-convert:hover {\n",
              "      background-color: #434B5C;\n",
              "      box-shadow: 0px 1px 3px 1px rgba(0, 0, 0, 0.15);\n",
              "      filter: drop-shadow(0px 1px 2px rgba(0, 0, 0, 0.3));\n",
              "      fill: #FFFFFF;\n",
              "    }\n",
              "  </style>\n",
              "\n",
              "    <script>\n",
              "      const buttonEl =\n",
              "        document.querySelector('#df-1963a4f9-9e2b-4de6-8b28-342b75c18b20 button.colab-df-convert');\n",
              "      buttonEl.style.display =\n",
              "        google.colab.kernel.accessAllowed ? 'block' : 'none';\n",
              "\n",
              "      async function convertToInteractive(key) {\n",
              "        const element = document.querySelector('#df-1963a4f9-9e2b-4de6-8b28-342b75c18b20');\n",
              "        const dataTable =\n",
              "          await google.colab.kernel.invokeFunction('convertToInteractive',\n",
              "                                                    [key], {});\n",
              "        if (!dataTable) return;\n",
              "\n",
              "        const docLinkHtml = 'Like what you see? Visit the ' +\n",
              "          '<a target=\"_blank\" href=https://colab.research.google.com/notebooks/data_table.ipynb>data table notebook</a>'\n",
              "          + ' to learn more about interactive tables.';\n",
              "        element.innerHTML = '';\n",
              "        dataTable['output_type'] = 'display_data';\n",
              "        await google.colab.output.renderOutput(dataTable, element);\n",
              "        const docLink = document.createElement('div');\n",
              "        docLink.innerHTML = docLinkHtml;\n",
              "        element.appendChild(docLink);\n",
              "      }\n",
              "    </script>\n",
              "  </div>\n",
              "\n",
              "\n",
              "<div id=\"df-effbf1c6-e91e-4408-ab0f-ced2ffb71729\">\n",
              "  <button class=\"colab-df-quickchart\" onclick=\"quickchart('df-effbf1c6-e91e-4408-ab0f-ced2ffb71729')\"\n",
              "            title=\"Suggest charts\"\n",
              "            style=\"display:none;\">\n",
              "\n",
              "<svg xmlns=\"http://www.w3.org/2000/svg\" height=\"24px\"viewBox=\"0 0 24 24\"\n",
              "     width=\"24px\">\n",
              "    <g>\n",
              "        <path d=\"M19 3H5c-1.1 0-2 .9-2 2v14c0 1.1.9 2 2 2h14c1.1 0 2-.9 2-2V5c0-1.1-.9-2-2-2zM9 17H7v-7h2v7zm4 0h-2V7h2v10zm4 0h-2v-4h2v4z\"/>\n",
              "    </g>\n",
              "</svg>\n",
              "  </button>\n",
              "\n",
              "<style>\n",
              "  .colab-df-quickchart {\n",
              "      --bg-color: #E8F0FE;\n",
              "      --fill-color: #1967D2;\n",
              "      --hover-bg-color: #E2EBFA;\n",
              "      --hover-fill-color: #174EA6;\n",
              "      --disabled-fill-color: #AAA;\n",
              "      --disabled-bg-color: #DDD;\n",
              "  }\n",
              "\n",
              "  [theme=dark] .colab-df-quickchart {\n",
              "      --bg-color: #3B4455;\n",
              "      --fill-color: #D2E3FC;\n",
              "      --hover-bg-color: #434B5C;\n",
              "      --hover-fill-color: #FFFFFF;\n",
              "      --disabled-bg-color: #3B4455;\n",
              "      --disabled-fill-color: #666;\n",
              "  }\n",
              "\n",
              "  .colab-df-quickchart {\n",
              "    background-color: var(--bg-color);\n",
              "    border: none;\n",
              "    border-radius: 50%;\n",
              "    cursor: pointer;\n",
              "    display: none;\n",
              "    fill: var(--fill-color);\n",
              "    height: 32px;\n",
              "    padding: 0;\n",
              "    width: 32px;\n",
              "  }\n",
              "\n",
              "  .colab-df-quickchart:hover {\n",
              "    background-color: var(--hover-bg-color);\n",
              "    box-shadow: 0 1px 2px rgba(60, 64, 67, 0.3), 0 1px 3px 1px rgba(60, 64, 67, 0.15);\n",
              "    fill: var(--button-hover-fill-color);\n",
              "  }\n",
              "\n",
              "  .colab-df-quickchart-complete:disabled,\n",
              "  .colab-df-quickchart-complete:disabled:hover {\n",
              "    background-color: var(--disabled-bg-color);\n",
              "    fill: var(--disabled-fill-color);\n",
              "    box-shadow: none;\n",
              "  }\n",
              "\n",
              "  .colab-df-spinner {\n",
              "    border: 2px solid var(--fill-color);\n",
              "    border-color: transparent;\n",
              "    border-bottom-color: var(--fill-color);\n",
              "    animation:\n",
              "      spin 1s steps(1) infinite;\n",
              "  }\n",
              "\n",
              "  @keyframes spin {\n",
              "    0% {\n",
              "      border-color: transparent;\n",
              "      border-bottom-color: var(--fill-color);\n",
              "      border-left-color: var(--fill-color);\n",
              "    }\n",
              "    20% {\n",
              "      border-color: transparent;\n",
              "      border-left-color: var(--fill-color);\n",
              "      border-top-color: var(--fill-color);\n",
              "    }\n",
              "    30% {\n",
              "      border-color: transparent;\n",
              "      border-left-color: var(--fill-color);\n",
              "      border-top-color: var(--fill-color);\n",
              "      border-right-color: var(--fill-color);\n",
              "    }\n",
              "    40% {\n",
              "      border-color: transparent;\n",
              "      border-right-color: var(--fill-color);\n",
              "      border-top-color: var(--fill-color);\n",
              "    }\n",
              "    60% {\n",
              "      border-color: transparent;\n",
              "      border-right-color: var(--fill-color);\n",
              "    }\n",
              "    80% {\n",
              "      border-color: transparent;\n",
              "      border-right-color: var(--fill-color);\n",
              "      border-bottom-color: var(--fill-color);\n",
              "    }\n",
              "    90% {\n",
              "      border-color: transparent;\n",
              "      border-bottom-color: var(--fill-color);\n",
              "    }\n",
              "  }\n",
              "</style>\n",
              "\n",
              "  <script>\n",
              "    async function quickchart(key) {\n",
              "      const quickchartButtonEl =\n",
              "        document.querySelector('#' + key + ' button');\n",
              "      quickchartButtonEl.disabled = true;  // To prevent multiple clicks.\n",
              "      quickchartButtonEl.classList.add('colab-df-spinner');\n",
              "      try {\n",
              "        const charts = await google.colab.kernel.invokeFunction(\n",
              "            'suggestCharts', [key], {});\n",
              "      } catch (error) {\n",
              "        console.error('Error during call to suggestCharts:', error);\n",
              "      }\n",
              "      quickchartButtonEl.classList.remove('colab-df-spinner');\n",
              "      quickchartButtonEl.classList.add('colab-df-quickchart-complete');\n",
              "    }\n",
              "    (() => {\n",
              "      let quickchartButtonEl =\n",
              "        document.querySelector('#df-effbf1c6-e91e-4408-ab0f-ced2ffb71729 button');\n",
              "      quickchartButtonEl.style.display =\n",
              "        google.colab.kernel.accessAllowed ? 'block' : 'none';\n",
              "    })();\n",
              "  </script>\n",
              "</div>\n",
              "\n",
              "    </div>\n",
              "  </div>\n"
            ],
            "application/vnd.google.colaboratory.intrinsic+json": {
              "type": "dataframe",
              "summary": "{\n  \"name\": \"data['yfinance_formatted'][['QQQ', 'IJJ']]\",\n  \"rows\": 2518,\n  \"fields\": [\n    {\n      \"column\": \"Date\",\n      \"properties\": {\n        \"dtype\": \"date\",\n        \"min\": \"2008-10-01 00:00:00\",\n        \"max\": \"2018-10-01 00:00:00\",\n        \"num_unique_values\": 2518,\n        \"samples\": [\n          \"2017-06-22 00:00:00\",\n          \"2010-05-19 00:00:00\",\n          \"2014-04-09 00:00:00\"\n        ],\n        \"semantic_type\": \"\",\n        \"description\": \"\"\n      }\n    },\n    {\n      \"column\": \"QQQ\",\n      \"properties\": {\n        \"dtype\": \"number\",\n        \"std\": 48792543,\n        \"min\": 7079300,\n        \"max\": 494783500,\n        \"num_unique_values\": 2515,\n        \"samples\": [\n          101276500,\n          38414800,\n          49793400\n        ],\n        \"semantic_type\": \"\",\n        \"description\": \"\"\n      }\n    },\n    {\n      \"column\": \"IJJ\",\n      \"properties\": {\n        \"dtype\": \"number\",\n        \"std\": 450241,\n        \"min\": 35000,\n        \"max\": 8870600,\n        \"num_unique_values\": 1616,\n        \"samples\": [\n          1700200,\n          652000,\n          115400\n        ],\n        \"semantic_type\": \"\",\n        \"description\": \"\"\n      }\n    }\n  ]\n}"
            }
          },
          "metadata": {},
          "execution_count": 9
        }
      ],
      "source": [
        "data['yfinance_formatted'][['QQQ', 'IJJ']].xs('Volume', level='Price', axis=1)\n"
      ]
    },
    {
      "cell_type": "markdown",
      "metadata": {
        "id": "6AR5MXumk8Ci"
      },
      "source": [
        "# Find Co-Integrated Pairs"
      ]
    },
    {
      "cell_type": "markdown",
      "metadata": {
        "id": "T4qgeZjmk8Cj"
      },
      "source": [
        "First, let's try to estimate the time we need."
      ]
    },
    {
      "cell_type": "code",
      "source": [
        "import time\n",
        "n_test_pairs = 10\n",
        "start_time = time.time()\n",
        "first_n_test_cols = data['yfinance_formatted'].columns.get_level_values('Ticker').unique()[:n_test_pairs]\n",
        "scores, pvalues, pairs = find_cointegrated_pairs(data['yfinance_formatted'][first_n_test_cols])\n",
        "end_time = time.time()\n",
        "print(f\"Execution time: {end_time - start_time:.2f} seconds\")\n",
        "seconds_per_pair = (end_time - start_time) / n_test_pairs\n",
        "print(f\"Seconds per pair: {seconds_per_pair:.2f}\")"
      ],
      "metadata": {
        "id": "lM3k3h8tnfJP",
        "outputId": "03c35ba1-b790-4069-bfb3-6d99768715d7",
        "colab": {
          "base_uri": "https://localhost:8080/"
        }
      },
      "execution_count": 19,
      "outputs": [
        {
          "output_type": "stream",
          "name": "stdout",
          "text": [
            "Missing data for pair: MGV, EEB\n",
            "Missing data for pair: IWC, EEB\n",
            "Missing data for pair: VTV, EEB\n",
            "Missing data for pair: XLF, EEB\n",
            "Missing data for pair: IWF, EEB\n",
            "Missing data for pair: IWD, EEB\n",
            "Missing data for pair: SPY, EEB\n",
            "Missing data for pair: IYK, EEB\n",
            "Missing data for pair: IVV, EEB\n",
            "Completed 45 pairs\n",
            "Execution time: 8.55 seconds\n",
            "Seconds per pair: 0.86\n"
          ]
        }
      ]
    },
    {
      "cell_type": "code",
      "execution_count": 22,
      "metadata": {
        "id": "pbltOQUCk8Ck",
        "outputId": "40700ae7-d5f4-4129-f181-41583ceead8f",
        "colab": {
          "base_uri": "https://localhost:8080/"
        }
      },
      "outputs": [
        {
          "output_type": "stream",
          "name": "stdout",
          "text": [
            "Expected time to run all pairs: 2.71 minutes\n"
          ]
        }
      ],
      "source": [
        "from enum import unique\n",
        "\n",
        "\n",
        "n_cols = len(data['yfinance_formatted'].columns.get_level_values('Ticker').unique())\n",
        "max_cols = 20\n",
        "if n_cols > max_cols and max_cols > 0:\n",
        "    cols = data['yfinance_formatted'].columns.get_level_values('Ticker').unique()[:max_cols]\n",
        "    n_cols = max_cols\n",
        "else:\n",
        "    cols = data['yfinance_formatted'].columns.get_level_values('Ticker').unique()\n",
        "first_n_cols = data['yfinance_formatted'].columns.get_level_values('Ticker').unique()[:n_cols]\n",
        "# combinatorially find number of unique pairs of columns\n",
        "unique_pairs = n_cols * (n_cols - 1) / 2\n",
        "expected_time = unique_pairs * seconds_per_pair\n",
        "print(f\"Expected time to run all pairs: {expected_time / 60:.2f} minutes\")"
      ]
    },
    {
      "cell_type": "code",
      "source": [
        "from preprocessing.data_preprocessing import filter_pairs_data\n"
      ],
      "metadata": {
        "id": "RRgvMV4FwFbo",
        "outputId": "f11f3ce7-8376-4669-affc-f9ec04de2e85",
        "colab": {
          "base_uri": "https://localhost:8080/",
          "height": 315
        }
      },
      "execution_count": 33,
      "outputs": [
        {
          "output_type": "error",
          "ename": "ImportError",
          "evalue": "cannot import name 'filter_pairs_data' from 'preprocessing.data_preprocessing' (/content/bsc-thesis/src/preprocessing/data_preprocessing.py)",
          "traceback": [
            "\u001b[0;31m---------------------------------------------------------------------------\u001b[0m",
            "\u001b[0;31mImportError\u001b[0m                               Traceback (most recent call last)",
            "\u001b[0;32m<ipython-input-33-b27a7194c4d9>\u001b[0m in \u001b[0;36m<cell line: 0>\u001b[0;34m()\u001b[0m\n\u001b[0;32m----> 1\u001b[0;31m \u001b[0;32mfrom\u001b[0m \u001b[0mpreprocessing\u001b[0m\u001b[0;34m.\u001b[0m\u001b[0mdata_preprocessing\u001b[0m \u001b[0;32mimport\u001b[0m \u001b[0mfilter_pairs_data\u001b[0m\u001b[0;34m\u001b[0m\u001b[0;34m\u001b[0m\u001b[0m\n\u001b[0m",
            "\u001b[0;31mImportError\u001b[0m: cannot import name 'filter_pairs_data' from 'preprocessing.data_preprocessing' (/content/bsc-thesis/src/preprocessing/data_preprocessing.py)",
            "",
            "\u001b[0;31m---------------------------------------------------------------------------\u001b[0;32m\nNOTE: If your import is failing due to a missing package, you can\nmanually install dependencies using either !pip or !apt.\n\nTo view examples of installing some common dependencies, click the\n\"Open Examples\" button below.\n\u001b[0;31m---------------------------------------------------------------------------\u001b[0m\n"
          ],
          "errorDetails": {
            "actions": [
              {
                "action": "open_url",
                "actionText": "Open Examples",
                "url": "/notebooks/snippets/importing_libraries.ipynb"
              }
            ]
          }
        }
      ]
    },
    {
      "cell_type": "code",
      "execution_count": 30,
      "metadata": {
        "id": "gB3tmYlTk8Cm",
        "outputId": "0ddfea35-5c0d-487a-eeb9-25232e723763",
        "colab": {
          "base_uri": "https://localhost:8080/"
        }
      },
      "outputs": [
        {
          "output_type": "stream",
          "name": "stdout",
          "text": [
            "The autoreload extension is already loaded. To reload it, use:\n",
            "  %reload_ext autoreload\n",
            "Missing data for pair: MGV, EEB\n",
            "Missing data for pair: IWC, EEB\n",
            "Missing data for pair: VTV, EEB\n",
            "Missing data for pair: XLF, EEB\n",
            "Missing data for pair: IWF, EEB\n",
            "Missing data for pair: IWD, EEB\n",
            "Missing data for pair: SPY, EEB\n",
            "Missing data for pair: IYK, EEB\n",
            "Missing data for pair: IVV, EEB\n"
          ]
        },
        {
          "output_type": "stream",
          "name": "stderr",
          "text": [
            "/content/bsc-thesis/src/preprocessing/cointegration.py:62: CollinearityWarning: y0 and y1 are (almost) perfectly colinear.Cointegration test is not reliable in this case.\n",
            "  result = coint(S1, S2)\n",
            "/content/bsc-thesis/src/preprocessing/cointegration.py:62: CollinearityWarning: y0 and y1 are (almost) perfectly colinear.Cointegration test is not reliable in this case.\n",
            "  result = coint(S1, S2)\n",
            "/content/bsc-thesis/src/preprocessing/cointegration.py:62: CollinearityWarning: y0 and y1 are (almost) perfectly colinear.Cointegration test is not reliable in this case.\n",
            "  result = coint(S1, S2)\n",
            "/content/bsc-thesis/src/preprocessing/cointegration.py:62: CollinearityWarning: y0 and y1 are (almost) perfectly colinear.Cointegration test is not reliable in this case.\n",
            "  result = coint(S1, S2)\n",
            "/content/bsc-thesis/src/preprocessing/cointegration.py:62: CollinearityWarning: y0 and y1 are (almost) perfectly colinear.Cointegration test is not reliable in this case.\n",
            "  result = coint(S1, S2)\n",
            "/content/bsc-thesis/src/preprocessing/cointegration.py:62: CollinearityWarning: y0 and y1 are (almost) perfectly colinear.Cointegration test is not reliable in this case.\n",
            "  result = coint(S1, S2)\n",
            "/content/bsc-thesis/src/preprocessing/cointegration.py:62: CollinearityWarning: y0 and y1 are (almost) perfectly colinear.Cointegration test is not reliable in this case.\n",
            "  result = coint(S1, S2)\n",
            "/content/bsc-thesis/src/preprocessing/cointegration.py:62: CollinearityWarning: y0 and y1 are (almost) perfectly colinear.Cointegration test is not reliable in this case.\n",
            "  result = coint(S1, S2)\n",
            "/content/bsc-thesis/src/preprocessing/cointegration.py:62: CollinearityWarning: y0 and y1 are (almost) perfectly colinear.Cointegration test is not reliable in this case.\n",
            "  result = coint(S1, S2)\n",
            "/content/bsc-thesis/src/preprocessing/cointegration.py:62: CollinearityWarning: y0 and y1 are (almost) perfectly colinear.Cointegration test is not reliable in this case.\n",
            "  result = coint(S1, S2)\n"
          ]
        },
        {
          "output_type": "stream",
          "name": "stdout",
          "text": [
            "Completed 190 pairs\n",
            "Execution time: 34.57 seconds\n"
          ]
        },
        {
          "output_type": "execute_result",
          "data": {
            "text/plain": [
              "[(('KBE', 'VFH'), np.float64(5.419965145373005e-05)),\n",
              " (('MGV', 'MDY'), np.float64(0.0003471602072689424)),\n",
              " (('XLF', 'KBE'), np.float64(0.000558867649307414)),\n",
              " (('KBE', 'MDY'), np.float64(0.0031644512067920275)),\n",
              " (('KBE', 'PRF'), np.float64(0.007499653326729589)),\n",
              " (('IWF', 'KBE'), np.float64(0.011547985971317495)),\n",
              " (('VTV', 'MDY'), np.float64(0.011913681187257007)),\n",
              " (('XLF', 'VFH'), np.float64(0.014371946531150459)),\n",
              " (('IWN', 'MDY'), np.float64(0.014669490575021878)),\n",
              " (('IWC', 'KBE'), np.float64(0.019839463242342495)),\n",
              " (('IWC', 'PRF'), np.float64(0.023863530899490514)),\n",
              " (('IWC', 'VTV'), np.float64(0.025000239274752225)),\n",
              " (('MGV', 'IWC'), np.float64(0.025313951724643142)),\n",
              " (('VTV', 'PRF'), np.float64(0.027426478587651803)),\n",
              " (('SPY', 'KBE'), np.float64(0.028967681050707204)),\n",
              " (('IVV', 'KBE'), np.float64(0.030969481993979187)),\n",
              " (('VTV', 'KBE'), np.float64(0.03208997949575676)),\n",
              " (('PRF', 'IWN'), np.float64(0.0342547599819043)),\n",
              " (('MGV', 'PRF'), np.float64(0.03645899905668532)),\n",
              " (('IWC', 'MDY'), np.float64(0.03943512273951769)),\n",
              " (('IWC', 'XLF'), np.float64(0.040182705410640264)),\n",
              " (('PRF', 'MDY'), np.float64(0.043612353253666504)),\n",
              " (('VTV', 'IWN'), np.float64(0.04557846285431231)),\n",
              " (('MGV', 'KBE'), np.float64(0.04571878315635439)),\n",
              " (('KBE', 'IWN'), np.float64(0.047950259698812295)),\n",
              " (('MGV', 'SPY'), np.float64(0.04822633054434292))]"
            ]
          },
          "metadata": {},
          "execution_count": 30
        }
      ],
      "source": [
        "%load_ext autoreload\n",
        "%autoreload 2\n",
        "\n",
        "from preprocessing.cointegration import find_cointegrated_pairs\n",
        "from utils.visualization import plot_heatmap\n",
        "from preprocessing.data_preprocessing import filter_pairs_data\n",
        "\n",
        "# First, we'll try it for a smaller (random) subset of the data\n",
        "import time\n",
        "start_time = time.time()\n",
        "scores, pvalues, pairs = find_cointegrated_pairs(data['yfinance_formatted'][first_n_cols])\n",
        "# TODO: remove all perfectly cointegrated  variables where the error code shown below is given:\n",
        "# /content/bsc-thesis/src/preprocessing/cointegration.py:62: CollinearityWarning: y0 and y1 are (almost) perfectly colinear.Cointegration test is not reliable in this case. \\ result = coint(S1, S2)\n",
        "end_time = time.time()\n",
        "print(f\"Execution time: {end_time - start_time:.2f} seconds\")\n",
        "pairs_data = {key:value[1]  for (key, value) in pairs.items()}\n",
        "pairs_data = sorted(pairs_data.items(), key=lambda x: x[1])\n",
        "pairs_data_filtered = filter_pairs_data(pairs_data) # filter based on cointegration in such a way that we can simply pick the highest pair of stocks in the list.\n",
        "pairs_data_filtered"
      ]
    },
    {
      "cell_type": "code",
      "source": [
        "from utils.visualization import plot_heatmap\n",
        "plot_heatmap(pvalues)"
      ],
      "metadata": {
        "id": "7-GhC3lvrHKr",
        "outputId": "8fafacbd-2639-4f11-f38d-a5c64c563a6d",
        "colab": {
          "base_uri": "https://localhost:8080/",
          "height": 448
        }
      },
      "execution_count": 27,
      "outputs": [
        {
          "output_type": "display_data",
          "data": {
            "text/plain": [
              "<Figure size 640x480 with 2 Axes>"
            ],
            "image/png": "[encoded data removed]"
          },
          "metadata": {}
        }
      ]
    },
    {
      "cell_type": "code",
      "source": [
        "# Extract the most highly cointegrated pairs\n",
        "ticker_a, ticker_b = pairs_data_filtered[0][0][0], pairs_data_filtered[0][0][1]\n",
        "print(f\"Most highly cointegrated pair: {ticker_a} and {ticker_b}\")\n"
      ],
      "metadata": {
        "id": "E4SxDS83r8RA",
        "outputId": "12c9a35d-34d7-4766-f860-188eff4e6bd9",
        "colab": {
          "base_uri": "https://localhost:8080/"
        }
      },
      "execution_count": 31,
      "outputs": [
        {
          "output_type": "stream",
          "name": "stdout",
          "text": [
            "Most highly cointegrated pair: KBE and VFH\n"
          ]
        }
      ]
    }
  ],
  "metadata": {
    "kernelspec": {
      "display_name": "Python 3",
      "language": "python",
      "name": "python3"
    },
    "language_info": {
      "codemirror_mode": {
        "name": "ipython",
        "version": 3
      },
      "file_extension": ".py",
      "mimetype": "text/x-python",
      "name": "python",
      "nbconvert_exporter": "python",
      "pygments_lexer": "ipython3",
      "version": "3.9.13"
    },
    "colab": {
      "provenance": []
    }
  },
  "nbformat": 4,
  "nbformat_minor": 0
}