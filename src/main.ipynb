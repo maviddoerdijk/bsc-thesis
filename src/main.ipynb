{
 "cells": [
  {
   "cell_type": "code",
   "execution_count": null,
   "metadata": {},
   "outputs": [],
   "source": [
    "# Install missing Python packages in Google Colab\n",
    "!pip install ta\n",
    "!pip install prophet\n",
    "!pip install pykalman\n",
    "!pip install PyWavelets"
   ]
  },
  {
   "cell_type": "markdown",
   "metadata": {},
   "source": [
    "# Gather data"
   ]
  },
  {
   "cell_type": "code",
   "execution_count": null,
   "metadata": {},
   "outputs": [
    {
     "name": "stderr",
     "output_type": "stream",
     "text": [
      "[*********************100%***********************]  111 of 111 completed\n"
     ]
    }
   ],
   "source": [
    "from data.data_collection import gather_data\n",
    "\n",
    "startDateStr = '2008-10-01'\n",
    "endDateStr = '2018-10-02' # documentation said that endDateStr is exclusive for both yahoofinance and the original code, but actually printing the shapes showed otherwise..\n",
    "instrumentIds = list(set(['ITOT', 'ACWI', 'IWV', 'VT', 'VTI',\n",
    "                'DIA', 'RSP', 'IOO', 'IVV', 'SPY',\n",
    "                'SHE', 'IWM', 'OEF', 'QQQ',\n",
    "                'CVY', 'RPG', 'RPV', 'IWB', 'IWF',\n",
    "                'IWD', 'IVW', 'IVE', 'PKW',\n",
    "                'PRF', 'SDY', 'VV', 'VUG',\n",
    "                'VTV', 'MGC', 'MGK', 'MGV', 'VIG',\n",
    "                'VYM', 'DTN', 'DLN', 'MDY', 'DVY',\n",
    "                'IWR', 'IWP', 'IWS', 'IJH', 'IJK',\n",
    "                'IJJ', 'PDP', 'DON', 'IWC', 'IWM',\n",
    "                'IWO', 'IWN', 'IJR', 'IJT', 'IJS',\n",
    "                'EEB', 'IDV', 'ACWX', 'BKF', 'EFA',\n",
    "                'EFG', 'EFV', 'SCZ', 'EEM', 'PID',\n",
    "                'DWX', 'DEM', 'DGS', 'AAXJ', 'EZU',\n",
    "                'EPP', 'IEV', 'ILF', 'FEZ', 'VGK',\n",
    "                'VPL', 'DFE', 'EWA', 'EWC', 'EWG',\n",
    "                'EWI', 'EWJ', 'EWD', 'EWL', 'EWP',\n",
    "                'EWU', 'DXJ', 'EWZ', 'FXI', 'EWH',\n",
    "                'EWW', 'RSX', 'EWS', 'EWM','EWY',\n",
    "                'EWT', 'EPI', 'XLY', 'IYC', 'ITB',\n",
    "                'XHB', 'VCR','XLP', 'IYK', 'VDC',\n",
    "                'XLE', 'IYE', 'IGE',\n",
    "                'VDE', 'QCLN', 'XLF','IYF', 'KBE',\n",
    "                'KRE', 'VFH']))\n",
    "\n",
    "\n",
    "data = gather_data(startDateStr, endDateStr, instrumentIds)\n",
    "data_close = data['close']\n",
    "data_open = data['open']\n",
    "data_high = data['high']\n",
    "data_low = data['low']\n",
    "data_vol = data['vol']"
   ]
  },
  {
   "cell_type": "markdown",
   "metadata": {},
   "source": [
    "# Prepocessing\n",
    "### Filtering ETFs for liquidity"
   ]
  },
  {
   "cell_type": "code",
   "execution_count": null,
   "metadata": {},
   "outputs": [],
   "source": [
    "data['yfinance_formatted'][['QQQ', 'IJJ']].xs('Volume', level='Price', axis=1)\n"
   ]
  },
  {
   "cell_type": "markdown",
   "metadata": {},
   "source": [
    "# Find Co-Integrated Pairs"
   ]
  },
  {
   "cell_type": "markdown",
   "metadata": {},
   "source": [
    "First, let's try to estimate the time we need."
   ]
  },
  {
   "cell_type": "code",
   "execution_count": 47,
   "metadata": {},
   "outputs": [
    {
     "name": "stdout",
     "output_type": "stream",
     "text": [
      "Expected time to run all pairs: 6.78 minutes\n"
     ]
    }
   ],
   "source": [
    "from enum import unique\n",
    "\n",
    "\n",
    "n_cols = len(data['yfinance_formatted'].columns.get_level_values('Ticker').unique())\n",
    "max_cols = 50\n",
    "if n_cols > max_cols and max_cols > 0:\n",
    "    cols = data['yfinance_formatted'].columns.get_level_values('Ticker').unique()[:max_cols]\n",
    "    n_cols = max_cols\n",
    "else:\n",
    "    cols = data['yfinance_formatted'].columns.get_level_values('Ticker').unique()\n",
    "first_n_cols = data['yfinance_formatted'].columns.get_level_values('Ticker').unique()[:n_cols]\n",
    "# on average, second per pair is \n",
    "seconds_per_pair = 63.06 / 190 # found empirically, can change\n",
    "# combinatorially find number of unique pairs of columns\n",
    "unique_pairs = n_cols * (n_cols - 1) / 2 \n",
    "expected_time = unique_pairs * seconds_per_pair\n",
    "print(f\"Expected time to run all pairs: {expected_time / 60:.2f} minutes\")"
   ]
  },
  {
   "cell_type": "code",
   "execution_count": null,
   "metadata": {},
   "outputs": [
    {
     "name": "stdout",
     "output_type": "stream",
     "text": [
      "The autoreload extension is already loaded. To reload it, use:\n",
      "  %reload_ext autoreload\n",
      "Completed 190 pairs\n",
      "Execution time: 63.06 seconds\n"
     ]
    },
    {
     "data": {
      "text/plain": [
       "[(('SCZ', 'KBE'), 0.0006297952518477276),\n",
       " (('KBE', 'IWM'), 0.0027222425205743446),\n",
       " (('VPL', 'KBE'), 0.0028637215258346233),\n",
       " (('RSP', 'IYF'), 0.0029475246628193306),\n",
       " (('RSP', 'MGV'), 0.0044175344736164385),\n",
       " (('RPG', 'IYF'), 0.004688453320363014),\n",
       " (('KBE', 'RPG'), 0.005025586550337979),\n",
       " (('KBE', 'RSP'), 0.005931532077904926),\n",
       " (('IWB', 'KBE'), 0.007738880430232023),\n",
       " (('MGC', 'KBE'), 0.01021720456129566),\n",
       " (('KBE', 'IYF'), 0.01278227219644674),\n",
       " (('MGV', 'IWM'), 0.012794252697356893),\n",
       " (('QQQ', 'KBE'), 0.012954083682456628),\n",
       " (('ACWI', 'IWM'), 0.01565197884049768),\n",
       " (('IWB', 'RPG'), 0.01622617221861165),\n",
       " (('ACWI', 'IYF'), 0.01734074519818347),\n",
       " (('RPG', 'MGV'), 0.017467749200500187),\n",
       " (('ACWI', 'KBE'), 0.019711361216843235),\n",
       " (('MGV', 'IYF'), 0.02552766745186497),\n",
       " (('ITOT', 'KBE'), 0.029399392061927522),\n",
       " (('IWB', 'MGV'), 0.03115675941506319),\n",
       " (('ITOT', 'MGV'), 0.032253708453548),\n",
       " (('IWM', 'IYF'), 0.03313020169751914),\n",
       " (('IWB', 'IYF'), 0.03382703480498584),\n",
       " (('KBE', 'MGV'), 0.03576107095005188),\n",
       " (('ITOT', 'RPG'), 0.0360253254354774),\n",
       " (('IWB', 'IWM'), 0.037071938360476384),\n",
       " (('MGC', 'IYF'), 0.038086966255701724),\n",
       " (('RPG', 'IWM'), 0.03836981127427289),\n",
       " (('ITOT', 'IYF'), 0.041249451319641126),\n",
       " (('MGC', 'RPG'), 0.04156164815171889),\n",
       " (('IWS', 'KBE'), 0.04200176285585425),\n",
       " (('ITOT', 'IWM'), 0.04409412878841286),\n",
       " (('KBE', 'DON'), 0.047772632965211045),\n",
       " (('VPL', 'IYF'), 0.04822125249772232),\n",
       " (('VPL', 'IWM'), 0.04924703501110939)]"
      ]
     },
     "execution_count": 44,
     "metadata": {},
     "output_type": "execute_result"
    }
   ],
   "source": [
    "%load_ext autoreload\n",
    "%autoreload 2\n",
    "\n",
    "from preprocessing.cointegration import find_cointegrated_pairs\n",
    "from utils.visualization import plot_heatmap\n",
    "\n",
    "# First, we'll try it for a smaller (random) subset of the data\n",
    "import time\n",
    "start_time = time.time()\n",
    "scores, pvalues, pairs = find_cointegrated_pairs(data['yfinance_formatted'][first_n_cols])\n",
    "end_time = time.time()\n",
    "print(f\"Execution time: {end_time - start_time:.2f} seconds\")\n",
    "pairs_data = {key:value[1]  for (key, value) in pairs.items()}\n",
    "pairs_data = sorted(pairs_data.items(), key=lambda x: x[1])\n",
    "pairs_data"
   ]
  }
 ],
 "metadata": {
  "kernelspec": {
   "display_name": "Python 3",
   "language": "python",
   "name": "python3"
  },
  "language_info": {
   "codemirror_mode": {
    "name": "ipython",
    "version": 3
   },
   "file_extension": ".py",
   "mimetype": "text/x-python",
   "name": "python",
   "nbconvert_exporter": "python",
   "pygments_lexer": "ipython3",
   "version": "3.9.13"
  }
 },
 "nbformat": 4,
 "nbformat_minor": 2
}
