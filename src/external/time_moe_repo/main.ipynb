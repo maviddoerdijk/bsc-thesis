{
 "cells": [
  {
   "cell_type": "code",
   "execution_count": null,
   "id": "85b8d224",
   "metadata": {},
   "outputs": [],
   "source": [
    "from training_wrapper import train_time_moe\n",
    "\n",
    "data_path = \"my_dataset.jsonl\"  \n",
    "train_time_moe(\n",
    "    data_path=data_path,\n",
    ")"
   ]
  }
 ],
 "metadata": {
  "language_info": {
   "name": "python"
  }
 },
 "nbformat": 4,
 "nbformat_minor": 5
}
