{
  "cells": [
    {
      "cell_type": "markdown",
      "source": [
        "This file is meant for *development* of hyperparameter optimization. Final metrics for hyperparameter optimization can be found at *total_results.ipynb*."
      ],
      "metadata": {
        "id": "qzjibbC1CJzQ"
      },
      "id": "qzjibbC1CJzQ"
    },
    {
      "cell_type": "code",
      "source": [
        "# if \"preprocessing\" folder in current folders -> cd back to original folder\n",
        "%cd /content\n",
        "import os\n",
        "if os.path.exists(\"bsc-thesis\"):\n",
        "  # if bsc-thesis folder already exists; completely remove\n",
        "  !rm -rf bsc-thesis\n",
        "\n",
        "# cloning repo\n",
        "branch = \"main\"\n",
        "!git clone --branch $branch https://github.com/maviddoerdijk/bsc-thesis.git\n",
        "\n",
        "# moving into project dir\n",
        "%cd bsc-thesis/src\n",
        "%ls"
      ],
      "metadata": {
        "colab": {
          "base_uri": "https://localhost:8080/"
        },
        "id": "oInppSqTDSee",
        "outputId": "2e6c57aa-2c81-4c7a-b07b-740c7d548a3f"
      },
      "id": "oInppSqTDSee",
      "execution_count": 1,
      "outputs": [
        {
          "output_type": "stream",
          "name": "stdout",
          "text": [
            "/content\n",
            "Cloning into 'bsc-thesis'...\n",
            "remote: Enumerating objects: 1010, done.\u001b[K\n",
            "remote: Counting objects: 100% (150/150), done.\u001b[K\n",
            "remote: Compressing objects: 100% (102/102), done.\u001b[K\n",
            "remote: Total 1010 (delta 100), reused 71 (delta 48), pack-reused 860 (from 2)\u001b[K\n",
            "Receiving objects: 100% (1010/1010), 39.84 MiB | 12.42 MiB/s, done.\n",
            "Resolving deltas: 100% (584/584), done.\n",
            "Filtering content: 100% (32/32), 1.75 GiB | 43.57 MiB/s, done.\n",
            "/content/bsc-thesis/src\n",
            "\u001b[0m\u001b[01;34mbacktesting\u001b[0m/  \u001b[01;34mdata\u001b[0m/      main.ipynb  \u001b[01;34mmodels\u001b[0m/         \u001b[01;34mutils\u001b[0m/\n",
            "\u001b[01;34mconfig\u001b[0m/       \u001b[01;34mexternal\u001b[0m/  main.py     \u001b[01;34mpreprocessing\u001b[0m/\n"
          ]
        }
      ]
    },
    {
      "cell_type": "code",
      "source": [
        "!pip install ta # remove after updated kalman worfklow\n",
        "!pip install pykalman\n",
        "!pip install PyWavelets # remove after updated kalman worfklow\n",
        "!pip install curl-cffi # remove after updated kalman worfklow\n",
        "!pip install scikit-optimize"
      ],
      "metadata": {
        "colab": {
          "base_uri": "https://localhost:8080/"
        },
        "id": "CbFlTsKsDeVy",
        "outputId": "56852320-0da2-425d-c224-f27a599acfd4"
      },
      "id": "CbFlTsKsDeVy",
      "execution_count": 2,
      "outputs": [
        {
          "output_type": "stream",
          "name": "stdout",
          "text": [
            "Requirement already satisfied: ta in /usr/local/lib/python3.11/dist-packages (0.11.0)\n",
            "Requirement already satisfied: numpy in /usr/local/lib/python3.11/dist-packages (from ta) (2.0.2)\n",
            "Requirement already satisfied: pandas in /usr/local/lib/python3.11/dist-packages (from ta) (2.2.2)\n",
            "Requirement already satisfied: python-dateutil>=2.8.2 in /usr/local/lib/python3.11/dist-packages (from pandas->ta) (2.9.0.post0)\n",
            "Requirement already satisfied: pytz>=2020.1 in /usr/local/lib/python3.11/dist-packages (from pandas->ta) (2025.2)\n",
            "Requirement already satisfied: tzdata>=2022.7 in /usr/local/lib/python3.11/dist-packages (from pandas->ta) (2025.2)\n",
            "Requirement already satisfied: six>=1.5 in /usr/local/lib/python3.11/dist-packages (from python-dateutil>=2.8.2->pandas->ta) (1.17.0)\n",
            "Requirement already satisfied: pykalman in /usr/local/lib/python3.11/dist-packages (0.10.1)\n",
            "Requirement already satisfied: numpy<3 in /usr/local/lib/python3.11/dist-packages (from pykalman) (2.0.2)\n",
            "Requirement already satisfied: packaging in /usr/local/lib/python3.11/dist-packages (from pykalman) (24.2)\n",
            "Requirement already satisfied: scikit-base<0.13.0 in /usr/local/lib/python3.11/dist-packages (from pykalman) (0.12.3)\n",
            "Requirement already satisfied: scipy<2.0.0 in /usr/local/lib/python3.11/dist-packages (from pykalman) (1.15.3)\n",
            "Requirement already satisfied: PyWavelets in /usr/local/lib/python3.11/dist-packages (1.8.0)\n",
            "Requirement already satisfied: numpy<3,>=1.23 in /usr/local/lib/python3.11/dist-packages (from PyWavelets) (2.0.2)\n",
            "Requirement already satisfied: curl-cffi in /usr/local/lib/python3.11/dist-packages (0.11.1)\n",
            "Requirement already satisfied: cffi>=1.12.0 in /usr/local/lib/python3.11/dist-packages (from curl-cffi) (1.17.1)\n",
            "Requirement already satisfied: certifi>=2024.2.2 in /usr/local/lib/python3.11/dist-packages (from curl-cffi) (2025.4.26)\n",
            "Requirement already satisfied: pycparser in /usr/local/lib/python3.11/dist-packages (from cffi>=1.12.0->curl-cffi) (2.22)\n",
            "Requirement already satisfied: scikit-optimize in /usr/local/lib/python3.11/dist-packages (0.10.2)\n",
            "Requirement already satisfied: joblib>=0.11 in /usr/local/lib/python3.11/dist-packages (from scikit-optimize) (1.5.1)\n",
            "Requirement already satisfied: pyaml>=16.9 in /usr/local/lib/python3.11/dist-packages (from scikit-optimize) (25.5.0)\n",
            "Requirement already satisfied: numpy>=1.20.3 in /usr/local/lib/python3.11/dist-packages (from scikit-optimize) (2.0.2)\n",
            "Requirement already satisfied: scipy>=1.1.0 in /usr/local/lib/python3.11/dist-packages (from scikit-optimize) (1.15.3)\n",
            "Requirement already satisfied: scikit-learn>=1.0.0 in /usr/local/lib/python3.11/dist-packages (from scikit-optimize) (1.6.1)\n",
            "Requirement already satisfied: packaging>=21.3 in /usr/local/lib/python3.11/dist-packages (from scikit-optimize) (24.2)\n",
            "Requirement already satisfied: PyYAML in /usr/local/lib/python3.11/dist-packages (from pyaml>=16.9->scikit-optimize) (6.0.2)\n",
            "Requirement already satisfied: threadpoolctl>=3.1.0 in /usr/local/lib/python3.11/dist-packages (from scikit-learn>=1.0.0->scikit-optimize) (3.6.0)\n"
          ]
        }
      ]
    },
    {
      "cell_type": "code",
      "source": [
        "!pip install scikit-optimize"
      ],
      "metadata": {
        "colab": {
          "base_uri": "https://localhost:8080/"
        },
        "id": "3E2fuOS-Hha2",
        "outputId": "82836b83-7e79-462d-e25f-d8746a198593"
      },
      "id": "3E2fuOS-Hha2",
      "execution_count": 3,
      "outputs": [
        {
          "output_type": "stream",
          "name": "stdout",
          "text": [
            "Requirement already satisfied: scikit-optimize in /usr/local/lib/python3.11/dist-packages (0.10.2)\n",
            "Requirement already satisfied: joblib>=0.11 in /usr/local/lib/python3.11/dist-packages (from scikit-optimize) (1.5.1)\n",
            "Requirement already satisfied: pyaml>=16.9 in /usr/local/lib/python3.11/dist-packages (from scikit-optimize) (25.5.0)\n",
            "Requirement already satisfied: numpy>=1.20.3 in /usr/local/lib/python3.11/dist-packages (from scikit-optimize) (2.0.2)\n",
            "Requirement already satisfied: scipy>=1.1.0 in /usr/local/lib/python3.11/dist-packages (from scikit-optimize) (1.15.3)\n",
            "Requirement already satisfied: scikit-learn>=1.0.0 in /usr/local/lib/python3.11/dist-packages (from scikit-optimize) (1.6.1)\n",
            "Requirement already satisfied: packaging>=21.3 in /usr/local/lib/python3.11/dist-packages (from scikit-optimize) (24.2)\n",
            "Requirement already satisfied: PyYAML in /usr/local/lib/python3.11/dist-packages (from pyaml>=16.9->scikit-optimize) (6.0.2)\n",
            "Requirement already satisfied: threadpoolctl>=3.1.0 in /usr/local/lib/python3.11/dist-packages (from scikit-learn>=1.0.0->scikit-optimize) (3.6.0)\n"
          ]
        }
      ]
    },
    {
      "cell_type": "code",
      "source": [
        "## data gathering imports\n",
        "from utils.helpers import _get_train_dev_frac\n",
        "from preprocessing.filters import step_1_filter_remove_nans, step_2_filter_liquidity\n",
        "from preprocessing.cointegration import find_cointegrated_pairs\n",
        "from preprocessing.data_preprocessing import filter_pairs_data\n",
        "from preprocessing.technical_indicators import combine_pairs_data\n",
        "## specific caching imports (should be changed in case you want to gather data live)\n",
        "from data.scraper import load_cached_etf_tickers\n",
        "from data.data_collection_cache import gather_data_cached, gather_data_cached_using_truncate, gather_pairs_data_cached, save_pairs_data_filtered\n",
        "\n",
        "## workflow imports\n",
        "from models.statistical_models import execute_kalman_workflow\n",
        "\n",
        "## optimize-specific imports\n",
        "from skopt import gp_minimize\n",
        "from skopt.space import Real\n",
        "from skopt.utils import use_named_args\n",
        "import numpy as np\n",
        "from typing import Callable, Any, List, Dict, Tuple"
      ],
      "metadata": {
        "id": "3p6ZGiWSH1Bx"
      },
      "id": "3p6ZGiWSH1Bx",
      "execution_count": 7,
      "outputs": []
    },
    {
      "cell_type": "code",
      "execution_count": 9,
      "id": "71763103",
      "metadata": {
        "colab": {
          "base_uri": "https://localhost:8080/"
        },
        "id": "71763103",
        "outputId": "d4d7ffd4-5c15-4965-e03e-312c11c25c6c"
      },
      "outputs": [
        {
          "output_type": "stream",
          "name": "stdout",
          "text": [
            "Iteration No: 1 started. Evaluating function at random point.\n",
            "Iteration No: 1 ended. Evaluation done at random point.\n",
            "Time taken: 11.1969\n",
            "Function value obtained: 21.0202\n",
            "Current minimum: 21.0202\n",
            "Iteration No: 2 started. Evaluating function at random point.\n",
            "Iteration No: 2 ended. Evaluation done at random point.\n",
            "Time taken: 6.8861\n",
            "Function value obtained: 22.5121\n",
            "Current minimum: 21.0202\n",
            "Iteration No: 3 started. Evaluating function at random point.\n",
            "Iteration No: 3 ended. Evaluation done at random point.\n",
            "Time taken: 8.2081\n",
            "Function value obtained: 22.4492\n",
            "Current minimum: 21.0202\n",
            "Iteration No: 4 started. Evaluating function at random point.\n",
            "Iteration No: 4 ended. Evaluation done at random point.\n",
            "Time taken: 7.8497\n",
            "Function value obtained: 5.2494\n",
            "Current minimum: 5.2494\n",
            "Iteration No: 5 started. Evaluating function at random point.\n",
            "Iteration No: 5 ended. Evaluation done at random point.\n",
            "Time taken: 6.8010\n",
            "Function value obtained: 23.4910\n",
            "Current minimum: 5.2494\n",
            "Iteration No: 6 started. Evaluating function at random point.\n",
            "Iteration No: 6 ended. Evaluation done at random point.\n",
            "Time taken: 8.0757\n",
            "Function value obtained: 12.6008\n",
            "Current minimum: 5.2494\n",
            "Iteration No: 7 started. Evaluating function at random point.\n",
            "Iteration No: 7 ended. Evaluation done at random point.\n",
            "Time taken: 6.8930\n",
            "Function value obtained: 21.0466\n",
            "Current minimum: 5.2494\n",
            "Iteration No: 8 started. Evaluating function at random point.\n",
            "Iteration No: 8 ended. Evaluation done at random point.\n",
            "Time taken: 7.8474\n",
            "Function value obtained: 22.0498\n",
            "Current minimum: 5.2494\n",
            "Iteration No: 9 started. Evaluating function at random point.\n",
            "Iteration No: 9 ended. Evaluation done at random point.\n",
            "Time taken: 8.1167\n",
            "Function value obtained: 9.6706\n",
            "Current minimum: 5.2494\n",
            "Iteration No: 10 started. Evaluating function at random point.\n",
            "Iteration No: 10 ended. Evaluation done at random point.\n",
            "Time taken: 7.2831\n",
            "Function value obtained: 11.6515\n",
            "Current minimum: 5.2494\n",
            "Iteration No: 11 started. Searching for the next optimal point.\n",
            "Iteration No: 11 ended. Search finished for the next optimal point.\n",
            "Time taken: 8.2677\n",
            "Function value obtained: 3.7692\n",
            "Current minimum: 3.7692\n",
            "Iteration No: 12 started. Searching for the next optimal point.\n",
            "Iteration No: 12 ended. Search finished for the next optimal point.\n",
            "Time taken: 8.3933\n",
            "Function value obtained: 3.7692\n",
            "Current minimum: 3.7692\n",
            "Iteration No: 13 started. Searching for the next optimal point.\n",
            "Iteration No: 13 ended. Search finished for the next optimal point.\n",
            "Time taken: 7.8602\n",
            "Function value obtained: 3.7692\n",
            "Current minimum: 3.7692\n",
            "Iteration No: 14 started. Searching for the next optimal point.\n",
            "Iteration No: 14 ended. Search finished for the next optimal point.\n",
            "Time taken: 8.8059\n",
            "Function value obtained: 3.7692\n",
            "Current minimum: 3.7692\n",
            "Iteration No: 15 started. Searching for the next optimal point.\n",
            "Iteration No: 15 ended. Search finished for the next optimal point.\n",
            "Time taken: 12.0717\n",
            "Function value obtained: 3.7692\n",
            "Current minimum: 3.7692\n",
            "Iteration No: 16 started. Searching for the next optimal point.\n",
            "Iteration No: 16 ended. Search finished for the next optimal point.\n",
            "Time taken: 7.5553\n",
            "Function value obtained: 3.7692\n",
            "Current minimum: 3.7692\n",
            "Iteration No: 17 started. Searching for the next optimal point.\n",
            "Iteration No: 17 ended. Search finished for the next optimal point.\n",
            "Time taken: 8.2673\n",
            "Function value obtained: 3.7692\n",
            "Current minimum: 3.7692\n",
            "Iteration No: 18 started. Searching for the next optimal point.\n",
            "Iteration No: 18 ended. Search finished for the next optimal point.\n",
            "Time taken: 8.6815\n",
            "Function value obtained: 3.7692\n",
            "Current minimum: 3.7692\n",
            "Iteration No: 19 started. Searching for the next optimal point.\n"
          ]
        },
        {
          "output_type": "stream",
          "name": "stderr",
          "text": [
            "/usr/local/lib/python3.11/dist-packages/skopt/optimizer/optimizer.py:517: UserWarning: The objective has been evaluated at point [1e-05, 3.999999999999999, 0.1, 0.1] before, using random point [0.008208008805720129, 0.7357052385608567, 0.05827299337771267, 1.6340386025607843]\n",
            "  warnings.warn(\n"
          ]
        },
        {
          "output_type": "stream",
          "name": "stdout",
          "text": [
            "Iteration No: 19 ended. Search finished for the next optimal point.\n",
            "Time taken: 7.5523\n",
            "Function value obtained: 22.0593\n",
            "Current minimum: 3.7692\n",
            "Iteration No: 20 started. Searching for the next optimal point.\n"
          ]
        },
        {
          "output_type": "stream",
          "name": "stderr",
          "text": [
            "/usr/local/lib/python3.11/dist-packages/skopt/optimizer/optimizer.py:517: UserWarning: The objective has been evaluated at point [1e-05, 3.999999999999999, 0.1, 0.1] before, using random point [0.005830343407731362, 2.5524679298223, 0.09369922653365252, 2.49040281751576]\n",
            "  warnings.warn(\n"
          ]
        },
        {
          "output_type": "stream",
          "name": "stdout",
          "text": [
            "Iteration No: 20 ended. Search finished for the next optimal point.\n",
            "Time taken: 8.8848\n",
            "Function value obtained: 21.5859\n",
            "Current minimum: 3.7692\n",
            "Iteration No: 21 started. Searching for the next optimal point.\n",
            "Iteration No: 21 ended. Search finished for the next optimal point.\n",
            "Time taken: 8.4003\n",
            "Function value obtained: 3.7692\n",
            "Current minimum: 3.7692\n",
            "Iteration No: 22 started. Searching for the next optimal point.\n"
          ]
        },
        {
          "output_type": "stream",
          "name": "stderr",
          "text": [
            "/usr/local/lib/python3.11/dist-packages/skopt/optimizer/optimizer.py:517: UserWarning: The objective has been evaluated at point [1e-05, 0.5, 0.1, 0.1] before, using random point [0.00016013678899760142, 0.5191485725587875, 0.030013317535166242, 0.885025749835916]\n",
            "  warnings.warn(\n"
          ]
        },
        {
          "output_type": "stream",
          "name": "stdout",
          "text": [
            "Iteration No: 22 ended. Search finished for the next optimal point.\n",
            "Time taken: 7.9583\n",
            "Function value obtained: 9.9656\n",
            "Current minimum: 3.7692\n",
            "Iteration No: 23 started. Searching for the next optimal point.\n"
          ]
        },
        {
          "output_type": "stream",
          "name": "stderr",
          "text": [
            "/usr/local/lib/python3.11/dist-packages/skopt/optimizer/optimizer.py:517: UserWarning: The objective has been evaluated at point [1e-05, 0.5, 0.1, 0.1] before, using random point [0.002302220679079891, 3.593494959010231, 0.08221001030169414, 0.934416504008982]\n",
            "  warnings.warn(\n"
          ]
        },
        {
          "output_type": "stream",
          "name": "stdout",
          "text": [
            "Iteration No: 23 ended. Search finished for the next optimal point.\n",
            "Time taken: 8.7458\n",
            "Function value obtained: 19.6827\n",
            "Current minimum: 3.7692\n",
            "Iteration No: 24 started. Searching for the next optimal point.\n"
          ]
        },
        {
          "output_type": "stream",
          "name": "stderr",
          "text": [
            "/usr/local/lib/python3.11/dist-packages/skopt/optimizer/optimizer.py:517: UserWarning: The objective has been evaluated at point [1e-05, 0.5, 0.1, 0.1] before, using random point [0.0029680904723173992, 0.6148641937099169, 0.0015549616298173017, 7.076281681932067]\n",
            "  warnings.warn(\n"
          ]
        },
        {
          "output_type": "stream",
          "name": "stdout",
          "text": [
            "Iteration No: 24 ended. Search finished for the next optimal point.\n",
            "Time taken: 9.2539\n",
            "Function value obtained: 20.3000\n",
            "Current minimum: 3.7692\n",
            "Iteration No: 25 started. Searching for the next optimal point.\n"
          ]
        },
        {
          "output_type": "stream",
          "name": "stderr",
          "text": [
            "/usr/local/lib/python3.11/dist-packages/skopt/optimizer/optimizer.py:517: UserWarning: The objective has been evaluated at point [1e-05, 0.5, 0.1, 0.1] before, using random point [0.07837619689968933, 3.0503518153930793, 0.0029194483917626603, 8.37571102160175]\n",
            "  warnings.warn(\n"
          ]
        },
        {
          "output_type": "stream",
          "name": "stdout",
          "text": [
            "Iteration No: 25 ended. Search finished for the next optimal point.\n",
            "Time taken: 7.9373\n",
            "Function value obtained: 23.4925\n",
            "Current minimum: 3.7692\n",
            "Iteration No: 26 started. Searching for the next optimal point.\n"
          ]
        },
        {
          "output_type": "stream",
          "name": "stderr",
          "text": [
            "/usr/local/lib/python3.11/dist-packages/skopt/optimizer/optimizer.py:517: UserWarning: The objective has been evaluated at point [1e-05, 0.5, 0.1, 0.1] before, using random point [0.0841471937120933, 3.4889217543027393, 0.00442800071020846, 0.10787722749295824]\n",
            "  warnings.warn(\n"
          ]
        },
        {
          "output_type": "stream",
          "name": "stdout",
          "text": [
            "Iteration No: 26 ended. Search finished for the next optimal point.\n",
            "Time taken: 9.3063\n",
            "Function value obtained: 23.5144\n",
            "Current minimum: 3.7692\n",
            "Iteration No: 27 started. Searching for the next optimal point.\n"
          ]
        },
        {
          "output_type": "stream",
          "name": "stderr",
          "text": [
            "/usr/local/lib/python3.11/dist-packages/skopt/optimizer/optimizer.py:517: UserWarning: The objective has been evaluated at point [1e-05, 3.999999999999999, 0.1, 10.0] before, using random point [0.00042656094967202584, 0.8879893335743839, 0.0027779357861617213, 2.4679451242593284]\n",
            "  warnings.warn(\n"
          ]
        },
        {
          "output_type": "stream",
          "name": "stdout",
          "text": [
            "Iteration No: 27 ended. Search finished for the next optimal point.\n",
            "Time taken: 9.2828\n",
            "Function value obtained: 13.9292\n",
            "Current minimum: 3.7692\n",
            "Iteration No: 28 started. Searching for the next optimal point.\n"
          ]
        },
        {
          "output_type": "stream",
          "name": "stderr",
          "text": [
            "/usr/local/lib/python3.11/dist-packages/skopt/optimizer/optimizer.py:517: UserWarning: The objective has been evaluated at point [1e-05, 0.5, 0.001, 10.0] before, using random point [0.07506787202632563, 1.2007009885634692, 0.05013249916392912, 4.096196717925584]\n",
            "  warnings.warn(\n"
          ]
        },
        {
          "output_type": "stream",
          "name": "stdout",
          "text": [
            "Iteration No: 28 ended. Search finished for the next optimal point.\n",
            "Time taken: 7.4994\n",
            "Function value obtained: 23.4789\n",
            "Current minimum: 3.7692\n",
            "Iteration No: 29 started. Searching for the next optimal point.\n",
            "Iteration No: 29 ended. Search finished for the next optimal point.\n",
            "Time taken: 8.9414\n",
            "Function value obtained: 3.7692\n",
            "Current minimum: 3.7692\n",
            "Iteration No: 30 started. Searching for the next optimal point.\n"
          ]
        },
        {
          "output_type": "stream",
          "name": "stderr",
          "text": [
            "/usr/local/lib/python3.11/dist-packages/skopt/optimizer/optimizer.py:517: UserWarning: The objective has been evaluated at point [1e-05, 0.5, 0.001, 10.0] before, using random point [1.1200119261030116e-05, 0.6608158458771693, 0.004229591819965287, 0.202313185248985]\n",
            "  warnings.warn(\n"
          ]
        },
        {
          "output_type": "stream",
          "name": "stdout",
          "text": [
            "Iteration No: 30 ended. Search finished for the next optimal point.\n",
            "Time taken: 8.6631\n",
            "Function value obtained: 3.7834\n",
            "Current minimum: 3.7692\n"
          ]
        }
      ],
      "source": [
        "search_space = [ # 'name' is used directly as a kwarg\n",
        "    Real(1e-5, 0.1, name='delta', prior='log-uniform'),\n",
        "    Real(0.5, 4, name='obs_cov_reg', prior='log-uniform'),\n",
        "    Real(0.001, 0.1, name='trans_cov_avg', prior='log-uniform'),\n",
        "    Real(0.1, 10, name='obs_cov_avg', prior='log-uniform')\n",
        "]\n",
        "SEED = 3178749\n",
        "\n",
        "def bayesian_optimize_workflow(\n",
        "    execute_workflow_fn: Callable,\n",
        "    top_pair_count: int,\n",
        "    start_year: int,\n",
        "    min_end_year: int,\n",
        "    max_end_year: int,\n",
        "    search_space: List[Real],\n",
        "    seed: int,\n",
        "    verbose: bool\n",
        ") -> Tuple[\n",
        "    Dict[str, Any], # best_params\n",
        "    float # best_mean_mse\n",
        "]:\n",
        "    param_names = [dim.name for dim in search_space]\n",
        "    instrumentIds = load_cached_etf_tickers()\n",
        "\n",
        "    @use_named_args(search_space)\n",
        "    def objective(**params):\n",
        "      total_mse_list = []\n",
        "\n",
        "      # time series cross validation: go over all periods\n",
        "      for rolling_end_year in range(min_end_year, max_end_year + 1): # +1 such that end year is actually included!\n",
        "        startDateStr = f\"{start_year}-01-01\"\n",
        "        endDateStr = f\"{rolling_end_year}-12-31\"\n",
        "        startDateStrTest = f\"{rolling_end_year}-01-01\"\n",
        "        endDateStrTest = endDateStr\n",
        "\n",
        "        train_frac, dev_frac = _get_train_dev_frac(startDateStr, endDateStr, startDateStrTest, endDateStrTest)\n",
        "\n",
        "        # when new startDateStr and endDateStr are created, we also need new pairs_data_filtered and data_..._filtered_2\n",
        "        data = gather_data_cached_using_truncate(startDateStr, endDateStr, instrumentIds, cache_dir='../src/data/cache')\n",
        "        data_close_filtered_1, data_open_filtered_1, data_high_filtered_1, data_low_filtered_1, data_vol_filtered_1, data_original_format_filtered_1 = step_1_filter_remove_nans(data['close'], data['open'], data['high'], data['low'], data['vol'], data)\n",
        "        data_close_filtered_2, data_open_filtered_2, data_high_filtered_2, data_low_filtered_2, data_vol_filtered_2, data_original_format_filtered_2 = step_2_filter_liquidity(data_close_filtered_1, data_open_filtered_1, data_high_filtered_1, data_low_filtered_1, data_vol_filtered_1, data_original_format_filtered_1)\n",
        "\n",
        "        pairs_data_filtered = gather_pairs_data_cached(startDateStr, endDateStr, instrumentIds, cache_dir='../src/data/cache')\n",
        "        if pairs_data_filtered is None:\n",
        "          scores, pvalues, pairs = find_cointegrated_pairs(data_original_format_filtered_2)\n",
        "          pairs_data = {key:value[1]  for (key, value) in pairs.items()}\n",
        "          pairs_data = sorted(pairs_data.items(), key=lambda x: x[1])\n",
        "          pairs_data_filtered = filter_pairs_data(pairs_data)\n",
        "          # if it can not be retreived from cache, make sure it is saved for later\n",
        "          save_pairs_data_filtered(pairs_data_filtered, startDateStr, endDateStr, instrumentIds, cache_dir='../src/data/cache')\n",
        "\n",
        "        # for more balanced results: use top x pairs, chosen to be 5 due to stay in within realistic time and resources\n",
        "        for pair_idx in range(top_pair_count):\n",
        "          ticker_a, ticker_b = pairs_data_filtered[pair_idx][0][0], pairs_data_filtered[pair_idx][0][1]\n",
        "          pairs_timeseries_df = combine_pairs_data(data_close_filtered_2, data_open_filtered_2, data_high_filtered_2, data_low_filtered_2, data_vol_filtered_2, ticker_a, ticker_b)\n",
        "          output = execute_workflow_fn(\n",
        "              pairs_timeseries_df,\n",
        "              **params,\n",
        "              verbose=False\n",
        "          )\n",
        "          total_mse_list.append(output['test_mse'])\n",
        "      # get mean_mse across time periods and pairs for the current choice of hyperparameters\n",
        "      mean_mse = np.mean(total_mse_list)\n",
        "      return mean_mse\n",
        "\n",
        "    # gather results\n",
        "    res = gp_minimize(\n",
        "        func=objective,\n",
        "        dimensions=search_space,\n",
        "        n_calls=30,\n",
        "        n_random_starts=10,\n",
        "        random_state=seed,\n",
        "        verbose=verbose\n",
        "    )\n",
        "\n",
        "    best_params = {k: res.x[i] for i, k in enumerate(param_names)}\n",
        "    best_mean_mse = res.fun\n",
        "\n",
        "    return best_params, best_mean_mse # TODO: we might want to create some plots across timeperiods or something like that, implement a way to look at all results? But first draw what I would want the plot to look like\n",
        "\n",
        "# call func\n",
        "best_params, best_mean_mse = bayesian_optimize_workflow(\n",
        "    execute_workflow_fn=execute_kalman_workflow,\n",
        "    top_pair_count=3,\n",
        "    start_year=2008,\n",
        "    min_end_year=2016,\n",
        "    max_end_year=2016,\n",
        "    search_space=search_space,\n",
        "    seed=SEED,\n",
        "    verbose=True\n",
        ")"
      ]
    },
    {
      "cell_type": "code",
      "source": [
        "best_params, best_mean_mse"
      ],
      "metadata": {
        "id": "yStQGk72rKgD",
        "outputId": "4097c041-3773-4ed7-b3e3-f26e773e26a9",
        "colab": {
          "base_uri": "https://localhost:8080/"
        }
      },
      "id": "yStQGk72rKgD",
      "execution_count": 10,
      "outputs": [
        {
          "output_type": "execute_result",
          "data": {
            "text/plain": [
              "({'delta': 1e-05,\n",
              "  'obs_cov_reg': 3.999999999999999,\n",
              "  'trans_cov_avg': 0.1,\n",
              "  'obs_cov_avg': 0.1},\n",
              " np.float64(3.769194848453971))"
            ]
          },
          "metadata": {},
          "execution_count": 10
        }
      ]
    }
  ],
  "metadata": {
    "language_info": {
      "name": "python"
    },
    "colab": {
      "provenance": []
    },
    "kernelspec": {
      "name": "python3",
      "display_name": "Python 3"
    }
  },
  "nbformat": 4,
  "nbformat_minor": 5
}