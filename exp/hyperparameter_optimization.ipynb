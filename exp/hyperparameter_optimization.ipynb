{
 "cells": [
  {
   "cell_type": "code",
   "execution_count": null,
   "id": "71763103",
   "metadata": {},
   "outputs": [],
   "source": [
    "from skopt import gp_minimize\n",
    "from skopt.space import Real\n",
    "from skopt.utils import use_named_args\n",
    "import numpy as np\n",
    "from typing import Callable, Any, List\n",
    "\n",
    "search_space = [ # note: 'name' is used directly as a kwarg\n",
    "    Real(1e-5, 1e-3, name='delta', prior='log-uniform'),\n",
    "    Real(0.5, 2.0, name='obs_cov_reg', prior='log-uniform'),\n",
    "    Real(0.01, 0.1, name='trans_cov_avg', prior='log-uniform'),\n",
    "    Real(0.1, 1.0, name='obs_cov_avg', prior='log-uniform')\n",
    "]\n",
    "\n",
    "def bayesian_optimize_workflow(execute_workflow_fn: Callable, pairs_timeseries_data: pd.Series, search_space: List[Real]):\n",
    "    param_names = [dim.name for dim in search_space]\n",
    "    \n",
    "    # objective function to minimize\n",
    "    @use_named_args(search_space)\n",
    "    def objective(**params):\n",
    "        output = execute_workflow_fn(\n",
    "            pairs_timeseries_data,\n",
    "            **params,\n",
    "            verbose=False  # for speed\n",
    "        )\n",
    "        val_mse = output['val_mse']\n",
    "        return val_mse\n",
    "\n",
    "    # run Bayesian optimization\n",
    "    res = gp_minimize(\n",
    "        func=objective,\n",
    "        dimensions=search_space,\n",
    "        n_calls=30,           # Number of evaluations of execute_kalman_workflow\n",
    "        n_random_starts=10,   # Start with 10 random points before fitting a GP\n",
    "        random_state=42\n",
    "    )\n",
    "\n",
    "    # print or save best hyperparameters\n",
    "    best_params = {\n",
    "        'delta': res.x[0],\n",
    "        'obs_cov_reg': res.x[1],\n",
    "        'trans_cov_avg': res.x[2],\n",
    "        'obs_cov_avg': res.x[3]\n",
    "    }\n",
    "    print(\"Best hyperparameters:\", best_params)\n",
    "    print(\"Best validation MSE:\", res.fun)\n",
    "    "
   ]
  }
 ],
 "metadata": {
  "language_info": {
   "name": "python"
  }
 },
 "nbformat": 4,
 "nbformat_minor": 5
}
