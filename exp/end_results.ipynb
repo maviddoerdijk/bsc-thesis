{
  "cells": [
    {
      "cell_type": "code",
      "source": [
        "# bunch of the initialization code #\n",
        "\n",
        "# imports to be added\n",
        "import return_score\n",
        "import results_to_latex"
      ],
      "metadata": {
        "id": "cLbgcEYvOQ7d"
      },
      "id": "cLbgcEYvOQ7d",
      "execution_count": null,
      "outputs": []
    },
    {
      "cell_type": "markdown",
      "source": [
        "# 1. Optimization"
      ],
      "metadata": {
        "id": "UVKSebsVNA_g"
      },
      "id": "UVKSebsVNA_g"
    },
    {
      "cell_type": "markdown",
      "source": [
        "## Kalman Filter"
      ],
      "metadata": {
        "id": "ZLrmV3q8NEdu"
      },
      "id": "ZLrmV3q8NEdu"
    },
    {
      "cell_type": "code",
      "source": [
        "search_space_kalman = [ # 'name' is used directly as a kwarg\n",
        "    Real(1e-5, 0.1, name='delta', prior='log-uniform'),\n",
        "    Real(0.5, 4, name='obs_cov_reg', prior='log-uniform'),\n",
        "    Real(0.001, 0.1, name='trans_cov_avg', prior='log-uniform'),\n",
        "    Real(0.1, 10, name='obs_cov_avg', prior='log-uniform')\n",
        "]\n",
        "SEED = 3178749\n",
        "\n",
        "# call func\n",
        "res_kalman = bayesian_optimize_workflow(\n",
        "    execute_workflow_fn=execute_kalman_workflow,\n",
        "    top_pair_count=10,\n",
        "    start_year=2008,\n",
        "    min_end_year=2016,\n",
        "    max_end_year=2021,\n",
        "    search_space=search_space_kalman,\n",
        "    n_calls=30,\n",
        "    seed=SEED,\n",
        "    verbose=True\n",
        ")\n",
        "param_names = [dim.name for dim in search_space_kalman]\n",
        "best_params = {k: res_kalman.x[i] for i, k in enumerate(param_names)}\n",
        "best_mean_mse = res_kalman.fun"
      ],
      "metadata": {
        "id": "3kttGwWjOBY-"
      },
      "id": "3kttGwWjOBY-",
      "execution_count": null,
      "outputs": []
    },
    {
      "cell_type": "markdown",
      "source": [
        "## Transformer"
      ],
      "metadata": {
        "id": "vvMOFJt-NF-x"
      },
      "id": "vvMOFJt-NF-x"
    },
    {
      "cell_type": "code",
      "source": [
        "search_space_transformer = [ # 'name' is used directly as a kwarg\n",
        "    ...\n",
        "]\n",
        "SEED = 3178749\n",
        "\n",
        "# call func\n",
        "res_transformer = bayesian_optimize_workflow(\n",
        "    execute_workflow_fn=execute_transformer_workflow,\n",
        "    top_pair_count=10,\n",
        "    start_year=2008,\n",
        "    min_end_year=2016,\n",
        "    max_end_year=2021,\n",
        "    search_space=search_space_transformer,\n",
        "    n_calls=30,\n",
        "    seed=SEED,\n",
        "    verbose=True\n",
        ")\n",
        "param_names = [dim.name for dim in search_space_transformer]\n",
        "best_params = {k: res_transformer.x[i] for i, k in enumerate(param_names)}\n",
        "best_mean_mse = res_transformer.fun"
      ],
      "metadata": {
        "id": "VdByjLpuOELN"
      },
      "id": "VdByjLpuOELN",
      "execution_count": null,
      "outputs": []
    },
    {
      "cell_type": "markdown",
      "source": [
        "## Time-MoE"
      ],
      "metadata": {
        "id": "PRCwzKNZNHCn"
      },
      "id": "PRCwzKNZNHCn"
    },
    {
      "cell_type": "code",
      "source": [
        "search_space_timemoe = [ # 'name' is used directly as a kwarg\n",
        "    ...\n",
        "]\n",
        "SEED = 3178749\n",
        "\n",
        "# call func\n",
        "res_timemoe = bayesian_optimize_workflow(\n",
        "    execute_workflow_fn=execute_timemoe_workflow,\n",
        "    top_pair_count=10,\n",
        "    start_year=2008,\n",
        "    min_end_year=2016,\n",
        "    max_end_year=2021,\n",
        "    search_space=search_space_timemoe,\n",
        "    n_calls=30,\n",
        "    seed=SEED,\n",
        "    verbose=True\n",
        ")\n",
        "param_names = [dim.name for dim in search_space_timemoe]\n",
        "best_params = {k: res_timemoe.x[i] for i, k in enumerate(param_names)}\n",
        "best_mean_mse = res_timemoe.fun"
      ],
      "metadata": {
        "id": "jJH6vXOOOJPY"
      },
      "id": "jJH6vXOOOJPY",
      "execution_count": null,
      "outputs": []
    },
    {
      "cell_type": "markdown",
      "source": [
        "# 2. Results"
      ],
      "metadata": {
        "id": "M4mUb7cqNCc-"
      },
      "id": "M4mUb7cqNCc-"
    },
    {
      "cell_type": "code",
      "source": [
        "### Unchanged variables ###\n",
        "verbose = True\n",
        "### Unchanged variables ###"
      ],
      "metadata": {
        "id": "IjCS6tjBc4ZQ"
      },
      "id": "IjCS6tjBc4ZQ",
      "execution_count": null,
      "outputs": []
    },
    {
      "cell_type": "markdown",
      "source": [
        "## Kalman Filter"
      ],
      "metadata": {
        "id": "QaGpDNhfNIZb"
      },
      "id": "QaGpDNhfNIZb"
    },
    {
      "cell_type": "code",
      "source": [
        "# Hard code hyperparameters based on results above\n",
        "delta: float =\n",
        "obs_cov_reg: float =\n",
        "trans_cov_avg: float =\n",
        "obs_cov_avg: float =\n",
        "\n",
        "### Year-specific data ###\n",
        "startDateStr = '2008-01-01'\n",
        "end_year = 2022\n",
        "endDateStr = f'{end_year}-12-31'\n",
        "startDateStrTest = f'{end_year}-01-01'\n",
        "endDateStrTest = f'{end_year}-12-31'\n",
        "train_frac, dev_frac = _get_train_dev_frac(startDateStr, endDateStr, startDateStrTest, endDateStrTest)\n",
        "\n",
        "instrumentIdsNASDAQandNYSE = load_cached_etf_tickers()\n",
        "data = gather_data_cached_using_truncate(startDateStr, endDateStr, instrumentIdsNASDAQandNYSE, cache_dir='../src/data/cache')\n",
        "data_close_filtered_1, data_open_filtered_1, data_high_filtered_1, data_low_filtered_1, data_vol_filtered_1, data_original_format_filtered_1 = step_1_filter_remove_nans(data['close'], data['open'], data['high'], data['low'], data['vol'], data)\n",
        "data_close_filtered_2, data_open_filtered_2, data_high_filtered_2, data_low_filtered_2, data_vol_filtered_2, data_original_format_filtered_2 = step_2_filter_liquidity(data_close_filtered_1, data_open_filtered_1, data_high_filtered_1, data_low_filtered_1, data_vol_filtered_1, data_original_format_filtered_1)\n",
        "\n",
        "pairs_data_filtered = gather_pairs_data_cached(startDateStr, endDateStr, instrumentIdsNASDAQandNYSE, cache_dir='../src/data/cache')\n",
        "if pairs_data_filtered is None:\n",
        "  scores, pvalues, pairs = find_cointegrated_pairs(data_original_format_filtered_2)\n",
        "  pairs_data = {key:value[1]  for (key, value) in pairs.items()}\n",
        "  pairs_data = sorted(pairs_data.items(), key=lambda x: x[1])\n",
        "  pairs_data_filtered = filter_pairs_data(pairs_data) # filter based on cointegration in such a way that we can simply pick the highest pair of stocks in the list.\n",
        "  save_pairs_data_filtered(pairs_data_filtered, startDateStr, endDateStr, instrumentIds, cache_dir='../src/data/cache')\n",
        "### Year-specific data ###\n",
        "\n",
        "### OPTIONAL: define worfklow here for debugging ###\n",
        "\n",
        "\n",
        "### OPTIONAL: define worfklow here for debugging ###\n",
        "\n",
        "# Gather results for 2022\n",
        "results_kalman_2022 = []\n",
        "all_outputs_kalman_2022 = []\n",
        "num_results = min(len(pairs_data_filtered), 3)\n",
        "for i in tqdm(range(num_results), desc = \"Gathering [...]\"):\n",
        "    ticker_a, ticker_b = pairs_data_filtered[i][0][0], pairs_data_filtered[i][0][1]\n",
        "    pair_tup_str_current = f\"({ticker_a},{ticker_b})\"\n",
        "    pairs_timeseries_df = combine_pairs_data(data_close_filtered_2, data_open_filtered_2, data_high_filtered_2, data_low_filtered_2, data_vol_filtered_2, ticker_a, ticker_b)\n",
        "    output_returns = get_gt_yoy_returns_test_dev(pairs_timeseries_df, dev_frac, train_frac, look_back=20)\n",
        "    gt_yoy, gt_yoy_for_dev_dataset = output_returns['gt_yoy_test'], output_returns['gt_yoy_dev']\n",
        "    output_model = execute_kalman_workflow(pair_data=pairs_timeseries_df, verbose=verbose, pair_tup_str=pair_tup_str_current, train_frac=train_frac, dev_frac=dev_frac, add_technical_indicators=False)\n",
        "    yoy_str = f\"{output_model['yoy_mean'] * 100:.2f}% +- {output_model['yoy_std'] * 100:.2f}%\"\n",
        "    returns_score = return_score(output_model['yoy_mean'], gt_yoy)\n",
        "    cointegration_score = pairs_data_filtered[i][1]\n",
        "    results_kalman_2022.append((pair_tup_str_current, cointegration_score, output_model['val_mse'], output_model['test_mse'], yoy_str, gt_yoy, returns_score)) # (pair, cointegration_score, val, test, yoy_str, gt_yoy, returns_score)\n",
        "    all_outputs_kalman_2022.append(output_model)"
      ],
      "metadata": {
        "id": "yUt4qE-1NTuL"
      },
      "id": "yUt4qE-1NTuL",
      "execution_count": null,
      "outputs": []
    },
    {
      "cell_type": "code",
      "source": [
        "print(results_to_latex(results))"
      ],
      "metadata": {
        "id": "1Eyl6iZmet__"
      },
      "id": "1Eyl6iZmet__",
      "execution_count": null,
      "outputs": []
    },
    {
      "cell_type": "markdown",
      "source": [
        "## Transformer"
      ],
      "metadata": {
        "id": "K-8VlP2BNJVZ"
      },
      "id": "K-8VlP2BNJVZ"
    },
    {
      "cell_type": "code",
      "source": [
        "# Hard code hyperparameters based on results above\n",
        "## optimized hyperparams: architecture ##\n",
        "d_model: int =\n",
        "nhead: int =\n",
        "num_layers: int =\n",
        "dropout: float =\n",
        "## optimized hyperparams: architecture ##\n",
        "## optimized hyperparams: learning algorithm ##\n",
        "learning_rate: float =\n",
        "min_learning_rate: float =\n",
        "warmup_ratio: float =\n",
        "weight_decay: float =\n",
        "batch_size: int =\n",
        "adam_beta1: float =\n",
        "adam_beta2: float =\n",
        "adam_epsilon: float =\n",
        "## optimized hyperparams: learning algorithm ##"
      ],
      "metadata": {
        "id": "Slysw0LBNlol"
      },
      "id": "Slysw0LBNlol",
      "execution_count": null,
      "outputs": []
    },
    {
      "cell_type": "markdown",
      "source": [
        "## Time-MoE"
      ],
      "metadata": {
        "id": "O23--vU4NKL6"
      },
      "id": "O23--vU4NKL6"
    },
    {
      "cell_type": "code",
      "source": [
        "# Hard code hyperparameters based on results above\n",
        "## optimized hyperparams: learning algorithm ##\n",
        "learning_rate: float =\n",
        "min_learning_rate: float =\n",
        "warmup_ratio: float =\n",
        "weight_decay: float =\n",
        "batch_size: int =\n",
        "adam_beta1: float =\n",
        "adam_beta2: float =\n",
        "adam_epsilon: float =\n",
        "## optimized hyperparams: learning algorithm ##"
      ],
      "metadata": {
        "id": "7fAed6iSN6kS"
      },
      "id": "7fAed6iSN6kS",
      "execution_count": null,
      "outputs": []
    }
  ],
  "metadata": {
    "kernelspec": {
      "display_name": "Python 3",
      "language": "python",
      "name": "python3"
    },
    "language_info": {
      "codemirror_mode": {
        "name": "ipython",
        "version": 3
      },
      "file_extension": ".py",
      "mimetype": "text/x-python",
      "name": "python",
      "nbconvert_exporter": "python",
      "pygments_lexer": "ipython3",
      "version": "3.9.13"
    },
    "colab": {
      "provenance": []
    }
  },
  "nbformat": 4,
  "nbformat_minor": 5
}