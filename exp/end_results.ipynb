{
  "cells": [
    {
      "cell_type": "code",
      "source": [
        "# bunch of the initialization code #"
      ],
      "metadata": {
        "id": "cLbgcEYvOQ7d"
      },
      "id": "cLbgcEYvOQ7d",
      "execution_count": null,
      "outputs": []
    },
    {
      "cell_type": "markdown",
      "source": [
        "# 1. Optimization"
      ],
      "metadata": {
        "id": "UVKSebsVNA_g"
      },
      "id": "UVKSebsVNA_g"
    },
    {
      "cell_type": "markdown",
      "source": [
        "## Kalman Filter"
      ],
      "metadata": {
        "id": "ZLrmV3q8NEdu"
      },
      "id": "ZLrmV3q8NEdu"
    },
    {
      "cell_type": "code",
      "source": [
        "search_space = [ # 'name' is used directly as a kwarg\n",
        "    Real(1e-5, 0.1, name='delta', prior='log-uniform'),\n",
        "    Real(0.5, 4, name='obs_cov_reg', prior='log-uniform'),\n",
        "    Real(0.001, 0.1, name='trans_cov_avg', prior='log-uniform'),\n",
        "    Real(0.1, 10, name='obs_cov_avg', prior='log-uniform')\n",
        "]\n",
        "SEED = 3178749\n",
        "\n",
        "# call func\n",
        "res = bayesian_optimize_workflow(\n",
        "    execute_workflow_fn=execute_kalman_workflow,\n",
        "    top_pair_count=10,\n",
        "    start_year=2008,\n",
        "    min_end_year=2016,\n",
        "    max_end_year=2021,\n",
        "    search_space=search_space,\n",
        "    n_calls=30,\n",
        "    seed=SEED,\n",
        "    verbose=True\n",
        ")\n",
        "param_names = [dim.name for dim in search_space]\n",
        "best_params = {k: res.x[i] for i, k in enumerate(param_names)}\n",
        "best_mean_mse = res.fun"
      ],
      "metadata": {
        "id": "3kttGwWjOBY-"
      },
      "id": "3kttGwWjOBY-",
      "execution_count": null,
      "outputs": []
    },
    {
      "cell_type": "markdown",
      "source": [
        "## Transformer"
      ],
      "metadata": {
        "id": "vvMOFJt-NF-x"
      },
      "id": "vvMOFJt-NF-x"
    },
    {
      "cell_type": "code",
      "source": [
        "search_space = [ # 'name' is used directly as a kwarg\n",
        "    ...\n",
        "]\n",
        "SEED = 3178749\n",
        "\n",
        "# call func\n",
        "res = bayesian_optimize_workflow(\n",
        "    execute_workflow_fn=execute_transformer_workflow,\n",
        "    top_pair_count=10,\n",
        "    start_year=2008,\n",
        "    min_end_year=2016,\n",
        "    max_end_year=2021,\n",
        "    search_space=search_space,\n",
        "    n_calls=30,\n",
        "    seed=SEED,\n",
        "    verbose=True\n",
        ")\n",
        "param_names = [dim.name for dim in search_space]\n",
        "best_params = {k: res.x[i] for i, k in enumerate(param_names)}\n",
        "best_mean_mse = res.fun"
      ],
      "metadata": {
        "id": "VdByjLpuOELN"
      },
      "id": "VdByjLpuOELN",
      "execution_count": null,
      "outputs": []
    },
    {
      "cell_type": "markdown",
      "source": [
        "## Time-MoE"
      ],
      "metadata": {
        "id": "PRCwzKNZNHCn"
      },
      "id": "PRCwzKNZNHCn"
    },
    {
      "cell_type": "code",
      "source": [
        "search_space = [ # 'name' is used directly as a kwarg\n",
        "    ...\n",
        "]\n",
        "SEED = 3178749\n",
        "\n",
        "# call func\n",
        "res = bayesian_optimize_workflow(\n",
        "    execute_workflow_fn=execute_timemoe_workflow,\n",
        "    top_pair_count=10,\n",
        "    start_year=2008,\n",
        "    min_end_year=2016,\n",
        "    max_end_year=2021,\n",
        "    search_space=search_space,\n",
        "    n_calls=30,\n",
        "    seed=SEED,\n",
        "    verbose=True\n",
        ")\n",
        "param_names = [dim.name for dim in search_space]\n",
        "best_params = {k: res.x[i] for i, k in enumerate(param_names)}\n",
        "best_mean_mse = res.fun"
      ],
      "metadata": {
        "id": "jJH6vXOOOJPY"
      },
      "id": "jJH6vXOOOJPY",
      "execution_count": null,
      "outputs": []
    },
    {
      "cell_type": "markdown",
      "source": [
        "# 2. Results"
      ],
      "metadata": {
        "id": "M4mUb7cqNCc-"
      },
      "id": "M4mUb7cqNCc-"
    },
    {
      "cell_type": "markdown",
      "source": [
        "## Kalman Filter"
      ],
      "metadata": {
        "id": "QaGpDNhfNIZb"
      },
      "id": "QaGpDNhfNIZb"
    },
    {
      "cell_type": "code",
      "source": [
        "# Hard code hyperparameters based on results above\n",
        "delta: float =\n",
        "obs_cov_reg: float =\n",
        "trans_cov_avg: float =\n",
        "obs_cov_avg: float ="
      ],
      "metadata": {
        "id": "yUt4qE-1NTuL"
      },
      "id": "yUt4qE-1NTuL",
      "execution_count": null,
      "outputs": []
    },
    {
      "cell_type": "markdown",
      "source": [
        "## Transformer"
      ],
      "metadata": {
        "id": "K-8VlP2BNJVZ"
      },
      "id": "K-8VlP2BNJVZ"
    },
    {
      "cell_type": "code",
      "source": [
        "# Hard code hyperparameters based on results above\n",
        "## optimized hyperparams: architecture ##\n",
        "d_model: int =\n",
        "nhead: int =\n",
        "num_layers: int =\n",
        "dropout: float =\n",
        "## optimized hyperparams: architecture ##\n",
        "## optimized hyperparams: learning algorithm ##\n",
        "learning_rate: float =\n",
        "min_learning_rate: float =\n",
        "warmup_ratio: float =\n",
        "weight_decay: float =\n",
        "batch_size: int =\n",
        "adam_beta1: float =\n",
        "adam_beta2: float =\n",
        "adam_epsilon: float =\n",
        "## optimized hyperparams: learning algorithm ##"
      ],
      "metadata": {
        "id": "Slysw0LBNlol"
      },
      "id": "Slysw0LBNlol",
      "execution_count": null,
      "outputs": []
    },
    {
      "cell_type": "markdown",
      "source": [
        "## Time-MoE"
      ],
      "metadata": {
        "id": "O23--vU4NKL6"
      },
      "id": "O23--vU4NKL6"
    },
    {
      "cell_type": "code",
      "source": [
        "# Hard code hyperparameters based on results above\n",
        "## optimized hyperparams: learning algorithm ##\n",
        "learning_rate: float =\n",
        "min_learning_rate: float =\n",
        "warmup_ratio: float =\n",
        "weight_decay: float =\n",
        "batch_size: int =\n",
        "adam_beta1: float =\n",
        "adam_beta2: float =\n",
        "adam_epsilon: float =\n",
        "## optimized hyperparams: learning algorithm ##"
      ],
      "metadata": {
        "id": "7fAed6iSN6kS"
      },
      "id": "7fAed6iSN6kS",
      "execution_count": null,
      "outputs": []
    }
  ],
  "metadata": {
    "kernelspec": {
      "display_name": "Python 3",
      "language": "python",
      "name": "python3"
    },
    "language_info": {
      "codemirror_mode": {
        "name": "ipython",
        "version": 3
      },
      "file_extension": ".py",
      "mimetype": "text/x-python",
      "name": "python",
      "nbconvert_exporter": "python",
      "pygments_lexer": "ipython3",
      "version": "3.9.13"
    },
    "colab": {
      "provenance": []
    }
  },
  "nbformat": 4,
  "nbformat_minor": 5
}