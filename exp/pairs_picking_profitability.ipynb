{
 "cells": [
  {
   "cell_type": "code",
   "execution_count": null,
   "id": "fef046bd",
   "metadata": {},
   "outputs": [],
   "source": [
    "# Goal: Compare profitability of random pairs picking to currently used method.\n",
    "\n",
    "# startDateStr = '2008-01-01'\n",
    "# end_year = 2024\n",
    "# endDateStr = f'{end_year}-12-31'\n",
    "# startDateStrTest = f'{end_year}-01-01' # possibly change to 07-01 (option 1; dev data in end_year - 1 (e.g. 2023), test data in end_year (e.g. 2024) // option 2; dev data 1st half end_year, test data 2nd half end_year)\n",
    "# endDateStrTest = f'{end_year}-12-31'\n",
    "# train_frac, dev_frac = _get_train_dev_frac(startDateStr, endDateStr, startDateStrTest, endDateStrTest)\n",
    "\n",
    "# instrumentIdsNASDAQandNYSE = load_cached_etf_tickers()\n",
    "# data = gather_data_cached_using_truncate(startDateStr, endDateStr, instrumentIdsNASDAQandNYSE, cache_dir='../src/data/cache')\n",
    "# data_close_filtered_1, data_open_filtered_1, data_high_filtered_1, data_low_filtered_1, data_vol_filtered_1, data_original_format_filtered_1 = step_1_filter_remove_nans(data['close'], data['open'], data['high'], data['low'], data['vol'], data)\n",
    "# data_close_filtered_2, data_open_filtered_2, data_high_filtered_2, data_low_filtered_2, data_vol_filtered_2, data_original_format_filtered_2 = step_2_filter_liquidity(data_close_filtered_1, data_open_filtered_1, data_high_filtered_1, data_low_filtered_1, data_vol_filtered_1, data_original_format_filtered_1)\n",
    "\n",
    "# pairs_data_filtered = gather_pairs_data_cached(startDateStr, endDateStr, instrumentIdsNASDAQandNYSE, cache_dir='../src/data/cache')\n",
    "# if pairs_data_filtered is None:\n",
    "#   scores, pvalues, pairs = find_cointegrated_pairs(data_original_format_filtered_2)\n",
    "#   pairs_data = {key:value[1]  for (key, value) in pairs.items()}\n",
    "#   pairs_data = sorted(pairs_data.items(), key=lambda x: x[1])\n",
    "#   pairs_data_filtered = filter_pairs_data(pairs_data) # filter based on cointegration in such a way that we can simply pick the highest pair of stocks in the list.\n",
    "\n",
    "\n",
    "\n",
    "# for i in tqdm(range(num_results), desc = \"Gathering [...]\"):\n",
    "#     ticker_a, ticker_b = pairs_data_filtered[i][0][0], pairs_data_filtered[i][0][1]\n",
    "#     pair_tup_str_current = f\"({ticker_a},{ticker_b})\"\n",
    "#     pairs_timeseries_df = combine_pairs_data(data_close_filtered_2, data_open_filtered_2, data_high_filtered_2, data_low_filtered_2, data_vol_filtered_2, ticker_a, ticker_b)\n",
    "#     output_returns = get_gt_yoy_returns_test_dev(pairs_timeseries_df, dev_frac, train_frac, look_back=20)\n",
    "#     gt_yoy, gt_yoy_for_dev_dataset = output_returns['gt_yoy_test'], output_returns['gt_yoy_dev']\n",
    "print(\"Hello world\")"
   ]
  }
 ],
 "metadata": {
  "language_info": {
   "name": "python"
  }
 },
 "nbformat": 4,
 "nbformat_minor": 5
}
