{
  "cells": [
    {
      "cell_type": "code",
      "execution_count": 77,
      "id": "9b23e1b3",
      "metadata": {
        "colab": {
          "base_uri": "https://localhost:8080/"
        },
        "id": "9b23e1b3",
        "outputId": "ca6952c7-29e4-45ed-9884-f9b383f79dfb"
      },
      "outputs": [
        {
          "output_type": "stream",
          "name": "stdout",
          "text": [
            "/content\n",
            "Reading package lists... Done\n",
            "Building dependency tree... Done\n",
            "Reading state information... Done\n",
            "git-lfs is already the newest version (3.0.2-1ubuntu0.3).\n",
            "0 upgraded, 0 newly installed, 0 to remove and 35 not upgraded.\n",
            "Git LFS initialized.\n",
            "Cloning into 'bsc-thesis'...\n",
            "remote: Enumerating objects: 916, done.\u001b[K\n",
            "remote: Counting objects: 100% (56/56), done.\u001b[K\n",
            "remote: Compressing objects: 100% (27/27), done.\u001b[K\n",
            "remote: Total 916 (delta 39), reused 33 (delta 29), pack-reused 860 (from 2)\u001b[K\n",
            "Receiving objects: 100% (916/916), 28.17 MiB | 16.02 MiB/s, done.\n",
            "Resolving deltas: 100% (523/523), done.\n",
            "Filtering content: 100% (32/32), 1.75 GiB | 67.64 MiB/s, done.\n",
            "/content/bsc-thesis/src\n",
            "\u001b[0m\u001b[01;34mbacktesting\u001b[0m/  \u001b[01;34mdata\u001b[0m/      main.ipynb  \u001b[01;34mmodels\u001b[0m/         \u001b[01;34mutils\u001b[0m/\n",
            "\u001b[01;34mconfig\u001b[0m/       \u001b[01;34mexternal\u001b[0m/  main.py     \u001b[01;34mpreprocessing\u001b[0m/\n"
          ]
        }
      ],
      "source": [
        "# if \"preprocessing\" folder in current folders -> cd back to original folder\n",
        "%cd /content\n",
        "import os\n",
        "if os.path.exists(\"bsc-thesis\"):\n",
        "  # if bsc-thesis folder already exists; completely remove\n",
        "  !rm -rf bsc-thesis\n",
        "\n",
        "# this makes sure cached files are readily available (for calling e.g. `gather_data_cached`)\n",
        "!apt-get install git-lfs\n",
        "!git lfs install\n",
        "\n",
        "# cloning repo\n",
        "branch = \"main\"\n",
        "!git clone --branch $branch https://github.com/maviddoerdijk/bsc-thesis.git\n",
        "\n",
        "# moving into project dir\n",
        "%cd bsc-thesis/src\n",
        "%ls"
      ]
    },
    {
      "cell_type": "code",
      "source": [
        "!pip install numpy==1.26.3 # necessary for bug fix\n",
        "!pip install peft==0.10.0\n",
        "!pip install ta\n",
        "!pip install pykalman\n",
        "!pip install PyWavelets\n",
        "!pip install curl-cffi\n",
        "\n",
        "## specific packages for time moe\n",
        "# need a different version of accelerate because of bug \"ImportError: cannot import name 'clear_device_cache' from 'accelerate.utils.memory'\"\n",
        "!pip install -U accelerate==0.32.0 # standard google colab version is 1.6.0 (apr 1, 2025), but for stability, we use time moe's 0.28.0 (mar 12, 2024)\n",
        "!pip install transformers==4.40.1 # standard google colab version is 4.51.3, but time moe repo requirements mention/prefer 4.40.1 for stability\n",
        "!pip install datasets==2.18.0\n",
        "FLASH_ATTN = False # set to true if using this\n",
        "if FLASH_ATTN:\n",
        "  !pip install flash-attn==2.6.3 # optional but recommended by the repo"
      ],
      "metadata": {
        "colab": {
          "base_uri": "https://localhost:8080/"
        },
        "id": "1q47HT9rNldy",
        "outputId": "aa627a0b-95c0-4320-edb1-b38ad95cdff7"
      },
      "id": "1q47HT9rNldy",
      "execution_count": 78,
      "outputs": [
        {
          "output_type": "stream",
          "name": "stdout",
          "text": [
            "Requirement already satisfied: numpy==1.26.3 in /usr/local/lib/python3.11/dist-packages (1.26.3)\n",
            "Requirement already satisfied: peft==0.10.0 in /usr/local/lib/python3.11/dist-packages (0.10.0)\n",
            "Requirement already satisfied: numpy>=1.17 in /usr/local/lib/python3.11/dist-packages (from peft==0.10.0) (1.26.3)\n",
            "Requirement already satisfied: packaging>=20.0 in /usr/local/lib/python3.11/dist-packages (from peft==0.10.0) (24.2)\n",
            "Requirement already satisfied: psutil in /usr/local/lib/python3.11/dist-packages (from peft==0.10.0) (5.9.5)\n",
            "Requirement already satisfied: pyyaml in /usr/local/lib/python3.11/dist-packages (from peft==0.10.0) (6.0.2)\n",
            "Requirement already satisfied: torch>=1.13.0 in /usr/local/lib/python3.11/dist-packages (from peft==0.10.0) (2.6.0+cu124)\n",
            "Requirement already satisfied: transformers in /usr/local/lib/python3.11/dist-packages (from peft==0.10.0) (4.40.1)\n",
            "Requirement already satisfied: tqdm in /usr/local/lib/python3.11/dist-packages (from peft==0.10.0) (4.67.1)\n",
            "Requirement already satisfied: accelerate>=0.21.0 in /usr/local/lib/python3.11/dist-packages (from peft==0.10.0) (0.32.0)\n",
            "Requirement already satisfied: safetensors in /usr/local/lib/python3.11/dist-packages (from peft==0.10.0) (0.5.3)\n",
            "Requirement already satisfied: huggingface-hub>=0.17.0 in /usr/local/lib/python3.11/dist-packages (from peft==0.10.0) (0.31.4)\n",
            "Requirement already satisfied: filelock in /usr/local/lib/python3.11/dist-packages (from huggingface-hub>=0.17.0->peft==0.10.0) (3.18.0)\n",
            "Requirement already satisfied: fsspec>=2023.5.0 in /usr/local/lib/python3.11/dist-packages (from huggingface-hub>=0.17.0->peft==0.10.0) (2024.2.0)\n",
            "Requirement already satisfied: requests in /usr/local/lib/python3.11/dist-packages (from huggingface-hub>=0.17.0->peft==0.10.0) (2.32.3)\n",
            "Requirement already satisfied: typing-extensions>=3.7.4.3 in /usr/local/lib/python3.11/dist-packages (from huggingface-hub>=0.17.0->peft==0.10.0) (4.13.2)\n",
            "Requirement already satisfied: networkx in /usr/local/lib/python3.11/dist-packages (from torch>=1.13.0->peft==0.10.0) (3.4.2)\n",
            "Requirement already satisfied: jinja2 in /usr/local/lib/python3.11/dist-packages (from torch>=1.13.0->peft==0.10.0) (3.1.6)\n",
            "Requirement already satisfied: nvidia-cuda-nvrtc-cu12==12.4.127 in /usr/local/lib/python3.11/dist-packages (from torch>=1.13.0->peft==0.10.0) (12.4.127)\n",
            "Requirement already satisfied: nvidia-cuda-runtime-cu12==12.4.127 in /usr/local/lib/python3.11/dist-packages (from torch>=1.13.0->peft==0.10.0) (12.4.127)\n",
            "Requirement already satisfied: nvidia-cuda-cupti-cu12==12.4.127 in /usr/local/lib/python3.11/dist-packages (from torch>=1.13.0->peft==0.10.0) (12.4.127)\n",
            "Requirement already satisfied: nvidia-cudnn-cu12==9.1.0.70 in /usr/local/lib/python3.11/dist-packages (from torch>=1.13.0->peft==0.10.0) (9.1.0.70)\n",
            "Requirement already satisfied: nvidia-cublas-cu12==12.4.5.8 in /usr/local/lib/python3.11/dist-packages (from torch>=1.13.0->peft==0.10.0) (12.4.5.8)\n",
            "Requirement already satisfied: nvidia-cufft-cu12==11.2.1.3 in /usr/local/lib/python3.11/dist-packages (from torch>=1.13.0->peft==0.10.0) (11.2.1.3)\n",
            "Requirement already satisfied: nvidia-curand-cu12==10.3.5.147 in /usr/local/lib/python3.11/dist-packages (from torch>=1.13.0->peft==0.10.0) (10.3.5.147)\n",
            "Requirement already satisfied: nvidia-cusolver-cu12==11.6.1.9 in /usr/local/lib/python3.11/dist-packages (from torch>=1.13.0->peft==0.10.0) (11.6.1.9)\n",
            "Requirement already satisfied: nvidia-cusparse-cu12==12.3.1.170 in /usr/local/lib/python3.11/dist-packages (from torch>=1.13.0->peft==0.10.0) (12.3.1.170)\n",
            "Requirement already satisfied: nvidia-cusparselt-cu12==0.6.2 in /usr/local/lib/python3.11/dist-packages (from torch>=1.13.0->peft==0.10.0) (0.6.2)\n",
            "Requirement already satisfied: nvidia-nccl-cu12==2.21.5 in /usr/local/lib/python3.11/dist-packages (from torch>=1.13.0->peft==0.10.0) (2.21.5)\n",
            "Requirement already satisfied: nvidia-nvtx-cu12==12.4.127 in /usr/local/lib/python3.11/dist-packages (from torch>=1.13.0->peft==0.10.0) (12.4.127)\n",
            "Requirement already satisfied: nvidia-nvjitlink-cu12==12.4.127 in /usr/local/lib/python3.11/dist-packages (from torch>=1.13.0->peft==0.10.0) (12.4.127)\n",
            "Requirement already satisfied: triton==3.2.0 in /usr/local/lib/python3.11/dist-packages (from torch>=1.13.0->peft==0.10.0) (3.2.0)\n",
            "Requirement already satisfied: sympy==1.13.1 in /usr/local/lib/python3.11/dist-packages (from torch>=1.13.0->peft==0.10.0) (1.13.1)\n",
            "Requirement already satisfied: mpmath<1.4,>=1.1.0 in /usr/local/lib/python3.11/dist-packages (from sympy==1.13.1->torch>=1.13.0->peft==0.10.0) (1.3.0)\n",
            "Requirement already satisfied: regex!=2019.12.17 in /usr/local/lib/python3.11/dist-packages (from transformers->peft==0.10.0) (2024.11.6)\n",
            "Requirement already satisfied: tokenizers<0.20,>=0.19 in /usr/local/lib/python3.11/dist-packages (from transformers->peft==0.10.0) (0.19.1)\n",
            "Requirement already satisfied: MarkupSafe>=2.0 in /usr/local/lib/python3.11/dist-packages (from jinja2->torch>=1.13.0->peft==0.10.0) (3.0.2)\n",
            "Requirement already satisfied: charset-normalizer<4,>=2 in /usr/local/lib/python3.11/dist-packages (from requests->huggingface-hub>=0.17.0->peft==0.10.0) (3.4.2)\n",
            "Requirement already satisfied: idna<4,>=2.5 in /usr/local/lib/python3.11/dist-packages (from requests->huggingface-hub>=0.17.0->peft==0.10.0) (3.10)\n",
            "Requirement already satisfied: urllib3<3,>=1.21.1 in /usr/local/lib/python3.11/dist-packages (from requests->huggingface-hub>=0.17.0->peft==0.10.0) (2.4.0)\n",
            "Requirement already satisfied: certifi>=2017.4.17 in /usr/local/lib/python3.11/dist-packages (from requests->huggingface-hub>=0.17.0->peft==0.10.0) (2025.4.26)\n",
            "Requirement already satisfied: ta in /usr/local/lib/python3.11/dist-packages (0.11.0)\n",
            "Requirement already satisfied: numpy in /usr/local/lib/python3.11/dist-packages (from ta) (1.26.3)\n",
            "Requirement already satisfied: pandas in /usr/local/lib/python3.11/dist-packages (from ta) (2.2.2)\n",
            "Requirement already satisfied: python-dateutil>=2.8.2 in /usr/local/lib/python3.11/dist-packages (from pandas->ta) (2.9.0.post0)\n",
            "Requirement already satisfied: pytz>=2020.1 in /usr/local/lib/python3.11/dist-packages (from pandas->ta) (2025.2)\n",
            "Requirement already satisfied: tzdata>=2022.7 in /usr/local/lib/python3.11/dist-packages (from pandas->ta) (2025.2)\n",
            "Requirement already satisfied: six>=1.5 in /usr/local/lib/python3.11/dist-packages (from python-dateutil>=2.8.2->pandas->ta) (1.17.0)\n",
            "Requirement already satisfied: pykalman in /usr/local/lib/python3.11/dist-packages (0.10.1)\n",
            "Requirement already satisfied: numpy<3 in /usr/local/lib/python3.11/dist-packages (from pykalman) (1.26.3)\n",
            "Requirement already satisfied: packaging in /usr/local/lib/python3.11/dist-packages (from pykalman) (24.2)\n",
            "Requirement already satisfied: scikit-base<0.13.0 in /usr/local/lib/python3.11/dist-packages (from pykalman) (0.12.3)\n",
            "Requirement already satisfied: scipy<2.0.0 in /usr/local/lib/python3.11/dist-packages (from pykalman) (1.15.3)\n",
            "Requirement already satisfied: PyWavelets in /usr/local/lib/python3.11/dist-packages (1.8.0)\n",
            "Requirement already satisfied: numpy<3,>=1.23 in /usr/local/lib/python3.11/dist-packages (from PyWavelets) (1.26.3)\n",
            "Requirement already satisfied: curl-cffi in /usr/local/lib/python3.11/dist-packages (0.11.1)\n",
            "Requirement already satisfied: cffi>=1.12.0 in /usr/local/lib/python3.11/dist-packages (from curl-cffi) (1.17.1)\n",
            "Requirement already satisfied: certifi>=2024.2.2 in /usr/local/lib/python3.11/dist-packages (from curl-cffi) (2025.4.26)\n",
            "Requirement already satisfied: pycparser in /usr/local/lib/python3.11/dist-packages (from cffi>=1.12.0->curl-cffi) (2.22)\n",
            "Requirement already satisfied: accelerate==0.32.0 in /usr/local/lib/python3.11/dist-packages (0.32.0)\n",
            "Requirement already satisfied: numpy<2.0.0,>=1.17 in /usr/local/lib/python3.11/dist-packages (from accelerate==0.32.0) (1.26.3)\n",
            "Requirement already satisfied: packaging>=20.0 in /usr/local/lib/python3.11/dist-packages (from accelerate==0.32.0) (24.2)\n",
            "Requirement already satisfied: psutil in /usr/local/lib/python3.11/dist-packages (from accelerate==0.32.0) (5.9.5)\n",
            "Requirement already satisfied: pyyaml in /usr/local/lib/python3.11/dist-packages (from accelerate==0.32.0) (6.0.2)\n",
            "Requirement already satisfied: torch>=1.10.0 in /usr/local/lib/python3.11/dist-packages (from accelerate==0.32.0) (2.6.0+cu124)\n",
            "Requirement already satisfied: huggingface-hub in /usr/local/lib/python3.11/dist-packages (from accelerate==0.32.0) (0.31.4)\n",
            "Requirement already satisfied: safetensors>=0.3.1 in /usr/local/lib/python3.11/dist-packages (from accelerate==0.32.0) (0.5.3)\n",
            "Requirement already satisfied: filelock in /usr/local/lib/python3.11/dist-packages (from torch>=1.10.0->accelerate==0.32.0) (3.18.0)\n",
            "Requirement already satisfied: typing-extensions>=4.10.0 in /usr/local/lib/python3.11/dist-packages (from torch>=1.10.0->accelerate==0.32.0) (4.13.2)\n",
            "Requirement already satisfied: networkx in /usr/local/lib/python3.11/dist-packages (from torch>=1.10.0->accelerate==0.32.0) (3.4.2)\n",
            "Requirement already satisfied: jinja2 in /usr/local/lib/python3.11/dist-packages (from torch>=1.10.0->accelerate==0.32.0) (3.1.6)\n",
            "Requirement already satisfied: fsspec in /usr/local/lib/python3.11/dist-packages (from torch>=1.10.0->accelerate==0.32.0) (2024.2.0)\n",
            "Requirement already satisfied: nvidia-cuda-nvrtc-cu12==12.4.127 in /usr/local/lib/python3.11/dist-packages (from torch>=1.10.0->accelerate==0.32.0) (12.4.127)\n",
            "Requirement already satisfied: nvidia-cuda-runtime-cu12==12.4.127 in /usr/local/lib/python3.11/dist-packages (from torch>=1.10.0->accelerate==0.32.0) (12.4.127)\n",
            "Requirement already satisfied: nvidia-cuda-cupti-cu12==12.4.127 in /usr/local/lib/python3.11/dist-packages (from torch>=1.10.0->accelerate==0.32.0) (12.4.127)\n",
            "Requirement already satisfied: nvidia-cudnn-cu12==9.1.0.70 in /usr/local/lib/python3.11/dist-packages (from torch>=1.10.0->accelerate==0.32.0) (9.1.0.70)\n",
            "Requirement already satisfied: nvidia-cublas-cu12==12.4.5.8 in /usr/local/lib/python3.11/dist-packages (from torch>=1.10.0->accelerate==0.32.0) (12.4.5.8)\n",
            "Requirement already satisfied: nvidia-cufft-cu12==11.2.1.3 in /usr/local/lib/python3.11/dist-packages (from torch>=1.10.0->accelerate==0.32.0) (11.2.1.3)\n",
            "Requirement already satisfied: nvidia-curand-cu12==10.3.5.147 in /usr/local/lib/python3.11/dist-packages (from torch>=1.10.0->accelerate==0.32.0) (10.3.5.147)\n",
            "Requirement already satisfied: nvidia-cusolver-cu12==11.6.1.9 in /usr/local/lib/python3.11/dist-packages (from torch>=1.10.0->accelerate==0.32.0) (11.6.1.9)\n",
            "Requirement already satisfied: nvidia-cusparse-cu12==12.3.1.170 in /usr/local/lib/python3.11/dist-packages (from torch>=1.10.0->accelerate==0.32.0) (12.3.1.170)\n",
            "Requirement already satisfied: nvidia-cusparselt-cu12==0.6.2 in /usr/local/lib/python3.11/dist-packages (from torch>=1.10.0->accelerate==0.32.0) (0.6.2)\n",
            "Requirement already satisfied: nvidia-nccl-cu12==2.21.5 in /usr/local/lib/python3.11/dist-packages (from torch>=1.10.0->accelerate==0.32.0) (2.21.5)\n",
            "Requirement already satisfied: nvidia-nvtx-cu12==12.4.127 in /usr/local/lib/python3.11/dist-packages (from torch>=1.10.0->accelerate==0.32.0) (12.4.127)\n",
            "Requirement already satisfied: nvidia-nvjitlink-cu12==12.4.127 in /usr/local/lib/python3.11/dist-packages (from torch>=1.10.0->accelerate==0.32.0) (12.4.127)\n",
            "Requirement already satisfied: triton==3.2.0 in /usr/local/lib/python3.11/dist-packages (from torch>=1.10.0->accelerate==0.32.0) (3.2.0)\n",
            "Requirement already satisfied: sympy==1.13.1 in /usr/local/lib/python3.11/dist-packages (from torch>=1.10.0->accelerate==0.32.0) (1.13.1)\n",
            "Requirement already satisfied: mpmath<1.4,>=1.1.0 in /usr/local/lib/python3.11/dist-packages (from sympy==1.13.1->torch>=1.10.0->accelerate==0.32.0) (1.3.0)\n",
            "Requirement already satisfied: requests in /usr/local/lib/python3.11/dist-packages (from huggingface-hub->accelerate==0.32.0) (2.32.3)\n",
            "Requirement already satisfied: tqdm>=4.42.1 in /usr/local/lib/python3.11/dist-packages (from huggingface-hub->accelerate==0.32.0) (4.67.1)\n",
            "Requirement already satisfied: MarkupSafe>=2.0 in /usr/local/lib/python3.11/dist-packages (from jinja2->torch>=1.10.0->accelerate==0.32.0) (3.0.2)\n",
            "Requirement already satisfied: charset-normalizer<4,>=2 in /usr/local/lib/python3.11/dist-packages (from requests->huggingface-hub->accelerate==0.32.0) (3.4.2)\n",
            "Requirement already satisfied: idna<4,>=2.5 in /usr/local/lib/python3.11/dist-packages (from requests->huggingface-hub->accelerate==0.32.0) (3.10)\n",
            "Requirement already satisfied: urllib3<3,>=1.21.1 in /usr/local/lib/python3.11/dist-packages (from requests->huggingface-hub->accelerate==0.32.0) (2.4.0)\n",
            "Requirement already satisfied: certifi>=2017.4.17 in /usr/local/lib/python3.11/dist-packages (from requests->huggingface-hub->accelerate==0.32.0) (2025.4.26)\n",
            "Requirement already satisfied: transformers==4.40.1 in /usr/local/lib/python3.11/dist-packages (4.40.1)\n",
            "Requirement already satisfied: filelock in /usr/local/lib/python3.11/dist-packages (from transformers==4.40.1) (3.18.0)\n",
            "Requirement already satisfied: huggingface-hub<1.0,>=0.19.3 in /usr/local/lib/python3.11/dist-packages (from transformers==4.40.1) (0.31.4)\n",
            "Requirement already satisfied: numpy>=1.17 in /usr/local/lib/python3.11/dist-packages (from transformers==4.40.1) (1.26.3)\n",
            "Requirement already satisfied: packaging>=20.0 in /usr/local/lib/python3.11/dist-packages (from transformers==4.40.1) (24.2)\n",
            "Requirement already satisfied: pyyaml>=5.1 in /usr/local/lib/python3.11/dist-packages (from transformers==4.40.1) (6.0.2)\n",
            "Requirement already satisfied: regex!=2019.12.17 in /usr/local/lib/python3.11/dist-packages (from transformers==4.40.1) (2024.11.6)\n",
            "Requirement already satisfied: requests in /usr/local/lib/python3.11/dist-packages (from transformers==4.40.1) (2.32.3)\n",
            "Requirement already satisfied: tokenizers<0.20,>=0.19 in /usr/local/lib/python3.11/dist-packages (from transformers==4.40.1) (0.19.1)\n",
            "Requirement already satisfied: safetensors>=0.4.1 in /usr/local/lib/python3.11/dist-packages (from transformers==4.40.1) (0.5.3)\n",
            "Requirement already satisfied: tqdm>=4.27 in /usr/local/lib/python3.11/dist-packages (from transformers==4.40.1) (4.67.1)\n",
            "Requirement already satisfied: fsspec>=2023.5.0 in /usr/local/lib/python3.11/dist-packages (from huggingface-hub<1.0,>=0.19.3->transformers==4.40.1) (2024.2.0)\n",
            "Requirement already satisfied: typing-extensions>=3.7.4.3 in /usr/local/lib/python3.11/dist-packages (from huggingface-hub<1.0,>=0.19.3->transformers==4.40.1) (4.13.2)\n",
            "Requirement already satisfied: charset-normalizer<4,>=2 in /usr/local/lib/python3.11/dist-packages (from requests->transformers==4.40.1) (3.4.2)\n",
            "Requirement already satisfied: idna<4,>=2.5 in /usr/local/lib/python3.11/dist-packages (from requests->transformers==4.40.1) (3.10)\n",
            "Requirement already satisfied: urllib3<3,>=1.21.1 in /usr/local/lib/python3.11/dist-packages (from requests->transformers==4.40.1) (2.4.0)\n",
            "Requirement already satisfied: certifi>=2017.4.17 in /usr/local/lib/python3.11/dist-packages (from requests->transformers==4.40.1) (2025.4.26)\n",
            "Requirement already satisfied: datasets==2.18.0 in /usr/local/lib/python3.11/dist-packages (2.18.0)\n",
            "Requirement already satisfied: filelock in /usr/local/lib/python3.11/dist-packages (from datasets==2.18.0) (3.18.0)\n",
            "Requirement already satisfied: numpy>=1.17 in /usr/local/lib/python3.11/dist-packages (from datasets==2.18.0) (1.26.3)\n",
            "Requirement already satisfied: pyarrow>=12.0.0 in /usr/local/lib/python3.11/dist-packages (from datasets==2.18.0) (18.1.0)\n",
            "Requirement already satisfied: pyarrow-hotfix in /usr/local/lib/python3.11/dist-packages (from datasets==2.18.0) (0.7)\n",
            "Requirement already satisfied: dill<0.3.9,>=0.3.0 in /usr/local/lib/python3.11/dist-packages (from datasets==2.18.0) (0.3.7)\n",
            "Requirement already satisfied: pandas in /usr/local/lib/python3.11/dist-packages (from datasets==2.18.0) (2.2.2)\n",
            "Requirement already satisfied: requests>=2.19.0 in /usr/local/lib/python3.11/dist-packages (from datasets==2.18.0) (2.32.3)\n",
            "Requirement already satisfied: tqdm>=4.62.1 in /usr/local/lib/python3.11/dist-packages (from datasets==2.18.0) (4.67.1)\n",
            "Requirement already satisfied: xxhash in /usr/local/lib/python3.11/dist-packages (from datasets==2.18.0) (3.5.0)\n",
            "Requirement already satisfied: multiprocess in /usr/local/lib/python3.11/dist-packages (from datasets==2.18.0) (0.70.15)\n",
            "Requirement already satisfied: fsspec<=2024.2.0,>=2023.1.0 in /usr/local/lib/python3.11/dist-packages (from fsspec[http]<=2024.2.0,>=2023.1.0->datasets==2.18.0) (2024.2.0)\n",
            "Requirement already satisfied: aiohttp in /usr/local/lib/python3.11/dist-packages (from datasets==2.18.0) (3.11.15)\n",
            "Requirement already satisfied: huggingface-hub>=0.19.4 in /usr/local/lib/python3.11/dist-packages (from datasets==2.18.0) (0.31.4)\n",
            "Requirement already satisfied: packaging in /usr/local/lib/python3.11/dist-packages (from datasets==2.18.0) (24.2)\n",
            "Requirement already satisfied: pyyaml>=5.1 in /usr/local/lib/python3.11/dist-packages (from datasets==2.18.0) (6.0.2)\n",
            "Requirement already satisfied: aiohappyeyeballs>=2.3.0 in /usr/local/lib/python3.11/dist-packages (from aiohttp->datasets==2.18.0) (2.6.1)\n",
            "Requirement already satisfied: aiosignal>=1.1.2 in /usr/local/lib/python3.11/dist-packages (from aiohttp->datasets==2.18.0) (1.3.2)\n",
            "Requirement already satisfied: attrs>=17.3.0 in /usr/local/lib/python3.11/dist-packages (from aiohttp->datasets==2.18.0) (25.3.0)\n",
            "Requirement already satisfied: frozenlist>=1.1.1 in /usr/local/lib/python3.11/dist-packages (from aiohttp->datasets==2.18.0) (1.6.0)\n",
            "Requirement already satisfied: multidict<7.0,>=4.5 in /usr/local/lib/python3.11/dist-packages (from aiohttp->datasets==2.18.0) (6.4.4)\n",
            "Requirement already satisfied: propcache>=0.2.0 in /usr/local/lib/python3.11/dist-packages (from aiohttp->datasets==2.18.0) (0.3.1)\n",
            "Requirement already satisfied: yarl<2.0,>=1.17.0 in /usr/local/lib/python3.11/dist-packages (from aiohttp->datasets==2.18.0) (1.20.0)\n",
            "Requirement already satisfied: typing-extensions>=3.7.4.3 in /usr/local/lib/python3.11/dist-packages (from huggingface-hub>=0.19.4->datasets==2.18.0) (4.13.2)\n",
            "Requirement already satisfied: charset-normalizer<4,>=2 in /usr/local/lib/python3.11/dist-packages (from requests>=2.19.0->datasets==2.18.0) (3.4.2)\n",
            "Requirement already satisfied: idna<4,>=2.5 in /usr/local/lib/python3.11/dist-packages (from requests>=2.19.0->datasets==2.18.0) (3.10)\n",
            "Requirement already satisfied: urllib3<3,>=1.21.1 in /usr/local/lib/python3.11/dist-packages (from requests>=2.19.0->datasets==2.18.0) (2.4.0)\n",
            "Requirement already satisfied: certifi>=2017.4.17 in /usr/local/lib/python3.11/dist-packages (from requests>=2.19.0->datasets==2.18.0) (2025.4.26)\n",
            "Requirement already satisfied: python-dateutil>=2.8.2 in /usr/local/lib/python3.11/dist-packages (from pandas->datasets==2.18.0) (2.9.0.post0)\n",
            "Requirement already satisfied: pytz>=2020.1 in /usr/local/lib/python3.11/dist-packages (from pandas->datasets==2.18.0) (2025.2)\n",
            "Requirement already satisfied: tzdata>=2022.7 in /usr/local/lib/python3.11/dist-packages (from pandas->datasets==2.18.0) (2025.2)\n",
            "Requirement already satisfied: six>=1.5 in /usr/local/lib/python3.11/dist-packages (from python-dateutil>=2.8.2->pandas->datasets==2.18.0) (1.17.0)\n"
          ]
        }
      ]
    },
    {
      "cell_type": "code",
      "source": [],
      "metadata": {
        "id": "pJe_lvEqSX0c"
      },
      "id": "pJe_lvEqSX0c",
      "execution_count": null,
      "outputs": []
    },
    {
      "cell_type": "code",
      "source": [
        "# Module imports\n",
        "import pandas as pd\n",
        "import numpy as np\n",
        "from typing import Optional, Callable, Dict, Any\n",
        "from sklearn.preprocessing import MinMaxScaler\n",
        "from matplotlib import pyplot as plt\n",
        "import torch\n",
        "from torch.utils.data import Dataset, DataLoader\n",
        "from torch.optim import AdamW\n",
        "from torch.utils.data import DataLoader\n",
        "from tqdm.auto import tqdm # note: using tqdm.auto usually automatically chooses the right import based on whether you're in CLI, notebook or somewhere else\n",
        "import torch.nn as nn\n",
        "import itertools\n",
        "from pykalman import KalmanFilter\n",
        "import ast\n",
        "import re\n",
        "from tabulate import tabulate\n",
        "from datetime import datetime\n",
        "\n",
        "# Custom Imports\n",
        "from models.statistical_models import create_dataset, default_normalize, rmse_metric, acc_metric, kalman_filter_average, kalman_filter_regression, kalman_filter_regression_multivariate\n",
        "from preprocessing.cointegration import find_cointegrated_pairs\n",
        "from preprocessing.data_preprocessing import filter_pairs_data\n",
        "from preprocessing.technical_indicators import combine_pairs_data\n",
        "from preprocessing.wavelet_denoising import wav_den\n",
        "from preprocessing.filters import step_1_filter_remove_nans, step_2_filter_liquidity\n",
        "from backtesting.trading_strategy import trade, get_gt_yoy_returns_test_dev\n",
        "from backtesting.utils import calculate_return_uncertainty\n",
        "from utils.visualization import plot_return_uncertainty, plot_comparison\n",
        "from utils.helpers import _get_train_dev_frac\n",
        "\n",
        "# important for time moe\n",
        "import wandb\n",
        "wandb.login()\n",
        "\n",
        "## workflow imports\n",
        "from models.statistical_models import execute_kalman_workflow\n",
        "from models.transformer_model import execute_transformer_workflow\n",
        "# from models.time_moe_model import execute_timemoe_workflow\n",
        "\n",
        "## specific caching imports (should be changed in case you want to gather data live)\n",
        "from data.scraper import load_cached_etf_tickers\n",
        "from data.data_collection_cache import gather_data_cached, _get_filename, gather_pairs_data_cached, gather_data_cached_using_truncate\n",
        "\n",
        "# Any other changes to be made throughout the entire notebook\n",
        "plt.style.use('seaborn-v0_8')\n",
        "\n",
        "inspect_func = False\n",
        "if inspect_func:\n",
        "  import inspect\n",
        "  print(inspect.getsource(trade)) # in this case, check whether the new trade function  is imported"
      ],
      "metadata": {
        "colab": {
          "base_uri": "https://localhost:8080/"
        },
        "id": "xRMkz4Q0NnMa",
        "outputId": "beecd40c-cf68-4861-f31e-93494d2b3120"
      },
      "id": "xRMkz4Q0NnMa",
      "execution_count": 79,
      "outputs": [
        {
          "output_type": "stream",
          "name": "stderr",
          "text": [
            "\u001b[34m\u001b[1mwandb\u001b[0m: \u001b[33mWARNING\u001b[0m Calling wandb.login() after wandb.init() has no effect.\n"
          ]
        }
      ]
    },
    {
      "cell_type": "code",
      "source": [
        "startDateStr = '2008-01-01'\n",
        "end_year = 2024\n",
        "endDateStr = f'{end_year}-12-31'\n",
        "startDateStrTest = f'{end_year}-01-01' # possibly change to 07-01 (option 1; dev data in end_year - 1 (e.g. 2023), test data in end_year (e.g. 2024) // option 2; dev data 1st half end_year, test data 2nd half end_year)\n",
        "endDateStrTest = f'{end_year}-12-31'\n",
        "train_frac, dev_frac = _get_train_dev_frac(startDateStr, endDateStr, startDateStrTest, endDateStrTest)\n",
        "\n",
        "instrumentIdsNASDAQandNYSE = load_cached_etf_tickers()\n",
        "data = gather_data_cached_using_truncate(startDateStr, endDateStr, instrumentIdsNASDAQandNYSE, cache_dir='../src/data/cache')\n",
        "data_close_filtered_1, data_open_filtered_1, data_high_filtered_1, data_low_filtered_1, data_vol_filtered_1, data_original_format_filtered_1 = step_1_filter_remove_nans(data['close'], data['open'], data['high'], data['low'], data['vol'], data)\n",
        "data_close_filtered_2, data_open_filtered_2, data_high_filtered_2, data_low_filtered_2, data_vol_filtered_2, data_original_format_filtered_2 = step_2_filter_liquidity(data_close_filtered_1, data_open_filtered_1, data_high_filtered_1, data_low_filtered_1, data_vol_filtered_1, data_original_format_filtered_1)\n",
        "\n",
        "pairs_data_filtered = gather_pairs_data_cached(startDateStr, endDateStr, instrumentIdsNASDAQandNYSE, cache_dir='../src/data/cache')\n",
        "if pairs_data_filtered is None:\n",
        "  scores, pvalues, pairs = find_cointegrated_pairs(data_original_format_filtered_2)\n",
        "  pairs_data = {key:value[1]  for (key, value) in pairs.items()}\n",
        "  pairs_data = sorted(pairs_data.items(), key=lambda x: x[1])\n",
        "  pairs_data_filtered = filter_pairs_data(pairs_data) # filter based on cointegration in such a way that we can simply pick the highest pair of stocks in the list.\n"
      ],
      "metadata": {
        "id": "Lj3fPI-KNtWb"
      },
      "id": "Lj3fPI-KNtWb",
      "execution_count": 80,
      "outputs": []
    },
    {
      "cell_type": "markdown",
      "source": [],
      "metadata": {
        "id": "bBFa54vKSRq6"
      },
      "id": "bBFa54vKSRq6"
    },
    {
      "cell_type": "code",
      "source": [
        "import pandas as pd\n",
        "import numpy as np\n",
        "import os\n",
        "import json\n",
        "from typing import Dict, Any\n",
        "import torch\n",
        "from torch.utils.data import DataLoader, TensorDataset\n",
        "from sklearn.metrics import mean_squared_error\n",
        "from transformers import AutoModelForCausalLM, AutoConfig\n",
        "import random\n",
        "\n",
        "# custom imports\n",
        "from utils.visualization import plot_return_uncertainty, plot_comparison\n",
        "from external.time_moe_repo.training_wrapper import train_time_moe\n",
        "from backtesting.trading_strategy import trade\n",
        "from backtesting.utils import calculate_return_uncertainty\n",
        "\n",
        "## semi-custom\n",
        "from external.time_moe_repo.time_moe.models.modeling_time_moe import TimeMoeForPrediction"
      ],
      "metadata": {
        "id": "iQ-lZQF8P8c8"
      },
      "id": "iQ-lZQF8P8c8",
      "execution_count": 81,
      "outputs": []
    },
    {
      "cell_type": "code",
      "source": [
        "### Time MoE Workflow Code ###\n",
        "def execute_timemoe_workflow(\n",
        "  pairs_timeseries: pd.DataFrame,\n",
        "  target_col: str = \"Spread_Close\",\n",
        "  burn_in: int = 30, # we remove the first 30 elements, because the largest window used for technical indicators is\n",
        "  train_frac: float = 0.90,\n",
        "  dev_frac: float = 0.05,   # remaining part is test\n",
        "  seed: int = 3178749, # for reproducibility, my student number\n",
        "  look_back: int = 20,\n",
        "  batch_size: int = 8,\n",
        "  verbose: bool = True,\n",
        "  load_finetuned = True,\n",
        "  result_parent_dir: str = \"data/results\",\n",
        "  filename_base: str = \"data_begindate_enddate_hash.pkl\",\n",
        "  pair_tup_str: str = \"(?,?)\", # Used for showing which tuple was used in plots, example: \"(QQQ, SPY)\"\n",
        "  return_predicted_spread: bool = False\n",
        "):\n",
        "  # Set seeds\n",
        "  torch.manual_seed(seed)\n",
        "  np.random.seed(seed)\n",
        "  random.seed(seed)\n",
        "\n",
        "  # For GPU (if used)\n",
        "  if torch.cuda.is_available():\n",
        "      torch.cuda.manual_seed(seed)\n",
        "      torch.cuda.manual_seed_all(seed)\n",
        "      torch.backends.cudnn.deterministic = True\n",
        "      torch.backends.cudnn.benchmark = False  # Might slow down, but ensures determinism\n",
        "\n",
        "  if not target_col in pairs_timeseries.columns:\n",
        "    raise KeyError(f\"pairs_timeseries must contain {target_col}\")\n",
        "  FLASH_ATTN = False\n",
        "\n",
        "  # burn the first 30 elements\n",
        "  pairs_timeseries_burned = pairs_timeseries.iloc[burn_in:].copy()\n",
        "\n",
        "  total_len = len(pairs_timeseries_burned)\n",
        "  train_size = int(total_len * train_frac)\n",
        "  dev_size   = int(total_len * dev_frac)\n",
        "  test_size  = total_len - train_size - dev_size # not used, but for clarity\n",
        "\n",
        "  # Standard version of the Time-MoE model can only take in univariate time series. Therefore, we will train only on the target_col\n",
        "  # TODO: Convert to using multivariate again, a certain type of \"multivariate\" processing is possible according to the original time-moe paper, but not the version we would want to use. It is not possible to use many different features to enhance the prediction of the target column\n",
        "  pairs_timeseries_burned_univariate = pairs_timeseries_burned[target_col]\n",
        "\n",
        "  train = pairs_timeseries_burned_univariate[:train_size]\n",
        "  dev   = pairs_timeseries_burned_univariate[train_size:train_size+dev_size] # aka validation\n",
        "  test  = pairs_timeseries_burned_univariate[train_size+dev_size:]\n",
        "\n",
        "  train_multivariate = pairs_timeseries_burned.iloc[:train_size]\n",
        "  dev_multivariate = pairs_timeseries_burned.iloc[train_size:train_size+dev_size]\n",
        "  test_multivariate = pairs_timeseries_burned.iloc[train_size+dev_size:]\n",
        "\n",
        "\n",
        "  if verbose:\n",
        "      print(f\"Split sizes — train: {len(train)}, dev: {len(dev)}, test: {len(test)}\")\n",
        "\n",
        "  DEVICE = \"cpu\" #  \"cuda\" if torch.cuda.is_available() else \"cpu\"\n",
        "\n",
        "  def create_sequences(series):\n",
        "      # series: pd.Series\n",
        "      X_raw = torch.tensor(series.values, dtype=torch.float32)\n",
        "      mean = X_raw.mean()\n",
        "      std = X_raw.std()\n",
        "      X_scaled = (X_raw - mean) / (std + 1e-8)\n",
        "      return X_raw, X_scaled, X_raw, X_scaled, mean, std\n",
        "\n",
        "  def create_sequences_rolling(series, look_back):\n",
        "      X = []\n",
        "      y = []\n",
        "      for i in range(len(series) - look_back):\n",
        "          seq = series.iloc[i:i+look_back].values\n",
        "          target = series.iloc[i+look_back]\n",
        "          X.append(seq)\n",
        "          y.append(target) # TODO: check whether target really is Spread_Close, or whether it is S1_close or S2_close\n",
        "\n",
        "      X = torch.tensor(X, dtype=torch.float32)\n",
        "      y = torch.tensor(y, dtype=torch.float32)\n",
        "\n",
        "      X = X.to(DEVICE)\n",
        "      y = y.to(DEVICE)\n",
        "\n",
        "      # normalize\n",
        "      mean = X.mean(dim=-1, keepdim=True)\n",
        "      std = X.std(dim=-1, keepdim=True)\n",
        "      X_scaled = (X - mean) / (std + 1e-8)\n",
        "      # For y, broadcast mean/std to match shape\n",
        "      y_scaled = (y - mean.squeeze(-1)) / (std.squeeze(-1) + 1e-8)\n",
        "\n",
        "      y = torch.tensor(y, dtype=torch.float32)\n",
        "      y = y.to(DEVICE)\n",
        "      return X, X_scaled, y, y_scaled, mean, std\n",
        "\n",
        "  devX_raw, devX_scaled, devY_raw, devY_scaled, dev_mean, dev_std = create_sequences(dev)# , look_back)\n",
        "  trainX_raw, trainX_scaled, trainY_raw, trainY_scaled, train_mean, train_std = create_sequences(train) #, look_back)\n",
        "  testX_raw, testX_scaled, testY_raw, testY_scaled, test_mean, test_std = create_sequences(test) #, look_back)\n",
        "\n",
        "  ## use rolling sequences not for training, but still for inferencing dev and test ##\n",
        "  devX_raw_rolling, devX_scaled_rolling, devY_raw_rolling, devY_scaled_rolling, dev_mean_rolling, dev_std_rolling = create_sequences_rolling(dev, look_back)\n",
        "  testX_raw_rolling, testX_scaled_rolling, testY_raw_rolling, testY_scaled_rolling, test_mean_rolling, test_std_rolling = create_sequences_rolling(test, look_back)\n",
        "\n",
        "  dev_ds_rolling = TensorDataset(devX_scaled_rolling, devY_scaled_rolling) # goal of TensorDataset class: loading and processing dataset lazily\n",
        "  test_ds_rolling = TensorDataset(testX_scaled_rolling, testY_scaled_rolling)\n",
        "\n",
        "  dev_loader_rolling = DataLoader(dev_ds_rolling, batch_size=batch_size, shuffle=False)\n",
        "  test_loader_rolling = DataLoader(test_ds_rolling, batch_size=batch_size, shuffle=False)\n",
        "  ## use rolling sequences not for training, but still for inferencing dev and test ##\n",
        "\n",
        "  if verbose:\n",
        "    print(f\"devX_raw Shape: {devX_raw.shape}\") # entire devX_raw has that shape before dataset and dev_loader logic\n",
        "\n",
        "  dev_ds = TensorDataset(devX_scaled, devY_scaled) # goal of TensorDataset class: loading and processing dataset lazily\n",
        "  train_ds = TensorDataset(trainX_scaled, trainY_scaled)\n",
        "  test_ds = TensorDataset(testX_scaled, testY_scaled)\n",
        "\n",
        "  dev_loader = DataLoader(dev_ds, batch_size=batch_size, shuffle=False) # DataLoader takes care of shuffling/sampling/weigthed sampling, batching, using multiprocessing to load the data, use pinned memory etc. (source; https://discuss.pytorch.org/t/what-do-tensordataset-and-dataloader-do/107017)\n",
        "  train_loader = DataLoader(train_ds, batch_size=batch_size, shuffle=True)\n",
        "  test_loader = DataLoader(test_ds, batch_size=batch_size, shuffle=False)\n",
        "\n",
        "  if verbose:\n",
        "    print(f\"dev_loader tensor Shape: {next(iter(dev_loader))[0].shape}, with a total of {len(dev_loader)} batches\") # a single tensor in dev_loader now has shape [batch_size, look_back] as expected\n",
        "\n",
        "  if load_finetuned:\n",
        "    ## Training (only train in the case where we actually also want to load finetuned :D )\n",
        "    # save contents of trainX_scaled to jsonl using _get_filename {\"sequence\": [1.7994326779272853, 2.554412431241829,\n",
        "    filename_jsonl = filename_base.replace(\".pkl\", \".jsonl\")\n",
        "    filepath_parent = os.path.join(\"data\", \"datasets\")\n",
        "    os.makedirs(filepath_parent, exist_ok=True)\n",
        "    filepath_jsonl = os.path.join(filepath_parent, filename_jsonl)\n",
        "    with open(filepath_jsonl, \"w\") as f: # Train scaled (improves results according to paper, and empirical tests have also shown this)\n",
        "        json_line = json.dumps({\"sequence\": trainX_scaled.tolist()})\n",
        "        f.write(json_line + \"\\n\")\n",
        "\n",
        "    train_time_moe(\n",
        "        data_path=filepath_jsonl,\n",
        "        dataloader_num_workers=2\n",
        "    ) # after this, model is saved to logs/time_moe as model.safetensors (400+ MB)\n",
        "    model_dir = \"logs/time_moe\"\n",
        "    config = AutoConfig.from_pretrained(model_dir, trust_remote_code=True)\n",
        "    model = TimeMoeForPrediction.from_pretrained(model_dir, config=config, torch_dtype=torch.float32)\n",
        "    model.eval()\n",
        "  else:\n",
        "    model = AutoModelForCausalLM.from_pretrained(\n",
        "        'Maple728/TimeMoE-50M',\n",
        "        device_map=DEVICE,\n",
        "        trust_remote_code=True,\n",
        "    )\n",
        "    if FLASH_ATTN: # if FLASH_ATTN, we assume the flash-attention module is installed, and adapt the model to use that\n",
        "      model = AutoModelForCausalLM.from_pretrained('Maple728/TimeMoE-50M', device_map=\"auto\", attn_implementation='flash_attention_2', trust_remote_code=True)\n",
        "\n",
        "  prediction_length = 1 # TODO: rather than hardcoding prediction length, make a strategy where we can pick and choose different prediction lengths, and see what is affected by this (returns, std dev, ..)\n",
        "\n",
        "  # forecast in batches from dev dataset\n",
        "  all_predictions = []\n",
        "  for i, batch in enumerate(test_loader_rolling):\n",
        "    inputs = batch[0] # is devX_scaled, for now [1] will return error, later [1] will return devY_scaled :D\n",
        "\n",
        "    yvals = batch[1]\n",
        "    # means = batch[2]\n",
        "    # stds = batch[3]\n",
        "\n",
        "    output = model.generate(inputs, max_new_tokens=prediction_length)  # shape is [batch_size, look_back + prediction_length]\n",
        "    normed_predictions = output[:, -prediction_length:]\n",
        "\n",
        "    # from returned test_mean and test_std, slice the appropriate slices from the series\n",
        "    input_size_current = inputs.size()\n",
        "    batch_size_current = input_size_current[0]\n",
        "    local_means = test_mean_rolling[batch_size*i : batch_size*i + batch_size_current]\n",
        "    local_stds = test_std_rolling[batch_size*i : batch_size*i + batch_size_current]\n",
        "\n",
        "    preds = normed_predictions * local_stds + local_means\n",
        "    all_predictions.append(preds)\n",
        "\n",
        "  # Concatenate all predictions\n",
        "  predictions = torch.cat(all_predictions, dim=0)\n",
        "  predictions = predictions.squeeze(-1)\n",
        "  predictions = predictions.detach().numpy()\n",
        "\n",
        "  # Also get dev/val predictions\n",
        "  dev_predictions = []\n",
        "  for i, batch in enumerate(dev_loader_rolling):\n",
        "    inputs = batch[0]\n",
        "\n",
        "    output = model.generate(inputs, max_new_tokens=prediction_length)  # shape is [batch_size, look_back + prediction_length]\n",
        "    normed_predictions = output[:, -prediction_length:]\n",
        "    input_size_current = inputs.size()\n",
        "    batch_size_current = input_size_current[0]\n",
        "    # get dev rather than test\n",
        "    local_means = dev_mean_rolling[batch_size*i : batch_size*i + batch_size_current]\n",
        "    local_stds = dev_std_rolling[batch_size*i : batch_size*i + batch_size_current]\n",
        "\n",
        "    preds = normed_predictions * local_stds + local_means\n",
        "    dev_predictions.append(preds)\n",
        "  dev_predictions = torch.cat(dev_predictions, dim=0)\n",
        "  dev_predictions = dev_predictions.squeeze(-1)\n",
        "  dev_predictions = dev_predictions.detach().numpy()\n",
        "\n",
        "  ## Trading\n",
        "  test_s1_shortened = test_multivariate['S1_close'].iloc[look_back:]\n",
        "  test_s2_shortened = test_multivariate['S2_close'].iloc[look_back:] # use multivariate versions, so we can still access cols like 'S1_close' and 'S2_close'\n",
        "  test_index_shortened = test_multivariate.index[look_back:] # officially doesn't really matter whether to use `test_multivariate` or `test`, but do it like this for consistency\n",
        "  forecast_test_shortened_series = pd.Series(predictions, index=test_index_shortened)\n",
        "  gt_test_shortened_series = pd.Series(testY_raw.numpy()[look_back:], index=test_index_shortened)\n",
        "\n",
        "  gt_returns = trade(\n",
        "      S1 = test_s1_shortened,\n",
        "      S2 = test_s2_shortened,\n",
        "      spread = gt_test_shortened_series,\n",
        "      window_long = 30,\n",
        "      window_short = 5,\n",
        "      position_threshold = 1.0,\n",
        "      clearing_threshold = 0.5\n",
        "  )\n",
        "  gt_yoy = ((gt_returns[-1] / gt_returns[0])**(365 / len(gt_returns)) - 1)\n",
        "\n",
        "  ## Trading: Mean YoY\n",
        "  min_position = 2.00\n",
        "  max_position = 4.00\n",
        "  min_clearing = 0.30\n",
        "  max_clearing = 0.70\n",
        "  position_thresholds = np.linspace(min_position, max_position, num=10)\n",
        "  clearing_thresholds = np.linspace(min_clearing, max_clearing, num=10)\n",
        "  yoy_mean, yoy_std = calculate_return_uncertainty(test_s1_shortened, test_s2_shortened, forecast_test_shortened_series, position_thresholds=position_thresholds, clearing_thresholds=clearing_thresholds)\n",
        "\n",
        "  if load_finetuned:\n",
        "    current_result_dir = filename_base.replace(\".pkl\", \"_timemoe\")\n",
        "  else:\n",
        "    current_result_dir = filename_base.replace(\".pkl\", \"_timemoe_only_pretrained\")\n",
        "  result_dir = os.path.join(result_parent_dir, current_result_dir)\n",
        "  if not os.path.exists(result_dir):\n",
        "      os.makedirs(result_dir)\n",
        "\n",
        "  ### Plotting #####\n",
        "  # (no train/val loss plot, as Time-MoE repo did not support plots or even supplying val losses during training)\n",
        "  train_val_loss_filename = None\n",
        "\n",
        "  # 1. yoy returns\n",
        "  yoy_returns_filename = plot_return_uncertainty(test_s1_shortened, test_s2_shortened, forecast_test_shortened_series, test_index_shortened, look_back, position_thresholds=position_thresholds, clearing_thresholds=clearing_thresholds, verbose=verbose, result_dir=result_dir, filename_base=filename_base)\n",
        "\n",
        "  # 2. predicted vs actual spread plot\n",
        "  predicted_vs_actual_spread_filename = plot_comparison(gt_test_shortened_series, forecast_test_shortened_series, test_index_shortened, workflow_type=\"Time-MoE\", pair_tup_str=pair_tup_str, verbose=verbose, result_dir=result_dir, filename_base=filename_base)\n",
        "\n",
        "  ### Plotting #####\n",
        "\n",
        "  dev_mse = mean_squared_error(devY_raw.numpy()[look_back:], dev_predictions)\n",
        "  test_mse = mean_squared_error(testY_raw.numpy()[look_back:], predictions)\n",
        "  dev_variance = devY_raw.numpy()[look_back:].var()\n",
        "  dev_nmse = dev_mse / dev_variance if dev_variance != 0 else float('inf')\n",
        "  test_variance = testY_raw.numpy()[look_back:].var()\n",
        "  test_nmse = test_mse / test_variance if test_variance != 0 else float('inf')\n",
        "\n",
        "  # if return_predicted_spread:\n",
        "  #   return forecast_test_shortened_series, test_nmse\n",
        "\n",
        "  plot_filenames = {\n",
        "      \"yoy_returns\": yoy_returns_filename,\n",
        "      \"predicted_vs_actual_spread\": predicted_vs_actual_spread_filename,\n",
        "      \"train_val_loss\": train_val_loss_filename\n",
        "  }\n",
        "\n",
        "  output: Dict[str, Any] = dict(\n",
        "      val_mse=dev_nmse,\n",
        "      test_mse=test_nmse,\n",
        "      yoy_mean=yoy_mean,\n",
        "      yoy_std=yoy_std,\n",
        "      gt_yoy=gt_yoy,\n",
        "      result_parent_dir=result_parent_dir,\n",
        "      plot_filenames=plot_filenames\n",
        "  )\n",
        "\n",
        "  results_str = f\"\"\"\n",
        "  Validation MSE: {output['val_mse']}\n",
        "  Test MSE: {output['test_mse']}\n",
        "  YOY Returns: {output['yoy_mean'] * 100:.2f}%\n",
        "  YOY Std: +- {output['yoy_std'] * 100:.2f}%\n",
        "  GT Yoy: {output['gt_yoy'] * 100:.2f}%\n",
        "  Plot filepath parent dir: {output['result_parent_dir']}\n",
        "  Plot filenames: {output['plot_filenames']}\n",
        "  \"\"\"\n",
        "\n",
        "  with open(os.path.join(result_dir, \"results.txt\"), \"w\") as f:\n",
        "      f.write(results_str)\n",
        "  if verbose:\n",
        "    print(results_str)\n",
        "  return output\n",
        "\n",
        "### Time MoE Workflow Code ###"
      ],
      "metadata": {
        "id": "YmLeDAGeN4qh"
      },
      "id": "YmLeDAGeN4qh",
      "execution_count": 113,
      "outputs": []
    },
    {
      "cell_type": "code",
      "source": [
        "verbose = True\n",
        "\n",
        "def return_score(yoy_mean, gt_yoy):\n",
        "  if gt_yoy == -1:\n",
        "    return -1\n",
        "  return round((1 + yoy_mean) / (1 + gt_yoy), 2)\n",
        "\n",
        "def results_to_latex(results):\n",
        "    headers = [\n",
        "        \"Pair\",\n",
        "        \"Cointegration Score\",\n",
        "        \"val MSE\",\n",
        "        \"test MSE\",\n",
        "        \"YoY Returns (std)\",\n",
        "        \"\\makecell{Theoretical Return\\\\\\\\Under Perfect\\\\\\\\Information}\",\n",
        "        \"Return Score\"\n",
        "    ]\n",
        "    # Latex column alignment: l for first col, c for others\n",
        "    align_str = \"l\" + \"c\" * (len(headers)-1)\n",
        "    # Begin building latex table string\n",
        "    lines = []\n",
        "    lines.append(\"\\\\begin{table}[h]\")\n",
        "    lines.append(\"\\\\centering\")\n",
        "    lines.append(\"\\\\small\")\n",
        "    lines.append(\"\\\\resizebox{\\\\textwidth}{!}{\")\n",
        "    lines.append(\"\\\\begin{tabular}{\" + align_str + \"}\")\n",
        "    lines.append(\"\\\\toprule\")\n",
        "    lines.append(\" & \".join(headers) + \" \\\\\\\\\")\n",
        "    lines.append(\"\\\\midrule\")\n",
        "    for idx, row in enumerate(results):\n",
        "        row_out = []\n",
        "        for col_idx, cell in enumerate(row):\n",
        "            # Add numbering for pairs\n",
        "            if col_idx == 0:\n",
        "                cell = f\"{idx+1}. {cell}\"\n",
        "            # Format cointegration score as scientific in latex\n",
        "            elif col_idx == 1 and isinstance(cell, float):\n",
        "                base, exp = f\"{cell:.2e}\".split(\"e\")\n",
        "                exp = int(exp)\n",
        "                cell = f\"${base}\\\\times 10^{{{exp}}}$\"\n",
        "            # Theoretical return: show as percent if small, otherwise keep as float\n",
        "            elif col_idx == 5 and isinstance(cell, float):\n",
        "                cell = f\"{cell*100:.2f}\\\\%\"\n",
        "            # Format YoY Returns (std) as $a\\% \\pm b\\%$\n",
        "            elif col_idx == 4 and isinstance(cell, str) and \"%\" in cell:\n",
        "                # Convert e.g. '-82.63% +- 30.20%' to latex: $-82.63\\% \\pm 30.20\\%$\n",
        "                cell = cell.replace(\"%\", \"\\\\%\")\n",
        "                cell = cell.replace(\"+-\", \"\\\\pm\")\n",
        "                cell = f\"${cell}$\"\n",
        "            elif col_idx == 6 and isinstance(cell, float):\n",
        "              cell = f\"{cell:.2f}\"\n",
        "            # General float formatting\n",
        "            elif isinstance(cell, float):\n",
        "                cell = f\"{cell:.5f}\"\n",
        "            # Replace % in any string field (needed for e.g. theoretical return if not float)\n",
        "            elif isinstance(cell, str) and \"%\" in cell:\n",
        "                cell = cell.replace(\"%\", \"\\\\%\")\n",
        "            row_out.append(cell)\n",
        "        # Join and add row\n",
        "        lines.append(\" & \".join(str(x) for x in row_out) + \" \\\\\\\\\")\n",
        "    lines.append(\"\\\\bottomrule\")\n",
        "    lines.append(\"\\\\end{tabular}\")\n",
        "    lines.append(\"}\")\n",
        "    lines.append(\"\\\\caption{Model performance and return statistics for all tested pairs.}\")\n",
        "    lines.append(\"\\\\end{table}\")\n",
        "    return \"\\n\".join(lines)\n",
        "\n",
        "results_timemoe = []\n",
        "num_results = min(len(pairs_data_filtered), 30)\n",
        "for i in tqdm(range(num_results), desc = \"Gathering [...]\"):\n",
        "    ticker_a, ticker_b = pairs_data_filtered[i][0][0], pairs_data_filtered[i][0][1]\n",
        "    pair_tup_str_current = f\"({ticker_a},{ticker_b})\"\n",
        "    pairs_timeseries_df = combine_pairs_data(data_close_filtered_2, data_open_filtered_2, data_high_filtered_2, data_low_filtered_2, data_vol_filtered_2, ticker_a, ticker_b)\n",
        "    output_returns = get_gt_yoy_returns_test_dev(pairs_timeseries_df, dev_frac, train_frac, look_back=20)\n",
        "    gt_yoy, gt_yoy_for_dev_dataset = output_returns['gt_yoy_test'], output_returns['gt_yoy_dev']\n",
        "\n",
        "    # model-specific call\n",
        "    output_model = execute_timemoe_workflow(pairs_timeseries_df, verbose=verbose, result_parent_dir=\"data/results\", filename_base=_get_filename(startDateStr, endDateStr, instrumentIdsNASDAQandNYSE), pair_tup_str=f\"({ticker_a},{ticker_b})\", load_finetuned=True, train_frac=train_frac, dev_frac=dev_frac)\n",
        "\n",
        "    yoy_str = f\"{output_model['yoy_mean'] * 100:.2f}% +- {output_model['yoy_std'] * 100:.2f}%\"\n",
        "    returns_score = return_score(output_model['yoy_mean'], gt_yoy)\n",
        "    cointegration_score = pairs_data_filtered[i][1]\n",
        "    results_timemoe.append((pair_tup_str_current, cointegration_score, output_model['val_mse'], output_model['test_mse'], yoy_str, gt_yoy, returns_score)) # (pair, val, test, yoy_str, gt_yoy, returns_score)\n",
        "\n",
        "print(results_to_latex(results_timemoe))"
      ],
      "metadata": {
        "colab": {
          "base_uri": "https://localhost:8080/",
          "height": 1000,
          "referenced_widgets": [
            "0581bebdfc2848c7a791ef28bdf50a04",
            "6875f48625334a7585a9477ced3c7d55",
            "2a61db7aebcd41988fb05e687ef86fae",
            "afa468f2f306481885f2f757169b07b4",
            "07d0472ca932408cafa5b65a36696b4c",
            "def5feaa388d469f82cfaed3c960eec6",
            "a4536b9df5004e17bdf3de1a6dd7e853",
            "6e7245993fe34293b2d1213ab5e7482f",
            "de7d9e951e5d42748d4aefcce301f24f",
            "98f32bee37444776bb9a97e12245058e",
            "af008c4a354443e2894f477971d45f7b"
          ]
        },
        "id": "_PUsDOn6NtdU",
        "outputId": "2a1e2d69-77bf-4c06-80e9-f091b389581b"
      },
      "id": "_PUsDOn6NtdU",
      "execution_count": 114,
      "outputs": [
        {
          "output_type": "display_data",
          "data": {
            "text/plain": [
              "Gathering [...]:   0%|          | 0/30 [00:00<?, ?it/s]"
            ],
            "application/vnd.jupyter.widget-view+json": {
              "version_major": 2,
              "version_minor": 0,
              "model_id": "0581bebdfc2848c7a791ef28bdf50a04"
            }
          },
          "metadata": {}
        },
        {
          "output_type": "stream",
          "name": "stdout",
          "text": [
            "Split sizes — train: 3747, dev: 249, test: 251\n",
            "devX_raw Shape: torch.Size([249])\n",
            "dev_loader tensor Shape: torch.Size([8]), with a total of 32 batches\n",
            "2025-05-29 11:59:06,089 - log_util.py[pid:2194;line:48:log_in_local_rank_0] - WARNING: Flash attention import failed, switching to eager attention.\n"
          ]
        },
        {
          "output_type": "stream",
          "name": "stderr",
          "text": [
            "<ipython-input-113-f1a75c831bb2>:90: UserWarning: To copy construct from a tensor, it is recommended to use sourceTensor.clone().detach() or sourceTensor.clone().detach().requires_grad_(True), rather than torch.tensor(sourceTensor).\n",
            "  y = torch.tensor(y, dtype=torch.float32)\n",
            "/usr/local/lib/python3.11/dist-packages/huggingface_hub/file_download.py:943: FutureWarning: `resume_download` is deprecated and will be removed in version 1.0.0. Downloads always resume when possible. If you want to force a new download, use `force_download=True`.\n",
            "  warnings.warn(\n",
            "\n",
            "100%|██████████| 1/1 [00:00<00:00, 3930.93it/s]\n"
          ]
        },
        {
          "output_type": "display_data",
          "data": {
            "text/plain": [
              "<IPython.core.display.HTML object>"
            ],
            "text/html": [
              "\n",
              "    <div>\n",
              "      \n",
              "      <progress value='1' max='1' style='width:300px; height:20px; vertical-align: middle;'></progress>\n",
              "      [1/1 00:00, Epoch 1/1]\n",
              "    </div>\n",
              "    <table border=\"1\" class=\"dataframe\">\n",
              "  <thead>\n",
              " <tr style=\"text-align: left;\">\n",
              "      <th>Step</th>\n",
              "      <th>Training Loss</th>\n",
              "    </tr>\n",
              "  </thead>\n",
              "  <tbody>\n",
              "    <tr>\n",
              "      <td>1</td>\n",
              "      <td>0.033900</td>\n",
              "    </tr>\n",
              "  </tbody>\n",
              "</table><p>"
            ]
          },
          "metadata": {}
        },
        {
          "output_type": "stream",
          "name": "stderr",
          "text": [
            "/usr/local/lib/python3.11/dist-packages/huggingface_hub/file_download.py:943: FutureWarning: `resume_download` is deprecated and will be removed in version 1.0.0. Downloads always resume when possible. If you want to force a new download, use `force_download=True`.\n",
            "  warnings.warn(\n"
          ]
        },
        {
          "output_type": "stream",
          "name": "stdout",
          "text": [
            "Saved plot to data/results/data_2008_01_01_2024_12_31_4416cb3b_timemoe/data_2008_01_01_2024_12_31_4416cb3b_plot_thresholds.png\n",
            "Saved plot to data/results/data_2008_01_01_2024_12_31_4416cb3b_timemoe/data_2008_01_01_2024_12_31_4416cb3b_groundtruth_comparison.png\n",
            "\n",
            "  Validation MSE: 0.10626725395998253\n",
            "  Test MSE: 0.09116287942731739\n",
            "  YOY Returns: 2.18%\n",
            "  YOY Std: +- 0.59%\n",
            "  GT Yoy: 3.81%\n",
            "  Plot filepath parent dir: data/results\n",
            "  Plot filenames: {'yoy_returns': 'data_2008_01_01_2024_12_31_4416cb3b_plot_thresholds.png', 'predicted_vs_actual_spread': 'data_2008_01_01_2024_12_31_4416cb3b_groundtruth_comparison.png', 'train_val_loss': None}\n",
            "  \n",
            "Split sizes — train: 3747, dev: 249, test: 251\n",
            "devX_raw Shape: torch.Size([249])\n",
            "dev_loader tensor Shape: torch.Size([8]), with a total of 32 batches\n",
            "2025-05-29 11:59:18,884 - log_util.py[pid:2194;line:48:log_in_local_rank_0] - WARNING: Flash attention import failed, switching to eager attention.\n"
          ]
        },
        {
          "output_type": "stream",
          "name": "stderr",
          "text": [
            "<ipython-input-113-f1a75c831bb2>:90: UserWarning: To copy construct from a tensor, it is recommended to use sourceTensor.clone().detach() or sourceTensor.clone().detach().requires_grad_(True), rather than torch.tensor(sourceTensor).\n",
            "  y = torch.tensor(y, dtype=torch.float32)\n",
            "/usr/local/lib/python3.11/dist-packages/huggingface_hub/file_download.py:943: FutureWarning: `resume_download` is deprecated and will be removed in version 1.0.0. Downloads always resume when possible. If you want to force a new download, use `force_download=True`.\n",
            "  warnings.warn(\n",
            "\n",
            "100%|██████████| 1/1 [00:00<00:00, 5295.84it/s]\n"
          ]
        },
        {
          "output_type": "display_data",
          "data": {
            "text/plain": [
              "<IPython.core.display.HTML object>"
            ],
            "text/html": [
              "\n",
              "    <div>\n",
              "      \n",
              "      <progress value='1' max='1' style='width:300px; height:20px; vertical-align: middle;'></progress>\n",
              "      [1/1 00:00, Epoch 1/1]\n",
              "    </div>\n",
              "    <table border=\"1\" class=\"dataframe\">\n",
              "  <thead>\n",
              " <tr style=\"text-align: left;\">\n",
              "      <th>Step</th>\n",
              "      <th>Training Loss</th>\n",
              "    </tr>\n",
              "  </thead>\n",
              "  <tbody>\n",
              "    <tr>\n",
              "      <td>1</td>\n",
              "      <td>0.022500</td>\n",
              "    </tr>\n",
              "  </tbody>\n",
              "</table><p>"
            ]
          },
          "metadata": {}
        },
        {
          "output_type": "stream",
          "name": "stderr",
          "text": [
            "/usr/local/lib/python3.11/dist-packages/huggingface_hub/file_download.py:943: FutureWarning: `resume_download` is deprecated and will be removed in version 1.0.0. Downloads always resume when possible. If you want to force a new download, use `force_download=True`.\n",
            "  warnings.warn(\n"
          ]
        },
        {
          "output_type": "stream",
          "name": "stdout",
          "text": [
            "Saved plot to data/results/data_2008_01_01_2024_12_31_4416cb3b_timemoe/data_2008_01_01_2024_12_31_4416cb3b_plot_thresholds.png\n",
            "Saved plot to data/results/data_2008_01_01_2024_12_31_4416cb3b_timemoe/data_2008_01_01_2024_12_31_4416cb3b_groundtruth_comparison.png\n",
            "\n",
            "  Validation MSE: 0.1937801260302217\n",
            "  Test MSE: 0.10621608985009498\n",
            "  YOY Returns: -98.69%\n",
            "  YOY Std: +- 31.54%\n",
            "  GT Yoy: -100.00%\n",
            "  Plot filepath parent dir: data/results\n",
            "  Plot filenames: {'yoy_returns': 'data_2008_01_01_2024_12_31_4416cb3b_plot_thresholds.png', 'predicted_vs_actual_spread': 'data_2008_01_01_2024_12_31_4416cb3b_groundtruth_comparison.png', 'train_val_loss': None}\n",
            "  \n",
            "Split sizes — train: 3747, dev: 249, test: 251\n",
            "devX_raw Shape: torch.Size([249])\n",
            "dev_loader tensor Shape: torch.Size([8]), with a total of 32 batches\n",
            "2025-05-29 11:59:31,512 - log_util.py[pid:2194;line:48:log_in_local_rank_0] - WARNING: Flash attention import failed, switching to eager attention.\n"
          ]
        },
        {
          "output_type": "stream",
          "name": "stderr",
          "text": [
            "<ipython-input-113-f1a75c831bb2>:90: UserWarning: To copy construct from a tensor, it is recommended to use sourceTensor.clone().detach() or sourceTensor.clone().detach().requires_grad_(True), rather than torch.tensor(sourceTensor).\n",
            "  y = torch.tensor(y, dtype=torch.float32)\n",
            "/usr/local/lib/python3.11/dist-packages/huggingface_hub/file_download.py:943: FutureWarning: `resume_download` is deprecated and will be removed in version 1.0.0. Downloads always resume when possible. If you want to force a new download, use `force_download=True`.\n",
            "  warnings.warn(\n",
            "\n",
            "100%|██████████| 1/1 [00:00<00:00, 3429.52it/s]\n"
          ]
        },
        {
          "output_type": "display_data",
          "data": {
            "text/plain": [
              "<IPython.core.display.HTML object>"
            ],
            "text/html": [
              "\n",
              "    <div>\n",
              "      \n",
              "      <progress value='1' max='1' style='width:300px; height:20px; vertical-align: middle;'></progress>\n",
              "      [1/1 00:00, Epoch 1/1]\n",
              "    </div>\n",
              "    <table border=\"1\" class=\"dataframe\">\n",
              "  <thead>\n",
              " <tr style=\"text-align: left;\">\n",
              "      <th>Step</th>\n",
              "      <th>Training Loss</th>\n",
              "    </tr>\n",
              "  </thead>\n",
              "  <tbody>\n",
              "    <tr>\n",
              "      <td>1</td>\n",
              "      <td>0.023300</td>\n",
              "    </tr>\n",
              "  </tbody>\n",
              "</table><p>"
            ]
          },
          "metadata": {}
        },
        {
          "output_type": "stream",
          "name": "stderr",
          "text": [
            "/usr/local/lib/python3.11/dist-packages/huggingface_hub/file_download.py:943: FutureWarning: `resume_download` is deprecated and will be removed in version 1.0.0. Downloads always resume when possible. If you want to force a new download, use `force_download=True`.\n",
            "  warnings.warn(\n"
          ]
        },
        {
          "output_type": "stream",
          "name": "stdout",
          "text": [
            "Saved plot to data/results/data_2008_01_01_2024_12_31_4416cb3b_timemoe/data_2008_01_01_2024_12_31_4416cb3b_plot_thresholds.png\n",
            "Saved plot to data/results/data_2008_01_01_2024_12_31_4416cb3b_timemoe/data_2008_01_01_2024_12_31_4416cb3b_groundtruth_comparison.png\n",
            "\n",
            "  Validation MSE: 0.09751477358330529\n",
            "  Test MSE: 0.08337240490447187\n",
            "  YOY Returns: -24.99%\n",
            "  YOY Std: +- 52.26%\n",
            "  GT Yoy: -100.00%\n",
            "  Plot filepath parent dir: data/results\n",
            "  Plot filenames: {'yoy_returns': 'data_2008_01_01_2024_12_31_4416cb3b_plot_thresholds.png', 'predicted_vs_actual_spread': 'data_2008_01_01_2024_12_31_4416cb3b_groundtruth_comparison.png', 'train_val_loss': None}\n",
            "  \n",
            "Split sizes — train: 3747, dev: 249, test: 251\n",
            "devX_raw Shape: torch.Size([249])\n",
            "dev_loader tensor Shape: torch.Size([8]), with a total of 32 batches\n",
            "2025-05-29 11:59:44,435 - log_util.py[pid:2194;line:48:log_in_local_rank_0] - WARNING: Flash attention import failed, switching to eager attention.\n"
          ]
        },
        {
          "output_type": "stream",
          "name": "stderr",
          "text": [
            "<ipython-input-113-f1a75c831bb2>:90: UserWarning: To copy construct from a tensor, it is recommended to use sourceTensor.clone().detach() or sourceTensor.clone().detach().requires_grad_(True), rather than torch.tensor(sourceTensor).\n",
            "  y = torch.tensor(y, dtype=torch.float32)\n",
            "/usr/local/lib/python3.11/dist-packages/huggingface_hub/file_download.py:943: FutureWarning: `resume_download` is deprecated and will be removed in version 1.0.0. Downloads always resume when possible. If you want to force a new download, use `force_download=True`.\n",
            "  warnings.warn(\n",
            "\n",
            "100%|██████████| 1/1 [00:00<00:00, 4843.31it/s]\n"
          ]
        },
        {
          "output_type": "display_data",
          "data": {
            "text/plain": [
              "<IPython.core.display.HTML object>"
            ],
            "text/html": [
              "\n",
              "    <div>\n",
              "      \n",
              "      <progress value='1' max='1' style='width:300px; height:20px; vertical-align: middle;'></progress>\n",
              "      [1/1 00:00, Epoch 1/1]\n",
              "    </div>\n",
              "    <table border=\"1\" class=\"dataframe\">\n",
              "  <thead>\n",
              " <tr style=\"text-align: left;\">\n",
              "      <th>Step</th>\n",
              "      <th>Training Loss</th>\n",
              "    </tr>\n",
              "  </thead>\n",
              "  <tbody>\n",
              "    <tr>\n",
              "      <td>1</td>\n",
              "      <td>0.033000</td>\n",
              "    </tr>\n",
              "  </tbody>\n",
              "</table><p>"
            ]
          },
          "metadata": {}
        },
        {
          "output_type": "stream",
          "name": "stderr",
          "text": [
            "/usr/local/lib/python3.11/dist-packages/huggingface_hub/file_download.py:943: FutureWarning: `resume_download` is deprecated and will be removed in version 1.0.0. Downloads always resume when possible. If you want to force a new download, use `force_download=True`.\n",
            "  warnings.warn(\n"
          ]
        },
        {
          "output_type": "stream",
          "name": "stdout",
          "text": [
            "Saved plot to data/results/data_2008_01_01_2024_12_31_4416cb3b_timemoe/data_2008_01_01_2024_12_31_4416cb3b_plot_thresholds.png\n",
            "Saved plot to data/results/data_2008_01_01_2024_12_31_4416cb3b_timemoe/data_2008_01_01_2024_12_31_4416cb3b_groundtruth_comparison.png\n",
            "\n",
            "  Validation MSE: 0.07641026966250265\n",
            "  Test MSE: 0.07921181671967228\n",
            "  YOY Returns: 1.72%\n",
            "  YOY Std: +- 0.22%\n",
            "  GT Yoy: 3.04%\n",
            "  Plot filepath parent dir: data/results\n",
            "  Plot filenames: {'yoy_returns': 'data_2008_01_01_2024_12_31_4416cb3b_plot_thresholds.png', 'predicted_vs_actual_spread': 'data_2008_01_01_2024_12_31_4416cb3b_groundtruth_comparison.png', 'train_val_loss': None}\n",
            "  \n",
            "Split sizes — train: 3747, dev: 249, test: 251\n",
            "devX_raw Shape: torch.Size([249])\n",
            "dev_loader tensor Shape: torch.Size([8]), with a total of 32 batches\n",
            "2025-05-29 11:59:57,017 - log_util.py[pid:2194;line:48:log_in_local_rank_0] - WARNING: Flash attention import failed, switching to eager attention.\n"
          ]
        },
        {
          "output_type": "stream",
          "name": "stderr",
          "text": [
            "<ipython-input-113-f1a75c831bb2>:90: UserWarning: To copy construct from a tensor, it is recommended to use sourceTensor.clone().detach() or sourceTensor.clone().detach().requires_grad_(True), rather than torch.tensor(sourceTensor).\n",
            "  y = torch.tensor(y, dtype=torch.float32)\n",
            "/usr/local/lib/python3.11/dist-packages/huggingface_hub/file_download.py:943: FutureWarning: `resume_download` is deprecated and will be removed in version 1.0.0. Downloads always resume when possible. If you want to force a new download, use `force_download=True`.\n",
            "  warnings.warn(\n",
            "\n",
            "100%|██████████| 1/1 [00:00<00:00, 1648.06it/s]\n"
          ]
        },
        {
          "output_type": "display_data",
          "data": {
            "text/plain": [
              "<IPython.core.display.HTML object>"
            ],
            "text/html": [
              "\n",
              "    <div>\n",
              "      \n",
              "      <progress value='1' max='1' style='width:300px; height:20px; vertical-align: middle;'></progress>\n",
              "      [1/1 00:00, Epoch 1/1]\n",
              "    </div>\n",
              "    <table border=\"1\" class=\"dataframe\">\n",
              "  <thead>\n",
              " <tr style=\"text-align: left;\">\n",
              "      <th>Step</th>\n",
              "      <th>Training Loss</th>\n",
              "    </tr>\n",
              "  </thead>\n",
              "  <tbody>\n",
              "    <tr>\n",
              "      <td>1</td>\n",
              "      <td>0.012700</td>\n",
              "    </tr>\n",
              "  </tbody>\n",
              "</table><p>"
            ]
          },
          "metadata": {}
        },
        {
          "output_type": "stream",
          "name": "stderr",
          "text": [
            "/usr/local/lib/python3.11/dist-packages/huggingface_hub/file_download.py:943: FutureWarning: `resume_download` is deprecated and will be removed in version 1.0.0. Downloads always resume when possible. If you want to force a new download, use `force_download=True`.\n",
            "  warnings.warn(\n"
          ]
        },
        {
          "output_type": "stream",
          "name": "stdout",
          "text": [
            "Saved plot to data/results/data_2008_01_01_2024_12_31_4416cb3b_timemoe/data_2008_01_01_2024_12_31_4416cb3b_plot_thresholds.png\n",
            "Saved plot to data/results/data_2008_01_01_2024_12_31_4416cb3b_timemoe/data_2008_01_01_2024_12_31_4416cb3b_groundtruth_comparison.png\n",
            "\n",
            "  Validation MSE: 0.05063662428789906\n",
            "  Test MSE: 0.13566716285689795\n",
            "  YOY Returns: -100.00%\n",
            "  YOY Std: +- 0.00%\n",
            "  GT Yoy: -100.00%\n",
            "  Plot filepath parent dir: data/results\n",
            "  Plot filenames: {'yoy_returns': 'data_2008_01_01_2024_12_31_4416cb3b_plot_thresholds.png', 'predicted_vs_actual_spread': 'data_2008_01_01_2024_12_31_4416cb3b_groundtruth_comparison.png', 'train_val_loss': None}\n",
            "  \n",
            "Split sizes — train: 3747, dev: 249, test: 251\n",
            "devX_raw Shape: torch.Size([249])\n",
            "dev_loader tensor Shape: torch.Size([8]), with a total of 32 batches\n",
            "2025-05-29 12:00:09,764 - log_util.py[pid:2194;line:48:log_in_local_rank_0] - WARNING: Flash attention import failed, switching to eager attention.\n"
          ]
        },
        {
          "output_type": "stream",
          "name": "stderr",
          "text": [
            "<ipython-input-113-f1a75c831bb2>:90: UserWarning: To copy construct from a tensor, it is recommended to use sourceTensor.clone().detach() or sourceTensor.clone().detach().requires_grad_(True), rather than torch.tensor(sourceTensor).\n",
            "  y = torch.tensor(y, dtype=torch.float32)\n",
            "/usr/local/lib/python3.11/dist-packages/huggingface_hub/file_download.py:943: FutureWarning: `resume_download` is deprecated and will be removed in version 1.0.0. Downloads always resume when possible. If you want to force a new download, use `force_download=True`.\n",
            "  warnings.warn(\n",
            "\n",
            "100%|██████████| 1/1 [00:00<00:00, 2589.08it/s]\n"
          ]
        },
        {
          "output_type": "display_data",
          "data": {
            "text/plain": [
              "<IPython.core.display.HTML object>"
            ],
            "text/html": [
              "\n",
              "    <div>\n",
              "      \n",
              "      <progress value='1' max='1' style='width:300px; height:20px; vertical-align: middle;'></progress>\n",
              "      [1/1 00:00, Epoch 1/1]\n",
              "    </div>\n",
              "    <table border=\"1\" class=\"dataframe\">\n",
              "  <thead>\n",
              " <tr style=\"text-align: left;\">\n",
              "      <th>Step</th>\n",
              "      <th>Training Loss</th>\n",
              "    </tr>\n",
              "  </thead>\n",
              "  <tbody>\n",
              "    <tr>\n",
              "      <td>1</td>\n",
              "      <td>0.039200</td>\n",
              "    </tr>\n",
              "  </tbody>\n",
              "</table><p>"
            ]
          },
          "metadata": {}
        },
        {
          "output_type": "stream",
          "name": "stderr",
          "text": [
            "/usr/local/lib/python3.11/dist-packages/huggingface_hub/file_download.py:943: FutureWarning: `resume_download` is deprecated and will be removed in version 1.0.0. Downloads always resume when possible. If you want to force a new download, use `force_download=True`.\n",
            "  warnings.warn(\n"
          ]
        },
        {
          "output_type": "stream",
          "name": "stdout",
          "text": [
            "Saved plot to data/results/data_2008_01_01_2024_12_31_4416cb3b_timemoe/data_2008_01_01_2024_12_31_4416cb3b_plot_thresholds.png\n",
            "Saved plot to data/results/data_2008_01_01_2024_12_31_4416cb3b_timemoe/data_2008_01_01_2024_12_31_4416cb3b_groundtruth_comparison.png\n",
            "\n",
            "  Validation MSE: 0.09513439406579613\n",
            "  Test MSE: 0.18666523955772457\n",
            "  YOY Returns: -83.67%\n",
            "  YOY Std: +- 29.83%\n",
            "  GT Yoy: -82.79%\n",
            "  Plot filepath parent dir: data/results\n",
            "  Plot filenames: {'yoy_returns': 'data_2008_01_01_2024_12_31_4416cb3b_plot_thresholds.png', 'predicted_vs_actual_spread': 'data_2008_01_01_2024_12_31_4416cb3b_groundtruth_comparison.png', 'train_val_loss': None}\n",
            "  \n",
            "Split sizes — train: 3747, dev: 249, test: 251\n",
            "devX_raw Shape: torch.Size([249])\n",
            "dev_loader tensor Shape: torch.Size([8]), with a total of 32 batches\n",
            "2025-05-29 12:00:22,484 - log_util.py[pid:2194;line:48:log_in_local_rank_0] - WARNING: Flash attention import failed, switching to eager attention.\n"
          ]
        },
        {
          "output_type": "stream",
          "name": "stderr",
          "text": [
            "<ipython-input-113-f1a75c831bb2>:90: UserWarning: To copy construct from a tensor, it is recommended to use sourceTensor.clone().detach() or sourceTensor.clone().detach().requires_grad_(True), rather than torch.tensor(sourceTensor).\n",
            "  y = torch.tensor(y, dtype=torch.float32)\n",
            "/usr/local/lib/python3.11/dist-packages/huggingface_hub/file_download.py:943: FutureWarning: `resume_download` is deprecated and will be removed in version 1.0.0. Downloads always resume when possible. If you want to force a new download, use `force_download=True`.\n",
            "  warnings.warn(\n",
            "\n",
            "100%|██████████| 1/1 [00:00<00:00, 2263.52it/s]\n"
          ]
        },
        {
          "output_type": "display_data",
          "data": {
            "text/plain": [
              "<IPython.core.display.HTML object>"
            ],
            "text/html": [
              "\n",
              "    <div>\n",
              "      \n",
              "      <progress value='1' max='1' style='width:300px; height:20px; vertical-align: middle;'></progress>\n",
              "      [1/1 00:00, Epoch 1/1]\n",
              "    </div>\n",
              "    <table border=\"1\" class=\"dataframe\">\n",
              "  <thead>\n",
              " <tr style=\"text-align: left;\">\n",
              "      <th>Step</th>\n",
              "      <th>Training Loss</th>\n",
              "    </tr>\n",
              "  </thead>\n",
              "  <tbody>\n",
              "    <tr>\n",
              "      <td>1</td>\n",
              "      <td>0.021600</td>\n",
              "    </tr>\n",
              "  </tbody>\n",
              "</table><p>"
            ]
          },
          "metadata": {}
        },
        {
          "output_type": "stream",
          "name": "stderr",
          "text": [
            "/usr/local/lib/python3.11/dist-packages/huggingface_hub/file_download.py:943: FutureWarning: `resume_download` is deprecated and will be removed in version 1.0.0. Downloads always resume when possible. If you want to force a new download, use `force_download=True`.\n",
            "  warnings.warn(\n"
          ]
        },
        {
          "output_type": "stream",
          "name": "stdout",
          "text": [
            "Saved plot to data/results/data_2008_01_01_2024_12_31_4416cb3b_timemoe/data_2008_01_01_2024_12_31_4416cb3b_plot_thresholds.png\n",
            "Saved plot to data/results/data_2008_01_01_2024_12_31_4416cb3b_timemoe/data_2008_01_01_2024_12_31_4416cb3b_groundtruth_comparison.png\n",
            "\n",
            "  Validation MSE: 0.15533859723864527\n",
            "  Test MSE: 0.1032115497905974\n",
            "  YOY Returns: -100.00%\n",
            "  YOY Std: +- 0.00%\n",
            "  GT Yoy: -100.00%\n",
            "  Plot filepath parent dir: data/results\n",
            "  Plot filenames: {'yoy_returns': 'data_2008_01_01_2024_12_31_4416cb3b_plot_thresholds.png', 'predicted_vs_actual_spread': 'data_2008_01_01_2024_12_31_4416cb3b_groundtruth_comparison.png', 'train_val_loss': None}\n",
            "  \n",
            "Split sizes — train: 3747, dev: 249, test: 251\n",
            "devX_raw Shape: torch.Size([249])\n",
            "dev_loader tensor Shape: torch.Size([8]), with a total of 32 batches\n",
            "2025-05-29 12:00:35,574 - log_util.py[pid:2194;line:48:log_in_local_rank_0] - WARNING: Flash attention import failed, switching to eager attention.\n"
          ]
        },
        {
          "output_type": "stream",
          "name": "stderr",
          "text": [
            "<ipython-input-113-f1a75c831bb2>:90: UserWarning: To copy construct from a tensor, it is recommended to use sourceTensor.clone().detach() or sourceTensor.clone().detach().requires_grad_(True), rather than torch.tensor(sourceTensor).\n",
            "  y = torch.tensor(y, dtype=torch.float32)\n",
            "/usr/local/lib/python3.11/dist-packages/huggingface_hub/file_download.py:943: FutureWarning: `resume_download` is deprecated and will be removed in version 1.0.0. Downloads always resume when possible. If you want to force a new download, use `force_download=True`.\n",
            "  warnings.warn(\n",
            "\n",
            "100%|██████████| 1/1 [00:00<00:00, 2310.91it/s]\n"
          ]
        },
        {
          "output_type": "display_data",
          "data": {
            "text/plain": [
              "<IPython.core.display.HTML object>"
            ],
            "text/html": [
              "\n",
              "    <div>\n",
              "      \n",
              "      <progress value='1' max='1' style='width:300px; height:20px; vertical-align: middle;'></progress>\n",
              "      [1/1 00:00, Epoch 1/1]\n",
              "    </div>\n",
              "    <table border=\"1\" class=\"dataframe\">\n",
              "  <thead>\n",
              " <tr style=\"text-align: left;\">\n",
              "      <th>Step</th>\n",
              "      <th>Training Loss</th>\n",
              "    </tr>\n",
              "  </thead>\n",
              "  <tbody>\n",
              "    <tr>\n",
              "      <td>1</td>\n",
              "      <td>0.012000</td>\n",
              "    </tr>\n",
              "  </tbody>\n",
              "</table><p>"
            ]
          },
          "metadata": {}
        },
        {
          "output_type": "stream",
          "name": "stderr",
          "text": [
            "/usr/local/lib/python3.11/dist-packages/huggingface_hub/file_download.py:943: FutureWarning: `resume_download` is deprecated and will be removed in version 1.0.0. Downloads always resume when possible. If you want to force a new download, use `force_download=True`.\n",
            "  warnings.warn(\n"
          ]
        },
        {
          "output_type": "stream",
          "name": "stdout",
          "text": [
            "Saved plot to data/results/data_2008_01_01_2024_12_31_4416cb3b_timemoe/data_2008_01_01_2024_12_31_4416cb3b_plot_thresholds.png\n",
            "Saved plot to data/results/data_2008_01_01_2024_12_31_4416cb3b_timemoe/data_2008_01_01_2024_12_31_4416cb3b_groundtruth_comparison.png\n",
            "\n",
            "  Validation MSE: 0.019818524526759227\n",
            "  Test MSE: 0.08246281929427704\n",
            "  YOY Returns: 1886.02%\n",
            "  YOY Std: +- 272.20%\n",
            "  GT Yoy: 3284.18%\n",
            "  Plot filepath parent dir: data/results\n",
            "  Plot filenames: {'yoy_returns': 'data_2008_01_01_2024_12_31_4416cb3b_plot_thresholds.png', 'predicted_vs_actual_spread': 'data_2008_01_01_2024_12_31_4416cb3b_groundtruth_comparison.png', 'train_val_loss': None}\n",
            "  \n",
            "Split sizes — train: 3747, dev: 249, test: 251\n",
            "devX_raw Shape: torch.Size([249])\n",
            "dev_loader tensor Shape: torch.Size([8]), with a total of 32 batches\n",
            "2025-05-29 12:00:48,107 - log_util.py[pid:2194;line:48:log_in_local_rank_0] - WARNING: Flash attention import failed, switching to eager attention.\n"
          ]
        },
        {
          "output_type": "stream",
          "name": "stderr",
          "text": [
            "<ipython-input-113-f1a75c831bb2>:90: UserWarning: To copy construct from a tensor, it is recommended to use sourceTensor.clone().detach() or sourceTensor.clone().detach().requires_grad_(True), rather than torch.tensor(sourceTensor).\n",
            "  y = torch.tensor(y, dtype=torch.float32)\n",
            "/usr/local/lib/python3.11/dist-packages/huggingface_hub/file_download.py:943: FutureWarning: `resume_download` is deprecated and will be removed in version 1.0.0. Downloads always resume when possible. If you want to force a new download, use `force_download=True`.\n",
            "  warnings.warn(\n",
            "\n",
            "100%|██████████| 1/1 [00:00<00:00, 1949.03it/s]\n"
          ]
        },
        {
          "output_type": "display_data",
          "data": {
            "text/plain": [
              "<IPython.core.display.HTML object>"
            ],
            "text/html": [
              "\n",
              "    <div>\n",
              "      \n",
              "      <progress value='1' max='1' style='width:300px; height:20px; vertical-align: middle;'></progress>\n",
              "      [1/1 00:00, Epoch 1/1]\n",
              "    </div>\n",
              "    <table border=\"1\" class=\"dataframe\">\n",
              "  <thead>\n",
              " <tr style=\"text-align: left;\">\n",
              "      <th>Step</th>\n",
              "      <th>Training Loss</th>\n",
              "    </tr>\n",
              "  </thead>\n",
              "  <tbody>\n",
              "    <tr>\n",
              "      <td>1</td>\n",
              "      <td>0.011700</td>\n",
              "    </tr>\n",
              "  </tbody>\n",
              "</table><p>"
            ]
          },
          "metadata": {}
        },
        {
          "output_type": "stream",
          "name": "stderr",
          "text": [
            "/usr/local/lib/python3.11/dist-packages/huggingface_hub/file_download.py:943: FutureWarning: `resume_download` is deprecated and will be removed in version 1.0.0. Downloads always resume when possible. If you want to force a new download, use `force_download=True`.\n",
            "  warnings.warn(\n"
          ]
        },
        {
          "output_type": "stream",
          "name": "stdout",
          "text": [
            "Saved plot to data/results/data_2008_01_01_2024_12_31_4416cb3b_timemoe/data_2008_01_01_2024_12_31_4416cb3b_plot_thresholds.png\n",
            "Saved plot to data/results/data_2008_01_01_2024_12_31_4416cb3b_timemoe/data_2008_01_01_2024_12_31_4416cb3b_groundtruth_comparison.png\n",
            "\n",
            "  Validation MSE: 0.028790002517396454\n",
            "  Test MSE: 0.13848556936167286\n",
            "  YOY Returns: 875.54%\n",
            "  YOY Std: +- 179.98%\n",
            "  GT Yoy: 1430.14%\n",
            "  Plot filepath parent dir: data/results\n",
            "  Plot filenames: {'yoy_returns': 'data_2008_01_01_2024_12_31_4416cb3b_plot_thresholds.png', 'predicted_vs_actual_spread': 'data_2008_01_01_2024_12_31_4416cb3b_groundtruth_comparison.png', 'train_val_loss': None}\n",
            "  \n",
            "Split sizes — train: 3747, dev: 249, test: 251\n",
            "devX_raw Shape: torch.Size([249])\n",
            "dev_loader tensor Shape: torch.Size([8]), with a total of 32 batches\n",
            "2025-05-29 12:01:00,776 - log_util.py[pid:2194;line:48:log_in_local_rank_0] - WARNING: Flash attention import failed, switching to eager attention.\n"
          ]
        },
        {
          "output_type": "stream",
          "name": "stderr",
          "text": [
            "<ipython-input-113-f1a75c831bb2>:90: UserWarning: To copy construct from a tensor, it is recommended to use sourceTensor.clone().detach() or sourceTensor.clone().detach().requires_grad_(True), rather than torch.tensor(sourceTensor).\n",
            "  y = torch.tensor(y, dtype=torch.float32)\n",
            "/usr/local/lib/python3.11/dist-packages/huggingface_hub/file_download.py:943: FutureWarning: `resume_download` is deprecated and will be removed in version 1.0.0. Downloads always resume when possible. If you want to force a new download, use `force_download=True`.\n",
            "  warnings.warn(\n",
            "\n",
            "100%|██████████| 1/1 [00:00<00:00, 2430.07it/s]\n"
          ]
        },
        {
          "output_type": "display_data",
          "data": {
            "text/plain": [
              "<IPython.core.display.HTML object>"
            ],
            "text/html": [
              "\n",
              "    <div>\n",
              "      \n",
              "      <progress value='1' max='1' style='width:300px; height:20px; vertical-align: middle;'></progress>\n",
              "      [1/1 00:00, Epoch 1/1]\n",
              "    </div>\n",
              "    <table border=\"1\" class=\"dataframe\">\n",
              "  <thead>\n",
              " <tr style=\"text-align: left;\">\n",
              "      <th>Step</th>\n",
              "      <th>Training Loss</th>\n",
              "    </tr>\n",
              "  </thead>\n",
              "  <tbody>\n",
              "    <tr>\n",
              "      <td>1</td>\n",
              "      <td>0.015900</td>\n",
              "    </tr>\n",
              "  </tbody>\n",
              "</table><p>"
            ]
          },
          "metadata": {}
        },
        {
          "output_type": "stream",
          "name": "stderr",
          "text": [
            "/usr/local/lib/python3.11/dist-packages/huggingface_hub/file_download.py:943: FutureWarning: `resume_download` is deprecated and will be removed in version 1.0.0. Downloads always resume when possible. If you want to force a new download, use `force_download=True`.\n",
            "  warnings.warn(\n"
          ]
        },
        {
          "output_type": "stream",
          "name": "stdout",
          "text": [
            "Saved plot to data/results/data_2008_01_01_2024_12_31_4416cb3b_timemoe/data_2008_01_01_2024_12_31_4416cb3b_plot_thresholds.png\n",
            "Saved plot to data/results/data_2008_01_01_2024_12_31_4416cb3b_timemoe/data_2008_01_01_2024_12_31_4416cb3b_groundtruth_comparison.png\n",
            "\n",
            "  Validation MSE: 0.03007267138427952\n",
            "  Test MSE: 0.033910831863062194\n",
            "  YOY Returns: -100.00%\n",
            "  YOY Std: +- 0.00%\n",
            "  GT Yoy: -100.00%\n",
            "  Plot filepath parent dir: data/results\n",
            "  Plot filenames: {'yoy_returns': 'data_2008_01_01_2024_12_31_4416cb3b_plot_thresholds.png', 'predicted_vs_actual_spread': 'data_2008_01_01_2024_12_31_4416cb3b_groundtruth_comparison.png', 'train_val_loss': None}\n",
            "  \n",
            "Split sizes — train: 3747, dev: 249, test: 251\n",
            "devX_raw Shape: torch.Size([249])\n",
            "dev_loader tensor Shape: torch.Size([8]), with a total of 32 batches\n",
            "2025-05-29 12:01:13,485 - log_util.py[pid:2194;line:48:log_in_local_rank_0] - WARNING: Flash attention import failed, switching to eager attention.\n"
          ]
        },
        {
          "output_type": "stream",
          "name": "stderr",
          "text": [
            "<ipython-input-113-f1a75c831bb2>:90: UserWarning: To copy construct from a tensor, it is recommended to use sourceTensor.clone().detach() or sourceTensor.clone().detach().requires_grad_(True), rather than torch.tensor(sourceTensor).\n",
            "  y = torch.tensor(y, dtype=torch.float32)\n",
            "/usr/local/lib/python3.11/dist-packages/huggingface_hub/file_download.py:943: FutureWarning: `resume_download` is deprecated and will be removed in version 1.0.0. Downloads always resume when possible. If you want to force a new download, use `force_download=True`.\n",
            "  warnings.warn(\n",
            "\n",
            "100%|██████████| 1/1 [00:00<00:00, 4284.27it/s]\n"
          ]
        },
        {
          "output_type": "display_data",
          "data": {
            "text/plain": [
              "<IPython.core.display.HTML object>"
            ],
            "text/html": [
              "\n",
              "    <div>\n",
              "      \n",
              "      <progress value='1' max='1' style='width:300px; height:20px; vertical-align: middle;'></progress>\n",
              "      [1/1 00:00, Epoch 1/1]\n",
              "    </div>\n",
              "    <table border=\"1\" class=\"dataframe\">\n",
              "  <thead>\n",
              " <tr style=\"text-align: left;\">\n",
              "      <th>Step</th>\n",
              "      <th>Training Loss</th>\n",
              "    </tr>\n",
              "  </thead>\n",
              "  <tbody>\n",
              "    <tr>\n",
              "      <td>1</td>\n",
              "      <td>0.035300</td>\n",
              "    </tr>\n",
              "  </tbody>\n",
              "</table><p>"
            ]
          },
          "metadata": {}
        },
        {
          "output_type": "stream",
          "name": "stderr",
          "text": [
            "/usr/local/lib/python3.11/dist-packages/huggingface_hub/file_download.py:943: FutureWarning: `resume_download` is deprecated and will be removed in version 1.0.0. Downloads always resume when possible. If you want to force a new download, use `force_download=True`.\n",
            "  warnings.warn(\n"
          ]
        },
        {
          "output_type": "stream",
          "name": "stdout",
          "text": [
            "Saved plot to data/results/data_2008_01_01_2024_12_31_4416cb3b_timemoe/data_2008_01_01_2024_12_31_4416cb3b_plot_thresholds.png\n",
            "Saved plot to data/results/data_2008_01_01_2024_12_31_4416cb3b_timemoe/data_2008_01_01_2024_12_31_4416cb3b_groundtruth_comparison.png\n",
            "\n",
            "  Validation MSE: 0.15599869910857037\n",
            "  Test MSE: 0.0935193176449023\n",
            "  YOY Returns: 6.08%\n",
            "  YOY Std: +- 1.92%\n",
            "  GT Yoy: 11.87%\n",
            "  Plot filepath parent dir: data/results\n",
            "  Plot filenames: {'yoy_returns': 'data_2008_01_01_2024_12_31_4416cb3b_plot_thresholds.png', 'predicted_vs_actual_spread': 'data_2008_01_01_2024_12_31_4416cb3b_groundtruth_comparison.png', 'train_val_loss': None}\n",
            "  \n",
            "Split sizes — train: 3747, dev: 249, test: 251\n",
            "devX_raw Shape: torch.Size([249])\n",
            "dev_loader tensor Shape: torch.Size([8]), with a total of 32 batches\n",
            "2025-05-29 12:01:26,138 - log_util.py[pid:2194;line:48:log_in_local_rank_0] - WARNING: Flash attention import failed, switching to eager attention.\n"
          ]
        },
        {
          "output_type": "stream",
          "name": "stderr",
          "text": [
            "<ipython-input-113-f1a75c831bb2>:90: UserWarning: To copy construct from a tensor, it is recommended to use sourceTensor.clone().detach() or sourceTensor.clone().detach().requires_grad_(True), rather than torch.tensor(sourceTensor).\n",
            "  y = torch.tensor(y, dtype=torch.float32)\n",
            "/usr/local/lib/python3.11/dist-packages/huggingface_hub/file_download.py:943: FutureWarning: `resume_download` is deprecated and will be removed in version 1.0.0. Downloads always resume when possible. If you want to force a new download, use `force_download=True`.\n",
            "  warnings.warn(\n",
            "\n",
            "100%|██████████| 1/1 [00:00<00:00, 6141.00it/s]\n"
          ]
        },
        {
          "output_type": "display_data",
          "data": {
            "text/plain": [
              "<IPython.core.display.HTML object>"
            ],
            "text/html": [
              "\n",
              "    <div>\n",
              "      \n",
              "      <progress value='1' max='1' style='width:300px; height:20px; vertical-align: middle;'></progress>\n",
              "      [1/1 00:00, Epoch 1/1]\n",
              "    </div>\n",
              "    <table border=\"1\" class=\"dataframe\">\n",
              "  <thead>\n",
              " <tr style=\"text-align: left;\">\n",
              "      <th>Step</th>\n",
              "      <th>Training Loss</th>\n",
              "    </tr>\n",
              "  </thead>\n",
              "  <tbody>\n",
              "    <tr>\n",
              "      <td>1</td>\n",
              "      <td>0.011700</td>\n",
              "    </tr>\n",
              "  </tbody>\n",
              "</table><p>"
            ]
          },
          "metadata": {}
        },
        {
          "output_type": "stream",
          "name": "stderr",
          "text": [
            "/usr/local/lib/python3.11/dist-packages/huggingface_hub/file_download.py:943: FutureWarning: `resume_download` is deprecated and will be removed in version 1.0.0. Downloads always resume when possible. If you want to force a new download, use `force_download=True`.\n",
            "  warnings.warn(\n"
          ]
        },
        {
          "output_type": "stream",
          "name": "stdout",
          "text": [
            "Saved plot to data/results/data_2008_01_01_2024_12_31_4416cb3b_timemoe/data_2008_01_01_2024_12_31_4416cb3b_plot_thresholds.png\n",
            "Saved plot to data/results/data_2008_01_01_2024_12_31_4416cb3b_timemoe/data_2008_01_01_2024_12_31_4416cb3b_groundtruth_comparison.png\n",
            "\n",
            "  Validation MSE: 0.01971901704756252\n",
            "  Test MSE: 0.05615071132945307\n",
            "  YOY Returns: -100.00%\n",
            "  YOY Std: +- 0.00%\n",
            "  GT Yoy: -100.00%\n",
            "  Plot filepath parent dir: data/results\n",
            "  Plot filenames: {'yoy_returns': 'data_2008_01_01_2024_12_31_4416cb3b_plot_thresholds.png', 'predicted_vs_actual_spread': 'data_2008_01_01_2024_12_31_4416cb3b_groundtruth_comparison.png', 'train_val_loss': None}\n",
            "  \n",
            "Split sizes — train: 3747, dev: 249, test: 251\n",
            "devX_raw Shape: torch.Size([249])\n",
            "dev_loader tensor Shape: torch.Size([8]), with a total of 32 batches\n",
            "2025-05-29 12:01:39,371 - log_util.py[pid:2194;line:48:log_in_local_rank_0] - WARNING: Flash attention import failed, switching to eager attention.\n"
          ]
        },
        {
          "output_type": "stream",
          "name": "stderr",
          "text": [
            "<ipython-input-113-f1a75c831bb2>:90: UserWarning: To copy construct from a tensor, it is recommended to use sourceTensor.clone().detach() or sourceTensor.clone().detach().requires_grad_(True), rather than torch.tensor(sourceTensor).\n",
            "  y = torch.tensor(y, dtype=torch.float32)\n",
            "/usr/local/lib/python3.11/dist-packages/huggingface_hub/file_download.py:943: FutureWarning: `resume_download` is deprecated and will be removed in version 1.0.0. Downloads always resume when possible. If you want to force a new download, use `force_download=True`.\n",
            "  warnings.warn(\n",
            "\n",
            "100%|██████████| 1/1 [00:00<00:00, 1892.74it/s]\n"
          ]
        },
        {
          "output_type": "display_data",
          "data": {
            "text/plain": [
              "<IPython.core.display.HTML object>"
            ],
            "text/html": [
              "\n",
              "    <div>\n",
              "      \n",
              "      <progress value='1' max='1' style='width:300px; height:20px; vertical-align: middle;'></progress>\n",
              "      [1/1 00:00, Epoch 1/1]\n",
              "    </div>\n",
              "    <table border=\"1\" class=\"dataframe\">\n",
              "  <thead>\n",
              " <tr style=\"text-align: left;\">\n",
              "      <th>Step</th>\n",
              "      <th>Training Loss</th>\n",
              "    </tr>\n",
              "  </thead>\n",
              "  <tbody>\n",
              "    <tr>\n",
              "      <td>1</td>\n",
              "      <td>0.011900</td>\n",
              "    </tr>\n",
              "  </tbody>\n",
              "</table><p>"
            ]
          },
          "metadata": {}
        },
        {
          "output_type": "stream",
          "name": "stderr",
          "text": [
            "/usr/local/lib/python3.11/dist-packages/huggingface_hub/file_download.py:943: FutureWarning: `resume_download` is deprecated and will be removed in version 1.0.0. Downloads always resume when possible. If you want to force a new download, use `force_download=True`.\n",
            "  warnings.warn(\n"
          ]
        },
        {
          "output_type": "stream",
          "name": "stdout",
          "text": [
            "Saved plot to data/results/data_2008_01_01_2024_12_31_4416cb3b_timemoe/data_2008_01_01_2024_12_31_4416cb3b_plot_thresholds.png\n",
            "Saved plot to data/results/data_2008_01_01_2024_12_31_4416cb3b_timemoe/data_2008_01_01_2024_12_31_4416cb3b_groundtruth_comparison.png\n",
            "\n",
            "  Validation MSE: 0.03779287321612313\n",
            "  Test MSE: 0.06507784355602576\n",
            "  YOY Returns: 346.16%\n",
            "  YOY Std: +- 56.61%\n",
            "  GT Yoy: 624.11%\n",
            "  Plot filepath parent dir: data/results\n",
            "  Plot filenames: {'yoy_returns': 'data_2008_01_01_2024_12_31_4416cb3b_plot_thresholds.png', 'predicted_vs_actual_spread': 'data_2008_01_01_2024_12_31_4416cb3b_groundtruth_comparison.png', 'train_val_loss': None}\n",
            "  \n",
            "Split sizes — train: 3747, dev: 249, test: 251\n",
            "devX_raw Shape: torch.Size([249])\n",
            "dev_loader tensor Shape: torch.Size([8]), with a total of 32 batches\n",
            "2025-05-29 12:01:52,260 - log_util.py[pid:2194;line:48:log_in_local_rank_0] - WARNING: Flash attention import failed, switching to eager attention.\n"
          ]
        },
        {
          "output_type": "stream",
          "name": "stderr",
          "text": [
            "<ipython-input-113-f1a75c831bb2>:90: UserWarning: To copy construct from a tensor, it is recommended to use sourceTensor.clone().detach() or sourceTensor.clone().detach().requires_grad_(True), rather than torch.tensor(sourceTensor).\n",
            "  y = torch.tensor(y, dtype=torch.float32)\n",
            "/usr/local/lib/python3.11/dist-packages/huggingface_hub/file_download.py:943: FutureWarning: `resume_download` is deprecated and will be removed in version 1.0.0. Downloads always resume when possible. If you want to force a new download, use `force_download=True`.\n",
            "  warnings.warn(\n",
            "\n",
            "100%|██████████| 1/1 [00:00<00:00, 1987.82it/s]\n"
          ]
        },
        {
          "output_type": "display_data",
          "data": {
            "text/plain": [
              "<IPython.core.display.HTML object>"
            ],
            "text/html": [
              "\n",
              "    <div>\n",
              "      \n",
              "      <progress value='1' max='1' style='width:300px; height:20px; vertical-align: middle;'></progress>\n",
              "      [1/1 00:00, Epoch 1/1]\n",
              "    </div>\n",
              "    <table border=\"1\" class=\"dataframe\">\n",
              "  <thead>\n",
              " <tr style=\"text-align: left;\">\n",
              "      <th>Step</th>\n",
              "      <th>Training Loss</th>\n",
              "    </tr>\n",
              "  </thead>\n",
              "  <tbody>\n",
              "    <tr>\n",
              "      <td>1</td>\n",
              "      <td>0.011600</td>\n",
              "    </tr>\n",
              "  </tbody>\n",
              "</table><p>"
            ]
          },
          "metadata": {}
        },
        {
          "output_type": "stream",
          "name": "stderr",
          "text": [
            "/usr/local/lib/python3.11/dist-packages/huggingface_hub/file_download.py:943: FutureWarning: `resume_download` is deprecated and will be removed in version 1.0.0. Downloads always resume when possible. If you want to force a new download, use `force_download=True`.\n",
            "  warnings.warn(\n"
          ]
        },
        {
          "output_type": "stream",
          "name": "stdout",
          "text": [
            "Saved plot to data/results/data_2008_01_01_2024_12_31_4416cb3b_timemoe/data_2008_01_01_2024_12_31_4416cb3b_plot_thresholds.png\n",
            "Saved plot to data/results/data_2008_01_01_2024_12_31_4416cb3b_timemoe/data_2008_01_01_2024_12_31_4416cb3b_groundtruth_comparison.png\n",
            "\n",
            "  Validation MSE: 0.01035975313465729\n",
            "  Test MSE: 0.037261608566337805\n",
            "  YOY Returns: -100.00%\n",
            "  YOY Std: +- 0.00%\n",
            "  GT Yoy: -100.00%\n",
            "  Plot filepath parent dir: data/results\n",
            "  Plot filenames: {'yoy_returns': 'data_2008_01_01_2024_12_31_4416cb3b_plot_thresholds.png', 'predicted_vs_actual_spread': 'data_2008_01_01_2024_12_31_4416cb3b_groundtruth_comparison.png', 'train_val_loss': None}\n",
            "  \n",
            "Split sizes — train: 3747, dev: 249, test: 251\n",
            "devX_raw Shape: torch.Size([249])\n",
            "dev_loader tensor Shape: torch.Size([8]), with a total of 32 batches\n",
            "2025-05-29 12:02:05,053 - log_util.py[pid:2194;line:48:log_in_local_rank_0] - WARNING: Flash attention import failed, switching to eager attention.\n"
          ]
        },
        {
          "output_type": "stream",
          "name": "stderr",
          "text": [
            "<ipython-input-113-f1a75c831bb2>:90: UserWarning: To copy construct from a tensor, it is recommended to use sourceTensor.clone().detach() or sourceTensor.clone().detach().requires_grad_(True), rather than torch.tensor(sourceTensor).\n",
            "  y = torch.tensor(y, dtype=torch.float32)\n",
            "/usr/local/lib/python3.11/dist-packages/huggingface_hub/file_download.py:943: FutureWarning: `resume_download` is deprecated and will be removed in version 1.0.0. Downloads always resume when possible. If you want to force a new download, use `force_download=True`.\n",
            "  warnings.warn(\n",
            "\n",
            "100%|██████████| 1/1 [00:00<00:00, 1973.79it/s]\n"
          ]
        },
        {
          "output_type": "display_data",
          "data": {
            "text/plain": [
              "<IPython.core.display.HTML object>"
            ],
            "text/html": [
              "\n",
              "    <div>\n",
              "      \n",
              "      <progress value='1' max='1' style='width:300px; height:20px; vertical-align: middle;'></progress>\n",
              "      [1/1 00:00, Epoch 1/1]\n",
              "    </div>\n",
              "    <table border=\"1\" class=\"dataframe\">\n",
              "  <thead>\n",
              " <tr style=\"text-align: left;\">\n",
              "      <th>Step</th>\n",
              "      <th>Training Loss</th>\n",
              "    </tr>\n",
              "  </thead>\n",
              "  <tbody>\n",
              "    <tr>\n",
              "      <td>1</td>\n",
              "      <td>0.032200</td>\n",
              "    </tr>\n",
              "  </tbody>\n",
              "</table><p>"
            ]
          },
          "metadata": {}
        },
        {
          "output_type": "stream",
          "name": "stderr",
          "text": [
            "/usr/local/lib/python3.11/dist-packages/huggingface_hub/file_download.py:943: FutureWarning: `resume_download` is deprecated and will be removed in version 1.0.0. Downloads always resume when possible. If you want to force a new download, use `force_download=True`.\n",
            "  warnings.warn(\n"
          ]
        },
        {
          "output_type": "stream",
          "name": "stdout",
          "text": [
            "Saved plot to data/results/data_2008_01_01_2024_12_31_4416cb3b_timemoe/data_2008_01_01_2024_12_31_4416cb3b_plot_thresholds.png\n",
            "Saved plot to data/results/data_2008_01_01_2024_12_31_4416cb3b_timemoe/data_2008_01_01_2024_12_31_4416cb3b_groundtruth_comparison.png\n",
            "\n",
            "  Validation MSE: 0.1426683055550414\n",
            "  Test MSE: 0.09753421436222519\n",
            "  YOY Returns: 1.79%\n",
            "  YOY Std: +- 0.67%\n",
            "  GT Yoy: 7.98%\n",
            "  Plot filepath parent dir: data/results\n",
            "  Plot filenames: {'yoy_returns': 'data_2008_01_01_2024_12_31_4416cb3b_plot_thresholds.png', 'predicted_vs_actual_spread': 'data_2008_01_01_2024_12_31_4416cb3b_groundtruth_comparison.png', 'train_val_loss': None}\n",
            "  \n",
            "Split sizes — train: 3747, dev: 249, test: 251\n",
            "devX_raw Shape: torch.Size([249])\n",
            "dev_loader tensor Shape: torch.Size([8]), with a total of 32 batches\n",
            "2025-05-29 12:02:17,876 - log_util.py[pid:2194;line:48:log_in_local_rank_0] - WARNING: Flash attention import failed, switching to eager attention.\n"
          ]
        },
        {
          "output_type": "stream",
          "name": "stderr",
          "text": [
            "<ipython-input-113-f1a75c831bb2>:90: UserWarning: To copy construct from a tensor, it is recommended to use sourceTensor.clone().detach() or sourceTensor.clone().detach().requires_grad_(True), rather than torch.tensor(sourceTensor).\n",
            "  y = torch.tensor(y, dtype=torch.float32)\n",
            "/usr/local/lib/python3.11/dist-packages/huggingface_hub/file_download.py:943: FutureWarning: `resume_download` is deprecated and will be removed in version 1.0.0. Downloads always resume when possible. If you want to force a new download, use `force_download=True`.\n",
            "  warnings.warn(\n",
            "\n",
            "100%|██████████| 1/1 [00:00<00:00, 1741.82it/s]\n"
          ]
        },
        {
          "output_type": "display_data",
          "data": {
            "text/plain": [
              "<IPython.core.display.HTML object>"
            ],
            "text/html": [
              "\n",
              "    <div>\n",
              "      \n",
              "      <progress value='1' max='1' style='width:300px; height:20px; vertical-align: middle;'></progress>\n",
              "      [1/1 00:00, Epoch 1/1]\n",
              "    </div>\n",
              "    <table border=\"1\" class=\"dataframe\">\n",
              "  <thead>\n",
              " <tr style=\"text-align: left;\">\n",
              "      <th>Step</th>\n",
              "      <th>Training Loss</th>\n",
              "    </tr>\n",
              "  </thead>\n",
              "  <tbody>\n",
              "    <tr>\n",
              "      <td>1</td>\n",
              "      <td>0.034500</td>\n",
              "    </tr>\n",
              "  </tbody>\n",
              "</table><p>"
            ]
          },
          "metadata": {}
        },
        {
          "output_type": "stream",
          "name": "stderr",
          "text": [
            "/usr/local/lib/python3.11/dist-packages/huggingface_hub/file_download.py:943: FutureWarning: `resume_download` is deprecated and will be removed in version 1.0.0. Downloads always resume when possible. If you want to force a new download, use `force_download=True`.\n",
            "  warnings.warn(\n"
          ]
        },
        {
          "output_type": "stream",
          "name": "stdout",
          "text": [
            "Saved plot to data/results/data_2008_01_01_2024_12_31_4416cb3b_timemoe/data_2008_01_01_2024_12_31_4416cb3b_plot_thresholds.png\n",
            "Saved plot to data/results/data_2008_01_01_2024_12_31_4416cb3b_timemoe/data_2008_01_01_2024_12_31_4416cb3b_groundtruth_comparison.png\n",
            "\n",
            "  Validation MSE: 0.09617759608884188\n",
            "  Test MSE: 0.10584307224412685\n",
            "  YOY Returns: -98.42%\n",
            "  YOY Std: +- 17.96%\n",
            "  GT Yoy: -100.00%\n",
            "  Plot filepath parent dir: data/results\n",
            "  Plot filenames: {'yoy_returns': 'data_2008_01_01_2024_12_31_4416cb3b_plot_thresholds.png', 'predicted_vs_actual_spread': 'data_2008_01_01_2024_12_31_4416cb3b_groundtruth_comparison.png', 'train_val_loss': None}\n",
            "  \n",
            "Split sizes — train: 3747, dev: 249, test: 251\n",
            "devX_raw Shape: torch.Size([249])\n",
            "dev_loader tensor Shape: torch.Size([8]), with a total of 32 batches\n",
            "2025-05-29 12:02:30,317 - log_util.py[pid:2194;line:48:log_in_local_rank_0] - WARNING: Flash attention import failed, switching to eager attention.\n"
          ]
        },
        {
          "output_type": "stream",
          "name": "stderr",
          "text": [
            "<ipython-input-113-f1a75c831bb2>:90: UserWarning: To copy construct from a tensor, it is recommended to use sourceTensor.clone().detach() or sourceTensor.clone().detach().requires_grad_(True), rather than torch.tensor(sourceTensor).\n",
            "  y = torch.tensor(y, dtype=torch.float32)\n",
            "/usr/local/lib/python3.11/dist-packages/huggingface_hub/file_download.py:943: FutureWarning: `resume_download` is deprecated and will be removed in version 1.0.0. Downloads always resume when possible. If you want to force a new download, use `force_download=True`.\n",
            "  warnings.warn(\n",
            "\n",
            "100%|██████████| 1/1 [00:00<00:00, 5489.93it/s]\n"
          ]
        },
        {
          "output_type": "display_data",
          "data": {
            "text/plain": [
              "<IPython.core.display.HTML object>"
            ],
            "text/html": [
              "\n",
              "    <div>\n",
              "      \n",
              "      <progress value='1' max='1' style='width:300px; height:20px; vertical-align: middle;'></progress>\n",
              "      [1/1 00:00, Epoch 1/1]\n",
              "    </div>\n",
              "    <table border=\"1\" class=\"dataframe\">\n",
              "  <thead>\n",
              " <tr style=\"text-align: left;\">\n",
              "      <th>Step</th>\n",
              "      <th>Training Loss</th>\n",
              "    </tr>\n",
              "  </thead>\n",
              "  <tbody>\n",
              "    <tr>\n",
              "      <td>1</td>\n",
              "      <td>0.011500</td>\n",
              "    </tr>\n",
              "  </tbody>\n",
              "</table><p>"
            ]
          },
          "metadata": {}
        },
        {
          "output_type": "stream",
          "name": "stderr",
          "text": [
            "/usr/local/lib/python3.11/dist-packages/huggingface_hub/file_download.py:943: FutureWarning: `resume_download` is deprecated and will be removed in version 1.0.0. Downloads always resume when possible. If you want to force a new download, use `force_download=True`.\n",
            "  warnings.warn(\n"
          ]
        },
        {
          "output_type": "stream",
          "name": "stdout",
          "text": [
            "Saved plot to data/results/data_2008_01_01_2024_12_31_4416cb3b_timemoe/data_2008_01_01_2024_12_31_4416cb3b_plot_thresholds.png\n",
            "Saved plot to data/results/data_2008_01_01_2024_12_31_4416cb3b_timemoe/data_2008_01_01_2024_12_31_4416cb3b_groundtruth_comparison.png\n",
            "\n",
            "  Validation MSE: 0.012105938430496321\n",
            "  Test MSE: 0.028487351441861864\n",
            "  YOY Returns: 358.36%\n",
            "  YOY Std: +- 62.30%\n",
            "  GT Yoy: -100.00%\n",
            "  Plot filepath parent dir: data/results\n",
            "  Plot filenames: {'yoy_returns': 'data_2008_01_01_2024_12_31_4416cb3b_plot_thresholds.png', 'predicted_vs_actual_spread': 'data_2008_01_01_2024_12_31_4416cb3b_groundtruth_comparison.png', 'train_val_loss': None}\n",
            "  \n",
            "Split sizes — train: 3747, dev: 249, test: 251\n",
            "devX_raw Shape: torch.Size([249])\n",
            "dev_loader tensor Shape: torch.Size([8]), with a total of 32 batches\n",
            "2025-05-29 12:02:43,308 - log_util.py[pid:2194;line:48:log_in_local_rank_0] - WARNING: Flash attention import failed, switching to eager attention.\n"
          ]
        },
        {
          "output_type": "stream",
          "name": "stderr",
          "text": [
            "<ipython-input-113-f1a75c831bb2>:90: UserWarning: To copy construct from a tensor, it is recommended to use sourceTensor.clone().detach() or sourceTensor.clone().detach().requires_grad_(True), rather than torch.tensor(sourceTensor).\n",
            "  y = torch.tensor(y, dtype=torch.float32)\n",
            "/usr/local/lib/python3.11/dist-packages/huggingface_hub/file_download.py:943: FutureWarning: `resume_download` is deprecated and will be removed in version 1.0.0. Downloads always resume when possible. If you want to force a new download, use `force_download=True`.\n",
            "  warnings.warn(\n",
            "\n",
            "100%|██████████| 1/1 [00:00<00:00, 4447.83it/s]\n"
          ]
        },
        {
          "output_type": "display_data",
          "data": {
            "text/plain": [
              "<IPython.core.display.HTML object>"
            ],
            "text/html": [
              "\n",
              "    <div>\n",
              "      \n",
              "      <progress value='1' max='1' style='width:300px; height:20px; vertical-align: middle;'></progress>\n",
              "      [1/1 00:00, Epoch 1/1]\n",
              "    </div>\n",
              "    <table border=\"1\" class=\"dataframe\">\n",
              "  <thead>\n",
              " <tr style=\"text-align: left;\">\n",
              "      <th>Step</th>\n",
              "      <th>Training Loss</th>\n",
              "    </tr>\n",
              "  </thead>\n",
              "  <tbody>\n",
              "    <tr>\n",
              "      <td>1</td>\n",
              "      <td>0.011500</td>\n",
              "    </tr>\n",
              "  </tbody>\n",
              "</table><p>"
            ]
          },
          "metadata": {}
        },
        {
          "output_type": "stream",
          "name": "stderr",
          "text": [
            "/usr/local/lib/python3.11/dist-packages/huggingface_hub/file_download.py:943: FutureWarning: `resume_download` is deprecated and will be removed in version 1.0.0. Downloads always resume when possible. If you want to force a new download, use `force_download=True`.\n",
            "  warnings.warn(\n"
          ]
        },
        {
          "output_type": "stream",
          "name": "stdout",
          "text": [
            "Saved plot to data/results/data_2008_01_01_2024_12_31_4416cb3b_timemoe/data_2008_01_01_2024_12_31_4416cb3b_plot_thresholds.png\n",
            "Saved plot to data/results/data_2008_01_01_2024_12_31_4416cb3b_timemoe/data_2008_01_01_2024_12_31_4416cb3b_groundtruth_comparison.png\n",
            "\n",
            "  Validation MSE: 0.02003745061665435\n",
            "  Test MSE: 0.10682923062969744\n",
            "  YOY Returns: -100.00%\n",
            "  YOY Std: +- 0.00%\n",
            "  GT Yoy: -100.00%\n",
            "  Plot filepath parent dir: data/results\n",
            "  Plot filenames: {'yoy_returns': 'data_2008_01_01_2024_12_31_4416cb3b_plot_thresholds.png', 'predicted_vs_actual_spread': 'data_2008_01_01_2024_12_31_4416cb3b_groundtruth_comparison.png', 'train_val_loss': None}\n",
            "  \n",
            "Split sizes — train: 3747, dev: 249, test: 251\n",
            "devX_raw Shape: torch.Size([249])\n",
            "dev_loader tensor Shape: torch.Size([8]), with a total of 32 batches\n",
            "2025-05-29 12:02:55,364 - log_util.py[pid:2194;line:48:log_in_local_rank_0] - WARNING: Flash attention import failed, switching to eager attention.\n"
          ]
        },
        {
          "output_type": "stream",
          "name": "stderr",
          "text": [
            "<ipython-input-113-f1a75c831bb2>:90: UserWarning: To copy construct from a tensor, it is recommended to use sourceTensor.clone().detach() or sourceTensor.clone().detach().requires_grad_(True), rather than torch.tensor(sourceTensor).\n",
            "  y = torch.tensor(y, dtype=torch.float32)\n",
            "/usr/local/lib/python3.11/dist-packages/huggingface_hub/file_download.py:943: FutureWarning: `resume_download` is deprecated and will be removed in version 1.0.0. Downloads always resume when possible. If you want to force a new download, use `force_download=True`.\n",
            "  warnings.warn(\n",
            "\n",
            "100%|██████████| 1/1 [00:00<00:00, 2565.32it/s]\n"
          ]
        },
        {
          "output_type": "display_data",
          "data": {
            "text/plain": [
              "<IPython.core.display.HTML object>"
            ],
            "text/html": [
              "\n",
              "    <div>\n",
              "      \n",
              "      <progress value='1' max='1' style='width:300px; height:20px; vertical-align: middle;'></progress>\n",
              "      [1/1 00:00, Epoch 1/1]\n",
              "    </div>\n",
              "    <table border=\"1\" class=\"dataframe\">\n",
              "  <thead>\n",
              " <tr style=\"text-align: left;\">\n",
              "      <th>Step</th>\n",
              "      <th>Training Loss</th>\n",
              "    </tr>\n",
              "  </thead>\n",
              "  <tbody>\n",
              "    <tr>\n",
              "      <td>1</td>\n",
              "      <td>0.019500</td>\n",
              "    </tr>\n",
              "  </tbody>\n",
              "</table><p>"
            ]
          },
          "metadata": {}
        },
        {
          "output_type": "stream",
          "name": "stderr",
          "text": [
            "/usr/local/lib/python3.11/dist-packages/huggingface_hub/file_download.py:943: FutureWarning: `resume_download` is deprecated and will be removed in version 1.0.0. Downloads always resume when possible. If you want to force a new download, use `force_download=True`.\n",
            "  warnings.warn(\n"
          ]
        },
        {
          "output_type": "stream",
          "name": "stdout",
          "text": [
            "Saved plot to data/results/data_2008_01_01_2024_12_31_4416cb3b_timemoe/data_2008_01_01_2024_12_31_4416cb3b_plot_thresholds.png\n",
            "Saved plot to data/results/data_2008_01_01_2024_12_31_4416cb3b_timemoe/data_2008_01_01_2024_12_31_4416cb3b_groundtruth_comparison.png\n",
            "\n",
            "  Validation MSE: 0.04686136214871459\n",
            "  Test MSE: 0.07971714097909528\n",
            "  YOY Returns: -74.29%\n",
            "  YOY Std: +- 64.79%\n",
            "  GT Yoy: -100.00%\n",
            "  Plot filepath parent dir: data/results\n",
            "  Plot filenames: {'yoy_returns': 'data_2008_01_01_2024_12_31_4416cb3b_plot_thresholds.png', 'predicted_vs_actual_spread': 'data_2008_01_01_2024_12_31_4416cb3b_groundtruth_comparison.png', 'train_val_loss': None}\n",
            "  \n",
            "Split sizes — train: 3747, dev: 249, test: 251\n",
            "devX_raw Shape: torch.Size([249])\n",
            "dev_loader tensor Shape: torch.Size([8]), with a total of 32 batches\n",
            "2025-05-29 12:03:07,614 - log_util.py[pid:2194;line:48:log_in_local_rank_0] - WARNING: Flash attention import failed, switching to eager attention.\n"
          ]
        },
        {
          "output_type": "stream",
          "name": "stderr",
          "text": [
            "<ipython-input-113-f1a75c831bb2>:90: UserWarning: To copy construct from a tensor, it is recommended to use sourceTensor.clone().detach() or sourceTensor.clone().detach().requires_grad_(True), rather than torch.tensor(sourceTensor).\n",
            "  y = torch.tensor(y, dtype=torch.float32)\n",
            "/usr/local/lib/python3.11/dist-packages/huggingface_hub/file_download.py:943: FutureWarning: `resume_download` is deprecated and will be removed in version 1.0.0. Downloads always resume when possible. If you want to force a new download, use `force_download=True`.\n",
            "  warnings.warn(\n",
            "\n",
            "100%|██████████| 1/1 [00:00<00:00, 3990.77it/s]\n"
          ]
        },
        {
          "output_type": "display_data",
          "data": {
            "text/plain": [
              "<IPython.core.display.HTML object>"
            ],
            "text/html": [
              "\n",
              "    <div>\n",
              "      \n",
              "      <progress value='1' max='1' style='width:300px; height:20px; vertical-align: middle;'></progress>\n",
              "      [1/1 00:00, Epoch 1/1]\n",
              "    </div>\n",
              "    <table border=\"1\" class=\"dataframe\">\n",
              "  <thead>\n",
              " <tr style=\"text-align: left;\">\n",
              "      <th>Step</th>\n",
              "      <th>Training Loss</th>\n",
              "    </tr>\n",
              "  </thead>\n",
              "  <tbody>\n",
              "    <tr>\n",
              "      <td>1</td>\n",
              "      <td>0.013500</td>\n",
              "    </tr>\n",
              "  </tbody>\n",
              "</table><p>"
            ]
          },
          "metadata": {}
        },
        {
          "output_type": "stream",
          "name": "stderr",
          "text": [
            "/usr/local/lib/python3.11/dist-packages/huggingface_hub/file_download.py:943: FutureWarning: `resume_download` is deprecated and will be removed in version 1.0.0. Downloads always resume when possible. If you want to force a new download, use `force_download=True`.\n",
            "  warnings.warn(\n"
          ]
        },
        {
          "output_type": "stream",
          "name": "stdout",
          "text": [
            "Saved plot to data/results/data_2008_01_01_2024_12_31_4416cb3b_timemoe/data_2008_01_01_2024_12_31_4416cb3b_plot_thresholds.png\n",
            "Saved plot to data/results/data_2008_01_01_2024_12_31_4416cb3b_timemoe/data_2008_01_01_2024_12_31_4416cb3b_groundtruth_comparison.png\n",
            "\n",
            "  Validation MSE: 0.052856078485866397\n",
            "  Test MSE: 0.10099860413324509\n",
            "  YOY Returns: -72.37%\n",
            "  YOY Std: +- 26.19%\n",
            "  GT Yoy: -100.00%\n",
            "  Plot filepath parent dir: data/results\n",
            "  Plot filenames: {'yoy_returns': 'data_2008_01_01_2024_12_31_4416cb3b_plot_thresholds.png', 'predicted_vs_actual_spread': 'data_2008_01_01_2024_12_31_4416cb3b_groundtruth_comparison.png', 'train_val_loss': None}\n",
            "  \n",
            "Split sizes — train: 3747, dev: 249, test: 251\n",
            "devX_raw Shape: torch.Size([249])\n",
            "dev_loader tensor Shape: torch.Size([8]), with a total of 32 batches\n",
            "2025-05-29 12:03:19,641 - log_util.py[pid:2194;line:48:log_in_local_rank_0] - WARNING: Flash attention import failed, switching to eager attention.\n"
          ]
        },
        {
          "output_type": "stream",
          "name": "stderr",
          "text": [
            "<ipython-input-113-f1a75c831bb2>:90: UserWarning: To copy construct from a tensor, it is recommended to use sourceTensor.clone().detach() or sourceTensor.clone().detach().requires_grad_(True), rather than torch.tensor(sourceTensor).\n",
            "  y = torch.tensor(y, dtype=torch.float32)\n",
            "/usr/local/lib/python3.11/dist-packages/huggingface_hub/file_download.py:943: FutureWarning: `resume_download` is deprecated and will be removed in version 1.0.0. Downloads always resume when possible. If you want to force a new download, use `force_download=True`.\n",
            "  warnings.warn(\n",
            "\n",
            "100%|██████████| 1/1 [00:00<00:00, 1652.60it/s]\n"
          ]
        },
        {
          "output_type": "display_data",
          "data": {
            "text/plain": [
              "<IPython.core.display.HTML object>"
            ],
            "text/html": [
              "\n",
              "    <div>\n",
              "      \n",
              "      <progress value='1' max='1' style='width:300px; height:20px; vertical-align: middle;'></progress>\n",
              "      [1/1 00:00, Epoch 1/1]\n",
              "    </div>\n",
              "    <table border=\"1\" class=\"dataframe\">\n",
              "  <thead>\n",
              " <tr style=\"text-align: left;\">\n",
              "      <th>Step</th>\n",
              "      <th>Training Loss</th>\n",
              "    </tr>\n",
              "  </thead>\n",
              "  <tbody>\n",
              "    <tr>\n",
              "      <td>1</td>\n",
              "      <td>0.011800</td>\n",
              "    </tr>\n",
              "  </tbody>\n",
              "</table><p>"
            ]
          },
          "metadata": {}
        },
        {
          "output_type": "stream",
          "name": "stderr",
          "text": [
            "/usr/local/lib/python3.11/dist-packages/huggingface_hub/file_download.py:943: FutureWarning: `resume_download` is deprecated and will be removed in version 1.0.0. Downloads always resume when possible. If you want to force a new download, use `force_download=True`.\n",
            "  warnings.warn(\n"
          ]
        },
        {
          "output_type": "stream",
          "name": "stdout",
          "text": [
            "Saved plot to data/results/data_2008_01_01_2024_12_31_4416cb3b_timemoe/data_2008_01_01_2024_12_31_4416cb3b_plot_thresholds.png\n",
            "Saved plot to data/results/data_2008_01_01_2024_12_31_4416cb3b_timemoe/data_2008_01_01_2024_12_31_4416cb3b_groundtruth_comparison.png\n",
            "\n",
            "  Validation MSE: 0.026786770750646404\n",
            "  Test MSE: 0.017052680821372398\n",
            "  YOY Returns: 790.41%\n",
            "  YOY Std: +- 100.76%\n",
            "  GT Yoy: 1300.99%\n",
            "  Plot filepath parent dir: data/results\n",
            "  Plot filenames: {'yoy_returns': 'data_2008_01_01_2024_12_31_4416cb3b_plot_thresholds.png', 'predicted_vs_actual_spread': 'data_2008_01_01_2024_12_31_4416cb3b_groundtruth_comparison.png', 'train_val_loss': None}\n",
            "  \n",
            "Split sizes — train: 3747, dev: 249, test: 251\n",
            "devX_raw Shape: torch.Size([249])\n",
            "dev_loader tensor Shape: torch.Size([8]), with a total of 32 batches\n",
            "2025-05-29 12:03:31,692 - log_util.py[pid:2194;line:48:log_in_local_rank_0] - WARNING: Flash attention import failed, switching to eager attention.\n"
          ]
        },
        {
          "output_type": "stream",
          "name": "stderr",
          "text": [
            "<ipython-input-113-f1a75c831bb2>:90: UserWarning: To copy construct from a tensor, it is recommended to use sourceTensor.clone().detach() or sourceTensor.clone().detach().requires_grad_(True), rather than torch.tensor(sourceTensor).\n",
            "  y = torch.tensor(y, dtype=torch.float32)\n",
            "/usr/local/lib/python3.11/dist-packages/huggingface_hub/file_download.py:943: FutureWarning: `resume_download` is deprecated and will be removed in version 1.0.0. Downloads always resume when possible. If you want to force a new download, use `force_download=True`.\n",
            "  warnings.warn(\n",
            "\n",
            "100%|██████████| 1/1 [00:00<00:00, 4443.12it/s]\n"
          ]
        },
        {
          "output_type": "display_data",
          "data": {
            "text/plain": [
              "<IPython.core.display.HTML object>"
            ],
            "text/html": [
              "\n",
              "    <div>\n",
              "      \n",
              "      <progress value='1' max='1' style='width:300px; height:20px; vertical-align: middle;'></progress>\n",
              "      [1/1 00:00, Epoch 1/1]\n",
              "    </div>\n",
              "    <table border=\"1\" class=\"dataframe\">\n",
              "  <thead>\n",
              " <tr style=\"text-align: left;\">\n",
              "      <th>Step</th>\n",
              "      <th>Training Loss</th>\n",
              "    </tr>\n",
              "  </thead>\n",
              "  <tbody>\n",
              "    <tr>\n",
              "      <td>1</td>\n",
              "      <td>0.011800</td>\n",
              "    </tr>\n",
              "  </tbody>\n",
              "</table><p>"
            ]
          },
          "metadata": {}
        },
        {
          "output_type": "stream",
          "name": "stderr",
          "text": [
            "/usr/local/lib/python3.11/dist-packages/huggingface_hub/file_download.py:943: FutureWarning: `resume_download` is deprecated and will be removed in version 1.0.0. Downloads always resume when possible. If you want to force a new download, use `force_download=True`.\n",
            "  warnings.warn(\n"
          ]
        },
        {
          "output_type": "stream",
          "name": "stdout",
          "text": [
            "Saved plot to data/results/data_2008_01_01_2024_12_31_4416cb3b_timemoe/data_2008_01_01_2024_12_31_4416cb3b_plot_thresholds.png\n",
            "Saved plot to data/results/data_2008_01_01_2024_12_31_4416cb3b_timemoe/data_2008_01_01_2024_12_31_4416cb3b_groundtruth_comparison.png\n",
            "\n",
            "  Validation MSE: 0.03207660851752984\n",
            "  Test MSE: 0.032312960313687696\n",
            "  YOY Returns: -100.00%\n",
            "  YOY Std: +- 0.00%\n",
            "  GT Yoy: -100.00%\n",
            "  Plot filepath parent dir: data/results\n",
            "  Plot filenames: {'yoy_returns': 'data_2008_01_01_2024_12_31_4416cb3b_plot_thresholds.png', 'predicted_vs_actual_spread': 'data_2008_01_01_2024_12_31_4416cb3b_groundtruth_comparison.png', 'train_val_loss': None}\n",
            "  \n",
            "Split sizes — train: 3747, dev: 249, test: 251\n",
            "devX_raw Shape: torch.Size([249])\n",
            "dev_loader tensor Shape: torch.Size([8]), with a total of 32 batches\n",
            "2025-05-29 12:03:43,885 - log_util.py[pid:2194;line:48:log_in_local_rank_0] - WARNING: Flash attention import failed, switching to eager attention.\n"
          ]
        },
        {
          "output_type": "stream",
          "name": "stderr",
          "text": [
            "<ipython-input-113-f1a75c831bb2>:90: UserWarning: To copy construct from a tensor, it is recommended to use sourceTensor.clone().detach() or sourceTensor.clone().detach().requires_grad_(True), rather than torch.tensor(sourceTensor).\n",
            "  y = torch.tensor(y, dtype=torch.float32)\n",
            "/usr/local/lib/python3.11/dist-packages/huggingface_hub/file_download.py:943: FutureWarning: `resume_download` is deprecated and will be removed in version 1.0.0. Downloads always resume when possible. If you want to force a new download, use `force_download=True`.\n",
            "  warnings.warn(\n",
            "\n",
            "100%|██████████| 1/1 [00:00<00:00, 2332.76it/s]\n"
          ]
        },
        {
          "output_type": "display_data",
          "data": {
            "text/plain": [
              "<IPython.core.display.HTML object>"
            ],
            "text/html": [
              "\n",
              "    <div>\n",
              "      \n",
              "      <progress value='1' max='1' style='width:300px; height:20px; vertical-align: middle;'></progress>\n",
              "      [1/1 00:00, Epoch 1/1]\n",
              "    </div>\n",
              "    <table border=\"1\" class=\"dataframe\">\n",
              "  <thead>\n",
              " <tr style=\"text-align: left;\">\n",
              "      <th>Step</th>\n",
              "      <th>Training Loss</th>\n",
              "    </tr>\n",
              "  </thead>\n",
              "  <tbody>\n",
              "    <tr>\n",
              "      <td>1</td>\n",
              "      <td>0.011300</td>\n",
              "    </tr>\n",
              "  </tbody>\n",
              "</table><p>"
            ]
          },
          "metadata": {}
        },
        {
          "output_type": "stream",
          "name": "stderr",
          "text": [
            "/usr/local/lib/python3.11/dist-packages/huggingface_hub/file_download.py:943: FutureWarning: `resume_download` is deprecated and will be removed in version 1.0.0. Downloads always resume when possible. If you want to force a new download, use `force_download=True`.\n",
            "  warnings.warn(\n"
          ]
        },
        {
          "output_type": "stream",
          "name": "stdout",
          "text": [
            "Saved plot to data/results/data_2008_01_01_2024_12_31_4416cb3b_timemoe/data_2008_01_01_2024_12_31_4416cb3b_plot_thresholds.png\n",
            "Saved plot to data/results/data_2008_01_01_2024_12_31_4416cb3b_timemoe/data_2008_01_01_2024_12_31_4416cb3b_groundtruth_comparison.png\n",
            "\n",
            "  Validation MSE: 0.026451922878335477\n",
            "  Test MSE: 0.08855463417031482\n",
            "  YOY Returns: 2.82%\n",
            "  YOY Std: +- 157.08%\n",
            "  GT Yoy: -100.00%\n",
            "  Plot filepath parent dir: data/results\n",
            "  Plot filenames: {'yoy_returns': 'data_2008_01_01_2024_12_31_4416cb3b_plot_thresholds.png', 'predicted_vs_actual_spread': 'data_2008_01_01_2024_12_31_4416cb3b_groundtruth_comparison.png', 'train_val_loss': None}\n",
            "  \n",
            "Split sizes — train: 3747, dev: 249, test: 251\n",
            "devX_raw Shape: torch.Size([249])\n",
            "dev_loader tensor Shape: torch.Size([8]), with a total of 32 batches\n",
            "2025-05-29 12:03:56,092 - log_util.py[pid:2194;line:48:log_in_local_rank_0] - WARNING: Flash attention import failed, switching to eager attention.\n"
          ]
        },
        {
          "output_type": "stream",
          "name": "stderr",
          "text": [
            "<ipython-input-113-f1a75c831bb2>:90: UserWarning: To copy construct from a tensor, it is recommended to use sourceTensor.clone().detach() or sourceTensor.clone().detach().requires_grad_(True), rather than torch.tensor(sourceTensor).\n",
            "  y = torch.tensor(y, dtype=torch.float32)\n",
            "/usr/local/lib/python3.11/dist-packages/huggingface_hub/file_download.py:943: FutureWarning: `resume_download` is deprecated and will be removed in version 1.0.0. Downloads always resume when possible. If you want to force a new download, use `force_download=True`.\n",
            "  warnings.warn(\n",
            "\n",
            "100%|██████████| 1/1 [00:00<00:00, 5363.56it/s]\n"
          ]
        },
        {
          "output_type": "display_data",
          "data": {
            "text/plain": [
              "<IPython.core.display.HTML object>"
            ],
            "text/html": [
              "\n",
              "    <div>\n",
              "      \n",
              "      <progress value='1' max='1' style='width:300px; height:20px; vertical-align: middle;'></progress>\n",
              "      [1/1 00:00, Epoch 1/1]\n",
              "    </div>\n",
              "    <table border=\"1\" class=\"dataframe\">\n",
              "  <thead>\n",
              " <tr style=\"text-align: left;\">\n",
              "      <th>Step</th>\n",
              "      <th>Training Loss</th>\n",
              "    </tr>\n",
              "  </thead>\n",
              "  <tbody>\n",
              "    <tr>\n",
              "      <td>1</td>\n",
              "      <td>0.022900</td>\n",
              "    </tr>\n",
              "  </tbody>\n",
              "</table><p>"
            ]
          },
          "metadata": {}
        },
        {
          "output_type": "stream",
          "name": "stderr",
          "text": [
            "/usr/local/lib/python3.11/dist-packages/huggingface_hub/file_download.py:943: FutureWarning: `resume_download` is deprecated and will be removed in version 1.0.0. Downloads always resume when possible. If you want to force a new download, use `force_download=True`.\n",
            "  warnings.warn(\n"
          ]
        },
        {
          "output_type": "stream",
          "name": "stdout",
          "text": [
            "Saved plot to data/results/data_2008_01_01_2024_12_31_4416cb3b_timemoe/data_2008_01_01_2024_12_31_4416cb3b_plot_thresholds.png\n",
            "Saved plot to data/results/data_2008_01_01_2024_12_31_4416cb3b_timemoe/data_2008_01_01_2024_12_31_4416cb3b_groundtruth_comparison.png\n",
            "\n",
            "  Validation MSE: 0.10288123096412162\n",
            "  Test MSE: 0.02525244054990689\n",
            "  YOY Returns: 2.66%\n",
            "  YOY Std: +- 2.08%\n",
            "  GT Yoy: -51.19%\n",
            "  Plot filepath parent dir: data/results\n",
            "  Plot filenames: {'yoy_returns': 'data_2008_01_01_2024_12_31_4416cb3b_plot_thresholds.png', 'predicted_vs_actual_spread': 'data_2008_01_01_2024_12_31_4416cb3b_groundtruth_comparison.png', 'train_val_loss': None}\n",
            "  \n",
            "Split sizes — train: 3747, dev: 249, test: 251\n",
            "devX_raw Shape: torch.Size([249])\n",
            "dev_loader tensor Shape: torch.Size([8]), with a total of 32 batches\n",
            "2025-05-29 12:04:08,165 - log_util.py[pid:2194;line:48:log_in_local_rank_0] - WARNING: Flash attention import failed, switching to eager attention.\n"
          ]
        },
        {
          "output_type": "stream",
          "name": "stderr",
          "text": [
            "<ipython-input-113-f1a75c831bb2>:90: UserWarning: To copy construct from a tensor, it is recommended to use sourceTensor.clone().detach() or sourceTensor.clone().detach().requires_grad_(True), rather than torch.tensor(sourceTensor).\n",
            "  y = torch.tensor(y, dtype=torch.float32)\n",
            "/usr/local/lib/python3.11/dist-packages/huggingface_hub/file_download.py:943: FutureWarning: `resume_download` is deprecated and will be removed in version 1.0.0. Downloads always resume when possible. If you want to force a new download, use `force_download=True`.\n",
            "  warnings.warn(\n",
            "\n",
            "100%|██████████| 1/1 [00:00<00:00, 4006.02it/s]\n"
          ]
        },
        {
          "output_type": "display_data",
          "data": {
            "text/plain": [
              "<IPython.core.display.HTML object>"
            ],
            "text/html": [
              "\n",
              "    <div>\n",
              "      \n",
              "      <progress value='1' max='1' style='width:300px; height:20px; vertical-align: middle;'></progress>\n",
              "      [1/1 00:00, Epoch 1/1]\n",
              "    </div>\n",
              "    <table border=\"1\" class=\"dataframe\">\n",
              "  <thead>\n",
              " <tr style=\"text-align: left;\">\n",
              "      <th>Step</th>\n",
              "      <th>Training Loss</th>\n",
              "    </tr>\n",
              "  </thead>\n",
              "  <tbody>\n",
              "    <tr>\n",
              "      <td>1</td>\n",
              "      <td>0.020700</td>\n",
              "    </tr>\n",
              "  </tbody>\n",
              "</table><p>"
            ]
          },
          "metadata": {}
        },
        {
          "output_type": "stream",
          "name": "stderr",
          "text": [
            "/usr/local/lib/python3.11/dist-packages/huggingface_hub/file_download.py:943: FutureWarning: `resume_download` is deprecated and will be removed in version 1.0.0. Downloads always resume when possible. If you want to force a new download, use `force_download=True`.\n",
            "  warnings.warn(\n"
          ]
        },
        {
          "output_type": "stream",
          "name": "stdout",
          "text": [
            "Saved plot to data/results/data_2008_01_01_2024_12_31_4416cb3b_timemoe/data_2008_01_01_2024_12_31_4416cb3b_plot_thresholds.png\n",
            "Saved plot to data/results/data_2008_01_01_2024_12_31_4416cb3b_timemoe/data_2008_01_01_2024_12_31_4416cb3b_groundtruth_comparison.png\n",
            "\n",
            "  Validation MSE: 0.14618352957867622\n",
            "  Test MSE: 0.09754297909762663\n",
            "  YOY Returns: -100.00%\n",
            "  YOY Std: +- 0.00%\n",
            "  GT Yoy: -100.00%\n",
            "  Plot filepath parent dir: data/results\n",
            "  Plot filenames: {'yoy_returns': 'data_2008_01_01_2024_12_31_4416cb3b_plot_thresholds.png', 'predicted_vs_actual_spread': 'data_2008_01_01_2024_12_31_4416cb3b_groundtruth_comparison.png', 'train_val_loss': None}\n",
            "  \n",
            "Split sizes — train: 3747, dev: 249, test: 251\n",
            "devX_raw Shape: torch.Size([249])\n",
            "dev_loader tensor Shape: torch.Size([8]), with a total of 32 batches\n",
            "2025-05-29 12:04:20,123 - log_util.py[pid:2194;line:48:log_in_local_rank_0] - WARNING: Flash attention import failed, switching to eager attention.\n"
          ]
        },
        {
          "output_type": "stream",
          "name": "stderr",
          "text": [
            "<ipython-input-113-f1a75c831bb2>:90: UserWarning: To copy construct from a tensor, it is recommended to use sourceTensor.clone().detach() or sourceTensor.clone().detach().requires_grad_(True), rather than torch.tensor(sourceTensor).\n",
            "  y = torch.tensor(y, dtype=torch.float32)\n",
            "/usr/local/lib/python3.11/dist-packages/huggingface_hub/file_download.py:943: FutureWarning: `resume_download` is deprecated and will be removed in version 1.0.0. Downloads always resume when possible. If you want to force a new download, use `force_download=True`.\n",
            "  warnings.warn(\n",
            "\n",
            "100%|██████████| 1/1 [00:00<00:00, 6223.00it/s]\n"
          ]
        },
        {
          "output_type": "display_data",
          "data": {
            "text/plain": [
              "<IPython.core.display.HTML object>"
            ],
            "text/html": [
              "\n",
              "    <div>\n",
              "      \n",
              "      <progress value='1' max='1' style='width:300px; height:20px; vertical-align: middle;'></progress>\n",
              "      [1/1 00:00, Epoch 1/1]\n",
              "    </div>\n",
              "    <table border=\"1\" class=\"dataframe\">\n",
              "  <thead>\n",
              " <tr style=\"text-align: left;\">\n",
              "      <th>Step</th>\n",
              "      <th>Training Loss</th>\n",
              "    </tr>\n",
              "  </thead>\n",
              "  <tbody>\n",
              "    <tr>\n",
              "      <td>1</td>\n",
              "      <td>0.011600</td>\n",
              "    </tr>\n",
              "  </tbody>\n",
              "</table><p>"
            ]
          },
          "metadata": {}
        },
        {
          "output_type": "stream",
          "name": "stderr",
          "text": [
            "/usr/local/lib/python3.11/dist-packages/huggingface_hub/file_download.py:943: FutureWarning: `resume_download` is deprecated and will be removed in version 1.0.0. Downloads always resume when possible. If you want to force a new download, use `force_download=True`.\n",
            "  warnings.warn(\n"
          ]
        },
        {
          "output_type": "stream",
          "name": "stdout",
          "text": [
            "Saved plot to data/results/data_2008_01_01_2024_12_31_4416cb3b_timemoe/data_2008_01_01_2024_12_31_4416cb3b_plot_thresholds.png\n",
            "Saved plot to data/results/data_2008_01_01_2024_12_31_4416cb3b_timemoe/data_2008_01_01_2024_12_31_4416cb3b_groundtruth_comparison.png\n",
            "\n",
            "  Validation MSE: 0.03299306013243578\n",
            "  Test MSE: 0.028615144553742512\n",
            "  YOY Returns: 832.57%\n",
            "  YOY Std: +- 81.76%\n",
            "  GT Yoy: 1153.60%\n",
            "  Plot filepath parent dir: data/results\n",
            "  Plot filenames: {'yoy_returns': 'data_2008_01_01_2024_12_31_4416cb3b_plot_thresholds.png', 'predicted_vs_actual_spread': 'data_2008_01_01_2024_12_31_4416cb3b_groundtruth_comparison.png', 'train_val_loss': None}\n",
            "  \n",
            "Split sizes — train: 3747, dev: 249, test: 251\n",
            "devX_raw Shape: torch.Size([249])\n",
            "dev_loader tensor Shape: torch.Size([8]), with a total of 32 batches\n",
            "2025-05-29 12:04:32,075 - log_util.py[pid:2194;line:48:log_in_local_rank_0] - WARNING: Flash attention import failed, switching to eager attention.\n"
          ]
        },
        {
          "output_type": "stream",
          "name": "stderr",
          "text": [
            "<ipython-input-113-f1a75c831bb2>:90: UserWarning: To copy construct from a tensor, it is recommended to use sourceTensor.clone().detach() or sourceTensor.clone().detach().requires_grad_(True), rather than torch.tensor(sourceTensor).\n",
            "  y = torch.tensor(y, dtype=torch.float32)\n",
            "/usr/local/lib/python3.11/dist-packages/huggingface_hub/file_download.py:943: FutureWarning: `resume_download` is deprecated and will be removed in version 1.0.0. Downloads always resume when possible. If you want to force a new download, use `force_download=True`.\n",
            "  warnings.warn(\n",
            "\n",
            "100%|██████████| 1/1 [00:00<00:00, 2480.37it/s]\n"
          ]
        },
        {
          "output_type": "display_data",
          "data": {
            "text/plain": [
              "<IPython.core.display.HTML object>"
            ],
            "text/html": [
              "\n",
              "    <div>\n",
              "      \n",
              "      <progress value='1' max='1' style='width:300px; height:20px; vertical-align: middle;'></progress>\n",
              "      [1/1 00:00, Epoch 1/1]\n",
              "    </div>\n",
              "    <table border=\"1\" class=\"dataframe\">\n",
              "  <thead>\n",
              " <tr style=\"text-align: left;\">\n",
              "      <th>Step</th>\n",
              "      <th>Training Loss</th>\n",
              "    </tr>\n",
              "  </thead>\n",
              "  <tbody>\n",
              "    <tr>\n",
              "      <td>1</td>\n",
              "      <td>0.013500</td>\n",
              "    </tr>\n",
              "  </tbody>\n",
              "</table><p>"
            ]
          },
          "metadata": {}
        },
        {
          "output_type": "stream",
          "name": "stderr",
          "text": [
            "/usr/local/lib/python3.11/dist-packages/huggingface_hub/file_download.py:943: FutureWarning: `resume_download` is deprecated and will be removed in version 1.0.0. Downloads always resume when possible. If you want to force a new download, use `force_download=True`.\n",
            "  warnings.warn(\n"
          ]
        },
        {
          "output_type": "stream",
          "name": "stdout",
          "text": [
            "Saved plot to data/results/data_2008_01_01_2024_12_31_4416cb3b_timemoe/data_2008_01_01_2024_12_31_4416cb3b_plot_thresholds.png\n",
            "Saved plot to data/results/data_2008_01_01_2024_12_31_4416cb3b_timemoe/data_2008_01_01_2024_12_31_4416cb3b_groundtruth_comparison.png\n",
            "\n",
            "  Validation MSE: 0.1119943021377667\n",
            "  Test MSE: 0.053035957130384795\n",
            "  YOY Returns: -100.00%\n",
            "  YOY Std: +- 0.00%\n",
            "  GT Yoy: -100.00%\n",
            "  Plot filepath parent dir: data/results\n",
            "  Plot filenames: {'yoy_returns': 'data_2008_01_01_2024_12_31_4416cb3b_plot_thresholds.png', 'predicted_vs_actual_spread': 'data_2008_01_01_2024_12_31_4416cb3b_groundtruth_comparison.png', 'train_val_loss': None}\n",
            "  \n",
            "Split sizes — train: 3747, dev: 249, test: 251\n",
            "devX_raw Shape: torch.Size([249])\n",
            "dev_loader tensor Shape: torch.Size([8]), with a total of 32 batches\n",
            "2025-05-29 12:04:44,069 - log_util.py[pid:2194;line:48:log_in_local_rank_0] - WARNING: Flash attention import failed, switching to eager attention.\n"
          ]
        },
        {
          "output_type": "stream",
          "name": "stderr",
          "text": [
            "<ipython-input-113-f1a75c831bb2>:90: UserWarning: To copy construct from a tensor, it is recommended to use sourceTensor.clone().detach() or sourceTensor.clone().detach().requires_grad_(True), rather than torch.tensor(sourceTensor).\n",
            "  y = torch.tensor(y, dtype=torch.float32)\n",
            "/usr/local/lib/python3.11/dist-packages/huggingface_hub/file_download.py:943: FutureWarning: `resume_download` is deprecated and will be removed in version 1.0.0. Downloads always resume when possible. If you want to force a new download, use `force_download=True`.\n",
            "  warnings.warn(\n",
            "\n",
            "100%|██████████| 1/1 [00:00<00:00, 3880.02it/s]\n"
          ]
        },
        {
          "output_type": "display_data",
          "data": {
            "text/plain": [
              "<IPython.core.display.HTML object>"
            ],
            "text/html": [
              "\n",
              "    <div>\n",
              "      \n",
              "      <progress value='1' max='1' style='width:300px; height:20px; vertical-align: middle;'></progress>\n",
              "      [1/1 00:00, Epoch 1/1]\n",
              "    </div>\n",
              "    <table border=\"1\" class=\"dataframe\">\n",
              "  <thead>\n",
              " <tr style=\"text-align: left;\">\n",
              "      <th>Step</th>\n",
              "      <th>Training Loss</th>\n",
              "    </tr>\n",
              "  </thead>\n",
              "  <tbody>\n",
              "    <tr>\n",
              "      <td>1</td>\n",
              "      <td>0.022300</td>\n",
              "    </tr>\n",
              "  </tbody>\n",
              "</table><p>"
            ]
          },
          "metadata": {}
        },
        {
          "output_type": "stream",
          "name": "stderr",
          "text": [
            "/usr/local/lib/python3.11/dist-packages/huggingface_hub/file_download.py:943: FutureWarning: `resume_download` is deprecated and will be removed in version 1.0.0. Downloads always resume when possible. If you want to force a new download, use `force_download=True`.\n",
            "  warnings.warn(\n"
          ]
        },
        {
          "output_type": "stream",
          "name": "stdout",
          "text": [
            "Saved plot to data/results/data_2008_01_01_2024_12_31_4416cb3b_timemoe/data_2008_01_01_2024_12_31_4416cb3b_plot_thresholds.png\n",
            "Saved plot to data/results/data_2008_01_01_2024_12_31_4416cb3b_timemoe/data_2008_01_01_2024_12_31_4416cb3b_groundtruth_comparison.png\n",
            "\n",
            "  Validation MSE: 0.07119109533124213\n",
            "  Test MSE: 0.08850434466182297\n",
            "  YOY Returns: -100.00%\n",
            "  YOY Std: +- 0.00%\n",
            "  GT Yoy: -100.00%\n",
            "  Plot filepath parent dir: data/results\n",
            "  Plot filenames: {'yoy_returns': 'data_2008_01_01_2024_12_31_4416cb3b_plot_thresholds.png', 'predicted_vs_actual_spread': 'data_2008_01_01_2024_12_31_4416cb3b_groundtruth_comparison.png', 'train_val_loss': None}\n",
            "  \n",
            "Split sizes — train: 3747, dev: 249, test: 251\n",
            "devX_raw Shape: torch.Size([249])\n",
            "dev_loader tensor Shape: torch.Size([8]), with a total of 32 batches\n",
            "2025-05-29 12:04:56,061 - log_util.py[pid:2194;line:48:log_in_local_rank_0] - WARNING: Flash attention import failed, switching to eager attention.\n"
          ]
        },
        {
          "output_type": "stream",
          "name": "stderr",
          "text": [
            "<ipython-input-113-f1a75c831bb2>:90: UserWarning: To copy construct from a tensor, it is recommended to use sourceTensor.clone().detach() or sourceTensor.clone().detach().requires_grad_(True), rather than torch.tensor(sourceTensor).\n",
            "  y = torch.tensor(y, dtype=torch.float32)\n",
            "/usr/local/lib/python3.11/dist-packages/huggingface_hub/file_download.py:943: FutureWarning: `resume_download` is deprecated and will be removed in version 1.0.0. Downloads always resume when possible. If you want to force a new download, use `force_download=True`.\n",
            "  warnings.warn(\n",
            "\n",
            "100%|██████████| 1/1 [00:00<00:00, 3942.02it/s]\n"
          ]
        },
        {
          "output_type": "display_data",
          "data": {
            "text/plain": [
              "<IPython.core.display.HTML object>"
            ],
            "text/html": [
              "\n",
              "    <div>\n",
              "      \n",
              "      <progress value='1' max='1' style='width:300px; height:20px; vertical-align: middle;'></progress>\n",
              "      [1/1 00:00, Epoch 1/1]\n",
              "    </div>\n",
              "    <table border=\"1\" class=\"dataframe\">\n",
              "  <thead>\n",
              " <tr style=\"text-align: left;\">\n",
              "      <th>Step</th>\n",
              "      <th>Training Loss</th>\n",
              "    </tr>\n",
              "  </thead>\n",
              "  <tbody>\n",
              "    <tr>\n",
              "      <td>1</td>\n",
              "      <td>0.012000</td>\n",
              "    </tr>\n",
              "  </tbody>\n",
              "</table><p>"
            ]
          },
          "metadata": {}
        },
        {
          "output_type": "stream",
          "name": "stderr",
          "text": [
            "/usr/local/lib/python3.11/dist-packages/huggingface_hub/file_download.py:943: FutureWarning: `resume_download` is deprecated and will be removed in version 1.0.0. Downloads always resume when possible. If you want to force a new download, use `force_download=True`.\n",
            "  warnings.warn(\n"
          ]
        },
        {
          "output_type": "stream",
          "name": "stdout",
          "text": [
            "Saved plot to data/results/data_2008_01_01_2024_12_31_4416cb3b_timemoe/data_2008_01_01_2024_12_31_4416cb3b_plot_thresholds.png\n",
            "Saved plot to data/results/data_2008_01_01_2024_12_31_4416cb3b_timemoe/data_2008_01_01_2024_12_31_4416cb3b_groundtruth_comparison.png\n",
            "\n",
            "  Validation MSE: 0.06616518714585119\n",
            "  Test MSE: 0.04496692573092982\n",
            "  YOY Returns: 173.65%\n",
            "  YOY Std: +- 20.22%\n",
            "  GT Yoy: 230.21%\n",
            "  Plot filepath parent dir: data/results\n",
            "  Plot filenames: {'yoy_returns': 'data_2008_01_01_2024_12_31_4416cb3b_plot_thresholds.png', 'predicted_vs_actual_spread': 'data_2008_01_01_2024_12_31_4416cb3b_groundtruth_comparison.png', 'train_val_loss': None}\n",
            "  \n",
            "Split sizes — train: 3747, dev: 249, test: 251\n",
            "devX_raw Shape: torch.Size([249])\n",
            "dev_loader tensor Shape: torch.Size([8]), with a total of 32 batches\n",
            "2025-05-29 12:05:08,151 - log_util.py[pid:2194;line:48:log_in_local_rank_0] - WARNING: Flash attention import failed, switching to eager attention.\n"
          ]
        },
        {
          "output_type": "stream",
          "name": "stderr",
          "text": [
            "<ipython-input-113-f1a75c831bb2>:90: UserWarning: To copy construct from a tensor, it is recommended to use sourceTensor.clone().detach() or sourceTensor.clone().detach().requires_grad_(True), rather than torch.tensor(sourceTensor).\n",
            "  y = torch.tensor(y, dtype=torch.float32)\n",
            "/usr/local/lib/python3.11/dist-packages/huggingface_hub/file_download.py:943: FutureWarning: `resume_download` is deprecated and will be removed in version 1.0.0. Downloads always resume when possible. If you want to force a new download, use `force_download=True`.\n",
            "  warnings.warn(\n",
            "\n",
            "100%|██████████| 1/1 [00:00<00:00, 4177.59it/s]\n"
          ]
        },
        {
          "output_type": "display_data",
          "data": {
            "text/plain": [
              "<IPython.core.display.HTML object>"
            ],
            "text/html": [
              "\n",
              "    <div>\n",
              "      \n",
              "      <progress value='1' max='1' style='width:300px; height:20px; vertical-align: middle;'></progress>\n",
              "      [1/1 00:00, Epoch 1/1]\n",
              "    </div>\n",
              "    <table border=\"1\" class=\"dataframe\">\n",
              "  <thead>\n",
              " <tr style=\"text-align: left;\">\n",
              "      <th>Step</th>\n",
              "      <th>Training Loss</th>\n",
              "    </tr>\n",
              "  </thead>\n",
              "  <tbody>\n",
              "    <tr>\n",
              "      <td>1</td>\n",
              "      <td>0.031500</td>\n",
              "    </tr>\n",
              "  </tbody>\n",
              "</table><p>"
            ]
          },
          "metadata": {}
        },
        {
          "output_type": "stream",
          "name": "stderr",
          "text": [
            "/usr/local/lib/python3.11/dist-packages/huggingface_hub/file_download.py:943: FutureWarning: `resume_download` is deprecated and will be removed in version 1.0.0. Downloads always resume when possible. If you want to force a new download, use `force_download=True`.\n",
            "  warnings.warn(\n"
          ]
        },
        {
          "output_type": "stream",
          "name": "stdout",
          "text": [
            "Saved plot to data/results/data_2008_01_01_2024_12_31_4416cb3b_timemoe/data_2008_01_01_2024_12_31_4416cb3b_plot_thresholds.png\n",
            "Saved plot to data/results/data_2008_01_01_2024_12_31_4416cb3b_timemoe/data_2008_01_01_2024_12_31_4416cb3b_groundtruth_comparison.png\n",
            "\n",
            "  Validation MSE: 0.038581393933685086\n",
            "  Test MSE: 0.05688082648434032\n",
            "  YOY Returns: 18.61%\n",
            "  YOY Std: +- 3.53%\n",
            "  GT Yoy: 38.44%\n",
            "  Plot filepath parent dir: data/results\n",
            "  Plot filenames: {'yoy_returns': 'data_2008_01_01_2024_12_31_4416cb3b_plot_thresholds.png', 'predicted_vs_actual_spread': 'data_2008_01_01_2024_12_31_4416cb3b_groundtruth_comparison.png', 'train_val_loss': None}\n",
            "  \n",
            "\\begin{table}[h]\n",
            "\\centering\n",
            "\\small\n",
            "\\resizebox{\\textwidth}{!}{\n",
            "\\begin{tabular}{lcccccc}\n",
            "\\toprule\n",
            "Pair & Cointegration Score & val MSE & test MSE & YoY Returns (std) & \\makecell{Theoretical Return\\\\Under Perfect\\\\Information} & Return Score \\\\\n",
            "\\midrule\n",
            "1. (PFF,EMB) & $1.38\\times 10^{-4}$ & 0.10627 & 0.09116 & $2.18\\% \\pm 0.59\\%$ & 3.31\\% & 0.99 \\\\\n",
            "2. (IFGL,MBB) & $4.45\\times 10^{-4}$ & 0.19378 & 0.10622 & $-98.69\\% \\pm 31.54\\%$ & -100.00\\% & -1 \\\\\n",
            "3. (IFGL,EMB) & $7.27\\times 10^{-4}$ & 0.09751 & 0.08337 & $-24.99\\% \\pm 52.26\\%$ & 11.61\\% & 0.67 \\\\\n",
            "4. (IGIB,IEI) & $7.97\\times 10^{-4}$ & 0.07641 & 0.07921 & $1.72\\% \\pm 0.22\\%$ & 1.38\\% & 1.00 \\\\\n",
            "5. (IGF,DVY) & $8.40\\times 10^{-4}$ & 0.05064 & 0.13567 & $-100.00\\% \\pm 0.00\\%$ & -100.00\\% & -1 \\\\\n",
            "6. (USIG,IEI) & $1.09\\times 10^{-3}$ & 0.09513 & 0.18667 & $-83.67\\% \\pm 29.83\\%$ & -63.21\\% & 0.44 \\\\\n",
            "7. (IFGL,BND) & $1.20\\times 10^{-3}$ & 0.15534 & 0.10321 & $-100.00\\% \\pm 0.00\\%$ & -100.00\\% & -1 \\\\\n",
            "8. (IFGL,SMH) & $1.64\\times 10^{-3}$ & 0.01982 & 0.08246 & $1886.02\\% \\pm 272.20\\%$ & 1482.49\\% & 1.25 \\\\\n",
            "9. (IFGL,SOXX) & $1.82\\times 10^{-3}$ & 0.02879 & 0.13849 & $875.54\\% \\pm 179.98\\%$ & 455.31\\% & 1.76 \\\\\n",
            "10. (IGF,PPH) & $2.29\\times 10^{-3}$ & 0.03007 & 0.03391 & $-100.00\\% \\pm 0.00\\%$ & -100.00\\% & -1 \\\\\n",
            "11. (PFF,MBB) & $2.58\\times 10^{-3}$ & 0.15600 & 0.09352 & $6.08\\% \\pm 1.92\\%$ & 6.35\\% & 1.00 \\\\\n",
            "12. (IGF,PKW) & $2.68\\times 10^{-3}$ & 0.01972 & 0.05615 & $-100.00\\% \\pm 0.00\\%$ & -100.00\\% & -1 \\\\\n",
            "13. (IFGL,PHO) & $2.70\\times 10^{-3}$ & 0.03779 & 0.06508 & $346.16\\% \\pm 56.61\\%$ & 262.45\\% & 1.23 \\\\\n",
            "14. (IFGL,QQQ) & $2.76\\times 10^{-3}$ & 0.01036 & 0.03726 & $-100.00\\% \\pm 0.00\\%$ & 3566.11\\% & 0.00 \\\\\n",
            "15. (PFF,BND) & $2.78\\times 10^{-3}$ & 0.14267 & 0.09753 & $1.79\\% \\pm 0.67\\%$ & 2.88\\% & 0.99 \\\\\n",
            "16. (PFF,SHY) & $3.04\\times 10^{-3}$ & 0.09618 & 0.10584 & $-98.42\\% \\pm 17.96\\%$ & -100.00\\% & -1 \\\\\n",
            "17. (IFGL,ONEQ) & $3.49\\times 10^{-3}$ & 0.01211 & 0.02849 & $358.36\\% \\pm 62.30\\%$ & 389.24\\% & 0.94 \\\\\n",
            "18. (IGF,FTCS) & $3.83\\times 10^{-3}$ & 0.02004 & 0.10683 & $-100.00\\% \\pm 0.00\\%$ & -100.00\\% & -1 \\\\\n",
            "19. (SHY,BND) & $4.05\\times 10^{-3}$ & 0.04686 & 0.07972 & $-74.29\\% \\pm 64.79\\%$ & -100.00\\% & -1 \\\\\n",
            "20. (IGF,PEY) & $4.10\\times 10^{-3}$ & 0.05286 & 0.10100 & $-72.37\\% \\pm 26.19\\%$ & -58.46\\% & 0.67 \\\\\n",
            "21. (IFGL,PKW) & $4.77\\times 10^{-3}$ & 0.02679 & 0.01705 & $790.41\\% \\pm 100.76\\%$ & 1039.39\\% & 0.78 \\\\\n",
            "22. (IFGL,FTCS) & $5.00\\times 10^{-3}$ & 0.03208 & 0.03231 & $-100.00\\% \\pm 0.00\\%$ & -100.00\\% & -1 \\\\\n",
            "23. (IGF,PDP) & $5.27\\times 10^{-3}$ & 0.02645 & 0.08855 & $2.82\\% \\pm 157.08\\%$ & -100.00\\% & -1 \\\\\n",
            "24. (IGSB,SHV) & $5.29\\times 10^{-3}$ & 0.10288 & 0.02525 & $2.66\\% \\pm 2.08\\%$ & 1.24\\% & 1.01 \\\\\n",
            "25. (IFGL,USIG) & $5.35\\times 10^{-3}$ & 0.14618 & 0.09754 & $-100.00\\% \\pm 0.00\\%$ & -100.00\\% & -1 \\\\\n",
            "26. (IFGL,PDP) & $6.21\\times 10^{-3}$ & 0.03299 & 0.02862 & $832.57\\% \\pm 81.76\\%$ & 901.14\\% & 0.93 \\\\\n",
            "27. (IGF,BBH) & $6.33\\times 10^{-3}$ & 0.11199 & 0.05304 & $-100.00\\% \\pm 0.00\\%$ & -100.00\\% & -1 \\\\\n",
            "28. (IFGL,SHY) & $6.79\\times 10^{-3}$ & 0.07119 & 0.08850 & $-100.00\\% \\pm 0.00\\%$ & -100.00\\% & -1 \\\\\n",
            "29. (IFGL,PRFZ) & $7.87\\times 10^{-3}$ & 0.06617 & 0.04497 & $173.65\\% \\pm 20.22\\%$ & 161.27\\% & 1.05 \\\\\n",
            "30. (IEF,USIG) & $7.90\\times 10^{-3}$ & 0.03858 & 0.05688 & $18.61\\% \\pm 3.53\\%$ & 21.30\\% & 0.98 \\\\\n",
            "\\bottomrule\n",
            "\\end{tabular}\n",
            "}\n",
            "\\caption{Model performance and return statistics for all tested pairs.}\n",
            "\\end{table}\n"
          ]
        }
      ]
    },
    {
      "cell_type": "code",
      "source": [
        "def results_to_latex(results):\n",
        "    headers = [\n",
        "        \"Pair\",\n",
        "        \"Cointegration Score\",\n",
        "        \"val MSE\",\n",
        "        \"test MSE\",\n",
        "        \"YoY Returns (std)\",\n",
        "        \"\\makecell{Theoretical Return\\\\\\\\Under Perfect\\\\\\\\Information}\",\n",
        "        \"Return Score\"\n",
        "    ]\n",
        "    # Latex column alignment: l for first col, c for others\n",
        "    align_str = \"l\" + \"c\" * (len(headers)-1)\n",
        "    # Begin building latex table string\n",
        "    lines = []\n",
        "    lines.append(\"\\\\begin{table}[h]\")\n",
        "    lines.append(\"\\\\centering\")\n",
        "    lines.append(\"\\\\small\")\n",
        "    lines.append(\"\\\\resizebox{\\\\textwidth}{!}{\")\n",
        "    lines.append(\"\\\\begin{tabular}{\" + align_str + \"}\")\n",
        "    lines.append(\"\\\\toprule\")\n",
        "    lines.append(\" & \".join(headers) + \" \\\\\\\\\")\n",
        "    lines.append(\"\\\\midrule\")\n",
        "    for idx, row in enumerate(results):\n",
        "        row_out = []\n",
        "        for col_idx, cell in enumerate(row):\n",
        "            # Add numbering for pairs\n",
        "            if col_idx == 0:\n",
        "                cell = f\"{idx+1}. {cell}\"\n",
        "            # Format cointegration score as scientific in latex\n",
        "            elif col_idx == 1 and isinstance(cell, float):\n",
        "                base, exp = f\"{cell:.2e}\".split(\"e\")\n",
        "                exp = int(exp)\n",
        "                cell = f\"${base}\\\\times 10^{{{exp}}}$\"\n",
        "            # Theoretical return: show as percent if small, otherwise keep as float\n",
        "            elif col_idx == 5 and isinstance(cell, float):\n",
        "                cell = f\"{cell*100:.2f}\\\\%\"\n",
        "            # Format YoY Returns (std) as $a\\% \\pm b\\%$\n",
        "            elif col_idx == 4 and isinstance(cell, str) and \"%\" in cell:\n",
        "                # Convert e.g. '-82.63% +- 30.20%' to latex: $-82.63\\% \\pm 30.20\\%$\n",
        "                cell = cell.replace(\"%\", \"\\\\%\")\n",
        "                cell = cell.replace(\"+-\", \"\\\\pm\")\n",
        "                cell = f\"${cell}$\"\n",
        "            elif col_idx == 6 and isinstance(cell, float):\n",
        "              cell = f\"{cell:.2f}\"\n",
        "            # General float formatting\n",
        "            elif isinstance(cell, float):\n",
        "                cell = f\"{cell:.5f}\"\n",
        "            # Replace % in any string field (needed for e.g. theoretical return if not float)\n",
        "            elif isinstance(cell, str) and \"%\" in cell:\n",
        "                cell = cell.replace(\"%\", \"\\\\%\")\n",
        "            row_out.append(cell)\n",
        "        # Join and add row\n",
        "        lines.append(\" & \".join(str(x) for x in row_out) + \" \\\\\\\\\")\n",
        "    lines.append(\"\\\\bottomrule\")\n",
        "    lines.append(\"\\\\end{tabular}\")\n",
        "    lines.append(\"}\")\n",
        "    lines.append(\"\\\\caption{Model performance and return statistics for all tested pairs.}\")\n",
        "    lines.append(\"\\\\end{table}\")\n",
        "    return \"\\n\".join(lines)\n",
        "\n",
        "\n",
        "\n",
        "print(results_to_latex(results_timemoe))"
      ],
      "metadata": {
        "id": "nBPjcL0we_Xl",
        "outputId": "a16314c3-8a0f-4bee-e94a-97f3bfee9622",
        "colab": {
          "base_uri": "https://localhost:8080/"
        }
      },
      "id": "nBPjcL0we_Xl",
      "execution_count": null,
      "outputs": [
        {
          "output_type": "stream",
          "name": "stdout",
          "text": [
            "\\begin{table}[h]\n",
            "\\centering\n",
            "\\small\n",
            "\\resizebox{\\textwidth}{!}{\n",
            "\\begin{tabular}{lcccccc}\n",
            "\\toprule\n",
            "Pair & Cointegration Score & val MSE & test MSE & YoY Returns (std) & \\makecell{Theoretical Return\\\\Under Perfect\\\\Information} & Return Score \\\\\n",
            "\\midrule\n",
            "1. (PFF,EMB) & $1.38\\times 10^{-4}$ & 0.10884 & 0.48144 & $-35.63\\% \\pm 47.84\\%$ & 3.31\\% & 0.62 \\\\\n",
            "2. (IFGL,MBB) & $4.45\\times 10^{-4}$ & 0.19308 & 3.55606 & $-100.00\\% \\pm 0.00\\%$ & -100.00\\% & -1 \\\\\n",
            "3. (IFGL,EMB) & $7.27\\times 10^{-4}$ & 0.09622 & 1.65404 & $-90.42\\% \\pm 56.51\\%$ & 11.61\\% & 0.09 \\\\\n",
            "4. (IGIB,IEI) & $7.97\\times 10^{-4}$ & 0.07504 & 0.25521 & $0.91\\% \\pm 0.68\\%$ & 1.38\\% & 1.00 \\\\\n",
            "5. (IGF,DVY) & $8.40\\times 10^{-4}$ & 0.05170 & 23.62582 & $-100.00\\% \\pm 0.00\\%$ & -100.00\\% & -1 \\\\\n",
            "6. (USIG,IEI) & $1.09\\times 10^{-3}$ & 0.09776 & 1.08666 & $-17.40\\% \\pm 4.30\\%$ & -63.21\\% & 2.25 \\\\\n",
            "7. (IFGL,BND) & $1.20\\times 10^{-3}$ & 0.15543 & 4.47083 & $-100.00\\% \\pm 0.00\\%$ & -100.00\\% & -1 \\\\\n",
            "8. (IFGL,SMH) & $1.64\\times 10^{-3}$ & 0.01951 & 41.32358 & $-100.00\\% \\pm 0.00\\%$ & 1482.49\\% & 0.00 \\\\\n",
            "9. (IFGL,SOXX) & $1.82\\times 10^{-3}$ & 0.02836 & 66.71824 & $-100.00\\% \\pm 0.00\\%$ & 455.31\\% & 0.00 \\\\\n",
            "10. (IGF,PPH) & $2.29\\times 10^{-3}$ & 0.03038 & 10.99395 & $-100.00\\% \\pm 0.00\\%$ & -100.00\\% & -1 \\\\\n",
            "11. (PFF,MBB) & $2.58\\times 10^{-3}$ & 0.15976 & 0.45653 & $14.20\\% \\pm 0.66\\%$ & 6.35\\% & 1.07 \\\\\n",
            "12. (IGF,PKW) & $2.68\\times 10^{-3}$ & 0.01956 & 33.51429 & $-100.00\\% \\pm 0.00\\%$ & -100.00\\% & -1 \\\\\n",
            "13. (IFGL,PHO) & $2.70\\times 10^{-3}$ & 0.03756 & 32.82601 & $-100.00\\% \\pm 0.00\\%$ & 262.45\\% & 0.00 \\\\\n",
            "14. (IFGL,QQQ) & $2.76\\times 10^{-3}$ & 0.01022 & 19.16288 & $-100.00\\% \\pm 0.00\\%$ & 3566.11\\% & 0.00 \\\\\n",
            "15. (PFF,BND) & $2.78\\times 10^{-3}$ & 0.14647 & 0.80313 & $4.49\\% \\pm 0.92\\%$ & 2.88\\% & 1.02 \\\\\n",
            "16. (PFF,SHY) & $3.04\\times 10^{-3}$ & 0.09666 & 3.28690 & $-100.00\\% \\pm 0.00\\%$ & -100.00\\% & -1 \\\\\n",
            "17. (IFGL,ONEQ) & $3.49\\times 10^{-3}$ & 0.01199 & 14.96823 & $-100.00\\% \\pm 0.00\\%$ & 389.24\\% & 0.00 \\\\\n",
            "18. (IGF,FTCS) & $3.83\\times 10^{-3}$ & 0.02015 & 52.65441 & $-100.00\\% \\pm 0.00\\%$ & -100.00\\% & -1 \\\\\n",
            "19. (SHY,BND) & $4.05\\times 10^{-3}$ & 0.04792 & 5.98363 & $-100.00\\% \\pm 0.00\\%$ & -100.00\\% & -1 \\\\\n",
            "20. (IGF,PEY) & $4.10\\times 10^{-3}$ & 0.05366 & 6.67967 & $-100.00\\% \\pm 0.00\\%$ & -58.46\\% & 0.00 \\\\\n",
            "21. (IFGL,PKW) & $4.77\\times 10^{-3}$ & 0.02706 & 11.03042 & $-100.00\\% \\pm 0.00\\%$ & 1039.39\\% & 0.00 \\\\\n",
            "22. (IFGL,FTCS) & $5.00\\times 10^{-3}$ & 0.03149 & 15.01020 & $-100.00\\% \\pm 0.00\\%$ & -100.00\\% & -1 \\\\\n",
            "23. (IGF,PDP) & $5.27\\times 10^{-3}$ & 0.02633 & 38.64178 & $-100.00\\% \\pm 0.00\\%$ & -100.00\\% & -1 \\\\\n",
            "24. (IGSB,SHV) & $5.29\\times 10^{-3}$ & 0.10476 & 0.17462 & $-43.86\\% \\pm 15.99\\%$ & 1.24\\% & 0.55 \\\\\n",
            "25. (IFGL,USIG) & $5.35\\times 10^{-3}$ & 0.14560 & 6.13758 & $-100.00\\% \\pm 0.00\\%$ & -100.00\\% & -1 \\\\\n",
            "26. (IFGL,PDP) & $6.21\\times 10^{-3}$ & 0.03262 & 15.46348 & $-100.00\\% \\pm 0.00\\%$ & 901.14\\% & 0.00 \\\\\n",
            "27. (IGF,BBH) & $6.33\\times 10^{-3}$ & 0.11313 & 2.27557 & $-100.00\\% \\pm 0.00\\%$ & -100.00\\% & -1 \\\\\n",
            "28. (IFGL,SHY) & $6.79\\times 10^{-3}$ & 0.07083 & 8.55675 & $-65.94\\% \\pm 77.48\\%$ & -100.00\\% & -1 \\\\\n",
            "29. (IFGL,PRFZ) & $7.87\\times 10^{-3}$ & 0.06602 & 21.43414 & $-100.00\\% \\pm 0.00\\%$ & 161.27\\% & 0.00 \\\\\n",
            "30. (IEF,USIG) & $7.90\\times 10^{-3}$ & 0.03800 & 0.68765 & $23.04\\% \\pm 4.78\\%$ & 21.30\\% & 1.01 \\\\\n",
            "\\bottomrule\n",
            "\\end{tabular}\n",
            "}\n",
            "\\caption{Model performance and return statistics for all tested pairs.}\n",
            "\\end{table}\n"
          ]
        }
      ]
    },
    {
      "cell_type": "code",
      "source": [
        "all_train = []\n",
        "# get all train variables\n",
        "for i in range(len(pairs_data_filtered)):\n",
        "  ticker_a, ticker_b = pairs_data_filtered[i][0][0], pairs_data_filtered[i][0][1]\n",
        "  pairs_timeseries_df = combine_pairs_data(data_close_filtered_2, data_open_filtered_2, data_high_filtered_2, data_low_filtered_2, data_vol_filtered_2, ticker_a, ticker_b)\n",
        "  # burn the first 30 elements\n",
        "  pairs_timeseries_burned = pairs_timeseries.iloc[burn_in:].copy()\n",
        "\n",
        "  total_len = len(pairs_timeseries_burned)\n",
        "  train_size = int(total_len * train_frac)\n",
        "  dev_size   = int(total_len * dev_frac)\n",
        "  test_size  = total_len - train_size - dev_size # not used, but for clarity\n",
        "\n",
        "  # Standard version of the Time-MoE model can only take in univariate time series. Therefore, we will train only on the target_col\n",
        "  # TODO: Convert to using multivariate again, a certain type of \"multivariate\" processing is possible according to the original time-moe paper, but not the version we would want to use. It is not possible to use many different features to enhance the prediction of the target column\n",
        "  pairs_timeseries_burned_univariate = pairs_timeseries_burned[target_col]\n",
        "\n",
        "  train = pairs_timeseries_burned_univariate[:train_size]\n",
        "  dev   = pairs_timeseries_burned_univariate[train_size:train_size+dev_size] # aka validation\n",
        "  test  = pairs_timeseries_burned_univariate[train_size+dev_size:]\n",
        "  all_train.append(train)"
      ],
      "metadata": {
        "id": "uXNJiKX8cEJn"
      },
      "id": "uXNJiKX8cEJn",
      "execution_count": null,
      "outputs": []
    },
    {
      "cell_type": "code",
      "source": [
        "len(all_train)"
      ],
      "metadata": {
        "id": "l44XKknfcRQE",
        "outputId": "4b7c264a-5659-4544-a973-13d49a5c5de5",
        "colab": {
          "base_uri": "https://localhost:8080/"
        }
      },
      "id": "l44XKknfcRQE",
      "execution_count": null,
      "outputs": [
        {
          "output_type": "execute_result",
          "data": {
            "text/plain": [
              "103"
            ]
          },
          "metadata": {},
          "execution_count": 14
        }
      ]
    },
    {
      "cell_type": "code",
      "source": [
        "current_idx = 90\n",
        "ticker_a, ticker_b = pairs_data_filtered[current_idx][0][0], pairs_data_filtered[current_idx][0][1]\n",
        "pair_tup_str_current = f\"({ticker_a},{ticker_b})\"\n",
        "pairs_timeseries_df = combine_pairs_data(data_close_filtered_2, data_open_filtered_2, data_high_filtered_2, data_low_filtered_2, data_vol_filtered_2, ticker_a, ticker_b)\n",
        "\n",
        "### Time MoE Workflow Code Manual ###\n",
        "\n",
        "pairs_timeseries: pd.DataFrame = pairs_timeseries_df\n",
        "target_col: str = \"Spread_Close\"\n",
        "burn_in: int = 30 # we remove the first 30 elements, because the largest window used for technical indicators is\n",
        "train_frac: float = train_frac\n",
        "dev_frac: float = dev_frac   # remaining part is test\n",
        "seed: int = 3178749 # for reproducibility, my student number\n",
        "look_back: int = 20\n",
        "batch_size: int = 8\n",
        "verbose: bool = True\n",
        "load_finetuned = True\n",
        "result_parent_dir: str = \"data/results\"\n",
        "pair_tup_str=f\"({ticker_a},{ticker_b})\"\n",
        "filename_base=_get_filename(startDateStr, endDateStr, instrumentIdsNASDAQandNYSE)\n",
        "# Used for showing which tuple was used in plots, example: \"(QQQ, SPY)\"\n",
        "return_predicted_spread: bool = False\n",
        "\n",
        "# Set seeds\n",
        "torch.manual_seed(seed)\n",
        "np.random.seed(seed)\n",
        "random.seed(seed)\n",
        "\n",
        "# For GPU (if used)\n",
        "if torch.cuda.is_available():\n",
        "    torch.cuda.manual_seed(seed)\n",
        "    torch.cuda.manual_seed_all(seed)\n",
        "    torch.backends.cudnn.deterministic = True\n",
        "    torch.backends.cudnn.benchmark = False  # Might slow down, but ensures determinism\n",
        "\n",
        "if not target_col in pairs_timeseries.columns:\n",
        "  raise KeyError(f\"pairs_timeseries must contain {target_col}\")\n",
        "FLASH_ATTN = False\n",
        "\n",
        "# burn the first 30 elements\n",
        "pairs_timeseries_burned = pairs_timeseries.iloc[burn_in:].copy()\n",
        "\n",
        "total_len = len(pairs_timeseries_burned)\n",
        "train_size = int(total_len * train_frac)\n",
        "dev_size   = int(total_len * dev_frac)\n",
        "test_size  = total_len - train_size - dev_size # not used, but for clarity\n",
        "\n",
        "# Standard version of the Time-MoE model can only take in univariate time series. Therefore, we will train only on the target_col\n",
        "# TODO: Convert to using multivariate again, a certain type of \"multivariate\" processing is possible according to the original time-moe paper, but not the version we would want to use. It is not possible to use many different features to enhance the prediction of the target column\n",
        "pairs_timeseries_burned_univariate = pairs_timeseries_burned[target_col]\n",
        "\n",
        "train = pairs_timeseries_burned_univariate[:train_size]\n",
        "dev   = pairs_timeseries_burned_univariate[train_size:train_size+dev_size] # aka validation\n",
        "test  = pairs_timeseries_burned_univariate[train_size+dev_size:]\n",
        "\n",
        "train_multivariate = pairs_timeseries_burned.iloc[:train_size]\n",
        "dev_multivariate = pairs_timeseries_burned.iloc[train_size:train_size+dev_size]\n",
        "test_multivariate = pairs_timeseries_burned.iloc[train_size+dev_size:]\n",
        "\n",
        "\n",
        "if verbose:\n",
        "    print(f\"Split sizes — train: {len(train)}, dev: {len(dev)}, test: {len(test)}\")\n",
        "\n",
        "DEVICE = \"cpu\" #  \"cuda\" if torch.cuda.is_available() else \"cpu\"\n",
        "\n",
        "def create_sequences(series):\n",
        "    # series: pd.Series\n",
        "    X_raw = torch.tensor(series.values, dtype=torch.float32)\n",
        "    mean = X_raw.mean()\n",
        "    std = X_raw.std()\n",
        "    X_scaled = (X_raw - mean) / (std + 1e-8)\n",
        "    return X_raw, X_scaled, X_raw, X_scaled, mean, std\n",
        "\n",
        "def create_sequences_rolling(series, look_back):\n",
        "    X = []\n",
        "    y = []\n",
        "    for i in range(len(series) - look_back):\n",
        "        seq = series.iloc[i:i+look_back].values\n",
        "        target = series.iloc[i+look_back]\n",
        "        X.append(seq)\n",
        "        y.append(target) # TODO: check whether target really is Spread_Close, or whether it is S1_close or S2_close\n",
        "\n",
        "    X = torch.tensor(X, dtype=torch.float32)\n",
        "    y = torch.tensor(y, dtype=torch.float32)\n",
        "\n",
        "    X = X.to(DEVICE)\n",
        "    y = y.to(DEVICE)\n",
        "\n",
        "    # normalize\n",
        "    mean = X.mean(dim=-1, keepdim=True)\n",
        "    std = X.std(dim=-1, keepdim=True)\n",
        "    X_scaled = (X - mean) / (std + 1e-8)\n",
        "    # For y, broadcast mean/std to match shape\n",
        "    y_scaled = (y - mean.squeeze(-1)) / (std.squeeze(-1) + 1e-8)\n",
        "\n",
        "    y = torch.tensor(y, dtype=torch.float32)\n",
        "    y = y.to(DEVICE)\n",
        "    return X, X_scaled, y, y_scaled, mean, std\n",
        "\n",
        "devX_raw, devX_scaled, devY_raw, devY_scaled, dev_mean, dev_std = create_sequences(dev)# , look_back)\n",
        "trainX_raw, trainX_scaled, trainY_raw, trainY_scaled, train_mean, train_std = create_sequences(train) #, look_back)\n",
        "testX_raw, testX_scaled, testY_raw, testY_scaled, test_mean, test_std = create_sequences(test) #, look_back)\n",
        "\n",
        "## use rolling sequences not for training, but still for inferencing dev and test ##\n",
        "devX_raw_rolling, devX_scaled_rolling, devY_raw_rolling, devY_scaled_rolling, dev_mean_rolling, dev_std_rolling = create_sequences_rolling(dev, look_back)\n",
        "testX_raw_rolling, testX_scaled_rolling, testY_raw_rolling, testY_scaled_rolling, test_mean_rolling, test_std_rolling = create_sequences_rolling(test, look_back)\n",
        "\n",
        "dev_ds_rolling = TensorDataset(devX_scaled_rolling, devY_scaled_rolling) # goal of TensorDataset class: loading and processing dataset lazily\n",
        "test_ds_rolling = TensorDataset(testX_scaled_rolling, testY_scaled_rolling)\n",
        "\n",
        "dev_loader_rolling = DataLoader(dev_ds_rolling, batch_size=batch_size, shuffle=False)\n",
        "test_loader_rolling = DataLoader(test_ds_rolling, batch_size=batch_size, shuffle=False)\n",
        "## use rolling sequences not for training, but still for inferencing dev and test ##\n",
        "\n",
        "if verbose:\n",
        "  print(f\"devX_raw Shape: {devX_raw.shape}\") # entire devX_raw has that shape before dataset and dev_loader logic\n",
        "\n",
        "dev_ds = TensorDataset(devX_scaled, devY_scaled) # goal of TensorDataset class: loading and processing dataset lazily\n",
        "train_ds = TensorDataset(trainX_scaled, trainY_scaled)\n",
        "test_ds = TensorDataset(testX_scaled, testY_scaled)\n",
        "\n",
        "dev_loader = DataLoader(dev_ds, batch_size=batch_size, shuffle=False) # DataLoader takes care of shuffling/sampling/weigthed sampling, batching, using multiprocessing to load the data, use pinned memory etc. (source; https://discuss.pytorch.org/t/what-do-tensordataset-and-dataloader-do/107017)\n",
        "train_loader = DataLoader(train_ds, batch_size=batch_size, shuffle=True)\n",
        "test_loader = DataLoader(test_ds, batch_size=batch_size, shuffle=False)\n",
        "\n",
        "if verbose:\n",
        "  print(f\"dev_loader tensor Shape: {next(iter(dev_loader))[0].shape}, with a total of {len(dev_loader)} batches\") # a single tensor in dev_loader now has shape [batch_size, look_back] as expected\n",
        "\n",
        "if load_finetuned:\n",
        "  ## Training (only train in the case where we actually also want to load finetuned :D )\n",
        "  # save contents of trainX_scaled to jsonl using _get_filename {\"sequence\": [1.7994326779272853, 2.554412431241829,\n",
        "  filename_jsonl = filename_base.replace(\".pkl\", \".jsonl\")\n",
        "  filepath_parent = os.path.join(\"data\", \"datasets\")\n",
        "  os.makedirs(filepath_parent, exist_ok=True)\n",
        "  filepath_jsonl = os.path.join(filepath_parent, filename_jsonl)\n",
        "  # first method: try to train it on unnormalized sequence\n",
        "  # with open(filepath_jsonl, \"w\") as f: # Train unscaled\n",
        "  #     json_line = json.dumps({\"sequence\": train.to_list()})\n",
        "  #     f.write(json_line + \"\\n\")\n",
        "  with open(filepath_jsonl, \"w\") as f: # Train scaled\n",
        "      json_line = json.dumps({\"sequence\": trainX_scaled.tolist()})\n",
        "      f.write(json_line + \"\\n\")\n",
        "\n",
        "  train_time_moe(\n",
        "      data_path=filepath_jsonl,\n",
        "      dataloader_num_workers=2\n",
        "  ) # after this, model is saved to logs/time_moe as model.safetensors (400+ MB)\n",
        "  model_dir = \"logs/time_moe\"\n",
        "  config = AutoConfig.from_pretrained(model_dir, trust_remote_code=True)\n",
        "  model = TimeMoeForPrediction.from_pretrained(model_dir, config=config, torch_dtype=torch.float32)\n",
        "  model.eval()\n",
        "else:\n",
        "  model = AutoModelForCausalLM.from_pretrained(\n",
        "      'Maple728/TimeMoE-50M',\n",
        "      device_map=DEVICE,\n",
        "      trust_remote_code=True,\n",
        "  )\n",
        "  if FLASH_ATTN: # if FLASH_ATTN, we assume the flash-attention module is installed, and adapt the model to use that\n",
        "    model = AutoModelForCausalLM.from_pretrained('Maple728/TimeMoE-50M', device_map=\"auto\", attn_implementation='flash_attention_2', trust_remote_code=True)\n",
        "\n",
        "prediction_length = 1 # TODO: rather than hardcoding prediction length, make a strategy where we can pick and choose different prediction lengths, and see what is affected by this (returns, std dev, ..)\n",
        "\n",
        "# forecast in batches from dev dataset\n",
        "all_predictions = []\n",
        "all_normalized_predictions = []\n",
        "for i, batch in enumerate(test_loader_rolling):\n",
        "  inputs = batch[0] # is devX_scaled, for now [1] will return error, later [1] will return devY_scaled :D\n",
        "\n",
        "  yvals = batch[1]\n",
        "  # means = batch[2]\n",
        "  # stds = batch[3]\n",
        "\n",
        "  output = model.generate(inputs, max_new_tokens=prediction_length)  # shape is [batch_size, look_back + prediction_length]\n",
        "  normed_predictions = output[:, -prediction_length:]\n",
        "\n",
        "  # from returned test_mean and test_std, slice the appropriate slices from the series\n",
        "  input_size_current = inputs.size()\n",
        "  batch_size_current = input_size_current[0]\n",
        "  local_means = test_mean_rolling[batch_size*i : batch_size*i + batch_size_current]\n",
        "  local_stds = test_std_rolling[batch_size*i : batch_size*i + batch_size_current]\n",
        "\n",
        "  preds = normed_predictions * local_stds + local_means\n",
        "  all_predictions.append(preds)\n",
        "  all_normalized_predictions.append(normed_predictions)\n",
        "\n",
        "\n",
        "# Concatenate all predictions\n",
        "predictions = torch.cat(all_predictions, dim=0)\n",
        "predictions = predictions.squeeze(-1)\n",
        "predictions = predictions.detach().numpy()\n",
        "\n",
        "all_normalized_predictions = torch.cat(all_normalized_predictions, dim=0)\n",
        "all_normalized_predictions = all_normalized_predictions.squeeze(-1)\n",
        "all_normalized_predictions = all_normalized_predictions.detach().numpy()\n",
        "\n",
        "# Also get dev/val predictions\n",
        "dev_predictions = []\n",
        "dev_normalized_predictions = []\n",
        "for i, batch in enumerate(dev_loader_rolling):\n",
        "  inputs = batch[0]\n",
        "\n",
        "  output = model.generate(inputs, max_new_tokens=prediction_length)  # shape is [batch_size, look_back + prediction_length]\n",
        "  normed_predictions = output[:, -prediction_length:]\n",
        "  input_size_current = inputs.size()\n",
        "  batch_size_current = input_size_current[0]\n",
        "  # get dev rather than test\n",
        "  local_means = dev_mean_rolling[batch_size*i : batch_size*i + batch_size_current]\n",
        "  local_stds = dev_std_rolling[batch_size*i : batch_size*i + batch_size_current]\n",
        "\n",
        "  preds = normed_predictions * local_stds + local_means\n",
        "  dev_predictions.append(preds)\n",
        "  dev_normalized_predictions.append(normed_predictions)\n",
        "dev_predictions = torch.cat(dev_predictions, dim=0)\n",
        "dev_predictions = dev_predictions.squeeze(-1)\n",
        "dev_predictions = dev_predictions.detach().numpy()\n",
        "\n",
        "dev_normalized_predictions = torch.cat(dev_normalized_predictions, dim=0)\n",
        "dev_normalized_predictions = dev_normalized_predictions.squeeze(-1)\n",
        "dev_normalized_predictions = dev_normalized_predictions.detach().numpy()\n",
        "\n",
        "## Trading\n",
        "test_s1_shortened = test_multivariate['S1_close'].iloc[look_back:]\n",
        "test_s2_shortened = test_multivariate['S2_close'].iloc[look_back:] # use multivariate versions, so we can still access cols like 'S1_close' and 'S2_close'\n",
        "test_index_shortened = test_multivariate.index[look_back:] # officially doesn't really matter whether to use `test_multivariate` or `test`, but do it like this for consistency\n",
        "forecast_test_shortened_series = pd.Series(predictions, index=test_index_shortened)\n",
        "gt_test_shortened_series = pd.Series(testY_raw.numpy()[look_back:], index=test_index_shortened)\n",
        "\n",
        "gt_returns = trade(\n",
        "    S1 = test_s1_shortened,\n",
        "    S2 = test_s2_shortened,\n",
        "    spread = gt_test_shortened_series,\n",
        "    window_long = 30,\n",
        "    window_short = 5,\n",
        "    position_threshold = 1.0,\n",
        "    clearing_threshold = 0.5\n",
        ")\n",
        "gt_yoy = ((gt_returns[-1] / gt_returns[0])**(365 / len(gt_returns)) - 1)\n",
        "\n",
        "## Trading: Mean YoY\n",
        "min_position = 2.00\n",
        "max_position = 4.00\n",
        "min_clearing = 0.30\n",
        "max_clearing = 0.70\n",
        "position_thresholds = np.linspace(min_position, max_position, num=10)\n",
        "clearing_thresholds = np.linspace(min_clearing, max_clearing, num=10)\n",
        "yoy_mean, yoy_std = calculate_return_uncertainty(test_s1_shortened, test_s2_shortened, forecast_test_shortened_series, position_thresholds=position_thresholds, clearing_thresholds=clearing_thresholds)\n",
        "\n",
        "if load_finetuned:\n",
        "  current_result_dir = filename_base.replace(\".pkl\", \"_timemoe\")\n",
        "else:\n",
        "  current_result_dir = filename_base.replace(\".pkl\", \"_timemoe_only_pretrained\")\n",
        "result_dir = os.path.join(result_parent_dir, current_result_dir)\n",
        "if not os.path.exists(result_dir):\n",
        "    os.makedirs(result_dir)\n",
        "\n",
        "### Plotting #####\n",
        "# (no train/val loss plot, as Time-MoE repo did not support plots or even supplying val losses during training)\n",
        "train_val_loss_filename = None\n",
        "\n",
        "# 1. yoy returns\n",
        "yoy_returns_filename = plot_return_uncertainty(test_s1_shortened, test_s2_shortened, forecast_test_shortened_series, test_index_shortened, look_back, position_thresholds=position_thresholds, clearing_thresholds=clearing_thresholds, verbose=verbose, result_dir=result_dir, filename_base=filename_base)\n",
        "\n",
        "# 2. predicted vs actual spread plot\n",
        "predicted_vs_actual_spread_filename = plot_comparison(gt_test_shortened_series, forecast_test_shortened_series, test_index_shortened, workflow_type=\"Time-MoE\", pair_tup_str=pair_tup_str, verbose=verbose, result_dir=result_dir, filename_base=filename_base)\n",
        "\n",
        "### Plotting #####\n",
        "\n",
        "dev_mse = mean_squared_error(devY_raw.numpy()[look_back:], dev_predictions)\n",
        "test_mse = mean_squared_error(testY_raw.numpy()[look_back:], predictions)\n",
        "dev_variance = devY_raw.numpy()[look_back:].var()\n",
        "dev_nmse = dev_mse / dev_variance if dev_variance != 0 else float('inf')\n",
        "test_variance = testY_raw.numpy()[look_back:].var()\n",
        "test_nmse = test_mse / test_variance if test_variance != 0 else float('inf')\n",
        "\n",
        "# if return_predicted_spread:\n",
        "#   return forecast_test_shortened_series, test_nmse\n",
        "\n",
        "plot_filenames = {\n",
        "    \"yoy_returns\": yoy_returns_filename,\n",
        "    \"predicted_vs_actual_spread\": predicted_vs_actual_spread_filename,\n",
        "    \"train_val_loss\": train_val_loss_filename\n",
        "}\n",
        "\n",
        "output: Dict[str, Any] = dict(\n",
        "    val_mse=dev_nmse,\n",
        "    test_mse=test_nmse,\n",
        "    yoy_mean=yoy_mean,\n",
        "    yoy_std=yoy_std,\n",
        "    gt_yoy=gt_yoy,\n",
        "    result_parent_dir=result_parent_dir,\n",
        "    plot_filenames=plot_filenames\n",
        ")\n",
        "results_str = f\"\"\"\n",
        "Validation MSE: {output['val_mse']}\n",
        "Test MSE: {output['test_mse']}\n",
        "YOY Returns: {output['yoy_mean'] * 100:.2f}%\n",
        "YOY Std: +- {output['yoy_std'] * 100:.2f}%\n",
        "GT Yoy: {output['gt_yoy'] * 100:.2f}%\n",
        "Plot filepath parent dir: {output['result_parent_dir']}\n",
        "Plot filenames: {output['plot_filenames']}\n",
        "\"\"\"\n",
        "\n",
        "with open(os.path.join(result_dir, \"results.txt\"), \"w\") as f:\n",
        "    f.write(results_str)\n",
        "if verbose:\n",
        "  print(results_str)\n",
        "\n",
        "\n",
        "### Time MoE Workflow Code Manual ###\n",
        "\n",
        "## Calculating MSE when training unscaled\n",
        "# forecast_test_shortened_series_raw_output = pd.Series(all_normalized_predictions, index=test_index_shortened)\n",
        "# gt_test_shortened_series_unscaled = pd.Series(testY_raw.numpy(), index=test_index_shortened)\n",
        "# test_mse_correct = mean_squared_error(gt_test_shortened_series_unscaled, forecast_test_shortened_series_raw_output)\n",
        "# test_var = gt_test_shortened_series_unscaled.var(ddof=0)\n",
        "# test_nmse_correct = test_mse_correct / test_var if test_var != 0 else float('inf')\n",
        "\n",
        "# dev_multivariate = pairs_timeseries_burned.iloc[train_size:train_size+dev_size]\n",
        "# dev_index_shortened = dev_multivariate.index[look_back:]\n",
        "\n",
        "# forecast_dev_shortened_series_raw_output = pd.Series(dev_normalized_predictions, index=dev_index_shortened)\n",
        "# gt_dev_shortened_series_unscaled = pd.Series(devY_raw.numpy(), index=dev_index_shortened)\n",
        "# dev_mse_correct = mean_squared_error(gt_dev_shortened_series_unscaled, forecast_dev_shortened_series_raw_output)\n",
        "# dev_var = gt_dev_shortened_series_unscaled.var(ddof=0)\n",
        "# dev_nmse_correct = dev_mse_correct / dev_var if dev_var != 0 else float('inf')\n",
        "\n",
        "# print(f\"Dev MSE correct: {dev_mse_correct}\\nTest MSE correct: {test_mse_correct}\")\n",
        "# print(f\"Dev NMSE correct: {dev_nmse_correct}\\nTest NMSE correct: {test_nmse_correct}\")"
      ],
      "metadata": {
        "colab": {
          "base_uri": "https://localhost:8080/",
          "height": 601
        },
        "id": "8WnZTwX7RJtA",
        "outputId": "abc4df7f-e379-41a3-ae11-4cb2060ec768"
      },
      "id": "8WnZTwX7RJtA",
      "execution_count": 112,
      "outputs": [
        {
          "output_type": "stream",
          "name": "stdout",
          "text": [
            "Split sizes — train: 3747, dev: 249, test: 251\n",
            "devX_raw Shape: torch.Size([249])\n",
            "dev_loader tensor Shape: torch.Size([8]), with a total of 32 batches\n",
            "2025-05-29 11:53:14,489 - log_util.py[pid:2194;line:48:log_in_local_rank_0] - WARNING: Flash attention import failed, switching to eager attention.\n"
          ]
        },
        {
          "output_type": "stream",
          "name": "stderr",
          "text": [
            "<ipython-input-112-b0e1353a4cd9>:105: UserWarning: To copy construct from a tensor, it is recommended to use sourceTensor.clone().detach() or sourceTensor.clone().detach().requires_grad_(True), rather than torch.tensor(sourceTensor).\n",
            "  y = torch.tensor(y, dtype=torch.float32)\n",
            "/usr/local/lib/python3.11/dist-packages/huggingface_hub/file_download.py:943: FutureWarning: `resume_download` is deprecated and will be removed in version 1.0.0. Downloads always resume when possible. If you want to force a new download, use `force_download=True`.\n",
            "  warnings.warn(\n",
            "100%|██████████| 1/1 [00:00<00:00, 3339.41it/s]\n"
          ]
        },
        {
          "output_type": "display_data",
          "data": {
            "text/plain": [
              "<IPython.core.display.HTML object>"
            ],
            "text/html": [
              "\n",
              "    <div>\n",
              "      \n",
              "      <progress value='1' max='1' style='width:300px; height:20px; vertical-align: middle;'></progress>\n",
              "      [1/1 00:00, Epoch 1/1]\n",
              "    </div>\n",
              "    <table border=\"1\" class=\"dataframe\">\n",
              "  <thead>\n",
              " <tr style=\"text-align: left;\">\n",
              "      <th>Step</th>\n",
              "      <th>Training Loss</th>\n",
              "    </tr>\n",
              "  </thead>\n",
              "  <tbody>\n",
              "    <tr>\n",
              "      <td>1</td>\n",
              "      <td>0.013700</td>\n",
              "    </tr>\n",
              "  </tbody>\n",
              "</table><p>"
            ]
          },
          "metadata": {}
        },
        {
          "output_type": "stream",
          "name": "stderr",
          "text": [
            "/usr/local/lib/python3.11/dist-packages/huggingface_hub/file_download.py:943: FutureWarning: `resume_download` is deprecated and will be removed in version 1.0.0. Downloads always resume when possible. If you want to force a new download, use `force_download=True`.\n",
            "  warnings.warn(\n"
          ]
        },
        {
          "output_type": "stream",
          "name": "stdout",
          "text": [
            "Saved plot to data/results/data_2008_01_01_2024_12_31_4416cb3b_timemoe/data_2008_01_01_2024_12_31_4416cb3b_plot_thresholds.png\n",
            "Saved plot to data/results/data_2008_01_01_2024_12_31_4416cb3b_timemoe/data_2008_01_01_2024_12_31_4416cb3b_groundtruth_comparison.png\n",
            "\n",
            "Validation MSE: 0.21539771090894494\n",
            "Test MSE: 0.11442924472711585\n",
            "YOY Returns: -100.00%\n",
            "YOY Std: +- 0.00%\n",
            "GT Yoy: -100.00%\n",
            "Plot filepath parent dir: data/results\n",
            "Plot filenames: {'yoy_returns': 'data_2008_01_01_2024_12_31_4416cb3b_plot_thresholds.png', 'predicted_vs_actual_spread': 'data_2008_01_01_2024_12_31_4416cb3b_groundtruth_comparison.png', 'train_val_loss': None}\n",
            "\n",
            "Dev MSE correct (using scaled training): 1.5327849388122559\n",
            "Test MSE descaled (using scaled training): 2.0297510623931885\n",
            "Dev NMSE correct (using scaled training): 0.2153976964754666\n",
            "Test NMSE descaled (using scaled training): 0.11442920781384898\n"
          ]
        }
      ]
    },
    {
      "cell_type": "code",
      "source": [],
      "metadata": {
        "id": "KHp84FBc30LK",
        "outputId": "cb4695f4-2f99-4983-e49c-66c5324fa4a7",
        "colab": {
          "base_uri": "https://localhost:8080/"
        }
      },
      "id": "KHp84FBc30LK",
      "execution_count": 105,
      "outputs": [
        {
          "output_type": "stream",
          "name": "stdout",
          "text": [
            "Dev MSE correct (using scaled training): 0.0643489882349968\n",
            "Test MSE descaled (using scaled training): 0.01488699670881033\n",
            "Dev NMSE correct (using scaled training): 0.10626723303971626\n",
            "Test NMSE descaled (using scaled training): 0.09116287942731739\n"
          ]
        }
      ]
    },
    {
      "cell_type": "code",
      "source": [
        "plt.plot(forecast_test_shortened_series, label=\"Predictions Test\")\n",
        "plt.plot(pd.Series(testY_raw.numpy(), index=test_index_shortened), label=\"Ground Truth Test\")\n",
        "test_mse = mean_squared_error(forecast_test_shortened_series, gt_test_shortened_series)\n",
        "# Make sure to set ddof=0 for population variance\n",
        "test_variance = gt_test_shortened_series.var(ddof=0)\n",
        "test_nmse = test_mse / test_variance if test_variance != 0 else float('inf')\n",
        "\n",
        "dev_index_shortened = dev_multivariate.index[look_back:]\n",
        "gt_dev_shortened_series = pd.Series(devY_raw.numpy(), index=dev_index_shortened)\n",
        "forecast_dev_shortened_series = pd.Series(dev_predictions, index=dev_index_shortened)\n",
        "\n",
        "plt.plot(forecast_dev_shortened_series, label=\"Predictions Validation\")\n",
        "plt.plot(gt_dev_shortened_series, label=\"Ground Truth Validation\")\n",
        "dev_mse = mean_squared_error(forecast_dev_shortened_series, gt_dev_shortened_series)\n",
        "# Make sure to set ddof=0 for population variance\n",
        "dev_variance = gt_dev_shortened_series.var(ddof=0)\n",
        "dev_nmse = dev_mse / dev_variance if dev_variance != 0 else float('inf')\n",
        "print(test_nmse, dev_nmse)\n",
        "\n",
        "train_index_shortened = train_multivariate.index[look_back:]\n",
        "gt_train_series = pd.Series(trainY_raw.numpy(), index=train_index_shortened)\n",
        "plt.plot(gt_train_series, label=\"Train timeseries\")\n",
        "plt.legend()"
      ],
      "metadata": {
        "id": "9e0YfgW1Vfjb",
        "colab": {
          "base_uri": "https://localhost:8080/",
          "height": 520
        },
        "outputId": "295e5e4c-9c4a-48a4-a965-b877e46a085e"
      },
      "id": "9e0YfgW1Vfjb",
      "execution_count": 86,
      "outputs": [
        {
          "output_type": "stream",
          "name": "stdout",
          "text": [
            "59.09696191776058 0.21540275561750716\n"
          ]
        },
        {
          "output_type": "execute_result",
          "data": {
            "text/plain": [
              "<matplotlib.legend.Legend at 0x7dd9c64888d0>"
            ]
          },
          "metadata": {},
          "execution_count": 86
        },
        {
          "output_type": "display_data",
          "data": {
            "text/plain": [
              "<Figure size 800x550 with 1 Axes>"
            ],
            "image/png": "[encoded data removed]"
          },
          "metadata": {}
        }
      ]
    },
    {
      "cell_type": "code",
      "source": [
        "# sanity check: MSE of unscaled test and dev\n",
        "# all_normalized_predictions\n",
        "\n",
        "# dev/validation\n",
        "dev_index_shortened = dev_multivariate.index[look_back:]\n",
        "gt_dev_shortened_series_normalized = pd.Series(devY_scaled.numpy(), index=dev_index_shortened)\n",
        "forecast_dev_shortened_series_normalized = pd.Series(dev_normalized_predictions, index=dev_index_shortened)\n",
        "dev_mse_normalized = mean_squared_error(forecast_dev_shortened_series_normalized, gt_dev_shortened_series_normalized)\n",
        "\n",
        "# test\n",
        "test_index_shortened = test_multivariate.index[look_back:]\n",
        "gt_test_shortened_series_normalized = pd.Series(testY_scaled.numpy(), index=test_index_shortened)\n",
        "forecast_test_shortened_series_normalized = pd.Series(all_normalized_predictions, index=test_index_shortened)\n",
        "test_mse_normalized = mean_squared_error(forecast_test_shortened_series_normalized, gt_test_shortened_series_normalized)\n",
        "\n",
        "print(dev_mse_normalized, test_mse_normalized)"
      ],
      "metadata": {
        "colab": {
          "base_uri": "https://localhost:8080/"
        },
        "id": "rGLyvwYZb9SY",
        "outputId": "9f0aa254-d81a-46ce-e402-9759f180d199"
      },
      "id": "rGLyvwYZb9SY",
      "execution_count": 43,
      "outputs": [
        {
          "output_type": "stream",
          "name": "stdout",
          "text": [
            "0.8216304779052734 194.31967163085938\n"
          ]
        }
      ]
    },
    {
      "cell_type": "code",
      "source": [
        "print(\"==== SHAPES ====\")\n",
        "print(f\"train: {train.shape}, dev: {dev.shape}, test: {test.shape}\")\n",
        "print(f\"train_multivariate: {train_multivariate.shape}, dev_multivariate: {dev_multivariate.shape}, test_multivariate: {test_multivariate.shape}\")\n",
        "print(f\"devX_raw: {devX_raw.shape}, devX_scaled: {devX_scaled.shape}, devY_raw: {devY_raw.shape}, devY_scaled: {devY_scaled.shape}\")\n",
        "print(f\"testX_raw: {testX_raw.shape}, testX_scaled: {testX_scaled.shape}, testY_raw: {testY_raw.shape}, testY_scaled: {testY_scaled.shape}\")\n",
        "print(f\"predictions: {predictions.shape}, all_normalized_predictions: {all_normalized_predictions.shape}\")\n",
        "print(f\"dev_predictions: {dev_predictions.shape}, dev_normalized_predictions: {dev_normalized_predictions.shape}\")\n",
        "\n",
        "print(\"\\n==== INDICES ====\")\n",
        "print(f\"train index: {train.index[0]} to {train.index[-1]}\")\n",
        "print(f\"dev index: {dev.index[0]} to {dev.index[-1]}\")\n",
        "print(f\"test index: {test.index[0]} to {test.index[-1]}\")\n",
        "print(f\"test_multivariate['S1_close'] index: {test_multivariate['S1_close'].index[0]} to {test_multivariate['S1_close'].index[-1]}\")\n",
        "print(f\"test_index_shortened: {test_index_shortened[0]} to {test_index_shortened[-1]}\")\n",
        "print(f\"dev_index_shortened: {dev_index_shortened[0]} to {dev_index_shortened[-1]}\")\n",
        "\n",
        "print(\"\\n==== SAMPLE VALUES ====\")\n",
        "print(\"First 5 devY_raw:\", devY_raw[:5])\n",
        "print(\"First 5 devY_scaled:\", devY_scaled[:5])\n",
        "print(\"First 5 testY_raw:\", testY_raw[:5])\n",
        "print(\"First 5 testY_scaled:\", testY_scaled[:5])\n",
        "print(\"First 5 predictions:\", predictions[:5])\n",
        "print(\"First 5 dev_predictions:\", dev_predictions[:5])\n",
        "\n",
        "print(\"\\n==== NORMALIZATION CHECKS ====\")\n",
        "print(f\"dev_mean shape: {dev_mean.shape}, dev_std shape: {dev_std.shape}\")\n",
        "print(f\"test_mean shape: {test_mean.shape}, test_std shape: {test_std.shape}\")\n",
        "print(\"First 5 dev_mean:\", dev_mean[:5])\n",
        "print(\"First 5 dev_std:\", dev_std[:5])\n",
        "print(\"First 5 test_mean:\", test_mean[:5])\n",
        "print(\"First 5 test_std:\", test_std[:5])\n",
        "\n",
        "print(\"\\n==== MSEs for sanity check ====\")\n",
        "print(f\"Denormalized Test MSE: {test_mse}\")\n",
        "print(f\"Denormalized Dev MSE: {dev_mse}\")\n",
        "print(f\"Normalized Test MSE: {test_mse_normalized}\")\n",
        "print(f\"Normalized Dev MSE: {dev_mse_normalized}\")\n",
        "print(f\"Test variance: {test_variance}\")\n",
        "print(f\"Dev variance: {dev_variance}\")\n",
        "\n",
        "print(\"\\n==== MISC ====\")\n",
        "print(f\"look_back: {look_back}\")\n",
        "print(f\"batch_size: {batch_size}\")\n",
        "print(f\"burn_in: {burn_in}\")\n",
        "print(f\"train_size: {train_size}, dev_size: {dev_size}, test_size: {test_size}\")\n",
        "print(f\"Total pairs_timeseries_burned length: {len(pairs_timeseries_burned)}\")\n"
      ],
      "metadata": {
        "colab": {
          "base_uri": "https://localhost:8080/"
        },
        "id": "Yf7XzkUhi9eG",
        "outputId": "837d8079-2137-4d38-fdc3-35404a741994"
      },
      "id": "Yf7XzkUhi9eG",
      "execution_count": 45,
      "outputs": [
        {
          "output_type": "stream",
          "name": "stdout",
          "text": [
            "==== SHAPES ====\n",
            "train: (3747,), dev: (249,), test: (251,)\n",
            "train_multivariate: (3747, 34), dev_multivariate: (249, 34), test_multivariate: (251, 34)\n",
            "devX_raw: torch.Size([229, 20]), devX_scaled: torch.Size([229, 20]), devY_raw: torch.Size([229]), devY_scaled: torch.Size([229])\n",
            "testX_raw: torch.Size([231, 20]), testX_scaled: torch.Size([231, 20]), testY_raw: torch.Size([231]), testY_scaled: torch.Size([231])\n",
            "predictions: (231,), all_normalized_predictions: (231,)\n",
            "dev_predictions: (229,), dev_normalized_predictions: (229,)\n",
            "\n",
            "==== INDICES ====\n",
            "train index: 2008-02-14 00:00:00 to 2022-12-30 00:00:00\n",
            "dev index: 2023-01-03 00:00:00 to 2023-12-28 00:00:00\n",
            "test index: 2023-12-29 00:00:00 to 2024-12-27 00:00:00\n",
            "test_multivariate['S1_close'] index: 2023-12-29 00:00:00 to 2024-12-27 00:00:00\n",
            "test_index_shortened: 2024-01-30 00:00:00 to 2024-12-27 00:00:00\n",
            "dev_index_shortened: 2023-02-01 00:00:00 to 2023-12-28 00:00:00\n",
            "\n",
            "==== SAMPLE VALUES ====\n",
            "First 5 devY_raw: tensor([-14.6934, -14.4607, -14.5346, -14.4325, -14.8339])\n",
            "First 5 devY_scaled: tensor([-2.5001, -1.4676, -1.5252, -1.0921, -2.0623])\n",
            "First 5 testY_raw: tensor([-20.4070, -19.8730, -20.0899, -20.2352, -20.2489])\n",
            "First 5 testY_scaled: tensor([-2.4379, -1.1002, -1.3843, -1.5016, -1.3786])\n",
            "First 5 predictions: [-26.43856  -27.162153 -27.360106 -27.537521 -27.669113]\n",
            "First 5 dev_predictions: [-14.245136 -14.269013 -14.258562 -14.389249 -14.244076]\n",
            "\n",
            "==== NORMALIZATION CHECKS ====\n",
            "dev_mean shape: torch.Size([229, 1]), dev_std shape: torch.Size([229, 1])\n",
            "test_mean shape: torch.Size([231, 1]), test_std shape: torch.Size([231, 1])\n",
            "First 5 dev_mean: tensor([[-13.8687],\n",
            "        [-13.9326],\n",
            "        [-13.9806],\n",
            "        [-14.0159],\n",
            "        [-14.0277]])\n",
            "First 5 dev_std: tensor([[0.3299],\n",
            "        [0.3598],\n",
            "        [0.3632],\n",
            "        [0.3815],\n",
            "        [0.3910]])\n",
            "First 5 test_mean: tensor([[-19.1720],\n",
            "        [-19.2681],\n",
            "        [-19.3141],\n",
            "        [-19.3823],\n",
            "        [-19.4615]])\n",
            "First 5 test_std: tensor([[0.5066],\n",
            "        [0.5498],\n",
            "        [0.5605],\n",
            "        [0.5680],\n",
            "        [0.5711]])\n",
            "\n",
            "==== MSEs for sanity check ====\n",
            "Denormalized Test MSE: 83.6579360961914\n",
            "Denormalized Dev MSE: 0.8216304779052734\n",
            "Normalized Test MSE: 194.31967163085938\n",
            "Normalized Dev MSE: 0.8216304779052734\n",
            "Test variance: 7.601390361785889\n",
            "Dev variance: 3.47178053855896\n",
            "\n",
            "==== MISC ====\n",
            "look_back: 20\n",
            "batch_size: 8\n",
            "burn_in: 30\n",
            "train_size: 3747, dev_size: 249, test_size: 251\n",
            "Total pairs_timeseries_burned length: 4247\n"
          ]
        }
      ]
    },
    {
      "cell_type": "code",
      "source": [],
      "metadata": {
        "colab": {
          "base_uri": "https://localhost:8080/",
          "height": 502
        },
        "id": "yKAqwBXWZC0f",
        "outputId": "4ae5a359-d95b-42e5-83f6-2935f42c242e"
      },
      "id": "yKAqwBXWZC0f",
      "execution_count": 21,
      "outputs": [
        {
          "output_type": "execute_result",
          "data": {
            "text/plain": [
              "0.026786201130362525"
            ]
          },
          "metadata": {},
          "execution_count": 21
        },
        {
          "output_type": "display_data",
          "data": {
            "text/plain": [
              "<Figure size 800x550 with 1 Axes>"
            ],
            "image/png": "[encoded data removed]"
          },
          "metadata": {}
        }
      ]
    },
    {
      "cell_type": "code",
      "source": [
        "first_param = next(model.parameters()).data\n",
        "print(\"First 10 weights of first param:\", first_param.flatten()[:10].cpu().numpy())\n",
        "# pairs_timeseries_df of latest element [-1] gave the weight: [ 0.04013866 -0.04795108  0.03871797 -0.03122762 -0.05527523 -0.03969453 0.03159382 -0.04067107 -0.0423359  -0.05141316]\n",
        "# pairs_timeseries_df of element [-2] gave the weights: [ 0.04013865 -0.04795108  0.03891797 -0.03122762 -0.05527523 -0.03969454 0.03159382 -0.04067108 -0.04213591 -0.05141316]\n",
        "# Although we are unsure if this is supposed to change, we can definitely check whether it changes when we change the output_path\n",
        "# pairs_timeseries_df of element [-2] AFTER modifying output path gave the weights [ 0.04013865 -0.04795108  0.03891797 -0.03122762 -0.05527523 -0.03969454 0.03159382 -0.04067108 -0.04213591 -0.05141316]\n",
        "# the same weights,\n"
      ],
      "metadata": {
        "id": "gQ7L2YQYRl2i"
      },
      "id": "gQ7L2YQYRl2i",
      "execution_count": null,
      "outputs": []
    },
    {
      "cell_type": "code",
      "source": [
        "import hashlib\n",
        "\n",
        "def file_hash(filepath):\n",
        "    with open(filepath, \"rb\") as f:\n",
        "        return hashlib.md5(f.read()).hexdigest()\n",
        "\n",
        "model_new_dir = \"logs/time_moe/test/model.safetensors\"\n",
        "model_old_dir = \"logs/time_moe/model.safetensors\"\n",
        "\n",
        "hash_new = file_hash(model_new_dir)\n",
        "hash_old = file_hash(model_old_dir)\n",
        "\n",
        "print(\"New model hash:\", hash_new)\n",
        "print(\"Old model hash:\", hash_old)\n",
        "\n",
        "if hash_new == hash_old:\n",
        "    print(\"The files are identical.\")\n",
        "else:\n",
        "    print(\"The files are different.\")"
      ],
      "metadata": {
        "id": "l630aZTxULE5"
      },
      "id": "l630aZTxULE5",
      "execution_count": null,
      "outputs": []
    },
    {
      "cell_type": "code",
      "execution_count": null,
      "id": "aca5bb02",
      "metadata": {
        "id": "aca5bb02"
      },
      "outputs": [],
      "source": [
        "# goal: first 10 results more than one positive yoy return\n",
        "\n",
        "print(\"Hello, World!\")\n",
        "model_new_dir = \"logs/time_moe/test/model.safetensors\"\n",
        "model_old_dir = \"logs/time_moe/model.safetensors\""
      ]
    },
    {
      "cell_type": "code",
      "source": [
        "def return_score(yoy_mean, gt_yoy):\n",
        "  if gt_yoy == -1:\n",
        "    return -1\n",
        "  return round((1 + yoy_mean) / (1 + gt_yoy), 2)\n",
        "\n",
        "def results_to_ascii_table(results):\n",
        "    # Define column headers\n",
        "    headers = [\n",
        "        \"Pair\",\n",
        "        \"Cointegration Score\",\n",
        "        \"val MSE\",\n",
        "        \"test MSE\",\n",
        "        \"YoY Returns (std)\",\n",
        "        \"Theoretical Return Under Perfect Information\",\n",
        "        \"Return Score\"\n",
        "    ]\n",
        "    # Calculate the max width for each column\n",
        "    cols = list(zip(*results))\n",
        "    col_widths = [\n",
        "        max(len(str(h)), *(len(str(cell)) for cell in col))\n",
        "        for h, col in zip(headers, cols)\n",
        "    ]\n",
        "    # Helper to create a line separator\n",
        "    def make_sep(char=\"+\", pad=\"-\"):\n",
        "        return char + char.join(pad * (w + 2) for w in col_widths) + char\n",
        "\n",
        "    def format_row(row, col_widths, row_idx=None, number_pair=False):\n",
        "        formatted_cells = []\n",
        "        for col_idx, (cell, w) in enumerate(zip(row, col_widths)):\n",
        "            # Add numbering if required and it's the first column (Pair)\n",
        "            if number_pair and col_idx == 0 and row_idx is not None:\n",
        "                cell = f\"{row_idx + 1}. {cell}\"\n",
        "            if col_idx == 1 and isinstance(cell, float):\n",
        "                # format cointegration score in the format \"x.x*10^x\"\n",
        "                cell = f\"{cell:.2e}\".replace(\"e\",\"*10^\")\n",
        "            if col_idx == 5 and isinstance(cell, float):\n",
        "                cell = f\"{cell*100:.2f}%\"\n",
        "            if isinstance(cell, float):\n",
        "                cell = f\"{cell:.5f}\"\n",
        "            formatted_cells.append(f\"{str(cell):<{w}}\")\n",
        "        return \"| \" + \" | \".join(formatted_cells) + \" |\"\n",
        "\n",
        "    # Build table\n",
        "    lines = []\n",
        "    lines.append(make_sep())\n",
        "    lines.append(format_row(headers, col_widths))\n",
        "    lines.append(make_sep(char=\"+\", pad=\"=\"))\n",
        "    for idx, row in enumerate(results):\n",
        "        lines.append(format_row(row, col_widths, row_idx=idx, number_pair=True))\n",
        "        lines.append(make_sep())\n",
        "    return \"\\n\".join(lines)\n"
      ],
      "metadata": {
        "id": "P_qsH9-OOB95"
      },
      "id": "P_qsH9-OOB95",
      "execution_count": null,
      "outputs": []
    }
  ],
  "metadata": {
    "kernelspec": {
      "display_name": "Python 3",
      "name": "python3"
    },
    "language_info": {
      "codemirror_mode": {
        "name": "ipython",
        "version": 3
      },
      "file_extension": ".py",
      "mimetype": "text/x-python",
      "name": "python",
      "nbconvert_exporter": "python",
      "pygments_lexer": "ipython3",
      "version": "3.9.13"
    },
    "colab": {
      "provenance": [],
      "gpuType": "L4"
    },
    "accelerator": "GPU",
    "widgets": {
      "application/vnd.jupyter.widget-state+json": {
        "0581bebdfc2848c7a791ef28bdf50a04": {
          "model_module": "@jupyter-widgets/controls",
          "model_name": "HBoxModel",
          "model_module_version": "1.5.0",
          "state": {
            "_dom_classes": [],
            "_model_module": "@jupyter-widgets/controls",
            "_model_module_version": "1.5.0",
            "_model_name": "HBoxModel",
            "_view_count": null,
            "_view_module": "@jupyter-widgets/controls",
            "_view_module_version": "1.5.0",
            "_view_name": "HBoxView",
            "box_style": "",
            "children": [
              "IPY_MODEL_6875f48625334a7585a9477ced3c7d55",
              "IPY_MODEL_2a61db7aebcd41988fb05e687ef86fae",
              "IPY_MODEL_afa468f2f306481885f2f757169b07b4"
            ],
            "layout": "IPY_MODEL_07d0472ca932408cafa5b65a36696b4c"
          }
        },
        "6875f48625334a7585a9477ced3c7d55": {
          "model_module": "@jupyter-widgets/controls",
          "model_name": "HTMLModel",
          "model_module_version": "1.5.0",
          "state": {
            "_dom_classes": [],
            "_model_module": "@jupyter-widgets/controls",
            "_model_module_version": "1.5.0",
            "_model_name": "HTMLModel",
            "_view_count": null,
            "_view_module": "@jupyter-widgets/controls",
            "_view_module_version": "1.5.0",
            "_view_name": "HTMLView",
            "description": "",
            "description_tooltip": null,
            "layout": "IPY_MODEL_def5feaa388d469f82cfaed3c960eec6",
            "placeholder": "​",
            "style": "IPY_MODEL_a4536b9df5004e17bdf3de1a6dd7e853",
            "value": "Gathering [...]: 100%"
          }
        },
        "2a61db7aebcd41988fb05e687ef86fae": {
          "model_module": "@jupyter-widgets/controls",
          "model_name": "FloatProgressModel",
          "model_module_version": "1.5.0",
          "state": {
            "_dom_classes": [],
            "_model_module": "@jupyter-widgets/controls",
            "_model_module_version": "1.5.0",
            "_model_name": "FloatProgressModel",
            "_view_count": null,
            "_view_module": "@jupyter-widgets/controls",
            "_view_module_version": "1.5.0",
            "_view_name": "ProgressView",
            "bar_style": "success",
            "description": "",
            "description_tooltip": null,
            "layout": "IPY_MODEL_6e7245993fe34293b2d1213ab5e7482f",
            "max": 30,
            "min": 0,
            "orientation": "horizontal",
            "style": "IPY_MODEL_de7d9e951e5d42748d4aefcce301f24f",
            "value": 30
          }
        },
        "afa468f2f306481885f2f757169b07b4": {
          "model_module": "@jupyter-widgets/controls",
          "model_name": "HTMLModel",
          "model_module_version": "1.5.0",
          "state": {
            "_dom_classes": [],
            "_model_module": "@jupyter-widgets/controls",
            "_model_module_version": "1.5.0",
            "_model_name": "HTMLModel",
            "_view_count": null,
            "_view_module": "@jupyter-widgets/controls",
            "_view_module_version": "1.5.0",
            "_view_name": "HTMLView",
            "description": "",
            "description_tooltip": null,
            "layout": "IPY_MODEL_98f32bee37444776bb9a97e12245058e",
            "placeholder": "​",
            "style": "IPY_MODEL_af008c4a354443e2894f477971d45f7b",
            "value": " 30/30 [06:14&lt;00:00, 12.27s/it]"
          }
        },
        "07d0472ca932408cafa5b65a36696b4c": {
          "model_module": "@jupyter-widgets/base",
          "model_name": "LayoutModel",
          "model_module_version": "1.2.0",
          "state": {
            "_model_module": "@jupyter-widgets/base",
            "_model_module_version": "1.2.0",
            "_model_name": "LayoutModel",
            "_view_count": null,
            "_view_module": "@jupyter-widgets/base",
            "_view_module_version": "1.2.0",
            "_view_name": "LayoutView",
            "align_content": null,
            "align_items": null,
            "align_self": null,
            "border": null,
            "bottom": null,
            "display": null,
            "flex": null,
            "flex_flow": null,
            "grid_area": null,
            "grid_auto_columns": null,
            "grid_auto_flow": null,
            "grid_auto_rows": null,
            "grid_column": null,
            "grid_gap": null,
            "grid_row": null,
            "grid_template_areas": null,
            "grid_template_columns": null,
            "grid_template_rows": null,
            "height": null,
            "justify_content": null,
            "justify_items": null,
            "left": null,
            "margin": null,
            "max_height": null,
            "max_width": null,
            "min_height": null,
            "min_width": null,
            "object_fit": null,
            "object_position": null,
            "order": null,
            "overflow": null,
            "overflow_x": null,
            "overflow_y": null,
            "padding": null,
            "right": null,
            "top": null,
            "visibility": null,
            "width": null
          }
        },
        "def5feaa388d469f82cfaed3c960eec6": {
          "model_module": "@jupyter-widgets/base",
          "model_name": "LayoutModel",
          "model_module_version": "1.2.0",
          "state": {
            "_model_module": "@jupyter-widgets/base",
            "_model_module_version": "1.2.0",
            "_model_name": "LayoutModel",
            "_view_count": null,
            "_view_module": "@jupyter-widgets/base",
            "_view_module_version": "1.2.0",
            "_view_name": "LayoutView",
            "align_content": null,
            "align_items": null,
            "align_self": null,
            "border": null,
            "bottom": null,
            "display": null,
            "flex": null,
            "flex_flow": null,
            "grid_area": null,
            "grid_auto_columns": null,
            "grid_auto_flow": null,
            "grid_auto_rows": null,
            "grid_column": null,
            "grid_gap": null,
            "grid_row": null,
            "grid_template_areas": null,
            "grid_template_columns": null,
            "grid_template_rows": null,
            "height": null,
            "justify_content": null,
            "justify_items": null,
            "left": null,
            "margin": null,
            "max_height": null,
            "max_width": null,
            "min_height": null,
            "min_width": null,
            "object_fit": null,
            "object_position": null,
            "order": null,
            "overflow": null,
            "overflow_x": null,
            "overflow_y": null,
            "padding": null,
            "right": null,
            "top": null,
            "visibility": null,
            "width": null
          }
        },
        "a4536b9df5004e17bdf3de1a6dd7e853": {
          "model_module": "@jupyter-widgets/controls",
          "model_name": "DescriptionStyleModel",
          "model_module_version": "1.5.0",
          "state": {
            "_model_module": "@jupyter-widgets/controls",
            "_model_module_version": "1.5.0",
            "_model_name": "DescriptionStyleModel",
            "_view_count": null,
            "_view_module": "@jupyter-widgets/base",
            "_view_module_version": "1.2.0",
            "_view_name": "StyleView",
            "description_width": ""
          }
        },
        "6e7245993fe34293b2d1213ab5e7482f": {
          "model_module": "@jupyter-widgets/base",
          "model_name": "LayoutModel",
          "model_module_version": "1.2.0",
          "state": {
            "_model_module": "@jupyter-widgets/base",
            "_model_module_version": "1.2.0",
            "_model_name": "LayoutModel",
            "_view_count": null,
            "_view_module": "@jupyter-widgets/base",
            "_view_module_version": "1.2.0",
            "_view_name": "LayoutView",
            "align_content": null,
            "align_items": null,
            "align_self": null,
            "border": null,
            "bottom": null,
            "display": null,
            "flex": null,
            "flex_flow": null,
            "grid_area": null,
            "grid_auto_columns": null,
            "grid_auto_flow": null,
            "grid_auto_rows": null,
            "grid_column": null,
            "grid_gap": null,
            "grid_row": null,
            "grid_template_areas": null,
            "grid_template_columns": null,
            "grid_template_rows": null,
            "height": null,
            "justify_content": null,
            "justify_items": null,
            "left": null,
            "margin": null,
            "max_height": null,
            "max_width": null,
            "min_height": null,
            "min_width": null,
            "object_fit": null,
            "object_position": null,
            "order": null,
            "overflow": null,
            "overflow_x": null,
            "overflow_y": null,
            "padding": null,
            "right": null,
            "top": null,
            "visibility": null,
            "width": null
          }
        },
        "de7d9e951e5d42748d4aefcce301f24f": {
          "model_module": "@jupyter-widgets/controls",
          "model_name": "ProgressStyleModel",
          "model_module_version": "1.5.0",
          "state": {
            "_model_module": "@jupyter-widgets/controls",
            "_model_module_version": "1.5.0",
            "_model_name": "ProgressStyleModel",
            "_view_count": null,
            "_view_module": "@jupyter-widgets/base",
            "_view_module_version": "1.2.0",
            "_view_name": "StyleView",
            "bar_color": null,
            "description_width": ""
          }
        },
        "98f32bee37444776bb9a97e12245058e": {
          "model_module": "@jupyter-widgets/base",
          "model_name": "LayoutModel",
          "model_module_version": "1.2.0",
          "state": {
            "_model_module": "@jupyter-widgets/base",
            "_model_module_version": "1.2.0",
            "_model_name": "LayoutModel",
            "_view_count": null,
            "_view_module": "@jupyter-widgets/base",
            "_view_module_version": "1.2.0",
            "_view_name": "LayoutView",
            "align_content": null,
            "align_items": null,
            "align_self": null,
            "border": null,
            "bottom": null,
            "display": null,
            "flex": null,
            "flex_flow": null,
            "grid_area": null,
            "grid_auto_columns": null,
            "grid_auto_flow": null,
            "grid_auto_rows": null,
            "grid_column": null,
            "grid_gap": null,
            "grid_row": null,
            "grid_template_areas": null,
            "grid_template_columns": null,
            "grid_template_rows": null,
            "height": null,
            "justify_content": null,
            "justify_items": null,
            "left": null,
            "margin": null,
            "max_height": null,
            "max_width": null,
            "min_height": null,
            "min_width": null,
            "object_fit": null,
            "object_position": null,
            "order": null,
            "overflow": null,
            "overflow_x": null,
            "overflow_y": null,
            "padding": null,
            "right": null,
            "top": null,
            "visibility": null,
            "width": null
          }
        },
        "af008c4a354443e2894f477971d45f7b": {
          "model_module": "@jupyter-widgets/controls",
          "model_name": "DescriptionStyleModel",
          "model_module_version": "1.5.0",
          "state": {
            "_model_module": "@jupyter-widgets/controls",
            "_model_module_version": "1.5.0",
            "_model_name": "DescriptionStyleModel",
            "_view_count": null,
            "_view_module": "@jupyter-widgets/base",
            "_view_module_version": "1.2.0",
            "_view_name": "StyleView",
            "description_width": ""
          }
        }
      }
    }
  },
  "nbformat": 4,
  "nbformat_minor": 5
}