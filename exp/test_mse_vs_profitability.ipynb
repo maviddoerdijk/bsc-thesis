{
 "cells": [
  {
   "cell_type": "code",
   "execution_count": null,
   "id": "287ffabf",
   "metadata": {},
   "outputs": [],
   "source": [
    "# Goal: plot test MSE vs profitability\n",
    "\n",
    "print(\"hello world\")"
   ]
  }
 ],
 "metadata": {
  "language_info": {
   "name": "python"
  }
 },
 "nbformat": 4,
 "nbformat_minor": 5
}
