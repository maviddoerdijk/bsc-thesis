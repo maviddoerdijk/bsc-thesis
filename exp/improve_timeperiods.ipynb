{
 "cells": [
  {
   "cell_type": "code",
   "execution_count": null,
   "id": "cc9c2b8c",
   "metadata": {},
   "outputs": [],
   "source": [
    "# Goal: get timeperiods for which the profitability vs predictability plots look better.\n",
    "\n",
    "print(\"hello world\")"
   ]
  }
 ],
 "metadata": {
  "language_info": {
   "name": "python"
  }
 },
 "nbformat": 4,
 "nbformat_minor": 5
}
