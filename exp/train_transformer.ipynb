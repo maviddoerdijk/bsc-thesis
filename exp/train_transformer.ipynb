{
 "cells": [
  {
   "cell_type": "markdown",
   "id": "6e110d40",
   "metadata": {},
   "source": [
    "Using the main.ipynb for training Transformers was too chaotic for me. This file will be ONLY contain code that is absolutely necessary for finding out how to train the Transformer model."
   ]
  }
 ],
 "metadata": {
  "language_info": {
   "name": "python"
  }
 },
 "nbformat": 4,
 "nbformat_minor": 5
}
