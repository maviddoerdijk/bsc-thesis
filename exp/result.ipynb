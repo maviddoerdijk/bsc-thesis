{
 "cells": [
  {
   "cell_type": "code",
   "execution_count": null,
   "id": "064c3212",
   "metadata": {},
   "outputs": [],
   "source": [
    "# Random code here so colab knows what's going on\n",
    "\n",
    "print('hello world')"
   ]
  }
 ],
 "metadata": {
  "language_info": {
   "name": "python"
  }
 },
 "nbformat": 4,
 "nbformat_minor": 5
}
