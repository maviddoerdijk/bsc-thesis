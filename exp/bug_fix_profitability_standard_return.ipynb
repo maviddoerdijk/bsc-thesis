{
 "cells": [
  {
   "cell_type": "code",
   "execution_count": null,
   "id": "7f8e009b",
   "metadata": {},
   "outputs": [],
   "source": [
    "# Goal: find out why so many returns show gt_yoy -15.275%\n",
    "\n",
    "print('hello world')"
   ]
  }
 ],
 "metadata": {
  "language_info": {
   "name": "python"
  }
 },
 "nbformat": 4,
 "nbformat_minor": 5
}
