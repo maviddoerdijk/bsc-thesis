{
  "cells": [
    {
      "cell_type": "code",
      "execution_count": 1,
      "id": "3c0ca773",
      "metadata": {
        "id": "3c0ca773",
        "outputId": "44ecc1eb-f795-4760-cefd-5c2583f3135b",
        "colab": {
          "base_uri": "https://localhost:8080/"
        }
      },
      "outputs": [
        {
          "output_type": "stream",
          "name": "stdout",
          "text": [
            "/content\n",
            "Reading package lists... Done\n",
            "Building dependency tree... Done\n",
            "Reading state information... Done\n",
            "git-lfs is already the newest version (3.0.2-1ubuntu0.3).\n",
            "0 upgraded, 0 newly installed, 0 to remove and 35 not upgraded.\n",
            "Git LFS initialized.\n",
            "Cloning into 'bsc-thesis'...\n",
            "remote: Enumerating objects: 974, done.\u001b[K\n",
            "remote: Counting objects: 100% (114/114), done.\u001b[K\n",
            "remote: Compressing objects: 100% (72/72), done.\u001b[K\n",
            "remote: Total 974 (delta 76), reused 60 (delta 42), pack-reused 860 (from 2)\u001b[K\n",
            "Receiving objects: 100% (974/974), 28.35 MiB | 17.76 MiB/s, done.\n",
            "Resolving deltas: 100% (560/560), done.\n",
            "Filtering content: 100% (32/32), 1.75 GiB | 61.75 MiB/s, done.\n",
            "/content/bsc-thesis/src\n",
            "\u001b[0m\u001b[01;34mbacktesting\u001b[0m/  \u001b[01;34mdata\u001b[0m/      main.ipynb  \u001b[01;34mmodels\u001b[0m/         \u001b[01;34mutils\u001b[0m/\n",
            "\u001b[01;34mconfig\u001b[0m/       \u001b[01;34mexternal\u001b[0m/  main.py     \u001b[01;34mpreprocessing\u001b[0m/\n"
          ]
        }
      ],
      "source": [
        "# if \"preprocessing\" folder in current folders -> cd back to original folder\n",
        "%cd /content\n",
        "import os\n",
        "if os.path.exists(\"bsc-thesis\"):\n",
        "  # if bsc-thesis folder already exists; completely remove\n",
        "  !rm -rf bsc-thesis\n",
        "\n",
        "# this makes sure cached files are readily available (for calling e.g. `gather_data_cached`)\n",
        "!apt-get install git-lfs\n",
        "!git lfs install\n",
        "\n",
        "# cloning repo\n",
        "branch = \"main\"\n",
        "!git clone --branch $branch https://github.com/maviddoerdijk/bsc-thesis.git\n",
        "\n",
        "# moving into project dir\n",
        "%cd bsc-thesis/src\n",
        "%ls"
      ]
    },
    {
      "cell_type": "code",
      "source": [
        "!pip install ta\n",
        "!pip install pykalman\n",
        "!pip install PyWavelets\n",
        "!pip install curl-cffi\n",
        "\n",
        "## specific packages for time moe\n",
        "# need a different version of accelerate because of bug \"ImportError: cannot import name 'clear_device_cache' from 'accelerate.utils.memory'\"\n",
        "INSTALL_FOR_TIME_MOE = False\n",
        "if INSTALL_FOR_TIME_MOE:\n",
        "  !pip install numpy==1.26.3 # necessary for bug fix\n",
        "  !pip install peft==0.10.0\n",
        "  !pip install -U accelerate==0.32.0 # standard google colab version is 1.6.0 (apr 1, 2025), but for stability, we use time moe's 0.28.0 (mar 12, 2024)\n",
        "  !pip install transformers==4.40.1 # standard google colab version is 4.51.3, but time moe repo requirements mention/prefer 4.40.1 for stability\n",
        "  !pip install datasets==2.18.0\n",
        "  FLASH_ATTN = False # set to true if using this\n",
        "  if FLASH_ATTN:\n",
        "    !pip install flash-attn==2.6.3 # optional but recommended by the repo"
      ],
      "metadata": {
        "id": "YFNVzzsq8-Mn",
        "outputId": "4e6ee9e4-0001-471b-a72f-4c6c69281073",
        "colab": {
          "base_uri": "https://localhost:8080/"
        }
      },
      "id": "YFNVzzsq8-Mn",
      "execution_count": 2,
      "outputs": [
        {
          "output_type": "stream",
          "name": "stdout",
          "text": [
            "Collecting ta\n",
            "  Downloading ta-0.11.0.tar.gz (25 kB)\n",
            "  Preparing metadata (setup.py) ... \u001b[?25l\u001b[?25hdone\n",
            "Requirement already satisfied: numpy in /usr/local/lib/python3.11/dist-packages (from ta) (2.0.2)\n",
            "Requirement already satisfied: pandas in /usr/local/lib/python3.11/dist-packages (from ta) (2.2.2)\n",
            "Requirement already satisfied: python-dateutil>=2.8.2 in /usr/local/lib/python3.11/dist-packages (from pandas->ta) (2.9.0.post0)\n",
            "Requirement already satisfied: pytz>=2020.1 in /usr/local/lib/python3.11/dist-packages (from pandas->ta) (2025.2)\n",
            "Requirement already satisfied: tzdata>=2022.7 in /usr/local/lib/python3.11/dist-packages (from pandas->ta) (2025.2)\n",
            "Requirement already satisfied: six>=1.5 in /usr/local/lib/python3.11/dist-packages (from python-dateutil>=2.8.2->pandas->ta) (1.17.0)\n",
            "Building wheels for collected packages: ta\n",
            "  Building wheel for ta (setup.py) ... \u001b[?25l\u001b[?25hdone\n",
            "  Created wheel for ta: filename=ta-0.11.0-py3-none-any.whl size=29412 sha256=c930a42e593e93944bef7af98c6dd4b4e1efb715c962d862e918a18cd6dbfe8f\n",
            "  Stored in directory: /root/.cache/pip/wheels/a1/d7/29/7781cc5eb9a3659d032d7d15bdd0f49d07d2b24fec29f44bc4\n",
            "Successfully built ta\n",
            "Installing collected packages: ta\n",
            "Successfully installed ta-0.11.0\n",
            "Collecting pykalman\n",
            "  Downloading pykalman-0.10.1-py2.py3-none-any.whl.metadata (9.5 kB)\n",
            "Requirement already satisfied: numpy<3 in /usr/local/lib/python3.11/dist-packages (from pykalman) (2.0.2)\n",
            "Requirement already satisfied: packaging in /usr/local/lib/python3.11/dist-packages (from pykalman) (24.2)\n",
            "Collecting scikit-base<0.13.0 (from pykalman)\n",
            "  Downloading scikit_base-0.12.3-py3-none-any.whl.metadata (8.8 kB)\n",
            "Requirement already satisfied: scipy<2.0.0 in /usr/local/lib/python3.11/dist-packages (from pykalman) (1.15.3)\n",
            "Downloading pykalman-0.10.1-py2.py3-none-any.whl (248 kB)\n",
            "\u001b[2K   \u001b[90m━━━━━━━━━━━━━━━━━━━━━━━━━━━━━━━━━━━━━━━━\u001b[0m \u001b[32m248.5/248.5 kB\u001b[0m \u001b[31m19.5 MB/s\u001b[0m eta \u001b[36m0:00:00\u001b[0m\n",
            "\u001b[?25hDownloading scikit_base-0.12.3-py3-none-any.whl (145 kB)\n",
            "\u001b[2K   \u001b[90m━━━━━━━━━━━━━━━━━━━━━━━━━━━━━━━━━━━━━━━━\u001b[0m \u001b[32m145.5/145.5 kB\u001b[0m \u001b[31m14.3 MB/s\u001b[0m eta \u001b[36m0:00:00\u001b[0m\n",
            "\u001b[?25hInstalling collected packages: scikit-base, pykalman\n",
            "Successfully installed pykalman-0.10.1 scikit-base-0.12.3\n",
            "Requirement already satisfied: PyWavelets in /usr/local/lib/python3.11/dist-packages (1.8.0)\n",
            "Requirement already satisfied: numpy<3,>=1.23 in /usr/local/lib/python3.11/dist-packages (from PyWavelets) (2.0.2)\n",
            "Requirement already satisfied: curl-cffi in /usr/local/lib/python3.11/dist-packages (0.11.1)\n",
            "Requirement already satisfied: cffi>=1.12.0 in /usr/local/lib/python3.11/dist-packages (from curl-cffi) (1.17.1)\n",
            "Requirement already satisfied: certifi>=2024.2.2 in /usr/local/lib/python3.11/dist-packages (from curl-cffi) (2025.4.26)\n",
            "Requirement already satisfied: pycparser in /usr/local/lib/python3.11/dist-packages (from cffi>=1.12.0->curl-cffi) (2.22)\n"
          ]
        }
      ]
    },
    {
      "cell_type": "code",
      "source": [
        "# Module imports\n",
        "import pandas as pd\n",
        "import numpy as np\n",
        "from typing import Optional, Callable, Dict, Any\n",
        "from sklearn.preprocessing import MinMaxScaler\n",
        "from matplotlib import pyplot as plt\n",
        "import torch\n",
        "from torch.utils.data import Dataset, DataLoader\n",
        "from torch.optim import AdamW\n",
        "from torch.utils.data import DataLoader\n",
        "from tqdm.auto import tqdm # note: using tqdm.auto usually automatically chooses the right import based on whether you're in CLI, notebook or somewhere else\n",
        "\n",
        "import torch.nn as nn\n",
        "import itertools\n",
        "from pykalman import KalmanFilter\n",
        "import ast\n",
        "import re\n",
        "from tabulate import tabulate\n",
        "from datetime import datetime\n",
        "\n",
        "# Custom Imports\n",
        "from models.statistical_models import create_dataset, default_normalize, rmse_metric, acc_metric, kalman_filter_average, kalman_filter_regression, kalman_filter_regression_multivariate\n",
        "from preprocessing.cointegration import find_cointegrated_pairs\n",
        "from preprocessing.data_preprocessing import filter_pairs_data\n",
        "from preprocessing.technical_indicators import combine_pairs_data\n",
        "from preprocessing.wavelet_denoising import wav_den\n",
        "from preprocessing.filters import step_1_filter_remove_nans, step_2_filter_liquidity\n",
        "from backtesting.trading_strategy import trade, get_gt_yoy_returns_test_dev\n",
        "from backtesting.utils import calculate_return_uncertainty\n",
        "from utils.visualization import plot_return_uncertainty, plot_comparison\n",
        "from utils.helpers import _get_train_dev_frac\n",
        "\n",
        "# important for time moe\n",
        "import wandb\n",
        "# wandb.login()\n",
        "\n",
        "## workflow imports\n",
        "from models.statistical_models import execute_kalman_workflow\n",
        "from models.transformer_model import execute_transformer_workflow\n",
        "# from models.time_moe_model import execute_timemoe_workflow\n",
        "\n",
        "## specific caching imports (should be changed in case you want to gather data live)\n",
        "from data.scraper import load_cached_etf_tickers\n",
        "from data.data_collection_cache import gather_data_cached, _get_filename, gather_pairs_data_cached, gather_data_cached_using_truncate\n",
        "\n",
        "# Any other changes to be made throughout the entire notebook\n",
        "plt.style.use('seaborn-v0_8')\n",
        "\n",
        "inspect_func = False\n",
        "if inspect_func:\n",
        "  import inspect\n",
        "  print(inspect.getsource(trade)) # in this case, check whether the new trade function  is imported"
      ],
      "metadata": {
        "id": "NR5PDFAp8_XL"
      },
      "id": "NR5PDFAp8_XL",
      "execution_count": 3,
      "outputs": []
    },
    {
      "cell_type": "code",
      "source": [
        "# Step 1: Gather cached data and filter pairs based on cointegration and such\n",
        "# NOTE: all the functions used here are explained in much more detail in src/main.ipynb, but this notebook is simply focused on finding how to ge the Transformer model to work as I wish.\n",
        "# Set periods\n",
        "startDateStr = '2008-01-01'\n",
        "end_year = 2024\n",
        "endDateStr = f'{end_year}-12-31'\n",
        "startDateStrTest = f'{end_year}-01-01' # possibly change to 07-01 (option 1; dev data in end_year - 1 (e.g. 2023), test data in end_year (e.g. 2024) // option 2; dev data 1st half end_year, test data 2nd half end_year)\n",
        "endDateStrTest = f'{end_year}-12-31'\n",
        "train_frac, dev_frac = _get_train_dev_frac(startDateStr, endDateStr, startDateStrTest, endDateStrTest)\n",
        "\n",
        "instrumentIdsNASDAQandNYSE = load_cached_etf_tickers()\n",
        "data = gather_data_cached_using_truncate(startDateStr, endDateStr, instrumentIdsNASDAQandNYSE, cache_dir='../src/data/cache')\n",
        "data_close_filtered_1, data_open_filtered_1, data_high_filtered_1, data_low_filtered_1, data_vol_filtered_1, data_original_format_filtered_1 = step_1_filter_remove_nans(data['close'], data['open'], data['high'], data['low'], data['vol'], data)\n",
        "data_close_filtered_2, data_open_filtered_2, data_high_filtered_2, data_low_filtered_2, data_vol_filtered_2, data_original_format_filtered_2 = step_2_filter_liquidity(data_close_filtered_1, data_open_filtered_1, data_high_filtered_1, data_low_filtered_1, data_vol_filtered_1, data_original_format_filtered_1)\n",
        "\n",
        "pairs_data_filtered = gather_pairs_data_cached(startDateStr, endDateStr, instrumentIdsNASDAQandNYSE, cache_dir='../src/data/cache')\n",
        "if pairs_data_filtered is None:\n",
        "  scores, pvalues, pairs = find_cointegrated_pairs(data_original_format_filtered_2)\n",
        "  pairs_data = {key:value[1]  for (key, value) in pairs.items()}\n",
        "  pairs_data = sorted(pairs_data.items(), key=lambda x: x[1])\n",
        "  pairs_data_filtered = filter_pairs_data(pairs_data) # filter based on cointegration in such a way that we can simply pick the highest pair of stocks in the list.\n",
        "\n",
        "# Extracting the variable `pairs_timeseries_df` can be done with code below\n",
        "# ticker_a, ticker_b = pairs_data_filtered[0][0][0], pairs_data_filtered[0][0][1]\n",
        "# pairs_timeseries_df = combine_pairs_data(data_close_filtered_2, data_open_filtered_2, data_high_filtered_2, data_low_filtered_2, data_vol_filtered_2, ticker_a, ticker_b)\n",
        "\n",
        "# Note about pairs_timeseries_df: the timeseries target column is the spread of the closing prices, which is accessed using \"Spread_Close\"\n",
        "# But, also the input features are the following keys: ['S1_rsi', 'S2_rsi', 'S1_mfi', 'S2_mfi', 'S1_adi', 'S2_adi', 'S1_vpt', 'S2_vpt', 'S1_atr', 'S2_atr', 'S1_bb_ma', 'S2_bb_ma', 'S1_adx', 'S2_adx', 'S1_ema', 'S2_ema', 'S1_macd', 'S2_macd', 'S1_dlr', 'S2_dlr']"
      ],
      "metadata": {
        "id": "lMK_UTPR9Asy"
      },
      "id": "lMK_UTPR9Asy",
      "execution_count": 16,
      "outputs": []
    },
    {
      "cell_type": "code",
      "source": [
        "results = []\n",
        "\n",
        "num_results = min(len(pairs_data_filtered), 30)\n",
        "for i in tqdm(range(num_results), desc = \"Gathering [...]\"):\n",
        "    ticker_a, ticker_b = pairs_data_filtered[i][0][0], pairs_data_filtered[i][0][1]\n",
        "    pair_tup_str_current = f\"({ticker_a},{ticker_b})\"\n",
        "    pairs_timeseries_df = combine_pairs_data(data_close_filtered_2, data_open_filtered_2, data_high_filtered_2, data_low_filtered_2, data_vol_filtered_2, ticker_a, ticker_b)\n",
        "    output_returns = get_gt_yoy_returns_test_dev(pairs_timeseries_df, dev_frac, train_frac, look_back=20)\n",
        "    gt_yoy, gt_yoy_for_dev_dataset = output_returns['gt_yoy_test'], output_returns['gt_yoy_dev']\n",
        "    cointegration_score = pairs_data_filtered[i][1]\n",
        "    results.append((pair_tup_str_current, cointegration_score, gt_yoy))\n"
      ],
      "metadata": {
        "id": "5Z-TfA1MMZqw",
        "outputId": "a66519eb-3415-4c1a-e096-be7e50ac47f8",
        "colab": {
          "base_uri": "https://localhost:8080/",
          "height": 49,
          "referenced_widgets": [
            "4d06618ec8e24b67a3f4c09e3c9bb507",
            "c757506f52a7451ca257650e9f2ae95d",
            "e18f51ce173a43c1b6eee843b7bb3ff2",
            "ba5f53269a5349e9a9e8fb06ca5d7b75",
            "26989e7c4dbd48c987d1f19edfb7e7c8",
            "0d2baed7229b427fbd09fb721acdff54",
            "9826ca614e734340bdbd31b10ea713b1",
            "3f6f696d5ba84bfcabdc8194f239d43e",
            "acb81752c58640f29437cbf0c5c54327",
            "4198107194fb470fa6419ea00cf0b89a",
            "642f0ba1f82c4df3aa28bf9c5d489410"
          ]
        }
      },
      "id": "5Z-TfA1MMZqw",
      "execution_count": 5,
      "outputs": [
        {
          "output_type": "display_data",
          "data": {
            "text/plain": [
              "Gathering [...]:   0%|          | 0/30 [00:00<?, ?it/s]"
            ],
            "application/vnd.jupyter.widget-view+json": {
              "version_major": 2,
              "version_minor": 0,
              "model_id": "4d06618ec8e24b67a3f4c09e3c9bb507"
            }
          },
          "metadata": {}
        }
      ]
    },
    {
      "cell_type": "code",
      "source": [
        "for r in results:\n",
        "    pair, cointegration_score, gt_yoy = r\n",
        "    if gt_yoy == -1.0:\n",
        "      gt_yoy_formatted = \"TLOE*\"\n",
        "    else:\n",
        "      gt_yoy_formatted = f\"{gt_yoy * 100:.2f}%\"\n",
        "\n",
        "    base, exp = f\"{cointegration_score:.2e}\".split(\"e\")\n",
        "    exp = int(exp)\n",
        "    cointegration_score_formatted = f\"${base}\\\\times 10^{{{exp}}}$\"\n",
        "    print(f\"{pair} & {cointegration_score_formatted} & {gt_yoy_formatted} \\\\\\\\\")"
      ],
      "metadata": {
        "id": "4FOiCOHoNdfd",
        "outputId": "3aa6f849-6fc6-4adc-ed0d-b946b1b1414a",
        "colab": {
          "base_uri": "https://localhost:8080/"
        }
      },
      "id": "4FOiCOHoNdfd",
      "execution_count": 6,
      "outputs": [
        {
          "output_type": "stream",
          "name": "stdout",
          "text": [
            "(SMH,PEY) & $1.17\\times 10^{-4}$ & 0.52% \\\\\n",
            "(SHY,TLT) & $2.10\\times 10^{-4}$ & TLOE* \\\\\n",
            "(ONEQ,PEY) & $2.37\\times 10^{-4}$ & 0.09% \\\\\n",
            "(SHV,SMH) & $3.55\\times 10^{-4}$ & 22.21% \\\\\n",
            "(IJT,DVY) & $4.96\\times 10^{-4}$ & 3.11% \\\\\n",
            "(SHV,PEY) & $5.25\\times 10^{-4}$ & 6.04% \\\\\n",
            "(SHV,ONEQ) & $5.53\\times 10^{-4}$ & 8.87% \\\\\n",
            "(SHV,DVY) & $6.77\\times 10^{-4}$ & 16.77% \\\\\n",
            "(IJT,PEY) & $7.87\\times 10^{-4}$ & 0.27% \\\\\n",
            "(RTH,PEY) & $7.95\\times 10^{-4}$ & -0.34% \\\\\n",
            "(QQQ,PEY) & $8.67\\times 10^{-4}$ & 0.53% \\\\\n",
            "(SHV,PDP) & $9.82\\times 10^{-4}$ & 8.40% \\\\\n",
            "(SHV,TLT) & $1.11\\times 10^{-3}$ & TLOE* \\\\\n",
            "(SHV,PPH) & $1.24\\times 10^{-3}$ & -0.21% \\\\\n",
            "(SOXX,PEY) & $1.65\\times 10^{-3}$ & 0.55% \\\\\n",
            "(SHY,IEI) & $2.39\\times 10^{-3}$ & 0.49% \\\\\n",
            "(IUSG,PEY) & $2.96\\times 10^{-3}$ & 0.23% \\\\\n",
            "(SHV,PHO) & $2.98\\times 10^{-3}$ & 2.84% \\\\\n",
            "(SHV,SCZ) & $3.47\\times 10^{-3}$ & 3.05% \\\\\n",
            "(ONEQ,DVY) & $4.39\\times 10^{-3}$ & 0.53% \\\\\n",
            "(IGSB,EMB) & $5.46\\times 10^{-3}$ & 1.70% \\\\\n",
            "(SHV,MBB) & $5.54\\times 10^{-3}$ & 0.82% \\\\\n",
            "(SHV,BND) & $6.01\\times 10^{-3}$ & 0.67% \\\\\n",
            "(SHV,EMB) & $6.33\\times 10^{-3}$ & 4.38% \\\\\n",
            "(PRFZ,PEY) & $6.57\\times 10^{-3}$ & 0.01% \\\\\n",
            "(PKW,PEY) & $6.79\\times 10^{-3}$ & 0.10% \\\\\n",
            "(IGF,PHO) & $7.73\\times 10^{-3}$ & 0.47% \\\\\n",
            "(IGF,PKW) & $1.08\\times 10^{-2}$ & 3.12% \\\\\n",
            "(IUSG,DVY) & $1.08\\times 10^{-2}$ & 0.17% \\\\\n",
            "(IGIB,EMB) & $1.16\\times 10^{-2}$ & 0.81% \\\\\n"
          ]
        }
      ]
    },
    {
      "cell_type": "code",
      "source": [
        "# plot 2: Empirical example of low test MSE and high validation MSE due to similarity in patterns between train and test timeseries\n",
        "# ('24. (IGSB,SHV)', 0.00529, 41.36759, 5.6713, '-0.29% +- 0.04%', '0.06%', 0.9965) in 2024 for Transformer\n",
        "ticker_a, ticker_b = \"IGF\",\"DVY\"\n",
        "pairs_timeseries_df = combine_pairs_data(data_close_filtered_2, data_open_filtered_2, data_high_filtered_2, data_low_filtered_2, data_vol_filtered_2, ticker_a, ticker_b)\n",
        "burn_in = 30\n",
        "\n",
        "pairs_timeseries_df_burned_in = pairs_timeseries_df.iloc[burn_in:].copy()\n",
        "\n",
        "\n",
        "total_len = len(pairs_timeseries_df_burned_in)\n",
        "train_size = int(total_len * train_frac)\n",
        "dev_size   = int(total_len * dev_frac)\n",
        "test_size  = total_len - train_size - dev_size # not used, but for clarity\n",
        "\n",
        "train = pairs_timeseries_df_burned_in.iloc[:train_size]\n",
        "dev   = pairs_timeseries_df_burned_in.iloc[train_size:train_size + dev_size]\n",
        "test  = pairs_timeseries_df_burned_in.iloc[train_size + dev_size:]\n",
        "\n",
        "train_color = 'tab:blue'\n",
        "dev_color = 'tab:orange'\n",
        "test_color = 'tab:green'\n",
        "\n",
        "plt.plot(train['Spread_Close'], color=train_color, label=\"Train Time Series\")\n",
        "plt.plot(dev['Spread_Close'], color=dev_color, label=\"Validation Time Series\")\n",
        "plt.plot(test['Spread_Close'], color=test_color, label=\"Test Time Series\")\n",
        "plt.legend()\n",
        "plt.title(\"Illustration of High Validation MSE with Low Test MSE (Transformer 2023)\\nVal MSE:3.043 // Test MSE: 0.277\\nPair: (IGF,DVY)\")"
      ],
      "metadata": {
        "id": "B7EPmgBjsE6T",
        "outputId": "9fe0f9ab-92f1-4028-869a-665d4bddee01",
        "colab": {
          "base_uri": "https://localhost:8080/",
          "height": 556
        }
      },
      "id": "B7EPmgBjsE6T",
      "execution_count": 25,
      "outputs": [
        {
          "output_type": "execute_result",
          "data": {
            "text/plain": [
              "Text(0.5, 1.0, 'Illustration of High Validation MSE with Low Test MSE (Transformer 2023)\\nVal MSE:3.043 // Test MSE: 0.277\\nPair: (IGF,DVY)')"
            ]
          },
          "metadata": {},
          "execution_count": 25
        },
        {
          "output_type": "display_data",
          "data": {
            "text/plain": [
              "<Figure size 800x550 with 1 Axes>"
            ],
            "image/png": "[encoded data removed]"
          },
          "metadata": {}
        }
      ]
    },
    {
      "cell_type": "code",
      "source": [
        "# plot 4 (other notebook, need timeseries): Progression of equity for randomly chosen pair of etfs (tickera, tickerb)overtimeperiodof (2008 − 2024)\n",
        "# plot 2: Empirical example of low test MSE and high validation MSE due to similarity in patterns between train and test timeseries\n",
        "# ('24. (IGSB,SHV)', 0.00529, 41.36759, 5.6713, '-0.29% +- 0.04%', '0.06%', 0.9965) in 2024 for Transformer\n",
        "ticker_a, ticker_b = \"IGF\",\"DVY\"\n",
        "pairs_timeseries_df = combine_pairs_data(data_close_filtered_2, data_open_filtered_2, data_high_filtered_2, data_low_filtered_2, data_vol_filtered_2, ticker_a, ticker_b)\n",
        "burn_in = 30\n",
        "\n",
        "pairs_timeseries_df_burned_in = pairs_timeseries_df.iloc[burn_in:].copy()\n",
        "\n",
        "\n",
        "total_len = len(pairs_timeseries_df_burned_in)\n",
        "train_size = int(total_len * train_frac)\n",
        "dev_size   = int(total_len * dev_frac)\n",
        "test_size  = total_len - train_size - dev_size # not used, but for clarity\n",
        "\n",
        "train = pairs_timeseries_df_burned_in.iloc[:train_size]\n",
        "dev   = pairs_timeseries_df_burned_in.iloc[train_size:train_size + dev_size]\n",
        "test  = pairs_timeseries_df_burned_in.iloc[train_size + dev_size:]\n",
        "\n",
        "train_color = 'tab:blue'\n",
        "dev_color = 'tab:orange'\n",
        "test_color = 'tab:green'\n",
        "\n",
        "plt.plot(train['Spread_Close'], color=train_color, label=\"Train Time Series\")\n",
        "plt.plot(dev['Spread_Close'], color=dev_color, label=\"Validation Time Series\")\n",
        "plt.plot(test['Spread_Close'], color=test_color, label=\"Test Time Series\")\n",
        "plt.legend()\n",
        "plt.title(\"Illustration of High Validation MSE with Low Test MSE (Transformer 2023)\\nVal MSE:3.043 // Test MSE: 0.277\\nPair: (IGF,DVY)\")"
      ],
      "metadata": {
        "id": "WETbRuiEsG1Y"
      },
      "id": "WETbRuiEsG1Y",
      "execution_count": null,
      "outputs": []
    }
  ],
  "metadata": {
    "kernelspec": {
      "display_name": "Python 3",
      "name": "python3"
    },
    "language_info": {
      "codemirror_mode": {
        "name": "ipython",
        "version": 3
      },
      "file_extension": ".py",
      "mimetype": "text/x-python",
      "name": "python",
      "nbconvert_exporter": "python",
      "pygments_lexer": "ipython3",
      "version": "3.9.13"
    },
    "colab": {
      "provenance": [],
      "gpuType": "L4"
    },
    "accelerator": "GPU",
    "widgets": {
      "application/vnd.jupyter.widget-state+json": {
        "4d06618ec8e24b67a3f4c09e3c9bb507": {
          "model_module": "@jupyter-widgets/controls",
          "model_name": "HBoxModel",
          "model_module_version": "1.5.0",
          "state": {
            "_dom_classes": [],
            "_model_module": "@jupyter-widgets/controls",
            "_model_module_version": "1.5.0",
            "_model_name": "HBoxModel",
            "_view_count": null,
            "_view_module": "@jupyter-widgets/controls",
            "_view_module_version": "1.5.0",
            "_view_name": "HBoxView",
            "box_style": "",
            "children": [
              "IPY_MODEL_c757506f52a7451ca257650e9f2ae95d",
              "IPY_MODEL_e18f51ce173a43c1b6eee843b7bb3ff2",
              "IPY_MODEL_ba5f53269a5349e9a9e8fb06ca5d7b75"
            ],
            "layout": "IPY_MODEL_26989e7c4dbd48c987d1f19edfb7e7c8"
          }
        },
        "c757506f52a7451ca257650e9f2ae95d": {
          "model_module": "@jupyter-widgets/controls",
          "model_name": "HTMLModel",
          "model_module_version": "1.5.0",
          "state": {
            "_dom_classes": [],
            "_model_module": "@jupyter-widgets/controls",
            "_model_module_version": "1.5.0",
            "_model_name": "HTMLModel",
            "_view_count": null,
            "_view_module": "@jupyter-widgets/controls",
            "_view_module_version": "1.5.0",
            "_view_name": "HTMLView",
            "description": "",
            "description_tooltip": null,
            "layout": "IPY_MODEL_0d2baed7229b427fbd09fb721acdff54",
            "placeholder": "​",
            "style": "IPY_MODEL_9826ca614e734340bdbd31b10ea713b1",
            "value": "Gathering [...]: 100%"
          }
        },
        "e18f51ce173a43c1b6eee843b7bb3ff2": {
          "model_module": "@jupyter-widgets/controls",
          "model_name": "FloatProgressModel",
          "model_module_version": "1.5.0",
          "state": {
            "_dom_classes": [],
            "_model_module": "@jupyter-widgets/controls",
            "_model_module_version": "1.5.0",
            "_model_name": "FloatProgressModel",
            "_view_count": null,
            "_view_module": "@jupyter-widgets/controls",
            "_view_module_version": "1.5.0",
            "_view_name": "ProgressView",
            "bar_style": "success",
            "description": "",
            "description_tooltip": null,
            "layout": "IPY_MODEL_3f6f696d5ba84bfcabdc8194f239d43e",
            "max": 30,
            "min": 0,
            "orientation": "horizontal",
            "style": "IPY_MODEL_acb81752c58640f29437cbf0c5c54327",
            "value": 30
          }
        },
        "ba5f53269a5349e9a9e8fb06ca5d7b75": {
          "model_module": "@jupyter-widgets/controls",
          "model_name": "HTMLModel",
          "model_module_version": "1.5.0",
          "state": {
            "_dom_classes": [],
            "_model_module": "@jupyter-widgets/controls",
            "_model_module_version": "1.5.0",
            "_model_name": "HTMLModel",
            "_view_count": null,
            "_view_module": "@jupyter-widgets/controls",
            "_view_module_version": "1.5.0",
            "_view_name": "HTMLView",
            "description": "",
            "description_tooltip": null,
            "layout": "IPY_MODEL_4198107194fb470fa6419ea00cf0b89a",
            "placeholder": "​",
            "style": "IPY_MODEL_642f0ba1f82c4df3aa28bf9c5d489410",
            "value": " 30/30 [00:05&lt;00:00,  5.76it/s]"
          }
        },
        "26989e7c4dbd48c987d1f19edfb7e7c8": {
          "model_module": "@jupyter-widgets/base",
          "model_name": "LayoutModel",
          "model_module_version": "1.2.0",
          "state": {
            "_model_module": "@jupyter-widgets/base",
            "_model_module_version": "1.2.0",
            "_model_name": "LayoutModel",
            "_view_count": null,
            "_view_module": "@jupyter-widgets/base",
            "_view_module_version": "1.2.0",
            "_view_name": "LayoutView",
            "align_content": null,
            "align_items": null,
            "align_self": null,
            "border": null,
            "bottom": null,
            "display": null,
            "flex": null,
            "flex_flow": null,
            "grid_area": null,
            "grid_auto_columns": null,
            "grid_auto_flow": null,
            "grid_auto_rows": null,
            "grid_column": null,
            "grid_gap": null,
            "grid_row": null,
            "grid_template_areas": null,
            "grid_template_columns": null,
            "grid_template_rows": null,
            "height": null,
            "justify_content": null,
            "justify_items": null,
            "left": null,
            "margin": null,
            "max_height": null,
            "max_width": null,
            "min_height": null,
            "min_width": null,
            "object_fit": null,
            "object_position": null,
            "order": null,
            "overflow": null,
            "overflow_x": null,
            "overflow_y": null,
            "padding": null,
            "right": null,
            "top": null,
            "visibility": null,
            "width": null
          }
        },
        "0d2baed7229b427fbd09fb721acdff54": {
          "model_module": "@jupyter-widgets/base",
          "model_name": "LayoutModel",
          "model_module_version": "1.2.0",
          "state": {
            "_model_module": "@jupyter-widgets/base",
            "_model_module_version": "1.2.0",
            "_model_name": "LayoutModel",
            "_view_count": null,
            "_view_module": "@jupyter-widgets/base",
            "_view_module_version": "1.2.0",
            "_view_name": "LayoutView",
            "align_content": null,
            "align_items": null,
            "align_self": null,
            "border": null,
            "bottom": null,
            "display": null,
            "flex": null,
            "flex_flow": null,
            "grid_area": null,
            "grid_auto_columns": null,
            "grid_auto_flow": null,
            "grid_auto_rows": null,
            "grid_column": null,
            "grid_gap": null,
            "grid_row": null,
            "grid_template_areas": null,
            "grid_template_columns": null,
            "grid_template_rows": null,
            "height": null,
            "justify_content": null,
            "justify_items": null,
            "left": null,
            "margin": null,
            "max_height": null,
            "max_width": null,
            "min_height": null,
            "min_width": null,
            "object_fit": null,
            "object_position": null,
            "order": null,
            "overflow": null,
            "overflow_x": null,
            "overflow_y": null,
            "padding": null,
            "right": null,
            "top": null,
            "visibility": null,
            "width": null
          }
        },
        "9826ca614e734340bdbd31b10ea713b1": {
          "model_module": "@jupyter-widgets/controls",
          "model_name": "DescriptionStyleModel",
          "model_module_version": "1.5.0",
          "state": {
            "_model_module": "@jupyter-widgets/controls",
            "_model_module_version": "1.5.0",
            "_model_name": "DescriptionStyleModel",
            "_view_count": null,
            "_view_module": "@jupyter-widgets/base",
            "_view_module_version": "1.2.0",
            "_view_name": "StyleView",
            "description_width": ""
          }
        },
        "3f6f696d5ba84bfcabdc8194f239d43e": {
          "model_module": "@jupyter-widgets/base",
          "model_name": "LayoutModel",
          "model_module_version": "1.2.0",
          "state": {
            "_model_module": "@jupyter-widgets/base",
            "_model_module_version": "1.2.0",
            "_model_name": "LayoutModel",
            "_view_count": null,
            "_view_module": "@jupyter-widgets/base",
            "_view_module_version": "1.2.0",
            "_view_name": "LayoutView",
            "align_content": null,
            "align_items": null,
            "align_self": null,
            "border": null,
            "bottom": null,
            "display": null,
            "flex": null,
            "flex_flow": null,
            "grid_area": null,
            "grid_auto_columns": null,
            "grid_auto_flow": null,
            "grid_auto_rows": null,
            "grid_column": null,
            "grid_gap": null,
            "grid_row": null,
            "grid_template_areas": null,
            "grid_template_columns": null,
            "grid_template_rows": null,
            "height": null,
            "justify_content": null,
            "justify_items": null,
            "left": null,
            "margin": null,
            "max_height": null,
            "max_width": null,
            "min_height": null,
            "min_width": null,
            "object_fit": null,
            "object_position": null,
            "order": null,
            "overflow": null,
            "overflow_x": null,
            "overflow_y": null,
            "padding": null,
            "right": null,
            "top": null,
            "visibility": null,
            "width": null
          }
        },
        "acb81752c58640f29437cbf0c5c54327": {
          "model_module": "@jupyter-widgets/controls",
          "model_name": "ProgressStyleModel",
          "model_module_version": "1.5.0",
          "state": {
            "_model_module": "@jupyter-widgets/controls",
            "_model_module_version": "1.5.0",
            "_model_name": "ProgressStyleModel",
            "_view_count": null,
            "_view_module": "@jupyter-widgets/base",
            "_view_module_version": "1.2.0",
            "_view_name": "StyleView",
            "bar_color": null,
            "description_width": ""
          }
        },
        "4198107194fb470fa6419ea00cf0b89a": {
          "model_module": "@jupyter-widgets/base",
          "model_name": "LayoutModel",
          "model_module_version": "1.2.0",
          "state": {
            "_model_module": "@jupyter-widgets/base",
            "_model_module_version": "1.2.0",
            "_model_name": "LayoutModel",
            "_view_count": null,
            "_view_module": "@jupyter-widgets/base",
            "_view_module_version": "1.2.0",
            "_view_name": "LayoutView",
            "align_content": null,
            "align_items": null,
            "align_self": null,
            "border": null,
            "bottom": null,
            "display": null,
            "flex": null,
            "flex_flow": null,
            "grid_area": null,
            "grid_auto_columns": null,
            "grid_auto_flow": null,
            "grid_auto_rows": null,
            "grid_column": null,
            "grid_gap": null,
            "grid_row": null,
            "grid_template_areas": null,
            "grid_template_columns": null,
            "grid_template_rows": null,
            "height": null,
            "justify_content": null,
            "justify_items": null,
            "left": null,
            "margin": null,
            "max_height": null,
            "max_width": null,
            "min_height": null,
            "min_width": null,
            "object_fit": null,
            "object_position": null,
            "order": null,
            "overflow": null,
            "overflow_x": null,
            "overflow_y": null,
            "padding": null,
            "right": null,
            "top": null,
            "visibility": null,
            "width": null
          }
        },
        "642f0ba1f82c4df3aa28bf9c5d489410": {
          "model_module": "@jupyter-widgets/controls",
          "model_name": "DescriptionStyleModel",
          "model_module_version": "1.5.0",
          "state": {
            "_model_module": "@jupyter-widgets/controls",
            "_model_module_version": "1.5.0",
            "_model_name": "DescriptionStyleModel",
            "_view_count": null,
            "_view_module": "@jupyter-widgets/base",
            "_view_module_version": "1.2.0",
            "_view_name": "StyleView",
            "description_width": ""
          }
        }
      }
    }
  },
  "nbformat": 4,
  "nbformat_minor": 5
}