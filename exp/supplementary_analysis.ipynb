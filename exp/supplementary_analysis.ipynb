{
 "cells": [
  {
   "cell_type": "code",
   "execution_count": null,
   "id": "bf4c972e",
   "metadata": {},
   "outputs": [],
   "source": [
    "# Goal: x-axis MSE (artificially added noise), y-axis yoy returns\n",
    "\n",
    "print('Hello, world!')"
   ]
  }
 ],
 "metadata": {
  "language_info": {
   "name": "python"
  }
 },
 "nbformat": 4,
 "nbformat_minor": 5
}
