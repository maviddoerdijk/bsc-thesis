{
  "cells": [
    {
      "cell_type": "code",
      "source": [
        "# if \"preprocessing\" folder in current folders -> cd back to original folder\n",
        "%cd /content\n",
        "import os\n",
        "if os.path.exists(\"bsc-thesis\"):\n",
        "  # if bsc-thesis folder already exists; completely remove\n",
        "  !rm -rf bsc-thesis\n",
        "\n",
        "# this makes sure cached files are readily available (for calling e.g. `gather_data_cached`)\n",
        "!apt-get install git-lfs\n",
        "!git lfs install\n",
        "\n",
        "# cloning repo\n",
        "branch = \"main\"\n",
        "!git clone --branch $branch https://github.com/maviddoerdijk/bsc-thesis.git\n",
        "\n",
        "# moving into project dir\n",
        "%cd bsc-thesis/src\n",
        "%ls"
      ],
      "metadata": {
        "colab": {
          "base_uri": "https://localhost:8080/"
        },
        "id": "UqxvzTd3Q7As",
        "outputId": "c8ec8428-4a1e-4b20-f37d-e3fa4a60219b"
      },
      "id": "UqxvzTd3Q7As",
      "execution_count": 1,
      "outputs": [
        {
          "output_type": "stream",
          "name": "stdout",
          "text": [
            "/content\n",
            "Reading package lists... Done\n",
            "Building dependency tree... Done\n",
            "Reading state information... Done\n",
            "git-lfs is already the newest version (3.0.2-1ubuntu0.3).\n",
            "0 upgraded, 0 newly installed, 0 to remove and 34 not upgraded.\n",
            "Git LFS initialized.\n",
            "Cloning into 'bsc-thesis'...\n",
            "remote: Enumerating objects: 756, done.\u001b[K\n",
            "remote: Counting objects: 100% (136/136), done.\u001b[K\n",
            "remote: Compressing objects: 100% (114/114), done.\u001b[K\n",
            "remote: Total 756 (delta 66), reused 71 (delta 22), pack-reused 620 (from 1)\u001b[K\n",
            "Receiving objects: 100% (756/756), 26.58 MiB | 8.65 MiB/s, done.\n",
            "Resolving deltas: 100% (420/420), done.\n",
            "Filtering content: 100% (32/32), 1.75 GiB | 57.24 MiB/s, done.\n",
            "/content/bsc-thesis/src\n",
            "\u001b[0m\u001b[01;34mbacktesting\u001b[0m/  \u001b[01;34mdata\u001b[0m/      main.ipynb  \u001b[01;34mmodels\u001b[0m/         \u001b[01;34mutils\u001b[0m/\n",
            "\u001b[01;34mconfig\u001b[0m/       \u001b[01;34mexternal\u001b[0m/  main.py     \u001b[01;34mpreprocessing\u001b[0m/\n"
          ]
        }
      ]
    },
    {
      "cell_type": "code",
      "source": [
        "!pip install ta\n",
        "!pip install pykalman"
      ],
      "metadata": {
        "colab": {
          "base_uri": "https://localhost:8080/"
        },
        "id": "IsWuu-IPRCXX",
        "outputId": "f7801d50-8dcd-437d-f786-47d4d5713905"
      },
      "id": "IsWuu-IPRCXX",
      "execution_count": 2,
      "outputs": [
        {
          "output_type": "stream",
          "name": "stdout",
          "text": [
            "Collecting ta\n",
            "  Downloading ta-0.11.0.tar.gz (25 kB)\n",
            "  Preparing metadata (setup.py) ... \u001b[?25l\u001b[?25hdone\n",
            "Requirement already satisfied: numpy in /usr/local/lib/python3.11/dist-packages (from ta) (2.0.2)\n",
            "Requirement already satisfied: pandas in /usr/local/lib/python3.11/dist-packages (from ta) (2.2.2)\n",
            "Requirement already satisfied: python-dateutil>=2.8.2 in /usr/local/lib/python3.11/dist-packages (from pandas->ta) (2.9.0.post0)\n",
            "Requirement already satisfied: pytz>=2020.1 in /usr/local/lib/python3.11/dist-packages (from pandas->ta) (2025.2)\n",
            "Requirement already satisfied: tzdata>=2022.7 in /usr/local/lib/python3.11/dist-packages (from pandas->ta) (2025.2)\n",
            "Requirement already satisfied: six>=1.5 in /usr/local/lib/python3.11/dist-packages (from python-dateutil>=2.8.2->pandas->ta) (1.17.0)\n",
            "Building wheels for collected packages: ta\n",
            "  Building wheel for ta (setup.py) ... \u001b[?25l\u001b[?25hdone\n",
            "  Created wheel for ta: filename=ta-0.11.0-py3-none-any.whl size=29412 sha256=55bd94517c2a6c2b1c01b10d08e31bf0324d532485abf6e388378b57477781cd\n",
            "  Stored in directory: /root/.cache/pip/wheels/a1/d7/29/7781cc5eb9a3659d032d7d15bdd0f49d07d2b24fec29f44bc4\n",
            "Successfully built ta\n",
            "Installing collected packages: ta\n",
            "Successfully installed ta-0.11.0\n",
            "Collecting pykalman\n",
            "  Downloading pykalman-0.10.1-py2.py3-none-any.whl.metadata (9.5 kB)\n",
            "Requirement already satisfied: numpy<3 in /usr/local/lib/python3.11/dist-packages (from pykalman) (2.0.2)\n",
            "Requirement already satisfied: packaging in /usr/local/lib/python3.11/dist-packages (from pykalman) (24.2)\n",
            "Collecting scikit-base<0.13.0 (from pykalman)\n",
            "  Downloading scikit_base-0.12.2-py3-none-any.whl.metadata (8.8 kB)\n",
            "Requirement already satisfied: scipy<2.0.0 in /usr/local/lib/python3.11/dist-packages (from pykalman) (1.15.3)\n",
            "Downloading pykalman-0.10.1-py2.py3-none-any.whl (248 kB)\n",
            "\u001b[2K   \u001b[90m━━━━━━━━━━━━━━━━━━━━━━━━━━━━━━━━━━━━━━━━\u001b[0m \u001b[32m248.5/248.5 kB\u001b[0m \u001b[31m9.1 MB/s\u001b[0m eta \u001b[36m0:00:00\u001b[0m\n",
            "\u001b[?25hDownloading scikit_base-0.12.2-py3-none-any.whl (142 kB)\n",
            "\u001b[2K   \u001b[90m━━━━━━━━━━━━━━━━━━━━━━━━━━━━━━━━━━━━━━━━\u001b[0m \u001b[32m142.7/142.7 kB\u001b[0m \u001b[31m9.6 MB/s\u001b[0m eta \u001b[36m0:00:00\u001b[0m\n",
            "\u001b[?25hInstalling collected packages: scikit-base, pykalman\n",
            "Successfully installed pykalman-0.10.1 scikit-base-0.12.2\n"
          ]
        }
      ]
    },
    {
      "cell_type": "code",
      "source": [
        "# Module imports\n",
        "import pandas as pd\n",
        "import numpy as np\n",
        "from typing import Optional, Callable, Dict, Any\n",
        "from sklearn.preprocessing import MinMaxScaler\n",
        "from matplotlib import pyplot as plt\n",
        "import torch\n",
        "from torch.utils.data import Dataset, DataLoader\n",
        "from torch.optim import AdamW\n",
        "from torch.utils.data import DataLoader\n",
        "from tqdm.auto import tqdm # note: using tqdm.auto usually automatically chooses the right import based on whether you're in CLI, notebook or somewhere else\n",
        "import torch.nn as nn\n",
        "import itertools\n",
        "from pykalman import KalmanFilter\n",
        "import ast\n",
        "import re\n",
        "from tabulate import tabulate\n",
        "from datetime import datetime\n",
        "\n",
        "# Custom Imports\n",
        "from models.statistical_models import create_dataset, default_normalize, rmse_metric, acc_metric, kalman_filter_average, kalman_filter_regression, kalman_filter_regression_multivariate\n",
        "from preprocessing.cointegration import find_cointegrated_pairs\n",
        "from preprocessing.data_preprocessing import filter_pairs_data\n",
        "from preprocessing.technical_indicators import combine_pairs_data\n",
        "from preprocessing.wavelet_denoising import wav_den\n",
        "from preprocessing.filters import step_1_filter_remove_nans, step_2_filter_liquidity\n",
        "from backtesting.trading_strategy import trade, get_gt_yoy_returns_test_dev\n",
        "from backtesting.utils import calculate_return_uncertainty\n",
        "from utils.visualization import plot_return_uncertainty, plot_comparison\n",
        "from utils.helpers import _get_train_dev_frac\n",
        "\n",
        "## specific caching imports (should be changed in case you want to gather data live)\n",
        "from data.scraper import load_cached_etf_tickers\n",
        "from data.data_collection_cache import gather_data_cached, _get_filename, gather_pairs_data_cached, gather_data_cached_using_truncate\n",
        "\n",
        "# Any other changes to be made throughout the entire notebook\n",
        "plt.style.use('seaborn-v0_8')"
      ],
      "metadata": {
        "id": "aukkd9YaRH_I"
      },
      "id": "aukkd9YaRH_I",
      "execution_count": 5,
      "outputs": []
    },
    {
      "cell_type": "code",
      "execution_count": 124,
      "id": "bf4c972e",
      "metadata": {
        "colab": {
          "base_uri": "https://localhost:8080/"
        },
        "id": "bf4c972e",
        "outputId": "3639daf7-3ae4-4611-fed2-a79a2a54f168"
      },
      "outputs": [
        {
          "output_type": "execute_result",
          "data": {
            "text/plain": [
              "{'gt_yoy_test': np.float64(0.014780532732638019),\n",
              " 'gt_yoy_dev': np.float64(-0.039927090245349905)}"
            ]
          },
          "metadata": {},
          "execution_count": 124
        }
      ],
      "source": [
        "startDateStr = '2008-01-01'\n",
        "end_year = 2024\n",
        "endDateStr = f'{end_year}-12-31'\n",
        "startDateStrTest = f'{end_year}-01-01'\n",
        "endDateStrTest = f'{end_year}-12-31'\n",
        "train_frac, dev_frac = _get_train_dev_frac(startDateStr, endDateStr, startDateStrTest, endDateStrTest)\n",
        "\n",
        "\n",
        "instrumentIdsNASDAQandNYSE = load_cached_etf_tickers()\n",
        "data = gather_data_cached_using_truncate(startDateStr, endDateStr, instrumentIdsNASDAQandNYSE, cache_dir='../src/data/cache')\n",
        "data_close_filtered_1, data_open_filtered_1, data_high_filtered_1, data_low_filtered_1, data_vol_filtered_1, data_original_format_filtered_1 = step_1_filter_remove_nans(data['close'], data['open'], data['high'], data['low'], data['vol'], data)\n",
        "data_close_filtered_2, data_open_filtered_2, data_high_filtered_2, data_low_filtered_2, data_vol_filtered_2, data_original_format_filtered_2 = step_2_filter_liquidity(data_close_filtered_1, data_open_filtered_1, data_high_filtered_1, data_low_filtered_1, data_vol_filtered_1, data_original_format_filtered_1)\n",
        "\n",
        "pairs_data_filtered = gather_pairs_data_cached(startDateStr, endDateStr, instrumentIdsNASDAQandNYSE, cache_dir='../src/data/cache')\n",
        "if pairs_data_filtered is None:\n",
        "  scores, pvalues, pairs = find_cointegrated_pairs(data_original_format_filtered_2)\n",
        "  pairs_data = {key:value[1]  for (key, value) in pairs.items()}\n",
        "  pairs_data = sorted(pairs_data.items(), key=lambda x: x[1])\n",
        "  pairs_data_filtered = filter_pairs_data(pairs_data)\n",
        "\n",
        "i = 0\n",
        "ticker_a, ticker_b = pairs_data_filtered[i][0][0], pairs_data_filtered[i][0][1]\n",
        "pairs_timeseries_df = combine_pairs_data(data_close_filtered_2, data_open_filtered_2, data_high_filtered_2, data_low_filtered_2, data_vol_filtered_2, ticker_a, ticker_b)\n",
        "output = get_gt_yoy_returns_test_dev(pairs_timeseries_df, dev_frac, train_frac, look_back=20)\n",
        "output"
      ]
    },
    {
      "cell_type": "code",
      "source": [
        "# test: see whether the original trading function does give profitable results, and whether this differs from my new trading function\n",
        "seed = 3178749\n",
        "from sklearn.metrics import mean_squared_error\n",
        "np.random.seed(seed)  # For reproducibility\n",
        "\n",
        "def trade_original(S1, S2, spread, window1, window2):\n",
        "    # If window length is 0, algorithm doesn't make sense, so exit\n",
        "    if (window1 == 0) or (window2 == 0):\n",
        "        return 0\n",
        "    # Compute rolling mean and rolling standard deviation\n",
        "    ma1 = spread.rolling(window=window1, center=False).mean()\n",
        "    ma2 = spread.rolling(window=window2, center=False).mean()\n",
        "    std = spread.rolling(window=window2, center=False).std()\n",
        "    zscore = (ma1 - ma2)/std\n",
        "    # Simulate trading\n",
        "    # Start with no money and no positions\n",
        "    money = 0\n",
        "    countS1 = 0\n",
        "    countS2 = 0\n",
        "    for i in range(len(spread)):\n",
        "        # Sell short if the z-score is > 1\n",
        "        if zscore.iloc[i] > 1:\n",
        "            # print(f\"[OLD] Step {i}: SELL SHORT, z={zscore.iloc[i]:.2f}, S1={S1.iloc[i]:.2f}, S2={S2.iloc[i]:.2f}, spread={spread.iloc[i]:.2f}, money={money:.2f}, countS1={countS1}, countS2={countS2}\")\n",
        "            money += S1.iloc[i] - S2.iloc[i] * spread.iloc[i]\n",
        "            countS1 -= 1\n",
        "            countS2 += spread.iloc[i]\n",
        "        # Buy long if the z-score is < 1\n",
        "        elif zscore.iloc[i] < -1:\n",
        "            # print(f\"[OLD] Step {i}: BUY LONG, z={zscore.iloc[i]:.2f}, S1={S1.iloc[i]:.2f}, S2={S2.iloc[i]:.2f}, spread={spread.iloc[i]:.2f}, money={money:.2f}, countS1={countS1}, countS2={countS2}\")\n",
        "            money -= S1.iloc[i] - S2.iloc[i] * spread.iloc[i]\n",
        "            countS1 += 1\n",
        "            countS2 -= spread.iloc[i]\n",
        "        # Clear positions if the z-score between -.5 and .5\n",
        "        elif abs(zscore.iloc[i]) < 0.5:\n",
        "            # print(f\"[OLD] Step {i}: CLEAR POSITION, z={zscore.iloc[i]:.2f}, S1={S1.iloc[i]:.2f}, S2={S2.iloc[i]:.2f}, spread={spread.iloc[i]:.2f}, money={money:.2f}, countS1={countS1}, countS2={countS2}\")\n",
        "            money += countS1 * S1.iloc[i] - S2.iloc[i] * countS2\n",
        "            countS1 = 0\n",
        "            countS2 = 0\n",
        "    return money\n",
        "\n",
        "def trade(\n",
        "    S1: pd.Series,\n",
        "    S2: pd.Series,\n",
        "    spread: pd.Series, # model-predicted spread for the strategy\n",
        "    window_long: int,\n",
        "    window_short: int,\n",
        "    initial_cash=250000,\n",
        "    position_threshold: float = 1.0,\n",
        "    clearing_threshold: float = 0.5,\n",
        "    risk_fraction: float = 0.1\n",
        "):\n",
        "    if len(spread) != len(S1) or len(spread) != len(S2):\n",
        "        raise ValueError(\"Length of S1, S2, and spread must be the same\")\n",
        "    # Compute rolling mean and rolling standard deviation\n",
        "\n",
        "    ma_long = spread.rolling(window=window_long, center=False).mean()\n",
        "    ma_short = spread.rolling(window=window_short, center=False).mean()\n",
        "    std = spread.rolling(window=window_short, center=False).std()\n",
        "    zscore = (ma_long - ma_short)/std\n",
        "\n",
        "    # Simulate trading\n",
        "    # Start with no money and no positions\n",
        "    cash = initial_cash\n",
        "    qty_s1 = 0\n",
        "    qty_s2 = 0\n",
        "    returns = [initial_cash]\n",
        "\n",
        "    for i in range(len(spread)):\n",
        "        # Sell short if the z-score is > 1\n",
        "        if zscore.iloc[i] > 1:\n",
        "            # print(f\"[NEW] Step {i}: SELL SHORT, z={zscore.iloc[i]:.2f}, S1={S1.iloc[i]:.2f}, S2={S2.iloc[i]:.2f}, spread={spread.iloc[i]:.2f}, cash={cash:.2f}, qty_s1={qty_s1}, qty_s2={qty_s2}\")\n",
        "            cash += S1.iloc[i] - S2.iloc[i] * spread.iloc[i]\n",
        "            qty_s1 -= 1\n",
        "            qty_s2 += spread.iloc[i]\n",
        "            returns.append(cash)\n",
        "        # Buy long if the z-score is < 1\n",
        "        elif zscore.iloc[i] < -1:\n",
        "            # print(f\"[NEW] Step {i}: BUY LONG, z={zscore.iloc[i]:.2f}, S1={S1.iloc[i]:.2f}, S2={S2.iloc[i]:.2f}, spread={spread.iloc[i]:.2f}, cash={cash:.2f}, qty_s1={qty_s1}, qty_s2={qty_s2}\")\n",
        "            cash -= S1.iloc[i] - S2.iloc[i] * spread.iloc[i]\n",
        "            qty_s1 += 1\n",
        "            qty_s2 -= spread.iloc[i]\n",
        "            returns.append(cash)\n",
        "        # Clear positions if the z-score between -.5 and .5\n",
        "        elif abs(zscore.iloc[i]) < 0.5:\n",
        "            # print(f\"[NEW] Step {i}: CLEAR POSITION, z={zscore.iloc[i]:.2f}, S1={S1.iloc[i]:.2f}, S2={S2.iloc[i]:.2f}, spread={spread.iloc[i]:.2f}, cash={cash:.2f}, qty_s1={qty_s1}, qty_s2={qty_s2}\")\n",
        "            cash += qty_s1 * S1.iloc[i] - S2.iloc[i] * qty_s2\n",
        "            qty_s1 = 0\n",
        "            qty_s2 = 0\n",
        "            returns.append(cash)\n",
        "    return returns\n",
        "\n",
        "mse_list = []\n",
        "profit_original_method_list = []\n",
        "profit_new_method_list = []\n",
        "profit_new_method_absolute_list = []\n",
        "profit_original_method_std_dev_list = []\n",
        "profit_new_method_std_dev_list = []\n",
        "profit_new_method_absolute_std_dev_list = []\n",
        "for std_dev in tqdm(np.linspace(0.01, 4, num=10)):\n",
        "  mse_sum = 0\n",
        "  profit_sum = 0\n",
        "  profit_new_sum = 0\n",
        "  profit_new_absolute_sum = 0\n",
        "  num_pairs = min(len(pairs_data_filtered), 30)\n",
        "\n",
        "  for i in range(num_pairs):\n",
        "    ticker_a, ticker_b = pairs_data_filtered[i][0][0], pairs_data_filtered[i][0][1]\n",
        "    pairs_timeseries_df = combine_pairs_data(\n",
        "        data_close_filtered_2, data_open_filtered_2, data_high_filtered_2,\n",
        "        data_low_filtered_2, data_vol_filtered_2, ticker_a, ticker_b\n",
        "    )\n",
        "\n",
        "    # add random noise to simulate prediction\n",
        "    noise = np.random.normal(0, std_dev, size=len(pairs_timeseries_df))\n",
        "    pairs_timeseries_df_spread_close_noise = pairs_timeseries_df['Spread_Close'] + noise\n",
        "    mse = mean_squared_error(pairs_timeseries_df['Spread_Close'], pairs_timeseries_df_spread_close_noise)\n",
        "\n",
        "    max_length = None\n",
        "    profit = trade_original(pairs_timeseries_df['S1_close'].iloc[:max_length], pairs_timeseries_df['S2_close'].iloc[:max_length], pairs_timeseries_df_spread_close_noise.iloc[:max_length], 30, 5)\n",
        "    profit_new = trade(pairs_timeseries_df['S1_close'].iloc[:max_length], pairs_timeseries_df['S2_close'].iloc[:max_length], pairs_timeseries_df_spread_close_noise.iloc[:max_length], 30, 5)\n",
        "    yoy_return = (profit_new[-1] - profit_new[0]) / profit_new[0]\n",
        "\n",
        "    mse_sum += mse\n",
        "    profit_sum += profit\n",
        "    profit_new_sum += yoy_return\n",
        "    profit_new_absolute_sum += profit_new[-1]\n",
        "\n",
        "  mse_list.append(mse_sum / num_pairs)\n",
        "  profit_original_method_list.append(profit_sum / num_pairs)\n",
        "  profit_new_method_list.append(profit_new_sum / num_pairs)\n",
        "  profit_new_method_absolute_list.append(profit_new_absolute_sum / num_pairs)\n",
        "  profit_original_method_std_dev_list.append(np.std(profit_original_method_list))\n",
        "  profit_new_method_std_dev_list.append(np.std(profit_new_method_list))\n",
        "  profit_new_method_absolute_std_dev_list.append(np.std(profit_new_method_absolute_list))"
      ],
      "metadata": {
        "id": "PX0zRLnQTCmL",
        "outputId": "4f25f56b-49d8-449c-e1a4-98e87964e86b",
        "colab": {
          "base_uri": "https://localhost:8080/",
          "height": 49,
          "referenced_widgets": [
            "e435188d2c604f10922f5e20500cfa23",
            "3c9f4c5720c848eb964a864e4d283786",
            "3806c0b6dcd3480099a7a0cd3005ead9",
            "742aa191914741f5bf2c379a88468220",
            "d91a11a0900c4ca1a9810128ae6ca754",
            "3a319ddd6a1a4cd489dda6373f8d91d4",
            "3b9a200dd910479bbd2e002bc11c4084",
            "fb9417301f6041989222ab19414fdc30",
            "296912d1c78742c5a170586b5b8ae6f6",
            "d7abcc5f186a4f2ca11510e770958eda",
            "71e24b6f9eb44b228ac20a5474ef89c4"
          ]
        }
      },
      "id": "PX0zRLnQTCmL",
      "execution_count": 125,
      "outputs": [
        {
          "output_type": "display_data",
          "data": {
            "text/plain": [
              "  0%|          | 0/10 [00:00<?, ?it/s]"
            ],
            "application/vnd.jupyter.widget-view+json": {
              "version_major": 2,
              "version_minor": 0,
              "model_id": "e435188d2c604f10922f5e20500cfa23"
            }
          },
          "metadata": {}
        }
      ]
    },
    {
      "cell_type": "code",
      "source": [
        "fig, axs = plt.subplots(1, 2, figsize=(14, 4))\n",
        "\n",
        "for i, end_year in enumerate([2023, 2024]):\n",
        "  save_hash = f\"2008_{end_year}_full\"\n",
        "  mse_list_filename = f'mse_list_{save_hash}.pkl'\n",
        "  profit_new_method_list_filename = f'profit_new_method_list_{save_hash}.pkl'\n",
        "  profit_new_method_std_dev_list_filename = f'profit_new_method_std_dev_list_{save_hash}.pkl'\n",
        "\n",
        "  with open(mse_list_filename, 'rb') as f:\n",
        "      mse_list = pickle.load(f)\n",
        "  with open(profit_new_method_list_filename, 'rb') as f:\n",
        "      profit_new_method_list = pickle.load(f)\n",
        "  with open(profit_new_method_std_dev_list_filename, 'rb') as f:\n",
        "      profit_new_method_std_dev_list = pickle.load(f)\n",
        "\n",
        "  axs[i].errorbar(\n",
        "      mse_list,\n",
        "      profit_new_method_list,\n",
        "      yerr=profit_new_method_std_dev_list,\n",
        "      fmt='o',\n",
        "      alpha=0.5,\n",
        "      capsize=3\n",
        "  )\n",
        "  axs[i].set_title(f\"YoY returns for pairs trading strategy across top 30 pairs (2008-{end_year})\")\n",
        "  axs[i].set_xlabel(\"MSE (Artificially Added Noise)\")\n",
        "  axs[i].set_ylabel(\"Average YoY Returns\")"
      ],
      "metadata": {
        "id": "BjgSO4O25wig",
        "outputId": "f0fb8494-1eb2-4960-96e7-6316315abf0c",
        "colab": {
          "base_uri": "https://localhost:8080/",
          "height": 408
        }
      },
      "id": "BjgSO4O25wig",
      "execution_count": 131,
      "outputs": [
        {
          "output_type": "display_data",
          "data": {
            "text/plain": [
              "<Figure size 1400x400 with 2 Axes>"
            ],
            "image/png": "[encoded data removed]"
          },
          "metadata": {}
        }
      ]
    },
    {
      "cell_type": "code",
      "source": [
        "from scipy.optimize import curve_fit\n",
        "np.random.seed(3178749)  # For reproducibility\n",
        "\n",
        "\n",
        "# Goal: x-axis MSE (artificially added noise), y-axis yoy returns\n",
        "# Plotting\n",
        "fig, axs = plt.subplots(1, 3, figsize=(18, 4))\n",
        "\n",
        "# For axs[0]: New Method\n",
        "# coeffs0 = np.polyfit(mse_list, profit_new_method_list, 2)\n",
        "# x0 = np.linspace(min(mse_list), max(mse_list), 100)\n",
        "# def logarithmic(x, a, b, c):\n",
        "#     return a * np.log(x + b) + c\n",
        "# popt_log, _ = curve_fit(logarithmic, mse_list, profit_new_method_list, p0=[-1e5, 2, 2e5], maxfev=5000)\n",
        "# y0 = logarithmic(x0, *popt_log)\n",
        "# axs[0].plot(x0, y0, color=\"purple\", label=\"Logarithmic Fit\")\n",
        "\n",
        "axs[0].errorbar(\n",
        "    mse_list,\n",
        "    profit_new_method_list,\n",
        "    yerr=profit_new_method_std_dev_list,\n",
        "    fmt='o',\n",
        "    label=\"New Method\",\n",
        "    alpha=0.5,\n",
        "    capsize=3\n",
        ")\n",
        "axs[0].set_title(\"New Method\")\n",
        "axs[0].set_xlabel(\"MSE (Artificially Added Noise)\")\n",
        "axs[0].set_ylabel(\"YoY Returns\")\n",
        "\n",
        "coeffs1 = np.polyfit(mse_list, profit_new_method_absolute_list, 2)\n",
        "x1 = np.linspace(min(mse_list), max(mse_list), 100)\n",
        "def logarithmic(x, a, b, c):\n",
        "    return a * np.log(x + b) + c\n",
        "popt_log, _ = curve_fit(logarithmic, mse_list, profit_new_method_absolute_list, p0=[-1e5, 2, 2e5], maxfev=5000)\n",
        "y1 = logarithmic(x1, *popt_log)\n",
        "axs[1].plot(x1, y1, color=\"purple\", label=\"Logarithmic Fit\")\n",
        "\n",
        "axs[1].errorbar(\n",
        "    mse_list,\n",
        "    profit_new_method_absolute_list,\n",
        "    yerr=profit_new_method_absolute_std_dev_list,\n",
        "    fmt='o',\n",
        "    label=\"New Method\",\n",
        "    alpha=0.5,\n",
        "    capsize=3\n",
        ")\n",
        "axs[1].set_title(\"New Method (absolute)\")\n",
        "axs[1].set_xlabel(\"MSE (Artificially Added Noise)\")\n",
        "axs[1].set_ylabel(\"Absolute Returns\")\n",
        "\n",
        "\n",
        "# For axs[1]: Old Method\n",
        "coeffs2 = np.polyfit(mse_list, profit_original_method_list, 2)\n",
        "x2 = np.linspace(min(mse_list), max(mse_list), 100)\n",
        "def logarithmic(x, a, b, c):\n",
        "    return a * np.log(x + b) + c\n",
        "popt_log, _ = curve_fit(logarithmic, mse_list, profit_original_method_list, p0=[-1e5, 2, 2e5], maxfev=5000)\n",
        "y2 = logarithmic(x2, *popt_log)\n",
        "axs[2].plot(x2, y2, color=\"purple\", label=\"Logarithmic Fit\")\n",
        "\n",
        "axs[2].errorbar(\n",
        "    mse_list,\n",
        "    profit_original_method_list,\n",
        "    yerr=profit_original_method_std_dev_list,\n",
        "    fmt='o',\n",
        "    label=\"Original Method\",\n",
        "    alpha=0.5,\n",
        "    capsize=3\n",
        ")\n",
        "axs[2].set_title(\"Old Method\")\n",
        "axs[2].set_xlabel(\"MSE (Artificially Added Noise)\")\n",
        "axs[2].set_ylabel(\"Total Returns\")"
      ],
      "metadata": {
        "colab": {
          "base_uri": "https://localhost:8080/",
          "height": 495
        },
        "id": "SFXK2pQPQ6no",
        "outputId": "978cac96-cdce-411c-ca24-c259662b8623"
      },
      "id": "SFXK2pQPQ6no",
      "execution_count": 117,
      "outputs": [
        {
          "output_type": "stream",
          "name": "stderr",
          "text": [
            "<ipython-input-117-b264a88b8b27>:34: RuntimeWarning: invalid value encountered in log\n",
            "  return a * np.log(x + b) + c\n",
            "<ipython-input-117-b264a88b8b27>:57: RuntimeWarning: invalid value encountered in log\n",
            "  return a * np.log(x + b) + c\n"
          ]
        },
        {
          "output_type": "execute_result",
          "data": {
            "text/plain": [
              "Text(0, 0.5, 'Total Returns')"
            ]
          },
          "metadata": {},
          "execution_count": 117
        },
        {
          "output_type": "display_data",
          "data": {
            "text/plain": [
              "<Figure size 1800x400 with 3 Axes>"
            ],
            "image/png": "[encoded data removed]"
          },
          "metadata": {}
        }
      ]
    },
    {
      "cell_type": "code",
      "source": [
        "test_mse = [0.1,0.2,0.3]\n",
        "val_mse = [0.2,0.1,0.3]\n",
        "\n",
        "plt.scatter(test_mse, val_mse)"
      ],
      "metadata": {
        "id": "HNmGo_ji8kW9",
        "outputId": "0f968a8c-915e-417f-8df0-fa88de8ef28f",
        "colab": {
          "base_uri": "https://localhost:8080/",
          "height": 501
        }
      },
      "id": "HNmGo_ji8kW9",
      "execution_count": 132,
      "outputs": [
        {
          "output_type": "execute_result",
          "data": {
            "text/plain": [
              "<matplotlib.collections.PathCollection at 0x7ec84f56e590>"
            ]
          },
          "metadata": {},
          "execution_count": 132
        },
        {
          "output_type": "display_data",
          "data": {
            "text/plain": [
              "<Figure size 800x550 with 1 Axes>"
            ],
            "image/png": "[encoded data removed]"
          },
          "metadata": {}
        }
      ]
    }
  ],
  "metadata": {
    "language_info": {
      "name": "python"
    },
    "colab": {
      "provenance": []
    },
    "kernelspec": {
      "name": "python3",
      "display_name": "Python 3"
    },
    "widgets": {
      "application/vnd.jupyter.widget-state+json": {
        "e435188d2c604f10922f5e20500cfa23": {
          "model_module": "@jupyter-widgets/controls",
          "model_name": "HBoxModel",
          "model_module_version": "1.5.0",
          "state": {
            "_dom_classes": [],
            "_model_module": "@jupyter-widgets/controls",
            "_model_module_version": "1.5.0",
            "_model_name": "HBoxModel",
            "_view_count": null,
            "_view_module": "@jupyter-widgets/controls",
            "_view_module_version": "1.5.0",
            "_view_name": "HBoxView",
            "box_style": "",
            "children": [
              "IPY_MODEL_3c9f4c5720c848eb964a864e4d283786",
              "IPY_MODEL_3806c0b6dcd3480099a7a0cd3005ead9",
              "IPY_MODEL_742aa191914741f5bf2c379a88468220"
            ],
            "layout": "IPY_MODEL_d91a11a0900c4ca1a9810128ae6ca754"
          }
        },
        "3c9f4c5720c848eb964a864e4d283786": {
          "model_module": "@jupyter-widgets/controls",
          "model_name": "HTMLModel",
          "model_module_version": "1.5.0",
          "state": {
            "_dom_classes": [],
            "_model_module": "@jupyter-widgets/controls",
            "_model_module_version": "1.5.0",
            "_model_name": "HTMLModel",
            "_view_count": null,
            "_view_module": "@jupyter-widgets/controls",
            "_view_module_version": "1.5.0",
            "_view_name": "HTMLView",
            "description": "",
            "description_tooltip": null,
            "layout": "IPY_MODEL_3a319ddd6a1a4cd489dda6373f8d91d4",
            "placeholder": "​",
            "style": "IPY_MODEL_3b9a200dd910479bbd2e002bc11c4084",
            "value": "100%"
          }
        },
        "3806c0b6dcd3480099a7a0cd3005ead9": {
          "model_module": "@jupyter-widgets/controls",
          "model_name": "FloatProgressModel",
          "model_module_version": "1.5.0",
          "state": {
            "_dom_classes": [],
            "_model_module": "@jupyter-widgets/controls",
            "_model_module_version": "1.5.0",
            "_model_name": "FloatProgressModel",
            "_view_count": null,
            "_view_module": "@jupyter-widgets/controls",
            "_view_module_version": "1.5.0",
            "_view_name": "ProgressView",
            "bar_style": "success",
            "description": "",
            "description_tooltip": null,
            "layout": "IPY_MODEL_fb9417301f6041989222ab19414fdc30",
            "max": 10,
            "min": 0,
            "orientation": "horizontal",
            "style": "IPY_MODEL_296912d1c78742c5a170586b5b8ae6f6",
            "value": 10
          }
        },
        "742aa191914741f5bf2c379a88468220": {
          "model_module": "@jupyter-widgets/controls",
          "model_name": "HTMLModel",
          "model_module_version": "1.5.0",
          "state": {
            "_dom_classes": [],
            "_model_module": "@jupyter-widgets/controls",
            "_model_module_version": "1.5.0",
            "_model_name": "HTMLModel",
            "_view_count": null,
            "_view_module": "@jupyter-widgets/controls",
            "_view_module_version": "1.5.0",
            "_view_name": "HTMLView",
            "description": "",
            "description_tooltip": null,
            "layout": "IPY_MODEL_d7abcc5f186a4f2ca11510e770958eda",
            "placeholder": "​",
            "style": "IPY_MODEL_71e24b6f9eb44b228ac20a5474ef89c4",
            "value": " 10/10 [03:02&lt;00:00, 17.52s/it]"
          }
        },
        "d91a11a0900c4ca1a9810128ae6ca754": {
          "model_module": "@jupyter-widgets/base",
          "model_name": "LayoutModel",
          "model_module_version": "1.2.0",
          "state": {
            "_model_module": "@jupyter-widgets/base",
            "_model_module_version": "1.2.0",
            "_model_name": "LayoutModel",
            "_view_count": null,
            "_view_module": "@jupyter-widgets/base",
            "_view_module_version": "1.2.0",
            "_view_name": "LayoutView",
            "align_content": null,
            "align_items": null,
            "align_self": null,
            "border": null,
            "bottom": null,
            "display": null,
            "flex": null,
            "flex_flow": null,
            "grid_area": null,
            "grid_auto_columns": null,
            "grid_auto_flow": null,
            "grid_auto_rows": null,
            "grid_column": null,
            "grid_gap": null,
            "grid_row": null,
            "grid_template_areas": null,
            "grid_template_columns": null,
            "grid_template_rows": null,
            "height": null,
            "justify_content": null,
            "justify_items": null,
            "left": null,
            "margin": null,
            "max_height": null,
            "max_width": null,
            "min_height": null,
            "min_width": null,
            "object_fit": null,
            "object_position": null,
            "order": null,
            "overflow": null,
            "overflow_x": null,
            "overflow_y": null,
            "padding": null,
            "right": null,
            "top": null,
            "visibility": null,
            "width": null
          }
        },
        "3a319ddd6a1a4cd489dda6373f8d91d4": {
          "model_module": "@jupyter-widgets/base",
          "model_name": "LayoutModel",
          "model_module_version": "1.2.0",
          "state": {
            "_model_module": "@jupyter-widgets/base",
            "_model_module_version": "1.2.0",
            "_model_name": "LayoutModel",
            "_view_count": null,
            "_view_module": "@jupyter-widgets/base",
            "_view_module_version": "1.2.0",
            "_view_name": "LayoutView",
            "align_content": null,
            "align_items": null,
            "align_self": null,
            "border": null,
            "bottom": null,
            "display": null,
            "flex": null,
            "flex_flow": null,
            "grid_area": null,
            "grid_auto_columns": null,
            "grid_auto_flow": null,
            "grid_auto_rows": null,
            "grid_column": null,
            "grid_gap": null,
            "grid_row": null,
            "grid_template_areas": null,
            "grid_template_columns": null,
            "grid_template_rows": null,
            "height": null,
            "justify_content": null,
            "justify_items": null,
            "left": null,
            "margin": null,
            "max_height": null,
            "max_width": null,
            "min_height": null,
            "min_width": null,
            "object_fit": null,
            "object_position": null,
            "order": null,
            "overflow": null,
            "overflow_x": null,
            "overflow_y": null,
            "padding": null,
            "right": null,
            "top": null,
            "visibility": null,
            "width": null
          }
        },
        "3b9a200dd910479bbd2e002bc11c4084": {
          "model_module": "@jupyter-widgets/controls",
          "model_name": "DescriptionStyleModel",
          "model_module_version": "1.5.0",
          "state": {
            "_model_module": "@jupyter-widgets/controls",
            "_model_module_version": "1.5.0",
            "_model_name": "DescriptionStyleModel",
            "_view_count": null,
            "_view_module": "@jupyter-widgets/base",
            "_view_module_version": "1.2.0",
            "_view_name": "StyleView",
            "description_width": ""
          }
        },
        "fb9417301f6041989222ab19414fdc30": {
          "model_module": "@jupyter-widgets/base",
          "model_name": "LayoutModel",
          "model_module_version": "1.2.0",
          "state": {
            "_model_module": "@jupyter-widgets/base",
            "_model_module_version": "1.2.0",
            "_model_name": "LayoutModel",
            "_view_count": null,
            "_view_module": "@jupyter-widgets/base",
            "_view_module_version": "1.2.0",
            "_view_name": "LayoutView",
            "align_content": null,
            "align_items": null,
            "align_self": null,
            "border": null,
            "bottom": null,
            "display": null,
            "flex": null,
            "flex_flow": null,
            "grid_area": null,
            "grid_auto_columns": null,
            "grid_auto_flow": null,
            "grid_auto_rows": null,
            "grid_column": null,
            "grid_gap": null,
            "grid_row": null,
            "grid_template_areas": null,
            "grid_template_columns": null,
            "grid_template_rows": null,
            "height": null,
            "justify_content": null,
            "justify_items": null,
            "left": null,
            "margin": null,
            "max_height": null,
            "max_width": null,
            "min_height": null,
            "min_width": null,
            "object_fit": null,
            "object_position": null,
            "order": null,
            "overflow": null,
            "overflow_x": null,
            "overflow_y": null,
            "padding": null,
            "right": null,
            "top": null,
            "visibility": null,
            "width": null
          }
        },
        "296912d1c78742c5a170586b5b8ae6f6": {
          "model_module": "@jupyter-widgets/controls",
          "model_name": "ProgressStyleModel",
          "model_module_version": "1.5.0",
          "state": {
            "_model_module": "@jupyter-widgets/controls",
            "_model_module_version": "1.5.0",
            "_model_name": "ProgressStyleModel",
            "_view_count": null,
            "_view_module": "@jupyter-widgets/base",
            "_view_module_version": "1.2.0",
            "_view_name": "StyleView",
            "bar_color": null,
            "description_width": ""
          }
        },
        "d7abcc5f186a4f2ca11510e770958eda": {
          "model_module": "@jupyter-widgets/base",
          "model_name": "LayoutModel",
          "model_module_version": "1.2.0",
          "state": {
            "_model_module": "@jupyter-widgets/base",
            "_model_module_version": "1.2.0",
            "_model_name": "LayoutModel",
            "_view_count": null,
            "_view_module": "@jupyter-widgets/base",
            "_view_module_version": "1.2.0",
            "_view_name": "LayoutView",
            "align_content": null,
            "align_items": null,
            "align_self": null,
            "border": null,
            "bottom": null,
            "display": null,
            "flex": null,
            "flex_flow": null,
            "grid_area": null,
            "grid_auto_columns": null,
            "grid_auto_flow": null,
            "grid_auto_rows": null,
            "grid_column": null,
            "grid_gap": null,
            "grid_row": null,
            "grid_template_areas": null,
            "grid_template_columns": null,
            "grid_template_rows": null,
            "height": null,
            "justify_content": null,
            "justify_items": null,
            "left": null,
            "margin": null,
            "max_height": null,
            "max_width": null,
            "min_height": null,
            "min_width": null,
            "object_fit": null,
            "object_position": null,
            "order": null,
            "overflow": null,
            "overflow_x": null,
            "overflow_y": null,
            "padding": null,
            "right": null,
            "top": null,
            "visibility": null,
            "width": null
          }
        },
        "71e24b6f9eb44b228ac20a5474ef89c4": {
          "model_module": "@jupyter-widgets/controls",
          "model_name": "DescriptionStyleModel",
          "model_module_version": "1.5.0",
          "state": {
            "_model_module": "@jupyter-widgets/controls",
            "_model_module_version": "1.5.0",
            "_model_name": "DescriptionStyleModel",
            "_view_count": null,
            "_view_module": "@jupyter-widgets/base",
            "_view_module_version": "1.2.0",
            "_view_name": "StyleView",
            "description_width": ""
          }
        }
      }
    }
  },
  "nbformat": 4,
  "nbformat_minor": 5
}