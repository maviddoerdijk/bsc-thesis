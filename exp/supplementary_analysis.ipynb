{
  "cells": [
    {
      "cell_type": "code",
      "source": [
        "# if \"preprocessing\" folder in current folders -> cd back to original folder\n",
        "%cd /content\n",
        "import os\n",
        "if os.path.exists(\"bsc-thesis\"):\n",
        "  # if bsc-thesis folder already exists; completely remove\n",
        "  !rm -rf bsc-thesis\n",
        "\n",
        "# this makes sure cached files are readily available (for calling e.g. `gather_data_cached`)\n",
        "!apt-get install git-lfs\n",
        "!git lfs install\n",
        "\n",
        "# cloning repo\n",
        "branch = \"main\"\n",
        "!git clone --branch $branch https://github.com/maviddoerdijk/bsc-thesis.git\n",
        "\n",
        "# moving into project dir\n",
        "%cd bsc-thesis/src\n",
        "%ls"
      ],
      "metadata": {
        "colab": {
          "base_uri": "https://localhost:8080/"
        },
        "id": "UqxvzTd3Q7As",
        "outputId": "6bd5803a-c448-4f42-d8f2-ef556961847e"
      },
      "id": "UqxvzTd3Q7As",
      "execution_count": null,
      "outputs": [
        {
          "output_type": "stream",
          "name": "stdout",
          "text": [
            "/content\n",
            "Reading package lists... Done\n",
            "Building dependency tree... Done\n",
            "Reading state information... Done\n",
            "git-lfs is already the newest version (3.0.2-1ubuntu0.3).\n",
            "0 upgraded, 0 newly installed, 0 to remove and 34 not upgraded.\n",
            "Git LFS initialized.\n",
            "Cloning into 'bsc-thesis'...\n",
            "remote: Enumerating objects: 787, done.\u001b[K\n",
            "remote: Counting objects: 100% (167/167), done.\u001b[K\n",
            "remote: Compressing objects: 100% (141/141), done.\u001b[K\n",
            "remote: Total 787 (delta 86), reused 79 (delta 26), pack-reused 620 (from 1)\u001b[K\n",
            "Receiving objects: 100% (787/787), 26.84 MiB | 8.33 MiB/s, done.\n",
            "Resolving deltas: 100% (440/440), done.\n",
            "Updating files: 100% (111/111), done.\n",
            "Filtering content: 100% (32/32), 1.75 GiB | 51.98 MiB/s, done.\n",
            "/content/bsc-thesis/src\n",
            "\u001b[0m\u001b[01;34mbacktesting\u001b[0m/  \u001b[01;34mdata\u001b[0m/      main.ipynb  \u001b[01;34mmodels\u001b[0m/         \u001b[01;34mutils\u001b[0m/\n",
            "\u001b[01;34mconfig\u001b[0m/       \u001b[01;34mexternal\u001b[0m/  main.py     \u001b[01;34mpreprocessing\u001b[0m/\n"
          ]
        }
      ]
    },
    {
      "cell_type": "code",
      "source": [
        "!pip install ta\n",
        "!pip install pykalman"
      ],
      "metadata": {
        "colab": {
          "base_uri": "https://localhost:8080/"
        },
        "id": "IsWuu-IPRCXX",
        "outputId": "968a2364-5624-4f6e-81f5-ff31542b7689"
      },
      "id": "IsWuu-IPRCXX",
      "execution_count": null,
      "outputs": [
        {
          "output_type": "stream",
          "name": "stdout",
          "text": [
            "Collecting ta\n",
            "  Downloading ta-0.11.0.tar.gz (25 kB)\n",
            "  Preparing metadata (setup.py) ... \u001b[?25l\u001b[?25hdone\n",
            "Requirement already satisfied: numpy in /usr/local/lib/python3.11/dist-packages (from ta) (2.0.2)\n",
            "Requirement already satisfied: pandas in /usr/local/lib/python3.11/dist-packages (from ta) (2.2.2)\n",
            "Requirement already satisfied: python-dateutil>=2.8.2 in /usr/local/lib/python3.11/dist-packages (from pandas->ta) (2.9.0.post0)\n",
            "Requirement already satisfied: pytz>=2020.1 in /usr/local/lib/python3.11/dist-packages (from pandas->ta) (2025.2)\n",
            "Requirement already satisfied: tzdata>=2022.7 in /usr/local/lib/python3.11/dist-packages (from pandas->ta) (2025.2)\n",
            "Requirement already satisfied: six>=1.5 in /usr/local/lib/python3.11/dist-packages (from python-dateutil>=2.8.2->pandas->ta) (1.17.0)\n",
            "Building wheels for collected packages: ta\n",
            "  Building wheel for ta (setup.py) ... \u001b[?25l\u001b[?25hdone\n",
            "  Created wheel for ta: filename=ta-0.11.0-py3-none-any.whl size=29412 sha256=88aa83d7ab3b2bb0ef5c6fe14f49dc172e8a1ec29ce5446782661dc07b74a0bb\n",
            "  Stored in directory: /root/.cache/pip/wheels/a1/d7/29/7781cc5eb9a3659d032d7d15bdd0f49d07d2b24fec29f44bc4\n",
            "Successfully built ta\n",
            "Installing collected packages: ta\n",
            "Successfully installed ta-0.11.0\n",
            "Collecting pykalman\n",
            "  Downloading pykalman-0.10.1-py2.py3-none-any.whl.metadata (9.5 kB)\n",
            "Requirement already satisfied: numpy<3 in /usr/local/lib/python3.11/dist-packages (from pykalman) (2.0.2)\n",
            "Requirement already satisfied: packaging in /usr/local/lib/python3.11/dist-packages (from pykalman) (24.2)\n",
            "Collecting scikit-base<0.13.0 (from pykalman)\n",
            "  Downloading scikit_base-0.12.2-py3-none-any.whl.metadata (8.8 kB)\n",
            "Requirement already satisfied: scipy<2.0.0 in /usr/local/lib/python3.11/dist-packages (from pykalman) (1.15.3)\n",
            "Downloading pykalman-0.10.1-py2.py3-none-any.whl (248 kB)\n",
            "\u001b[2K   \u001b[90m━━━━━━━━━━━━━━━━━━━━━━━━━━━━━━━━━━━━━━━━\u001b[0m \u001b[32m248.5/248.5 kB\u001b[0m \u001b[31m4.6 MB/s\u001b[0m eta \u001b[36m0:00:00\u001b[0m\n",
            "\u001b[?25hDownloading scikit_base-0.12.2-py3-none-any.whl (142 kB)\n",
            "\u001b[2K   \u001b[90m━━━━━━━━━━━━━━━━━━━━━━━━━━━━━━━━━━━━━━━━\u001b[0m \u001b[32m142.7/142.7 kB\u001b[0m \u001b[31m9.8 MB/s\u001b[0m eta \u001b[36m0:00:00\u001b[0m\n",
            "\u001b[?25hInstalling collected packages: scikit-base, pykalman\n",
            "Successfully installed pykalman-0.10.1 scikit-base-0.12.2\n"
          ]
        }
      ]
    },
    {
      "cell_type": "code",
      "source": [
        "# Module imports\n",
        "import pandas as pd\n",
        "import numpy as np\n",
        "from typing import Optional, Callable, Dict, Any\n",
        "from sklearn.preprocessing import MinMaxScaler\n",
        "from matplotlib import pyplot as plt\n",
        "import torch\n",
        "from torch.utils.data import Dataset, DataLoader\n",
        "from torch.optim import AdamW\n",
        "from torch.utils.data import DataLoader\n",
        "from tqdm.auto import tqdm # note: using tqdm.auto usually automatically chooses the right import based on whether you're in CLI, notebook or somewhere else\n",
        "import torch.nn as nn\n",
        "import itertools\n",
        "from pykalman import KalmanFilter\n",
        "import ast\n",
        "import re\n",
        "from tabulate import tabulate\n",
        "from datetime import datetime\n",
        "\n",
        "# Custom Imports\n",
        "from models.statistical_models import create_dataset, default_normalize, rmse_metric, acc_metric, kalman_filter_average, kalman_filter_regression, kalman_filter_regression_multivariate\n",
        "from preprocessing.cointegration import find_cointegrated_pairs\n",
        "from preprocessing.data_preprocessing import filter_pairs_data\n",
        "from preprocessing.technical_indicators import combine_pairs_data\n",
        "from preprocessing.wavelet_denoising import wav_den\n",
        "from preprocessing.filters import step_1_filter_remove_nans, step_2_filter_liquidity\n",
        "from backtesting.trading_strategy import trade, get_gt_yoy_returns_test_dev\n",
        "from backtesting.utils import calculate_return_uncertainty\n",
        "from utils.visualization import plot_return_uncertainty, plot_comparison\n",
        "from utils.helpers import _get_train_dev_frac\n",
        "\n",
        "## specific caching imports (should be changed in case you want to gather data live)\n",
        "from data.scraper import load_cached_etf_tickers\n",
        "from data.data_collection_cache import gather_data_cached, _get_filename, gather_pairs_data_cached, gather_data_cached_using_truncate\n",
        "\n",
        "# Any other changes to be made throughout the entire notebook\n",
        "plt.style.use('seaborn-v0_8')"
      ],
      "metadata": {
        "id": "aukkd9YaRH_I"
      },
      "id": "aukkd9YaRH_I",
      "execution_count": null,
      "outputs": []
    },
    {
      "cell_type": "code",
      "execution_count": null,
      "id": "bf4c972e",
      "metadata": {
        "colab": {
          "base_uri": "https://localhost:8080/"
        },
        "id": "bf4c972e",
        "outputId": "7ddf67c3-eab2-4f66-ad2b-e7f30e904972"
      },
      "outputs": [
        {
          "output_type": "execute_result",
          "data": {
            "text/plain": [
              "{'gt_yoy_test': np.float64(0.01320367295159719),\n",
              " 'gt_yoy_dev': np.float64(-0.006013833026988102)}"
            ]
          },
          "metadata": {},
          "execution_count": 4
        }
      ],
      "source": [
        "startDateStr = '2008-01-01'\n",
        "end_year = 2024\n",
        "endDateStr = f'{end_year}-12-31'\n",
        "startDateStrTest = f'{end_year}-01-01'\n",
        "endDateStrTest = f'{end_year}-12-31'\n",
        "train_frac, dev_frac = _get_train_dev_frac(startDateStr, endDateStr, startDateStrTest, endDateStrTest)\n",
        "\n",
        "\n",
        "instrumentIdsNASDAQandNYSE = load_cached_etf_tickers()\n",
        "data = gather_data_cached_using_truncate(startDateStr, endDateStr, instrumentIdsNASDAQandNYSE, cache_dir='../src/data/cache')\n",
        "data_close_filtered_1, data_open_filtered_1, data_high_filtered_1, data_low_filtered_1, data_vol_filtered_1, data_original_format_filtered_1 = step_1_filter_remove_nans(data['close'], data['open'], data['high'], data['low'], data['vol'], data)\n",
        "data_close_filtered_2, data_open_filtered_2, data_high_filtered_2, data_low_filtered_2, data_vol_filtered_2, data_original_format_filtered_2 = step_2_filter_liquidity(data_close_filtered_1, data_open_filtered_1, data_high_filtered_1, data_low_filtered_1, data_vol_filtered_1, data_original_format_filtered_1)\n",
        "\n",
        "pairs_data_filtered = gather_pairs_data_cached(startDateStr, endDateStr, instrumentIdsNASDAQandNYSE, cache_dir='../src/data/cache')\n",
        "if pairs_data_filtered is None:\n",
        "  scores, pvalues, pairs = find_cointegrated_pairs(data_original_format_filtered_2)\n",
        "  pairs_data = {key:value[1]  for (key, value) in pairs.items()}\n",
        "  pairs_data = sorted(pairs_data.items(), key=lambda x: x[1])\n",
        "  pairs_data_filtered = filter_pairs_data(pairs_data)\n",
        "\n",
        "i = 0\n",
        "ticker_a, ticker_b = pairs_data_filtered[i][0][0], pairs_data_filtered[i][0][1]\n",
        "pairs_timeseries_df = combine_pairs_data(data_close_filtered_2, data_open_filtered_2, data_high_filtered_2, data_low_filtered_2, data_vol_filtered_2, ticker_a, ticker_b)\n",
        "output = get_gt_yoy_returns_test_dev(pairs_timeseries_df, dev_frac, train_frac, look_back=20)\n",
        "output"
      ]
    },
    {
      "cell_type": "code",
      "source": [
        "# test: see whether the original trading function does give profitable results, and whether this differs from my new trading function\n",
        "seed = 3178749\n",
        "from sklearn.metrics import mean_squared_error\n",
        "np.random.seed(seed)  # For reproducibility\n",
        "\n",
        "def trade_original(S1, S2, spread, window1, window2):\n",
        "    # If window length is 0, algorithm doesn't make sense, so exit\n",
        "    if (window1 == 0) or (window2 == 0):\n",
        "        return 0\n",
        "    # Compute rolling mean and rolling standard deviation\n",
        "    ma1 = spread.rolling(window=window1, center=False).mean()\n",
        "    ma2 = spread.rolling(window=window2, center=False).mean()\n",
        "    std = spread.rolling(window=window2, center=False).std()\n",
        "    zscore = (ma1 - ma2)/std\n",
        "    # Simulate trading\n",
        "    # Start with no money and no positions\n",
        "    money = 0\n",
        "    countS1 = 0\n",
        "    countS2 = 0\n",
        "    for i in range(len(spread)):\n",
        "        # Sell short if the z-score is > 1\n",
        "        if zscore.iloc[i] > 1:\n",
        "            # print(f\"[OLD] Step {i}: SELL SHORT, z={zscore.iloc[i]:.2f}, S1={S1.iloc[i]:.2f}, S2={S2.iloc[i]:.2f}, spread={spread.iloc[i]:.2f}, money={money:.2f}, countS1={countS1}, countS2={countS2}\")\n",
        "            money += S1.iloc[i] - S2.iloc[i] * spread.iloc[i]\n",
        "            countS1 -= 1\n",
        "            countS2 += spread.iloc[i]\n",
        "        # Buy long if the z-score is < 1\n",
        "        elif zscore.iloc[i] < -1:\n",
        "            # print(f\"[OLD] Step {i}: BUY LONG, z={zscore.iloc[i]:.2f}, S1={S1.iloc[i]:.2f}, S2={S2.iloc[i]:.2f}, spread={spread.iloc[i]:.2f}, money={money:.2f}, countS1={countS1}, countS2={countS2}\")\n",
        "            money -= S1.iloc[i] - S2.iloc[i] * spread.iloc[i]\n",
        "            countS1 += 1\n",
        "            countS2 -= spread.iloc[i]\n",
        "        # Clear positions if the z-score between -.5 and .5\n",
        "        elif abs(zscore.iloc[i]) < 0.5:\n",
        "            # print(f\"[OLD] Step {i}: CLEAR POSITION, z={zscore.iloc[i]:.2f}, S1={S1.iloc[i]:.2f}, S2={S2.iloc[i]:.2f}, spread={spread.iloc[i]:.2f}, money={money:.2f}, countS1={countS1}, countS2={countS2}\")\n",
        "            money += countS1 * S1.iloc[i] - S2.iloc[i] * countS2\n",
        "            countS1 = 0\n",
        "            countS2 = 0\n",
        "    return money\n",
        "\n",
        "def trade(\n",
        "        S1: pd.Series,\n",
        "        S2: pd.Series,\n",
        "        spread: pd.Series, # model-predicted spread for the strategy\n",
        "        window_long: int,\n",
        "        window_short: int,\n",
        "        position_threshold: float = 1.0,\n",
        "        clearing_threshold: float = 0.5,\n",
        "        risk_fraction: float = 0.1 # could be used again\n",
        "    ):\n",
        "        if len(spread) != len(S1) or len(spread) != len(S2):\n",
        "            raise ValueError(\"Length of S1, S2, and spread must be the same\")\n",
        "        # Compute rolling mean and rolling standard deviation\n",
        "\n",
        "        ma_long = spread.rolling(window=window_long, center=False).mean()\n",
        "        ma_short = spread.rolling(window=window_short, center=False).mean()\n",
        "        std = spread.rolling(window=window_short, center=False).std()\n",
        "        zscore = (ma_long - ma_short)/std\n",
        "\n",
        "        # Calculate initial cash based on average range of S1, S2 and Spread_Close, as these also determine the size of the trades\n",
        "        s2_spread = max(S2) - min(S2)\n",
        "        s1_spread = max(S1) - min(S1)\n",
        "        spread_spread = max(spread) - min(spread)\n",
        "        avg_spread = (s2_spread + s1_spread + spread_spread) / 3\n",
        "        initial_cash = avg_spread * len(spread) # the absolute returns are correlated to the length of the spread, times the average range.\n",
        "\n",
        "        # Simulate trading\n",
        "        # Start with no money and no positions\n",
        "        cash = initial_cash # initial cash amount, perhaps not hardcoded in the future\n",
        "        qty_s1 = 0\n",
        "        qty_s2 = 0\n",
        "        returns = [initial_cash]\n",
        "\n",
        "        for i in range(len(spread)):\n",
        "            # Sell short if the z-score is > 1\n",
        "            if zscore.iloc[i] > position_threshold:\n",
        "                # print(f\"[NEW] Step {i}: SELL SHORT, z={zscore.iloc[i]:.2f}, S1={S1.iloc[i]:.2f}, S2={S2.iloc[i]:.2f}, spread={spread.iloc[i]:.2f}, cash={cash:.2f}, qty_s1={qty_s1}, qty_s2={qty_s2}\")\n",
        "                cash +=  S1.iloc[i] - S2.iloc[i] * spread.iloc[i]\n",
        "                qty_s1 -= 1\n",
        "                qty_s2 += spread.iloc[i]\n",
        "            # Buy long if the z-score is < 1\n",
        "            elif zscore.iloc[i] < -position_threshold:\n",
        "                # print(f\"[NEW] Step {i}: BUY LONG, z={zscore.iloc[i]:.2f}, S1={S1.iloc[i]:.2f}, S2={S2.iloc[i]:.2f}, spread={spread.iloc[i]:.2f}, cash={cash:.2f}, qty_s1={qty_s1}, qty_s2={qty_s2}\")\n",
        "                cash -=  S1.iloc[i] - S2.iloc[i] * spread.iloc[i]\n",
        "                qty_s1 += 1\n",
        "                qty_s2 -= spread.iloc[i]\n",
        "            # Clear positions if the z-score between -.5 and .5\n",
        "            elif abs(zscore.iloc[i]) < clearing_threshold:\n",
        "                # print(f\"[NEW] Step {i}: CLEAR POSITION, z={zscore.iloc[i]:.2f}, S1={S1.iloc[i]:.2f}, S2={S2.iloc[i]:.2f}, spread={spread.iloc[i]:.2f}, cash={cash:.2f}, qty_s1={qty_s1}, qty_s2={qty_s2}\")\n",
        "                cash += qty_s1 * S1.iloc[i] - S2.iloc[i] * qty_s2\n",
        "                qty_s1 = 0\n",
        "                qty_s2 = 0\n",
        "            returns.append(cash) # append the current cash value to returns\n",
        "        # If at any point returns is 0, all values after that is zero\n",
        "        zero_from_this_idx = -1\n",
        "        for i in range(len(returns)):\n",
        "            if returns[i] <= 0:\n",
        "                zero_from_this_idx = i\n",
        "                break\n",
        "        if zero_from_this_idx > -1:\n",
        "          returns[zero_from_this_idx:] = [0] * (len(returns) - zero_from_this_idx)\n",
        "\n",
        "        # Shrink returns by a factor such that returns are not inflated.\n",
        "        returns_series = pd.Series(returns)\n",
        "        alpha = 0.1  # Shrinking/stretching factor\n",
        "        returns_uninflated = returns_series[0] + alpha * (returns_series - returns_series[0])\n",
        "        # turn back into list\n",
        "        returns_uninflated = returns_uninflated.tolist()\n",
        "        return returns_uninflated\n",
        "\n",
        "mse_list = []\n",
        "profit_original_method_list = []\n",
        "profit_new_method_list = []\n",
        "profit_new_method_absolute_list = []\n",
        "profit_original_method_std_dev_list = []\n",
        "profit_new_method_std_dev_list = []\n",
        "profit_new_method_absolute_std_dev_list = []\n",
        "for std_dev in tqdm(np.linspace(0.01, 4, num=10)):\n",
        "  mse_sum = 0\n",
        "  profit_sum = 0\n",
        "  profit_new_sum = 0\n",
        "  profit_new_absolute_sum = 0\n",
        "  num_pairs = min(len(pairs_data_filtered), 10)\n",
        "\n",
        "  for i in range(num_pairs):\n",
        "    ticker_a, ticker_b = pairs_data_filtered[i][0][0], pairs_data_filtered[i][0][1]\n",
        "    pairs_timeseries_df = combine_pairs_data(\n",
        "        data_close_filtered_2, data_open_filtered_2, data_high_filtered_2,\n",
        "        data_low_filtered_2, data_vol_filtered_2, ticker_a, ticker_b\n",
        "    )\n",
        "\n",
        "    # add random noise to simulate prediction\n",
        "    noise = np.random.normal(0, std_dev, size=len(pairs_timeseries_df))\n",
        "    pairs_timeseries_df_spread_close_noise = pairs_timeseries_df['Spread_Close'] + noise\n",
        "    mse = mean_squared_error(pairs_timeseries_df['Spread_Close'], pairs_timeseries_df_spread_close_noise)\n",
        "\n",
        "    max_length = 300\n",
        "    profit = trade_original(pairs_timeseries_df['S1_close'].iloc[:max_length], pairs_timeseries_df['S2_close'].iloc[:max_length], pairs_timeseries_df_spread_close_noise.iloc[:max_length], 30, 5)\n",
        "    profit_new = trade(pairs_timeseries_df['S1_close'].iloc[:max_length], pairs_timeseries_df['S2_close'].iloc[:max_length], pairs_timeseries_df_spread_close_noise.iloc[:max_length], 30, 5)\n",
        "    yoy_return = ((profit_new[-1] - profit_new[0]) / profit_new[0])**(365 / len(pairs_timeseries_df['S1_close'].iloc[:max_length])) - 1\n",
        "\n",
        "    mse_sum += mse\n",
        "    profit_sum += profit\n",
        "    profit_new_sum += yoy_return\n",
        "    profit_new_absolute_sum += profit_new[-1]\n",
        "\n",
        "  mse_list.append(mse_sum / num_pairs)\n",
        "  profit_original_method_list.append(profit_sum / num_pairs)\n",
        "  profit_new_method_list.append(profit_new_sum / num_pairs)\n",
        "  profit_new_method_absolute_list.append(profit_new_absolute_sum / num_pairs)\n",
        "  profit_original_method_std_dev_list.append(np.std(profit_original_method_list))\n",
        "  profit_new_method_std_dev_list.append(np.std(profit_new_method_list))\n",
        "  profit_new_method_absolute_std_dev_list.append(np.std(profit_new_method_absolute_list))"
      ],
      "metadata": {
        "colab": {
          "base_uri": "https://localhost:8080/",
          "height": 84,
          "referenced_widgets": [
            "7b9e4f73d4444728a1a2f0336c51cb38",
            "92e7aa7accdb4ea1af575f8a2d40940e",
            "405aed140f4d4ebe81a6c113ce8a2ad4",
            "b2b025460be84c7d9fefe4a55b01b1f4",
            "353981ad5aea49d69cf0656c71b7cd3b",
            "8a4725f9ccd4475ea31c53de2de909f5",
            "dfd80bf1e60849199baaf44ef86b9bf7",
            "090b2e0ad5ce42d688cfe9a85c86d5d1",
            "d936604c30ad4870a2d881412b18210e",
            "f638c212fad04b539af724b2c1985c6f",
            "bf47c5dda0994cf19fd76f6bcf66ee45"
          ]
        },
        "id": "PX0zRLnQTCmL",
        "outputId": "74a9a701-60b1-451a-bf69-787613422801"
      },
      "id": "PX0zRLnQTCmL",
      "execution_count": null,
      "outputs": [
        {
          "output_type": "display_data",
          "data": {
            "text/plain": [
              "  0%|          | 0/10 [00:00<?, ?it/s]"
            ],
            "application/vnd.jupyter.widget-view+json": {
              "version_major": 2,
              "version_minor": 0,
              "model_id": "7b9e4f73d4444728a1a2f0336c51cb38"
            }
          },
          "metadata": {}
        },
        {
          "output_type": "stream",
          "name": "stderr",
          "text": [
            "<ipython-input-15-0531171a6bc4>:140: RuntimeWarning: invalid value encountered in scalar power\n",
            "  yoy_return = ((profit_new[-1] - profit_new[0]) / profit_new[0])**(365 / len(pairs_timeseries_df['S1_close'].iloc[:max_length])) - 1\n"
          ]
        }
      ]
    },
    {
      "cell_type": "code",
      "source": [
        "((profit_new[-1] - profit_new[0]) / profit_new[0])**(365 / len(pairs_timeseries_df['S1_close'].iloc[:max_length])) - 1"
      ],
      "metadata": {
        "id": "S-ncZkDKNUEE",
        "outputId": "7eaf1b6a-e42a-4ad3-fd33-a0dfb14cd081",
        "colab": {
          "base_uri": "https://localhost:8080/"
        }
      },
      "id": "S-ncZkDKNUEE",
      "execution_count": null,
      "outputs": [
        {
          "output_type": "execute_result",
          "data": {
            "text/plain": [
              "np.float64(0.06876003077892778)"
            ]
          },
          "metadata": {},
          "execution_count": 32
        }
      ]
    },
    {
      "cell_type": "code",
      "source": [
        "from scipy.optimize import curve_fit\n",
        "np.random.seed(3178749)  # For reproducibility\n",
        "\n",
        "\n",
        "# Goal: x-axis MSE (artificially added noise), y-axis yoy returns\n",
        "# Plotting\n",
        "fig, axs = plt.subplots(1, 3, figsize=(18, 4))\n",
        "\n",
        "# For axs[0]: New Method\n",
        "# coeffs0 = np.polyfit(mse_list, profit_new_method_list, 2)\n",
        "# x0 = np.linspace(min(mse_list), max(mse_list), 100)\n",
        "# def logarithmic(x, a, b, c):\n",
        "#     return a * np.log(x + b) + c\n",
        "# popt_log, _ = curve_fit(logarithmic, mse_list, profit_new_method_list, p0=[-1e5, 2, 2e5], maxfev=5000)\n",
        "# y0 = logarithmic(x0, *popt_log)\n",
        "# axs[0].plot(x0, y0, color=\"purple\", label=\"Logarithmic Fit\")\n",
        "\n",
        "axs[0].errorbar(\n",
        "    mse_list,\n",
        "    profit_new_method_list,\n",
        "    yerr=profit_new_method_std_dev_list,\n",
        "    fmt='o',\n",
        "    label=\"New Method\",\n",
        "    alpha=0.5,\n",
        "    capsize=3\n",
        ")\n",
        "axs[0].set_title(\"New Method\")\n",
        "axs[0].set_xlabel(\"MSE (Artificially Added Noise)\")\n",
        "axs[0].set_ylabel(\"YoY Returns\")\n",
        "\n",
        "coeffs1 = np.polyfit(mse_list, profit_new_method_absolute_list, 2)\n",
        "x1 = np.linspace(min(mse_list), max(mse_list), 100)\n",
        "def logarithmic(x, a, b, c):\n",
        "    return a * np.log(x + b) + c\n",
        "popt_log, _ = curve_fit(logarithmic, mse_list, profit_new_method_absolute_list, p0=[-1e5, 2, 2e5], maxfev=5000)\n",
        "y1 = logarithmic(x1, *popt_log)\n",
        "axs[1].plot(x1, y1, color=\"purple\", label=\"Logarithmic Fit\")\n",
        "\n",
        "axs[1].errorbar(\n",
        "    mse_list,\n",
        "    profit_new_method_absolute_list,\n",
        "    yerr=profit_new_method_absolute_std_dev_list,\n",
        "    fmt='o',\n",
        "    label=\"New Method\",\n",
        "    alpha=0.5,\n",
        "    capsize=3\n",
        ")\n",
        "axs[1].set_title(\"New Method (absolute)\")\n",
        "axs[1].set_xlabel(\"MSE (Artificially Added Noise)\")\n",
        "axs[1].set_ylabel(\"Absolute Returns\")\n",
        "\n",
        "\n",
        "# For axs[1]: Old Method\n",
        "coeffs2 = np.polyfit(mse_list, profit_original_method_list, 2)\n",
        "x2 = np.linspace(min(mse_list), max(mse_list), 100)\n",
        "def logarithmic(x, a, b, c):\n",
        "    return a * np.log(x + b) + c\n",
        "popt_log, _ = curve_fit(logarithmic, mse_list, profit_original_method_list, p0=[-1e5, 2, 2e5], maxfev=5000)\n",
        "y2 = logarithmic(x2, *popt_log)\n",
        "axs[2].plot(x2, y2, color=\"purple\", label=\"Logarithmic Fit\")\n",
        "\n",
        "axs[2].errorbar(\n",
        "    mse_list,\n",
        "    profit_original_method_list,\n",
        "    yerr=profit_original_method_std_dev_list,\n",
        "    fmt='o',\n",
        "    label=\"Original Method\",\n",
        "    alpha=0.5,\n",
        "    capsize=3\n",
        ")\n",
        "axs[2].set_title(\"Old Method\")\n",
        "axs[2].set_xlabel(\"MSE (Artificially Added Noise)\")\n",
        "axs[2].set_ylabel(\"Total Returns\")"
      ],
      "metadata": {
        "colab": {
          "base_uri": "https://localhost:8080/",
          "height": 1000
        },
        "id": "SFXK2pQPQ6no",
        "outputId": "7d26affa-4cfe-4491-a8b6-d7a8b3b9f048"
      },
      "id": "SFXK2pQPQ6no",
      "execution_count": null,
      "outputs": [
        {
          "output_type": "stream",
          "name": "stderr",
          "text": [
            "/usr/local/lib/python3.11/dist-packages/matplotlib/cbook.py:1709: ComplexWarning: Casting complex values to real discards the imaginary part\n",
            "  return math.isfinite(val)\n",
            "/usr/local/lib/python3.11/dist-packages/matplotlib/cbook.py:1345: ComplexWarning: Casting complex values to real discards the imaginary part\n",
            "  return np.asarray(x, float)\n"
          ]
        },
        {
          "output_type": "error",
          "ename": "TypeError",
          "evalue": "float() argument must be a string or a real number, not 'complex'",
          "traceback": [
            "\u001b[0;31m---------------------------------------------------------------------------\u001b[0m",
            "\u001b[0;31mTypeError\u001b[0m                                 Traceback (most recent call last)",
            "\u001b[0;32m<ipython-input-17-b264a88b8b27>\u001b[0m in \u001b[0;36m<cell line: 0>\u001b[0;34m()\u001b[0m\n\u001b[1;32m     16\u001b[0m \u001b[0;31m# axs[0].plot(x0, y0, color=\"purple\", label=\"Logarithmic Fit\")\u001b[0m\u001b[0;34m\u001b[0m\u001b[0;34m\u001b[0m\u001b[0m\n\u001b[1;32m     17\u001b[0m \u001b[0;34m\u001b[0m\u001b[0m\n\u001b[0;32m---> 18\u001b[0;31m axs[0].errorbar(\n\u001b[0m\u001b[1;32m     19\u001b[0m     \u001b[0mmse_list\u001b[0m\u001b[0;34m,\u001b[0m\u001b[0;34m\u001b[0m\u001b[0;34m\u001b[0m\u001b[0m\n\u001b[1;32m     20\u001b[0m     \u001b[0mprofit_new_method_list\u001b[0m\u001b[0;34m,\u001b[0m\u001b[0;34m\u001b[0m\u001b[0;34m\u001b[0m\u001b[0m\n",
            "\u001b[0;32m/usr/local/lib/python3.11/dist-packages/matplotlib/_api/deprecation.py\u001b[0m in \u001b[0;36mwrapper\u001b[0;34m(*args, **kwargs)\u001b[0m\n\u001b[1;32m    451\u001b[0m                 \u001b[0;34m\"parameter will become keyword-only in %(removal)s.\"\u001b[0m\u001b[0;34m,\u001b[0m\u001b[0;34m\u001b[0m\u001b[0;34m\u001b[0m\u001b[0m\n\u001b[1;32m    452\u001b[0m                 name=name, obj_type=f\"parameter of {func.__name__}()\")\n\u001b[0;32m--> 453\u001b[0;31m         \u001b[0;32mreturn\u001b[0m \u001b[0mfunc\u001b[0m\u001b[0;34m(\u001b[0m\u001b[0;34m*\u001b[0m\u001b[0margs\u001b[0m\u001b[0;34m,\u001b[0m \u001b[0;34m**\u001b[0m\u001b[0mkwargs\u001b[0m\u001b[0;34m)\u001b[0m\u001b[0;34m\u001b[0m\u001b[0;34m\u001b[0m\u001b[0m\n\u001b[0m\u001b[1;32m    454\u001b[0m \u001b[0;34m\u001b[0m\u001b[0m\n\u001b[1;32m    455\u001b[0m     \u001b[0;31m# Don't modify *func*'s signature, as boilerplate.py needs it.\u001b[0m\u001b[0;34m\u001b[0m\u001b[0;34m\u001b[0m\u001b[0m\n",
            "\u001b[0;32m/usr/local/lib/python3.11/dist-packages/matplotlib/__init__.py\u001b[0m in \u001b[0;36minner\u001b[0;34m(ax, data, *args, **kwargs)\u001b[0m\n\u001b[1;32m   1519\u001b[0m     \u001b[0;32mdef\u001b[0m \u001b[0minner\u001b[0m\u001b[0;34m(\u001b[0m\u001b[0max\u001b[0m\u001b[0;34m,\u001b[0m \u001b[0;34m*\u001b[0m\u001b[0margs\u001b[0m\u001b[0;34m,\u001b[0m \u001b[0mdata\u001b[0m\u001b[0;34m=\u001b[0m\u001b[0;32mNone\u001b[0m\u001b[0;34m,\u001b[0m \u001b[0;34m**\u001b[0m\u001b[0mkwargs\u001b[0m\u001b[0;34m)\u001b[0m\u001b[0;34m:\u001b[0m\u001b[0;34m\u001b[0m\u001b[0;34m\u001b[0m\u001b[0m\n\u001b[1;32m   1520\u001b[0m         \u001b[0;32mif\u001b[0m \u001b[0mdata\u001b[0m \u001b[0;32mis\u001b[0m \u001b[0;32mNone\u001b[0m\u001b[0;34m:\u001b[0m\u001b[0;34m\u001b[0m\u001b[0;34m\u001b[0m\u001b[0m\n\u001b[0;32m-> 1521\u001b[0;31m             return func(\n\u001b[0m\u001b[1;32m   1522\u001b[0m                 \u001b[0max\u001b[0m\u001b[0;34m,\u001b[0m\u001b[0;34m\u001b[0m\u001b[0;34m\u001b[0m\u001b[0m\n\u001b[1;32m   1523\u001b[0m                 \u001b[0;34m*\u001b[0m\u001b[0mmap\u001b[0m\u001b[0;34m(\u001b[0m\u001b[0mcbook\u001b[0m\u001b[0;34m.\u001b[0m\u001b[0msanitize_sequence\u001b[0m\u001b[0;34m,\u001b[0m \u001b[0margs\u001b[0m\u001b[0;34m)\u001b[0m\u001b[0;34m,\u001b[0m\u001b[0;34m\u001b[0m\u001b[0;34m\u001b[0m\u001b[0m\n",
            "\u001b[0;32m/usr/local/lib/python3.11/dist-packages/matplotlib/axes/_axes.py\u001b[0m in \u001b[0;36merrorbar\u001b[0;34m(self, x, y, yerr, xerr, fmt, ecolor, elinewidth, capsize, barsabove, lolims, uplims, xlolims, xuplims, errorevery, capthick, **kwargs)\u001b[0m\n\u001b[1;32m   3707\u001b[0m         \u001b[0;31m# Add line to plot, or throw it away and use it to determine kwargs.\u001b[0m\u001b[0;34m\u001b[0m\u001b[0;34m\u001b[0m\u001b[0m\n\u001b[1;32m   3708\u001b[0m         \u001b[0;32mif\u001b[0m \u001b[0mfmt\u001b[0m\u001b[0;34m.\u001b[0m\u001b[0mlower\u001b[0m\u001b[0;34m(\u001b[0m\u001b[0;34m)\u001b[0m \u001b[0;34m!=\u001b[0m \u001b[0;34m'none'\u001b[0m\u001b[0;34m:\u001b[0m\u001b[0;34m\u001b[0m\u001b[0;34m\u001b[0m\u001b[0m\n\u001b[0;32m-> 3709\u001b[0;31m             \u001b[0mself\u001b[0m\u001b[0;34m.\u001b[0m\u001b[0madd_line\u001b[0m\u001b[0;34m(\u001b[0m\u001b[0mdata_line\u001b[0m\u001b[0;34m)\u001b[0m\u001b[0;34m\u001b[0m\u001b[0;34m\u001b[0m\u001b[0m\n\u001b[0m\u001b[1;32m   3710\u001b[0m         \u001b[0;32melse\u001b[0m\u001b[0;34m:\u001b[0m\u001b[0;34m\u001b[0m\u001b[0;34m\u001b[0m\u001b[0m\n\u001b[1;32m   3711\u001b[0m             \u001b[0mdata_line\u001b[0m \u001b[0;34m=\u001b[0m \u001b[0;32mNone\u001b[0m\u001b[0;34m\u001b[0m\u001b[0;34m\u001b[0m\u001b[0m\n",
            "\u001b[0;32m/usr/local/lib/python3.11/dist-packages/matplotlib/axes/_base.py\u001b[0m in \u001b[0;36madd_line\u001b[0;34m(self, line)\u001b[0m\n\u001b[1;32m   2369\u001b[0m             \u001b[0mline\u001b[0m\u001b[0;34m.\u001b[0m\u001b[0mset_clip_path\u001b[0m\u001b[0;34m(\u001b[0m\u001b[0mself\u001b[0m\u001b[0;34m.\u001b[0m\u001b[0mpatch\u001b[0m\u001b[0;34m)\u001b[0m\u001b[0;34m\u001b[0m\u001b[0;34m\u001b[0m\u001b[0m\n\u001b[1;32m   2370\u001b[0m \u001b[0;34m\u001b[0m\u001b[0m\n\u001b[0;32m-> 2371\u001b[0;31m         \u001b[0mself\u001b[0m\u001b[0;34m.\u001b[0m\u001b[0m_update_line_limits\u001b[0m\u001b[0;34m(\u001b[0m\u001b[0mline\u001b[0m\u001b[0;34m)\u001b[0m\u001b[0;34m\u001b[0m\u001b[0;34m\u001b[0m\u001b[0m\n\u001b[0m\u001b[1;32m   2372\u001b[0m         \u001b[0;32mif\u001b[0m \u001b[0;32mnot\u001b[0m \u001b[0mline\u001b[0m\u001b[0;34m.\u001b[0m\u001b[0mget_label\u001b[0m\u001b[0;34m(\u001b[0m\u001b[0;34m)\u001b[0m\u001b[0;34m:\u001b[0m\u001b[0;34m\u001b[0m\u001b[0;34m\u001b[0m\u001b[0m\n\u001b[1;32m   2373\u001b[0m             \u001b[0mline\u001b[0m\u001b[0;34m.\u001b[0m\u001b[0mset_label\u001b[0m\u001b[0;34m(\u001b[0m\u001b[0;34mf'_child{len(self._children)}'\u001b[0m\u001b[0;34m)\u001b[0m\u001b[0;34m\u001b[0m\u001b[0;34m\u001b[0m\u001b[0m\n",
            "\u001b[0;32m/usr/local/lib/python3.11/dist-packages/matplotlib/axes/_base.py\u001b[0m in \u001b[0;36m_update_line_limits\u001b[0;34m(self, line)\u001b[0m\n\u001b[1;32m   2392\u001b[0m         \u001b[0mFigures\u001b[0m \u001b[0mout\u001b[0m \u001b[0mthe\u001b[0m \u001b[0mdata\u001b[0m \u001b[0mlimit\u001b[0m \u001b[0mof\u001b[0m \u001b[0mthe\u001b[0m \u001b[0mgiven\u001b[0m \u001b[0mline\u001b[0m\u001b[0;34m,\u001b[0m \u001b[0mupdating\u001b[0m\u001b[0;31m \u001b[0m\u001b[0;31m`\u001b[0m\u001b[0;34m.\u001b[0m\u001b[0mAxes\u001b[0m\u001b[0;34m.\u001b[0m\u001b[0mdataLim\u001b[0m\u001b[0;31m`\u001b[0m\u001b[0;34m.\u001b[0m\u001b[0;34m\u001b[0m\u001b[0;34m\u001b[0m\u001b[0m\n\u001b[1;32m   2393\u001b[0m         \"\"\"\n\u001b[0;32m-> 2394\u001b[0;31m         \u001b[0mpath\u001b[0m \u001b[0;34m=\u001b[0m \u001b[0mline\u001b[0m\u001b[0;34m.\u001b[0m\u001b[0mget_path\u001b[0m\u001b[0;34m(\u001b[0m\u001b[0;34m)\u001b[0m\u001b[0;34m\u001b[0m\u001b[0;34m\u001b[0m\u001b[0m\n\u001b[0m\u001b[1;32m   2395\u001b[0m         \u001b[0;32mif\u001b[0m \u001b[0mpath\u001b[0m\u001b[0;34m.\u001b[0m\u001b[0mvertices\u001b[0m\u001b[0;34m.\u001b[0m\u001b[0msize\u001b[0m \u001b[0;34m==\u001b[0m \u001b[0;36m0\u001b[0m\u001b[0;34m:\u001b[0m\u001b[0;34m\u001b[0m\u001b[0;34m\u001b[0m\u001b[0m\n\u001b[1;32m   2396\u001b[0m             \u001b[0;32mreturn\u001b[0m\u001b[0;34m\u001b[0m\u001b[0;34m\u001b[0m\u001b[0m\n",
            "\u001b[0;32m/usr/local/lib/python3.11/dist-packages/matplotlib/lines.py\u001b[0m in \u001b[0;36mget_path\u001b[0;34m(self)\u001b[0m\n\u001b[1;32m   1036\u001b[0m         \u001b[0;34m\"\"\"Return the `~matplotlib.path.Path` associated with this line.\"\"\"\u001b[0m\u001b[0;34m\u001b[0m\u001b[0;34m\u001b[0m\u001b[0m\n\u001b[1;32m   1037\u001b[0m         \u001b[0;32mif\u001b[0m \u001b[0mself\u001b[0m\u001b[0;34m.\u001b[0m\u001b[0m_invalidy\u001b[0m \u001b[0;32mor\u001b[0m \u001b[0mself\u001b[0m\u001b[0;34m.\u001b[0m\u001b[0m_invalidx\u001b[0m\u001b[0;34m:\u001b[0m\u001b[0;34m\u001b[0m\u001b[0;34m\u001b[0m\u001b[0m\n\u001b[0;32m-> 1038\u001b[0;31m             \u001b[0mself\u001b[0m\u001b[0;34m.\u001b[0m\u001b[0mrecache\u001b[0m\u001b[0;34m(\u001b[0m\u001b[0;34m)\u001b[0m\u001b[0;34m\u001b[0m\u001b[0;34m\u001b[0m\u001b[0m\n\u001b[0m\u001b[1;32m   1039\u001b[0m         \u001b[0;32mreturn\u001b[0m \u001b[0mself\u001b[0m\u001b[0;34m.\u001b[0m\u001b[0m_path\u001b[0m\u001b[0;34m\u001b[0m\u001b[0;34m\u001b[0m\u001b[0m\n\u001b[1;32m   1040\u001b[0m \u001b[0;34m\u001b[0m\u001b[0m\n",
            "\u001b[0;32m/usr/local/lib/python3.11/dist-packages/matplotlib/lines.py\u001b[0m in \u001b[0;36mrecache\u001b[0;34m(self, always)\u001b[0m\n\u001b[1;32m    678\u001b[0m         \u001b[0;32mif\u001b[0m \u001b[0malways\u001b[0m \u001b[0;32mor\u001b[0m \u001b[0mself\u001b[0m\u001b[0;34m.\u001b[0m\u001b[0m_invalidy\u001b[0m\u001b[0;34m:\u001b[0m\u001b[0;34m\u001b[0m\u001b[0;34m\u001b[0m\u001b[0m\n\u001b[1;32m    679\u001b[0m             \u001b[0myconv\u001b[0m \u001b[0;34m=\u001b[0m \u001b[0mself\u001b[0m\u001b[0;34m.\u001b[0m\u001b[0mconvert_yunits\u001b[0m\u001b[0;34m(\u001b[0m\u001b[0mself\u001b[0m\u001b[0;34m.\u001b[0m\u001b[0m_yorig\u001b[0m\u001b[0;34m)\u001b[0m\u001b[0;34m\u001b[0m\u001b[0;34m\u001b[0m\u001b[0m\n\u001b[0;32m--> 680\u001b[0;31m             \u001b[0my\u001b[0m \u001b[0;34m=\u001b[0m \u001b[0m_to_unmasked_float_array\u001b[0m\u001b[0;34m(\u001b[0m\u001b[0myconv\u001b[0m\u001b[0;34m)\u001b[0m\u001b[0;34m.\u001b[0m\u001b[0mravel\u001b[0m\u001b[0;34m(\u001b[0m\u001b[0;34m)\u001b[0m\u001b[0;34m\u001b[0m\u001b[0;34m\u001b[0m\u001b[0m\n\u001b[0m\u001b[1;32m    681\u001b[0m         \u001b[0;32melse\u001b[0m\u001b[0;34m:\u001b[0m\u001b[0;34m\u001b[0m\u001b[0;34m\u001b[0m\u001b[0m\n\u001b[1;32m    682\u001b[0m             \u001b[0my\u001b[0m \u001b[0;34m=\u001b[0m \u001b[0mself\u001b[0m\u001b[0;34m.\u001b[0m\u001b[0m_y\u001b[0m\u001b[0;34m\u001b[0m\u001b[0;34m\u001b[0m\u001b[0m\n",
            "\u001b[0;32m/usr/local/lib/python3.11/dist-packages/matplotlib/cbook.py\u001b[0m in \u001b[0;36m_to_unmasked_float_array\u001b[0;34m(x)\u001b[0m\n\u001b[1;32m   1343\u001b[0m         \u001b[0;32mreturn\u001b[0m \u001b[0mnp\u001b[0m\u001b[0;34m.\u001b[0m\u001b[0mma\u001b[0m\u001b[0;34m.\u001b[0m\u001b[0masarray\u001b[0m\u001b[0;34m(\u001b[0m\u001b[0mx\u001b[0m\u001b[0;34m,\u001b[0m \u001b[0mfloat\u001b[0m\u001b[0;34m)\u001b[0m\u001b[0;34m.\u001b[0m\u001b[0mfilled\u001b[0m\u001b[0;34m(\u001b[0m\u001b[0mnp\u001b[0m\u001b[0;34m.\u001b[0m\u001b[0mnan\u001b[0m\u001b[0;34m)\u001b[0m\u001b[0;34m\u001b[0m\u001b[0;34m\u001b[0m\u001b[0m\n\u001b[1;32m   1344\u001b[0m     \u001b[0;32melse\u001b[0m\u001b[0;34m:\u001b[0m\u001b[0;34m\u001b[0m\u001b[0;34m\u001b[0m\u001b[0m\n\u001b[0;32m-> 1345\u001b[0;31m         \u001b[0;32mreturn\u001b[0m \u001b[0mnp\u001b[0m\u001b[0;34m.\u001b[0m\u001b[0masarray\u001b[0m\u001b[0;34m(\u001b[0m\u001b[0mx\u001b[0m\u001b[0;34m,\u001b[0m \u001b[0mfloat\u001b[0m\u001b[0;34m)\u001b[0m\u001b[0;34m\u001b[0m\u001b[0;34m\u001b[0m\u001b[0m\n\u001b[0m\u001b[1;32m   1346\u001b[0m \u001b[0;34m\u001b[0m\u001b[0m\n\u001b[1;32m   1347\u001b[0m \u001b[0;34m\u001b[0m\u001b[0m\n",
            "\u001b[0;31mTypeError\u001b[0m: float() argument must be a string or a real number, not 'complex'"
          ]
        },
        {
          "output_type": "display_data",
          "data": {
            "text/plain": [
              "<Figure size 1800x400 with 3 Axes>"
            ],
            "image/png": "[encoded data removed]"
          },
          "metadata": {}
        }
      ]
    },
    {
      "cell_type": "code",
      "source": [
        "# Plot all profits for std dev = 0.01"
      ],
      "metadata": {
        "id": "V9gGtaeBL1bf"
      },
      "id": "V9gGtaeBL1bf",
      "execution_count": null,
      "outputs": []
    },
    {
      "cell_type": "code",
      "source": [
        "import pickle\n",
        "\n",
        "fig, axs = plt.subplots(1, 2, figsize=(14, 4))\n",
        "\n",
        "for i, end_year in enumerate([2023, 2024]):\n",
        "  save_hash = f\"2008_{end_year}_full\"\n",
        "  mse_list_filename = f'mse_list_{save_hash}.pkl'\n",
        "  profit_new_method_list_filename = f'profit_new_method_list_{save_hash}.pkl'\n",
        "  profit_new_method_std_dev_list_filename = f'profit_new_method_std_dev_list_{save_hash}.pkl'\n",
        "\n",
        "  with open(mse_list_filename, 'rb') as f:\n",
        "      mse_list = pickle.load(f)\n",
        "  with open(profit_new_method_list_filename, 'rb') as f:\n",
        "      profit_new_method_list = pickle.load(f)\n",
        "  with open(profit_new_method_std_dev_list_filename, 'rb') as f:\n",
        "      profit_new_method_std_dev_list = pickle.load(f)\n",
        "\n",
        "  axs[i].errorbar(\n",
        "      mse_list,\n",
        "      profit_new_method_list,\n",
        "      yerr=profit_new_method_std_dev_list,\n",
        "      fmt='o',\n",
        "      alpha=0.5,\n",
        "      capsize=3\n",
        "  )\n",
        "  axs[i].set_title(f\"YoY returns for pairs trading strategy across top 30 pairs (2008-{end_year})\")\n",
        "  axs[i].set_xlabel(\"MSE (Artificially Added Noise)\")\n",
        "  axs[i].set_ylabel(\"Average YoY Returns\")"
      ],
      "metadata": {
        "colab": {
          "base_uri": "https://localhost:8080/",
          "height": 568
        },
        "id": "BjgSO4O25wig",
        "outputId": "a8c41c33-6d4f-44c7-d53a-f2261408396e"
      },
      "id": "BjgSO4O25wig",
      "execution_count": null,
      "outputs": [
        {
          "output_type": "error",
          "ename": "FileNotFoundError",
          "evalue": "[Errno 2] No such file or directory: 'mse_list_2008_2023_full.pkl'",
          "traceback": [
            "\u001b[0;31m---------------------------------------------------------------------------\u001b[0m",
            "\u001b[0;31mFileNotFoundError\u001b[0m                         Traceback (most recent call last)",
            "\u001b[0;32m<ipython-input-6-0d3d7f7a5d22>\u001b[0m in \u001b[0;36m<cell line: 0>\u001b[0;34m()\u001b[0m\n\u001b[1;32m      7\u001b[0m   \u001b[0mprofit_new_method_std_dev_list_filename\u001b[0m \u001b[0;34m=\u001b[0m \u001b[0;34mf'profit_new_method_std_dev_list_{save_hash}.pkl'\u001b[0m\u001b[0;34m\u001b[0m\u001b[0;34m\u001b[0m\u001b[0m\n\u001b[1;32m      8\u001b[0m \u001b[0;34m\u001b[0m\u001b[0m\n\u001b[0;32m----> 9\u001b[0;31m   \u001b[0;32mwith\u001b[0m \u001b[0mopen\u001b[0m\u001b[0;34m(\u001b[0m\u001b[0mmse_list_filename\u001b[0m\u001b[0;34m,\u001b[0m \u001b[0;34m'rb'\u001b[0m\u001b[0;34m)\u001b[0m \u001b[0;32mas\u001b[0m \u001b[0mf\u001b[0m\u001b[0;34m:\u001b[0m\u001b[0;34m\u001b[0m\u001b[0;34m\u001b[0m\u001b[0m\n\u001b[0m\u001b[1;32m     10\u001b[0m       \u001b[0mmse_list\u001b[0m \u001b[0;34m=\u001b[0m \u001b[0mpickle\u001b[0m\u001b[0;34m.\u001b[0m\u001b[0mload\u001b[0m\u001b[0;34m(\u001b[0m\u001b[0mf\u001b[0m\u001b[0;34m)\u001b[0m\u001b[0;34m\u001b[0m\u001b[0;34m\u001b[0m\u001b[0m\n\u001b[1;32m     11\u001b[0m   \u001b[0;32mwith\u001b[0m \u001b[0mopen\u001b[0m\u001b[0;34m(\u001b[0m\u001b[0mprofit_new_method_list_filename\u001b[0m\u001b[0;34m,\u001b[0m \u001b[0;34m'rb'\u001b[0m\u001b[0;34m)\u001b[0m \u001b[0;32mas\u001b[0m \u001b[0mf\u001b[0m\u001b[0;34m:\u001b[0m\u001b[0;34m\u001b[0m\u001b[0;34m\u001b[0m\u001b[0m\n",
            "\u001b[0;31mFileNotFoundError\u001b[0m: [Errno 2] No such file or directory: 'mse_list_2008_2023_full.pkl'"
          ]
        },
        {
          "output_type": "display_data",
          "data": {
            "text/plain": [
              "<Figure size 1400x400 with 2 Axes>"
            ],
            "image/png": "[encoded data removed]"
          },
          "metadata": {}
        }
      ]
    },
    {
      "cell_type": "code",
      "source": [
        "test_mse = [0.1,0.2,0.3]\n",
        "val_mse = [0.2,0.1,0.3]\n",
        "\n",
        "plt.scatter(test_mse, val_mse)"
      ],
      "metadata": {
        "colab": {
          "base_uri": "https://localhost:8080/",
          "height": 501
        },
        "id": "HNmGo_ji8kW9",
        "outputId": "0f968a8c-915e-417f-8df0-fa88de8ef28f"
      },
      "id": "HNmGo_ji8kW9",
      "execution_count": null,
      "outputs": [
        {
          "output_type": "execute_result",
          "data": {
            "text/plain": [
              "<matplotlib.collections.PathCollection at 0x7ec84f56e590>"
            ]
          },
          "metadata": {},
          "execution_count": 132
        },
        {
          "output_type": "display_data",
          "data": {
            "text/plain": [
              "<Figure size 800x550 with 1 Axes>"
            ],
            "image/png": "[encoded data removed]"
          },
          "metadata": {}
        }
      ]
    },
    {
      "cell_type": "code",
      "source": [],
      "metadata": {
        "id": "-BtbnUEEarsG"
      },
      "id": "-BtbnUEEarsG",
      "execution_count": null,
      "outputs": []
    }
  ],
  "metadata": {
    "language_info": {
      "name": "python"
    },
    "colab": {
      "provenance": []
    },
    "kernelspec": {
      "name": "python3",
      "display_name": "Python 3"
    },
    "widgets": {
      "application/vnd.jupyter.widget-state+json": {
        "7b9e4f73d4444728a1a2f0336c51cb38": {
          "model_module": "@jupyter-widgets/controls",
          "model_name": "HBoxModel",
          "model_module_version": "1.5.0",
          "state": {
            "_dom_classes": [],
            "_model_module": "@jupyter-widgets/controls",
            "_model_module_version": "1.5.0",
            "_model_name": "HBoxModel",
            "_view_count": null,
            "_view_module": "@jupyter-widgets/controls",
            "_view_module_version": "1.5.0",
            "_view_name": "HBoxView",
            "box_style": "",
            "children": [
              "IPY_MODEL_92e7aa7accdb4ea1af575f8a2d40940e",
              "IPY_MODEL_405aed140f4d4ebe81a6c113ce8a2ad4",
              "IPY_MODEL_b2b025460be84c7d9fefe4a55b01b1f4"
            ],
            "layout": "IPY_MODEL_353981ad5aea49d69cf0656c71b7cd3b"
          }
        },
        "92e7aa7accdb4ea1af575f8a2d40940e": {
          "model_module": "@jupyter-widgets/controls",
          "model_name": "HTMLModel",
          "model_module_version": "1.5.0",
          "state": {
            "_dom_classes": [],
            "_model_module": "@jupyter-widgets/controls",
            "_model_module_version": "1.5.0",
            "_model_name": "HTMLModel",
            "_view_count": null,
            "_view_module": "@jupyter-widgets/controls",
            "_view_module_version": "1.5.0",
            "_view_name": "HTMLView",
            "description": "",
            "description_tooltip": null,
            "layout": "IPY_MODEL_8a4725f9ccd4475ea31c53de2de909f5",
            "placeholder": "​",
            "style": "IPY_MODEL_dfd80bf1e60849199baaf44ef86b9bf7",
            "value": "100%"
          }
        },
        "405aed140f4d4ebe81a6c113ce8a2ad4": {
          "model_module": "@jupyter-widgets/controls",
          "model_name": "FloatProgressModel",
          "model_module_version": "1.5.0",
          "state": {
            "_dom_classes": [],
            "_model_module": "@jupyter-widgets/controls",
            "_model_module_version": "1.5.0",
            "_model_name": "FloatProgressModel",
            "_view_count": null,
            "_view_module": "@jupyter-widgets/controls",
            "_view_module_version": "1.5.0",
            "_view_name": "ProgressView",
            "bar_style": "success",
            "description": "",
            "description_tooltip": null,
            "layout": "IPY_MODEL_090b2e0ad5ce42d688cfe9a85c86d5d1",
            "max": 10,
            "min": 0,
            "orientation": "horizontal",
            "style": "IPY_MODEL_d936604c30ad4870a2d881412b18210e",
            "value": 10
          }
        },
        "b2b025460be84c7d9fefe4a55b01b1f4": {
          "model_module": "@jupyter-widgets/controls",
          "model_name": "HTMLModel",
          "model_module_version": "1.5.0",
          "state": {
            "_dom_classes": [],
            "_model_module": "@jupyter-widgets/controls",
            "_model_module_version": "1.5.0",
            "_model_name": "HTMLModel",
            "_view_count": null,
            "_view_module": "@jupyter-widgets/controls",
            "_view_module_version": "1.5.0",
            "_view_name": "HTMLView",
            "description": "",
            "description_tooltip": null,
            "layout": "IPY_MODEL_f638c212fad04b539af724b2c1985c6f",
            "placeholder": "​",
            "style": "IPY_MODEL_bf47c5dda0994cf19fd76f6bcf66ee45",
            "value": " 10/10 [00:38&lt;00:00,  3.87s/it]"
          }
        },
        "353981ad5aea49d69cf0656c71b7cd3b": {
          "model_module": "@jupyter-widgets/base",
          "model_name": "LayoutModel",
          "model_module_version": "1.2.0",
          "state": {
            "_model_module": "@jupyter-widgets/base",
            "_model_module_version": "1.2.0",
            "_model_name": "LayoutModel",
            "_view_count": null,
            "_view_module": "@jupyter-widgets/base",
            "_view_module_version": "1.2.0",
            "_view_name": "LayoutView",
            "align_content": null,
            "align_items": null,
            "align_self": null,
            "border": null,
            "bottom": null,
            "display": null,
            "flex": null,
            "flex_flow": null,
            "grid_area": null,
            "grid_auto_columns": null,
            "grid_auto_flow": null,
            "grid_auto_rows": null,
            "grid_column": null,
            "grid_gap": null,
            "grid_row": null,
            "grid_template_areas": null,
            "grid_template_columns": null,
            "grid_template_rows": null,
            "height": null,
            "justify_content": null,
            "justify_items": null,
            "left": null,
            "margin": null,
            "max_height": null,
            "max_width": null,
            "min_height": null,
            "min_width": null,
            "object_fit": null,
            "object_position": null,
            "order": null,
            "overflow": null,
            "overflow_x": null,
            "overflow_y": null,
            "padding": null,
            "right": null,
            "top": null,
            "visibility": null,
            "width": null
          }
        },
        "8a4725f9ccd4475ea31c53de2de909f5": {
          "model_module": "@jupyter-widgets/base",
          "model_name": "LayoutModel",
          "model_module_version": "1.2.0",
          "state": {
            "_model_module": "@jupyter-widgets/base",
            "_model_module_version": "1.2.0",
            "_model_name": "LayoutModel",
            "_view_count": null,
            "_view_module": "@jupyter-widgets/base",
            "_view_module_version": "1.2.0",
            "_view_name": "LayoutView",
            "align_content": null,
            "align_items": null,
            "align_self": null,
            "border": null,
            "bottom": null,
            "display": null,
            "flex": null,
            "flex_flow": null,
            "grid_area": null,
            "grid_auto_columns": null,
            "grid_auto_flow": null,
            "grid_auto_rows": null,
            "grid_column": null,
            "grid_gap": null,
            "grid_row": null,
            "grid_template_areas": null,
            "grid_template_columns": null,
            "grid_template_rows": null,
            "height": null,
            "justify_content": null,
            "justify_items": null,
            "left": null,
            "margin": null,
            "max_height": null,
            "max_width": null,
            "min_height": null,
            "min_width": null,
            "object_fit": null,
            "object_position": null,
            "order": null,
            "overflow": null,
            "overflow_x": null,
            "overflow_y": null,
            "padding": null,
            "right": null,
            "top": null,
            "visibility": null,
            "width": null
          }
        },
        "dfd80bf1e60849199baaf44ef86b9bf7": {
          "model_module": "@jupyter-widgets/controls",
          "model_name": "DescriptionStyleModel",
          "model_module_version": "1.5.0",
          "state": {
            "_model_module": "@jupyter-widgets/controls",
            "_model_module_version": "1.5.0",
            "_model_name": "DescriptionStyleModel",
            "_view_count": null,
            "_view_module": "@jupyter-widgets/base",
            "_view_module_version": "1.2.0",
            "_view_name": "StyleView",
            "description_width": ""
          }
        },
        "090b2e0ad5ce42d688cfe9a85c86d5d1": {
          "model_module": "@jupyter-widgets/base",
          "model_name": "LayoutModel",
          "model_module_version": "1.2.0",
          "state": {
            "_model_module": "@jupyter-widgets/base",
            "_model_module_version": "1.2.0",
            "_model_name": "LayoutModel",
            "_view_count": null,
            "_view_module": "@jupyter-widgets/base",
            "_view_module_version": "1.2.0",
            "_view_name": "LayoutView",
            "align_content": null,
            "align_items": null,
            "align_self": null,
            "border": null,
            "bottom": null,
            "display": null,
            "flex": null,
            "flex_flow": null,
            "grid_area": null,
            "grid_auto_columns": null,
            "grid_auto_flow": null,
            "grid_auto_rows": null,
            "grid_column": null,
            "grid_gap": null,
            "grid_row": null,
            "grid_template_areas": null,
            "grid_template_columns": null,
            "grid_template_rows": null,
            "height": null,
            "justify_content": null,
            "justify_items": null,
            "left": null,
            "margin": null,
            "max_height": null,
            "max_width": null,
            "min_height": null,
            "min_width": null,
            "object_fit": null,
            "object_position": null,
            "order": null,
            "overflow": null,
            "overflow_x": null,
            "overflow_y": null,
            "padding": null,
            "right": null,
            "top": null,
            "visibility": null,
            "width": null
          }
        },
        "d936604c30ad4870a2d881412b18210e": {
          "model_module": "@jupyter-widgets/controls",
          "model_name": "ProgressStyleModel",
          "model_module_version": "1.5.0",
          "state": {
            "_model_module": "@jupyter-widgets/controls",
            "_model_module_version": "1.5.0",
            "_model_name": "ProgressStyleModel",
            "_view_count": null,
            "_view_module": "@jupyter-widgets/base",
            "_view_module_version": "1.2.0",
            "_view_name": "StyleView",
            "bar_color": null,
            "description_width": ""
          }
        },
        "f638c212fad04b539af724b2c1985c6f": {
          "model_module": "@jupyter-widgets/base",
          "model_name": "LayoutModel",
          "model_module_version": "1.2.0",
          "state": {
            "_model_module": "@jupyter-widgets/base",
            "_model_module_version": "1.2.0",
            "_model_name": "LayoutModel",
            "_view_count": null,
            "_view_module": "@jupyter-widgets/base",
            "_view_module_version": "1.2.0",
            "_view_name": "LayoutView",
            "align_content": null,
            "align_items": null,
            "align_self": null,
            "border": null,
            "bottom": null,
            "display": null,
            "flex": null,
            "flex_flow": null,
            "grid_area": null,
            "grid_auto_columns": null,
            "grid_auto_flow": null,
            "grid_auto_rows": null,
            "grid_column": null,
            "grid_gap": null,
            "grid_row": null,
            "grid_template_areas": null,
            "grid_template_columns": null,
            "grid_template_rows": null,
            "height": null,
            "justify_content": null,
            "justify_items": null,
            "left": null,
            "margin": null,
            "max_height": null,
            "max_width": null,
            "min_height": null,
            "min_width": null,
            "object_fit": null,
            "object_position": null,
            "order": null,
            "overflow": null,
            "overflow_x": null,
            "overflow_y": null,
            "padding": null,
            "right": null,
            "top": null,
            "visibility": null,
            "width": null
          }
        },
        "bf47c5dda0994cf19fd76f6bcf66ee45": {
          "model_module": "@jupyter-widgets/controls",
          "model_name": "DescriptionStyleModel",
          "model_module_version": "1.5.0",
          "state": {
            "_model_module": "@jupyter-widgets/controls",
            "_model_module_version": "1.5.0",
            "_model_name": "DescriptionStyleModel",
            "_view_count": null,
            "_view_module": "@jupyter-widgets/base",
            "_view_module_version": "1.2.0",
            "_view_name": "StyleView",
            "description_width": ""
          }
        }
      }
    }
  },
  "nbformat": 4,
  "nbformat_minor": 5
}