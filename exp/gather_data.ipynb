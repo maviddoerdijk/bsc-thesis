{
 "cells": [
  {
   "cell_type": "code",
   "execution_count": 23,
   "id": "16c98bef",
   "metadata": {},
   "outputs": [],
   "source": [
    "import sys\n",
    "import os\n",
    "sys.path.append(os.path.abspath(os.path.join(os.getcwd(), \"..\")))\n",
    "\n",
    "# custom code for collecting data\n",
    "from src.data.scraper import load_cached_etf_tickers\n",
    "from src.data.data_collection import gather_data\n",
    "\n",
    "# custom code for collecting cached data\n",
    "from src.data.data_collection_cache import gather_data_cached, save_data, _tickers_to_hash, _get_filename\n",
    "\n",
    "### Configs - change these to the desired values to cache as wanted\n",
    "startDateStr = '2010-10-01'\n",
    "endDateStr = '2024-10-02' # documentation said that endDateStr is exclusive for both yahoofinance and the original code, but actually printing the shapes showed otherwise..\n",
    "instrumentIdsNASDAQandNYSE = load_cached_etf_tickers()\n",
    "###\n",
    "# live_data = gather_data(startDateStr, endDateStr, instrumentIdsNASDAQandNYSE)"
   ]
  },
  {
   "cell_type": "code",
   "execution_count": 13,
   "id": "e2f14858",
   "metadata": {},
   "outputs": [
    {
     "data": {
      "text/plain": [
       "{'close': Empty DataFrame\n",
       " Columns: [MEDX, DFGX]\n",
       " Index: [],\n",
       " 'open': Empty DataFrame\n",
       " Columns: [MEDX, DFGX]\n",
       " Index: [],\n",
       " 'high': Empty DataFrame\n",
       " Columns: [MEDX, DFGX]\n",
       " Index: [],\n",
       " 'low': Empty DataFrame\n",
       " Columns: [MEDX, DFGX]\n",
       " Index: [],\n",
       " 'vol': Empty DataFrame\n",
       " Columns: [MEDX, DFGX]\n",
       " Index: [],\n",
       " 'yfinance_formatted': Empty DataFrame\n",
       " Columns: [(MEDX, Open), (MEDX, High), (MEDX, Low), (MEDX, Close), (MEDX, Adj Close), (MEDX, Volume), (DFGX, Open), (DFGX, High), (DFGX, Low), (DFGX, Close), (DFGX, Adj Close), (DFGX, Volume)]\n",
       " Index: []}"
      ]
     },
     "execution_count": 13,
     "metadata": {},
     "output_type": "execute_result"
    }
   ],
   "source": [
    "save_data(live_data, startDateStr, endDateStr, instrumentIdsNASDAQandNYSE, cache_dir='../src/data/cache')\n",
    "live_data"
   ]
  },
  {
   "cell_type": "code",
   "execution_count": null,
   "id": "0b893f9b",
   "metadata": {},
   "outputs": [
    {
     "data": {
      "text/plain": [
       "{'close': Empty DataFrame\n",
       " Columns: [MEDX, DFGX]\n",
       " Index: [],\n",
       " 'open': Empty DataFrame\n",
       " Columns: [MEDX, DFGX]\n",
       " Index: [],\n",
       " 'high': Empty DataFrame\n",
       " Columns: [MEDX, DFGX]\n",
       " Index: [],\n",
       " 'low': Empty DataFrame\n",
       " Columns: [MEDX, DFGX]\n",
       " Index: [],\n",
       " 'vol': Empty DataFrame\n",
       " Columns: [MEDX, DFGX]\n",
       " Index: [],\n",
       " 'yfinance_formatted': Empty DataFrame\n",
       " Columns: [(MEDX, Open), (MEDX, High), (MEDX, Low), (MEDX, Close), (MEDX, Adj Close), (MEDX, Volume), (DFGX, Open), (DFGX, High), (DFGX, Low), (DFGX, Close), (DFGX, Adj Close), (DFGX, Volume)]\n",
       " Index: []}"
      ]
     },
     "execution_count": 15,
     "metadata": {},
     "output_type": "execute_result"
    }
   ],
   "source": [
    "cached_data = gather_data_cached(startDateStr, endDateStr, instrumentIdsNASDAQandNYSE, cache_dir='../src/data/cache')\n",
    "assert len(live_data) == len(cached_data), \"The lengths of live and cached data do not match.\"\n",
    "cached_data"
   ]
  },
  {
   "cell_type": "code",
   "execution_count": null,
   "id": "8c8218c3",
   "metadata": {},
   "outputs": [],
   "source": [
    "filename = _get_filename(startDateStr, endDateStr, instrumentIdsNASDAQandNYSE)\n",
    "cached_data = gather_data_cached(startDateStr, endDateStr, instrumentIdsNASDAQandNYSE, cache_dir='../src/data/cache')"
   ]
  }
 ],
 "metadata": {
  "kernelspec": {
   "display_name": "Python 3",
   "language": "python",
   "name": "python3"
  },
  "language_info": {
   "codemirror_mode": {
    "name": "ipython",
    "version": 3
   },
   "file_extension": ".py",
   "mimetype": "text/x-python",
   "name": "python",
   "nbconvert_exporter": "python",
   "pygments_lexer": "ipython3",
   "version": "3.9.13"
  }
 },
 "nbformat": 4,
 "nbformat_minor": 5
}
